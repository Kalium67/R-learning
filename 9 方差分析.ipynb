{
 "cells": [
  {
   "cell_type": "markdown",
   "metadata": {},
   "source": [
    "# 9.1 术语速成"
   ]
  },
  {
   "cell_type": "markdown",
   "metadata": {},
   "source": [
    "# 9.2 ANOVA模型拟合"
   ]
  },
  {
   "cell_type": "markdown",
   "metadata": {},
   "source": [
    "## 9.2.1 aov()函数"
   ]
  },
  {
   "cell_type": "markdown",
   "metadata": {},
   "source": [
    "aov()函数的语法为aov(formula,data=dataframe)。\n",
    "![R表达式中的特殊符号.jpg](./image/R表达式中的特殊符号.jpg)\n",
    "其中y是因变量，字母A、B、C代表因子。"
   ]
  },
  {
   "cell_type": "markdown",
   "metadata": {},
   "source": [
    "下表是一些常见的额研究设计表达式。\n",
    "\n",
    "小写字母表示定量变量\n",
    "\n",
    "大写字母表示组别因子\n",
    "\n",
    "subject是对被试者独有的标识变量。\n",
    "\n",
    "![常见研究设计的表达式.jpg](./image/常见研究设计的表达式.jpg)"
   ]
  },
  {
   "cell_type": "markdown",
   "metadata": {},
   "source": [
    "## 9.2.2 表达式中各项的顺序"
   ]
  },
  {
   "cell_type": "markdown",
   "metadata": {},
   "source": [
    "表达式中效应的顺序在两种情况下会造成影响：\n",
    "\n",
    "    （1）因子不止一个，并且是非平衡设计；\n",
    "    （2）存在协变量。\n",
    "\n",
    "出现任意一种情况时，等式右边的变量都与其他每个变量相关。\n",
    "\n",
    "此时，我们无法清晰地划分它们对因变量的影响。\n",
    "\n",
    "R默认类型I（序贯型）方法计算ANOVA效应。（参考下面的补充内容）\n",
    "![顺序很重要.jpg](./image/顺序很重要.jpg)"
   ]
  },
  {
   "cell_type": "markdown",
   "metadata": {},
   "source": [
    "car包中的Anova()函数（不要与标准anova()函数混淆）提供了使用类型Ⅱ或类型Ⅲ方法的选项\n",
    "\n",
    "aov()函数使用的是类型I方法"
   ]
  },
  {
   "cell_type": "markdown",
   "metadata": {},
   "source": [
    "# 9.3 单因素方差分析"
   ]
  },
  {
   "cell_type": "code",
   "execution_count": 3,
   "metadata": {},
   "outputs": [
    {
     "name": "stderr",
     "output_type": "stream",
     "text": [
      "Your code contains a unicode char which cannot be displayed in your\n",
      "current locale and R will silently convert it to an escaped form when the\n",
      "R kernel executes this code. This can lead to subtle errors if you use\n",
      "such chars to do comparisons. For more information, please see\n",
      "https://github.com/IRkernel/repr/wiki/Problems-with-unicode-on-windowsThe following objects are masked from cholesterol (pos = 4):\n",
      "\n",
      "    response, trt\n",
      "\n",
      "The following objects are masked from cholesterol (pos = 5):\n",
      "\n",
      "    response, trt\n",
      "\n"
     ]
    },
    {
     "data": {
      "text/plain": [
       "trt\n",
       " 1time 2times 4times  drugD  drugE \n",
       "    10     10     10     10     10 "
      ]
     },
     "metadata": {},
     "output_type": "display_data"
    },
    {
     "data": {
      "text/html": [
       "<table>\n",
       "<thead><tr><th scope=col>Group.1</th><th scope=col>x</th></tr></thead>\n",
       "<tbody>\n",
       "\t<tr><td>1time   </td><td> 5.78197</td></tr>\n",
       "\t<tr><td>2times  </td><td> 9.22497</td></tr>\n",
       "\t<tr><td>4times  </td><td>12.37478</td></tr>\n",
       "\t<tr><td>drugD   </td><td>15.36117</td></tr>\n",
       "\t<tr><td>drugE   </td><td>20.94752</td></tr>\n",
       "</tbody>\n",
       "</table>\n"
      ],
      "text/latex": [
       "\\begin{tabular}{r|ll}\n",
       " Group.1 & x\\\\\n",
       "\\hline\n",
       "\t 1time    &  5.78197\\\\\n",
       "\t 2times   &  9.22497\\\\\n",
       "\t 4times   & 12.37478\\\\\n",
       "\t drugD    & 15.36117\\\\\n",
       "\t drugE    & 20.94752\\\\\n",
       "\\end{tabular}\n"
      ],
      "text/markdown": [
       "\n",
       "| Group.1 | x |\n",
       "|---|---|\n",
       "| 1time    |  5.78197 |\n",
       "| 2times   |  9.22497 |\n",
       "| 4times   | 12.37478 |\n",
       "| drugD    | 15.36117 |\n",
       "| drugE    | 20.94752 |\n",
       "\n"
      ],
      "text/plain": [
       "  Group.1 x       \n",
       "1 1time    5.78197\n",
       "2 2times   9.22497\n",
       "3 4times  12.37478\n",
       "4 drugD   15.36117\n",
       "5 drugE   20.94752"
      ]
     },
     "metadata": {},
     "output_type": "display_data"
    },
    {
     "data": {
      "text/html": [
       "<table>\n",
       "<thead><tr><th scope=col>Group.1</th><th scope=col>x</th></tr></thead>\n",
       "<tbody>\n",
       "\t<tr><td>1time   </td><td>2.878113</td></tr>\n",
       "\t<tr><td>2times  </td><td>3.483054</td></tr>\n",
       "\t<tr><td>4times  </td><td>2.923119</td></tr>\n",
       "\t<tr><td>drugD   </td><td>3.454636</td></tr>\n",
       "\t<tr><td>drugE   </td><td>3.345003</td></tr>\n",
       "</tbody>\n",
       "</table>\n"
      ],
      "text/latex": [
       "\\begin{tabular}{r|ll}\n",
       " Group.1 & x\\\\\n",
       "\\hline\n",
       "\t 1time    & 2.878113\\\\\n",
       "\t 2times   & 3.483054\\\\\n",
       "\t 4times   & 2.923119\\\\\n",
       "\t drugD    & 3.454636\\\\\n",
       "\t drugE    & 3.345003\\\\\n",
       "\\end{tabular}\n"
      ],
      "text/markdown": [
       "\n",
       "| Group.1 | x |\n",
       "|---|---|\n",
       "| 1time    | 2.878113 |\n",
       "| 2times   | 3.483054 |\n",
       "| 4times   | 2.923119 |\n",
       "| drugD    | 3.454636 |\n",
       "| drugE    | 3.345003 |\n",
       "\n"
      ],
      "text/plain": [
       "  Group.1 x       \n",
       "1 1time   2.878113\n",
       "2 2times  3.483054\n",
       "3 4times  2.923119\n",
       "4 drugD   3.454636\n",
       "5 drugE   3.345003"
      ]
     },
     "metadata": {},
     "output_type": "display_data"
    },
    {
     "data": {
      "text/plain": [
       "            Df Sum Sq Mean Sq F value   Pr(>F)    \n",
       "trt          4 1351.4   337.8   32.43 9.82e-13 ***\n",
       "Residuals   45  468.8    10.4                     \n",
       "---\n",
       "Signif. codes:  0 '***' 0.001 '**' 0.01 '*' 0.05 '.' 0.1 ' ' 1"
      ]
     },
     "metadata": {},
     "output_type": "display_data"
    },
    {
     "name": "stderr",
     "output_type": "stream",
     "text": [
      "Installing package into 'C:/Users/acer/Documents/R/win-library/3.5'\n",
      "(as 'lib' is unspecified)\n",
      "Warning message:\n",
      "\"package 'gplots' is in use and will not be installed\""
     ]
    },
    {
     "data": {
      "image/png": "[encoded data removed]",
      "text/plain": [
       "Plot with title \"Mean Plot\n",
       "with 95% CI\""
      ]
     },
     "metadata": {},
     "output_type": "display_data"
    }
   ],
   "source": [
    "#单因素方差分析\n",
    "#以multcomp包中cholesterol数据集为例，50个患者均接受降低胆固醇药物治疗（trt）五种疗法中的一种疗法\n",
    "library(multcomp)\n",
    "attach(cholesterol)\n",
    "\n",
    "table(trt)  #各组样本大小\n",
    "#输出结果看，每10个患者接受其中一个药物疗法\n",
    "\n",
    "aggregate(response,by=list(trt),FUN=mean) #各组均值\n",
    "#均值显示drygE降低胆固醇最多，而1time降低胆固醇最少\n",
    "\n",
    "aggregate(response,by=list(trt),FUN=sd) #各组标准差\n",
    "#各组的标准差相对恒定，在2.88到3.48间浮动\n",
    "\n",
    "#检验组间差异（ANOVA）\n",
    "fit <- aov(response ~ trt)\n",
    "summary(fit)\n",
    "#ANOVA对治疗方式（trt）的F检验非常显著（p<0.0001），说明五种疗法的效果不同\n",
    "\n",
    "#绘制各组均值及其置信区间的图形\n",
    "install.packages(\"gplots\")\n",
    "library(gplots)\n",
    "plotmeans(response ~ trt, xlab=\"Treatment\",ylab=\"Response\",\n",
    "         main=\"Mean Plot\\nwith 95% CI\")\n",
    "\n",
    "detach(cholesterol)"
   ]
  },
  {
   "cell_type": "markdown",
   "metadata": {},
   "source": [
    "## 9.3.1 多重比较"
   ]
  },
  {
   "cell_type": "code",
   "execution_count": null,
   "metadata": {},
   "outputs": [],
   "source": []
  }
 ],
 "metadata": {
  "kernelspec": {
   "display_name": "R",
   "language": "R",
   "name": "ir"
  },
  "language_info": {
   "codemirror_mode": "r",
   "file_extension": ".r",
   "mimetype": "text/x-r-source",
   "name": "R",
   "pygments_lexer": "r",
   "version": "3.5.1"
  }
 },
 "nbformat": 4,
 "nbformat_minor": 2
}
