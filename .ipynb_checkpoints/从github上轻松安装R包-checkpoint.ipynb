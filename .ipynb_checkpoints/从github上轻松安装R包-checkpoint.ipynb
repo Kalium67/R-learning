{
 "cells": [
  {
   "cell_type": "markdown",
   "metadata": {},
   "source": [
    "# githubinstall包提供了一种类似于install.packages()的方式，只需包名即可安装R包。"
   ]
  },
  {
   "cell_type": "code",
   "execution_count": 2,
   "metadata": {},
   "outputs": [
    {
     "name": "stderr",
     "output_type": "stream",
     "text": [
      "Installing package into 'C:/Users/acer/Documents/R/win-library/3.5'\n",
      "(as 'lib' is unspecified)\n"
     ]
    },
    {
     "name": "stdout",
     "output_type": "stream",
     "text": [
      "package 'githubinstall' successfully unpacked and MD5 sums checked\n",
      "\n",
      "The downloaded binary packages are in\n",
      "\tC:\\Users\\acer\\AppData\\Local\\Temp\\RtmpMpMWOo\\downloaded_packages\n"
     ]
    }
   ],
   "source": [
    "#安装githubinstall包\n",
    "install.packages(\"githubinstall\")"
   ]
  },
  {
   "cell_type": "code",
   "execution_count": 1,
   "metadata": {},
   "outputs": [
    {
     "name": "stderr",
     "output_type": "stream",
     "text": [
      "Your code contains a unicode char which cannot be displayed in your\n",
      "current locale and R will silently convert it to an escaped form when the\n",
      "R kernel executes this code. This can lead to subtle errors if you use\n",
      "such chars to do comparisons. For more information, please see\n",
      "https://github.com/IRkernel/repr/wiki/Problems-with-unicode-on-windowsWarning message:\n",
      "\"package 'githubinstall' was built under R version 3.5.3\""
     ]
    }
   ],
   "source": [
    "#加载githubinstall包\n",
    "library(githubinstall)"
   ]
  },
  {
   "cell_type": "code",
   "execution_count": 11,
   "metadata": {},
   "outputs": [
    {
     "name": "stderr",
     "output_type": "stream",
     "text": [
      "Suggestion:\n",
      " - yunzhang813/FUNNEL-GSEA-R-Package  Zhang, Y., Topham, DJ., Thakar, J. and Qiu, X. (2017). FUNNEL-GSEA: FUNctioNal ELastic-net regression in time-course gene set enrichment analysis. Submitted to Bioinformatics.\n"
     ]
    },
    {
     "name": "stdout",
     "output_type": "stream",
     "text": [
      "Do you want to install the package (Y/n)?  y\n"
     ]
    },
    {
     "name": "stderr",
     "output_type": "stream",
     "text": [
      "Downloading GitHub repo yunzhang813/FUNNEL-GSEA-R-Package@master\n",
      "Warning message in untar2(tarfile, files, list, exdir):\n",
      "\"skipping pax global extended headers\"Warning message in untar2(tarfile, files, list, exdir):\n",
      "\"skipping pax global extended headers\""
     ]
    },
    {
     "name": "stdout",
     "output_type": "stream",
     "text": [
      "cli          (1.0.1 -> 1.1.0      ) [CRAN]\n",
      "colorspace   (1.4-0 -> 1.4-1      ) [CRAN]\n",
      "Rcpp         (NA    -> 1.0.1      ) [CRAN]\n",
      "RcppArmad... (NA    -> 0.9.200.7.1) [CRAN]\n",
      "stringi      (1.3.1 -> 1.4.3      ) [CRAN]\n",
      "tibble       (2.0.1 -> 2.1.1      ) [CRAN]\n"
     ]
    },
    {
     "name": "stderr",
     "output_type": "stream",
     "text": [
      "Installing 6 packages: cli, colorspace, Rcpp, RcppArmadillo, stringi, tibble\n",
      "Installing packages into 'C:/Users/acer/Documents/R/win-library/3.5'\n",
      "(as 'lib' is unspecified)\n"
     ]
    },
    {
     "name": "stdout",
     "output_type": "stream",
     "text": [
      "\n",
      "  There are binary versions available but the source versions are later:\n",
      "           binary source needs_compilation\n",
      "cli         1.0.1  1.1.0             FALSE\n",
      "colorspace  1.4-0  1.4-1              TRUE\n",
      "\n",
      "  Binaries will be installed\n",
      "package 'colorspace' successfully unpacked and MD5 sums checked\n",
      "package 'Rcpp' successfully unpacked and MD5 sums checked\n"
     ]
    },
    {
     "ename": "ERROR",
     "evalue": "Error: (converted from warning) cannot remove prior installation of package 'Rcpp'\n",
     "output_type": "error",
     "traceback": [
      "Error: (converted from warning) cannot remove prior installation of package 'Rcpp'\nTraceback:\n",
      "1. githubinstall(\"https://github.com/yunzhang813/FUNNEL-GSEA-R-Package\")",
      "2. install_package(repo = repo, ref = ref, quiet = quiet, dependencies = dependencies, \n .     build_vignettes = build_vignettes, lib = lib.loc, ... = ...)",
      "3. install_github(repo = repo, ref = ref, quiet = quiet, dependencies = dependencies, \n .     build_vignettes = build_vignettes, ... = ...)",
      "4. install_remotes(remotes, auth_token = auth_token, host = host, \n .     dependencies = dependencies, upgrade = upgrade, force = force, \n .     quiet = quiet, build = build, build_opts = build_opts, repos = repos, \n .     type = type, ...)",
      "5. vapply(remotes, install_remote, ..., FUN.VALUE = character(1))",
      "6. FUN(X[[i]], ...)",
      "7. install(source, dependencies = dependencies, upgrade = upgrade, \n .     force = force, quiet = quiet, build = build, build_opts = build_opts, \n .     repos = repos, type = type, ...)",
      "8. install_deps(pkgdir, dependencies = dependencies, quiet = quiet, \n .     build = build, build_opts = build_opts, upgrade = upgrade, \n .     repos = repos, type = type, ...)",
      "9. update(packages, dependencies = dep_deps, quiet = quiet, upgrade = upgrade, \n .     build = build, build_opts = build_opts, ...)",
      "10. update.package_deps(packages, dependencies = dep_deps, quiet = quiet, \n  .     upgrade = upgrade, build = build, build_opts = build_opts, \n  .     ...)",
      "11. install_packages(object$package[object$is_cran & behind], repos = attr(object, \n  .     \"repos\"), type = attr(object, \"type\"), dependencies = dependencies, \n  .     quiet = quiet, ...)",
      "12. do.call(safe_install_packages, c(list(packages, repos = repos, \n  .     type = type, dependencies = dependencies, quiet = quiet), \n  .     args))",
      "13. (function (...) \n  . {\n  .     lib <- paste(.libPaths(), collapse = \":\")\n  .     if (has_package(\"crancache\") && has_package(\"callr\")) {\n  .         i.p <- \"crancache\" %::% \"install_packages\"\n  .     }\n  .     else {\n  .         i.p <- utils::install.packages\n  .     }\n  .     with_envvar(c(R_LIBS = lib, R_LIBS_USER = lib, R_LIBS_SITE = lib), \n  .         if (should_error_for_warnings()) {\n  .             with_options(list(warn = 2), with_rprofile_user(\"options(warn = 2)\", \n  .                 i.p(...)))\n  .         }\n  .         else {\n  .             i.p(...)\n  .         })\n  . })(c(\"cli\", \"colorspace\", \"Rcpp\", \"RcppArmadillo\", \"stringi\", \n  . \"tibble\"), repos = c(CRAN = \"https://cran.r-project.org\"), type = \"both\", \n  .     dependencies = NA, quiet = FALSE)",
      "14. with_envvar(c(R_LIBS = lib, R_LIBS_USER = lib, R_LIBS_SITE = lib), \n  .     if (should_error_for_warnings()) {\n  .         with_options(list(warn = 2), with_rprofile_user(\"options(warn = 2)\", \n  .             i.p(...)))\n  .     } else {\n  .         i.p(...)\n  .     })",
      "15. force(code)",
      "16. with_options(list(warn = 2), with_rprofile_user(\"options(warn = 2)\", \n  .     i.p(...)))",
      "17. force(code)",
      "18. with_rprofile_user(\"options(warn = 2)\", i.p(...))",
      "19. with_envvar(c(R_PROFILE_USER = temp_rprofile), {\n  .     force(code)\n  . })",
      "20. force(code)",
      "21. force(code)",
      "22. i.p(...)",
      "23. .install.winbinary(pkgs = bins, lib = lib, contriburl = contrib.url(repos, \n  .     type2), method = method, available = av2, destdir = destdir, \n  .     dependencies = NULL, libs_only = libs_only, quiet = quiet, \n  .     ...)",
      "24. unpackPkgZip(foundpkgs[okp, 2L], foundpkgs[okp, 1L], lib, libs_only, \n  .     lock)",
      "25. warning(gettextf(\"cannot remove prior installation of package %s\", \n  .     sQuote(pkgname)), domain = NA, call. = FALSE, immediate. = TRUE)",
      "26. .signalSimpleWarning(\"cannot remove prior installation of package 'Rcpp'\", \n  .     quote(NULL))",
      "27. withRestarts({\n  .     .Internal(.signalCondition(simpleWarning(msg, call), msg, \n  .         call))\n  .     .Internal(.dfltWarn(msg, call))\n  . }, muffleWarning = function() NULL)",
      "28. withOneRestart(expr, restarts[[1L]])",
      "29. doWithOneRestart(return(expr), restart)"
     ]
    }
   ],
   "source": [
    "#安装你要的R包\n",
    "#给出包名即可，如果只是模糊的记得包名也没关系。\n",
    "githubinstall(\"https://github.com/yunzhang813/FUNNEL-GSEA-R-Package\")"
   ]
  },
  {
   "cell_type": "markdown",
   "metadata": {},
   "source": [
    "# 给出建议的仓库"
   ]
  },
  {
   "cell_type": "markdown",
   "metadata": {},
   "source": [
    "githubinstall()会提示你安装建议的R包，但我们可能只想知道都有哪些建议。\n",
    "\n",
    "gh_suggest()以向量的形式返回建议的仓库名。"
   ]
  },
  {
   "cell_type": "code",
   "execution_count": 3,
   "metadata": {},
   "outputs": [
    {
     "name": "stderr",
     "output_type": "stream",
     "text": [
      "Warning message in fread(download_url, sep = \"\\t\", header = FALSE, stringsAsFactors = FALSE, :\n",
      "\"Found and resolved improper quoting out-of-sample. First healed line 4848: <<Puriney\thonfleuR\t\"Evening, honfleuR\" by Seurat>>. If the fields are not quoted (e.g. field separator does not appear within any field), try quote=\"\" to avoid this warning.\""
     ]
    },
    {
     "data": {
      "text/html": [
       "'twitter/AnomalyDetection'"
      ],
      "text/latex": [
       "'twitter/AnomalyDetection'"
      ],
      "text/markdown": [
       "'twitter/AnomalyDetection'"
      ],
      "text/plain": [
       "[1] \"twitter/AnomalyDetection\""
      ]
     },
     "metadata": {},
     "output_type": "display_data"
    }
   ],
   "source": [
    "gh_suggest(\"AnomalyDetection\")"
   ]
  },
  {
   "cell_type": "code",
   "execution_count": 4,
   "metadata": {},
   "outputs": [
    {
     "data": {
      "text/html": [
       "<ol class=list-inline>\n",
       "\t<li>'Kkm5/cats'</li>\n",
       "\t<li>'amurali2/cats'</li>\n",
       "\t<li>'briglx/cats'</li>\n",
       "\t<li>'danielwilhelm/cats'</li>\n",
       "\t<li>'davidluizrusso/cats'</li>\n",
       "\t<li>'fadiphi/cats'</li>\n",
       "\t<li>'germayneng/cats'</li>\n",
       "\t<li>'hilaryparker/cats'</li>\n",
       "\t<li>'jonathanelee1993/cats'</li>\n",
       "\t<li>'lloydlow/cats'</li>\n",
       "\t<li>'lolibear/cats'</li>\n",
       "\t<li>'mfabla/cats'</li>\n",
       "\t<li>'nkatiyar/cats'</li>\n",
       "\t<li>'oliviergimenez/cats'</li>\n",
       "\t<li>'piyush-kgp/cats'</li>\n",
       "\t<li>'rafalszota/cats'</li>\n",
       "\t<li>'riteekteek/cats'</li>\n",
       "\t<li>'sunstat/cats'</li>\n",
       "\t<li>'tahir275/cats'</li>\n",
       "\t<li>'thackl/cats'</li>\n",
       "\t<li>'tomis9/cats'</li>\n",
       "\t<li>'verreet/cats'</li>\n",
       "</ol>\n"
      ],
      "text/latex": [
       "\\begin{enumerate*}\n",
       "\\item 'Kkm5/cats'\n",
       "\\item 'amurali2/cats'\n",
       "\\item 'briglx/cats'\n",
       "\\item 'danielwilhelm/cats'\n",
       "\\item 'davidluizrusso/cats'\n",
       "\\item 'fadiphi/cats'\n",
       "\\item 'germayneng/cats'\n",
       "\\item 'hilaryparker/cats'\n",
       "\\item 'jonathanelee1993/cats'\n",
       "\\item 'lloydlow/cats'\n",
       "\\item 'lolibear/cats'\n",
       "\\item 'mfabla/cats'\n",
       "\\item 'nkatiyar/cats'\n",
       "\\item 'oliviergimenez/cats'\n",
       "\\item 'piyush-kgp/cats'\n",
       "\\item 'rafalszota/cats'\n",
       "\\item 'riteekteek/cats'\n",
       "\\item 'sunstat/cats'\n",
       "\\item 'tahir275/cats'\n",
       "\\item 'thackl/cats'\n",
       "\\item 'tomis9/cats'\n",
       "\\item 'verreet/cats'\n",
       "\\end{enumerate*}\n"
      ],
      "text/markdown": [
       "1. 'Kkm5/cats'\n",
       "2. 'amurali2/cats'\n",
       "3. 'briglx/cats'\n",
       "4. 'danielwilhelm/cats'\n",
       "5. 'davidluizrusso/cats'\n",
       "6. 'fadiphi/cats'\n",
       "7. 'germayneng/cats'\n",
       "8. 'hilaryparker/cats'\n",
       "9. 'jonathanelee1993/cats'\n",
       "10. 'lloydlow/cats'\n",
       "11. 'lolibear/cats'\n",
       "12. 'mfabla/cats'\n",
       "13. 'nkatiyar/cats'\n",
       "14. 'oliviergimenez/cats'\n",
       "15. 'piyush-kgp/cats'\n",
       "16. 'rafalszota/cats'\n",
       "17. 'riteekteek/cats'\n",
       "18. 'sunstat/cats'\n",
       "19. 'tahir275/cats'\n",
       "20. 'thackl/cats'\n",
       "21. 'tomis9/cats'\n",
       "22. 'verreet/cats'\n",
       "\n",
       "\n"
      ],
      "text/plain": [
       " [1] \"Kkm5/cats\"             \"amurali2/cats\"         \"briglx/cats\"          \n",
       " [4] \"danielwilhelm/cats\"    \"davidluizrusso/cats\"   \"fadiphi/cats\"         \n",
       " [7] \"germayneng/cats\"       \"hilaryparker/cats\"     \"jonathanelee1993/cats\"\n",
       "[10] \"lloydlow/cats\"         \"lolibear/cats\"         \"mfabla/cats\"          \n",
       "[13] \"nkatiyar/cats\"         \"oliviergimenez/cats\"   \"piyush-kgp/cats\"      \n",
       "[16] \"rafalszota/cats\"       \"riteekteek/cats\"       \"sunstat/cats\"         \n",
       "[19] \"tahir275/cats\"         \"thackl/cats\"           \"tomis9/cats\"          \n",
       "[22] \"verreet/cats\"         "
      ]
     },
     "metadata": {},
     "output_type": "display_data"
    }
   ],
   "source": [
    "gh_suggest(\"cats\")"
   ]
  },
  {
   "cell_type": "markdown",
   "metadata": {},
   "source": [
    "此外，如果你只是模糊的记得Github用户名的时候，gh-suggest_username()函数非常有用"
   ]
  },
  {
   "cell_type": "code",
   "execution_count": 5,
   "metadata": {},
   "outputs": [
    {
     "data": {
      "text/html": [
       "'hadley'"
      ],
      "text/latex": [
       "'hadley'"
      ],
      "text/markdown": [
       "'hadley'"
      ],
      "text/plain": [
       "[1] \"hadley\""
      ]
     },
     "metadata": {},
     "output_type": "display_data"
    }
   ],
   "source": [
    "gh_suggest_username('hadly')"
   ]
  },
  {
   "cell_type": "code",
   "execution_count": 6,
   "metadata": {},
   "outputs": [
    {
     "data": {
      "text/html": [
       "'yihui'"
      ],
      "text/latex": [
       "'yihui'"
      ],
      "text/markdown": [
       "'yihui'"
      ],
      "text/plain": [
       "[1] \"yihui\""
      ]
     },
     "metadata": {},
     "output_type": "display_data"
    }
   ],
   "source": [
    "gh_suggest_username(\"yuhui\")"
   ]
  },
  {
   "cell_type": "code",
   "execution_count": 8,
   "metadata": {},
   "outputs": [
    {
     "data": {
      "text/html": [
       "'FNTD'"
      ],
      "text/latex": [
       "'FNTD'"
      ],
      "text/markdown": [
       "'FNTD'"
      ],
      "text/plain": [
       "[1] \"FNTD\""
      ]
     },
     "metadata": {},
     "output_type": "display_data"
    }
   ],
   "source": [
    "gh_suggest_username(\"FUNne\")"
   ]
  },
  {
   "cell_type": "markdown",
   "metadata": {},
   "source": [
    "# 列出R包"
   ]
  },
  {
   "cell_type": "markdown",
   "metadata": {},
   "source": [
    "gh_list_packages()函数以数据框的形式返回Github上R包的仓库名列表。"
   ]
  },
  {
   "cell_type": "code",
   "execution_count": 9,
   "metadata": {},
   "outputs": [
    {
     "data": {
      "text/html": [
       "<table>\n",
       "<thead><tr><th scope=col>username</th><th scope=col>package_name</th><th scope=col>title</th></tr></thead>\n",
       "<tbody>\n",
       "\t<tr><td>yihui                                                                   </td><td>MSG                                                                     </td><td>Modern Statistical Graphics (my Chinese book)                           </td></tr>\n",
       "\t<tr><td>yihui                                                                   </td><td>Rd2roxygen                                                              </td><td>Convert Rd to roxygen documentation                                     </td></tr>\n",
       "\t<tr><td>yihui                                                                   </td><td>animation                                                               </td><td>A gallery of animations in statistics and utilities to create animations</td></tr>\n",
       "\t<tr><td>yihui                                                                   </td><td>crandalf                                                                </td><td>Check all reverse dependencies of your R package on Travis CI           </td></tr>\n",
       "\t<tr><td>yihui                                                                   </td><td>formatR                                                                 </td><td>Format R Code Automatically                                             </td></tr>\n",
       "\t<tr><td>yihui                                                                   </td><td>fun                                                                     </td><td>Use R for Fun                                                           </td></tr>\n",
       "</tbody>\n",
       "</table>\n"
      ],
      "text/latex": [
       "\\begin{tabular}{r|lll}\n",
       " username & package\\_name & title\\\\\n",
       "\\hline\n",
       "\t yihui                                                                    & MSG                                                                      & Modern Statistical Graphics (my Chinese book)                           \\\\\n",
       "\t yihui                                                                    & Rd2roxygen                                                               & Convert Rd to roxygen documentation                                     \\\\\n",
       "\t yihui                                                                    & animation                                                                & A gallery of animations in statistics and utilities to create animations\\\\\n",
       "\t yihui                                                                    & crandalf                                                                 & Check all reverse dependencies of your R package on Travis CI           \\\\\n",
       "\t yihui                                                                    & formatR                                                                  & Format R Code Automatically                                             \\\\\n",
       "\t yihui                                                                    & fun                                                                      & Use R for Fun                                                           \\\\\n",
       "\\end{tabular}\n"
      ],
      "text/markdown": [
       "\n",
       "| username | package_name | title |\n",
       "|---|---|---|\n",
       "| yihui                                                                    | MSG                                                                      | Modern Statistical Graphics (my Chinese book)                            |\n",
       "| yihui                                                                    | Rd2roxygen                                                               | Convert Rd to roxygen documentation                                      |\n",
       "| yihui                                                                    | animation                                                                | A gallery of animations in statistics and utilities to create animations |\n",
       "| yihui                                                                    | crandalf                                                                 | Check all reverse dependencies of your R package on Travis CI            |\n",
       "| yihui                                                                    | formatR                                                                  | Format R Code Automatically                                              |\n",
       "| yihui                                                                    | fun                                                                      | Use R for Fun                                                            |\n",
       "\n"
      ],
      "text/plain": [
       "  username package_name\n",
       "1 yihui    MSG         \n",
       "2 yihui    Rd2roxygen  \n",
       "3 yihui    animation   \n",
       "4 yihui    crandalf    \n",
       "5 yihui    formatR     \n",
       "6 yihui    fun         \n",
       "  title                                                                   \n",
       "1 Modern Statistical Graphics (my Chinese book)                           \n",
       "2 Convert Rd to roxygen documentation                                     \n",
       "3 A gallery of animations in statistics and utilities to create animations\n",
       "4 Check all reverse dependencies of your R package on Travis CI           \n",
       "5 Format R Code Automatically                                             \n",
       "6 Use R for Fun                                                           "
      ]
     },
     "metadata": {},
     "output_type": "display_data"
    }
   ],
   "source": [
    "yihuiverse <- gh_list_packages(username = \"yihui\")\n",
    "head(yihuiverse)"
   ]
  },
  {
   "cell_type": "markdown",
   "metadata": {},
   "source": [
    "# 通过关键词搜索R包"
   ]
  },
  {
   "cell_type": "markdown",
   "metadata": {},
   "source": [
    "gh_search_packages()函数返回Github上所有标题包含给定关键词的R包。"
   ]
  },
  {
   "cell_type": "code",
   "execution_count": 10,
   "metadata": {},
   "outputs": [
    {
     "data": {
      "text/html": [
       "<table>\n",
       "<thead><tr><th scope=col>username</th><th scope=col>package_name</th><th scope=col>title</th></tr></thead>\n",
       "<tbody>\n",
       "\t<tr><td>CY-dev                                                                                                                                                                                                                                                                                                                                                                              </td><td>sparseSVM                                                                                                                                                                                                                                                                                                                                                                           </td><td>Solution Paths of Sparse Linear Support Vector Machine with Lasso or ELastic-Net Regularization                                                                                                                                                                                                                                                                                     </td></tr>\n",
       "\t<tr><td>ChingChuan-Chen                                                                                                                                                                                                                                                                                                                                                                     </td><td>milr                                                                                                                                                                                                                                                                                                                                                                                </td><td>multiple-instance logistic regression with lasso penalty.                                                                                                                                                                                                                                                                                                                           </td></tr>\n",
       "\t<tr><td>FrankD                                                                                                                                                                                                                                                                                                                                                                              </td><td>fuser                                                                                                                                                                                                                                                                                                                                                                               </td><td>Fused lasso for high-dimensional regression over groups                                                                                                                                                                                                                                                                                                                             </td></tr>\n",
       "\t<tr><td>ManuSetty                                                                                                                                                                                                                                                                                                                                                                           </td><td>SeqGL                                                                                                                                                                                                                                                                                                                                                                               </td><td>SeqGL is a group lasso based algorithm to extract TF sequence signals from ChIP, DNase and ATAC-seq profiles                                                                                                                                                                                                                                                                        </td></tr>\n",
       "\t<tr><td>PNNL-Comp-Mass-Spec                                                                                                                                                                                                                                                                                                                                                                 </td><td>glmnetGLR                                                                                                                                                                                                                                                                                                                                                                           </td><td>The primary goal was to build a classifier that accurately predicts a binary response. We utilized a Lasso logistic regression classifier (LLRC) which simultaneously restricts the size of model coefficients and the number of quality metrics included the model. Importantly the model does not treat false-negatives and false-positives as equally deleterious events.        </td></tr>\n",
       "\t<tr><td>PingYangChen                                                                                                                                                                                                                                                                                                                                                                        </td><td>milr                                                                                                                                                                                                                                                                                                                                                                                </td><td>multiple-instance logistic regression with lasso penalty.                                                                                                                                                                                                                                                                                                                           </td></tr>\n",
       "\t<tr><td>TaddyLab                                                                                                                                                                                                                                                                                                                                                                            </td><td>gamlr                                                                                                                                                                                                                                                                                                                                                                               </td><td>Gamma lasso regression                                                                                                                                                                                                                                                                                                                                                              </td></tr>\n",
       "\t<tr><td>ToshihiroIguchi                                                                                                                                                                                                                                                                                                                                                                     </td><td>elasticnet                                                                                                                                                                                                                                                                                                                                                                          </td><td>Elastic Net, Lasso and Ridge models can be analyzed by the formula format.                                                                                                                                                                                                                                                                                                          </td></tr>\n",
       "\t<tr><td>YaohuiZeng                                                                                                                                                                                                                                                                                                                                                                          </td><td>bigSVM                                                                                                                                                                                                                                                                                                                                                                              </td><td>Solution Paths of Sparse SVM with Lasso or Elastic-Net Regularization For Big Data in R                                                                                                                                                                                                                                                                                             </td></tr>\n",
       "\t<tr><td>YaohuiZeng                                                                                                                                                                                                                                                                                                                                                                          </td><td>biglasso                                                                                                                                                                                                                                                                                                                                                                            </td><td>biglasso: Extending Lasso Model Fitting to Big Data in R                                                                                                                                                                                                                                                                                                                            </td></tr>\n",
       "\t<tr><td>Zelazny7                                                                                                                                                                                                                                                                                                                                                                            </td><td>rulefit                                                                                                                                                                                                                                                                                                                                                                             </td><td>Fit Lasso model to binary rules created from tree ensembles                                                                                                                                                                                                                                                                                                                         </td></tr>\n",
       "\t<tr><td>annafil                                                                                                                                                                                                                                                                                                                                                                             </td><td>FFCRegressionImputation                                                                                                                                                                                                                                                                                                                                                             </td><td>Several predictive approaches to imputation using linear regressions and lasso                                                                                                                                                                                                                                                                                                      </td></tr>\n",
       "\t<tr><td>antiphon                                                                                                                                                                                                                                                                                                                                                                            </td><td>glbinc                                                                                                                                                                                                                                                                                                                                                                              </td><td>Grouped Lasso (and maybe more) for logistic regression with offsets and sparse matrix support                                                                                                                                                                                                                                                                                       </td></tr>\n",
       "\t<tr><td>anuf                                                                                                                                                                                                                                                                                                                                                                                </td><td>lassoSparkR                                                                                                                                                                                                                                                                                                                                                                         </td><td>A R package that implements several algorithms of the LASSO method for estimation in linear models to be run in Apache Spark engine.                                                                                                                                                                                                                                                </td></tr>\n",
       "\t<tr><td>benkeser                                                                                                                                                                                                                                                                                                                                                                            </td><td>halplus                                                                                                                                                                                                                                                                                                                                                                             </td><td>Nonparametric regression and prediction using the highly adaptive lasso algorithm                                                                                                                                                                                                                                                                                                   </td></tr>\n",
       "\t<tr><td>emeryyi                                                                                                                                                                                                                                                                                                                                                                             </td><td>gglasso                                                                                                                                                                                                                                                                                                                                                                             </td><td>Automatically exported from code.google.com/p/gglasso                                                                                                                                                                                                                                                                                                                               </td></tr>\n",
       "\t<tr><td>esmucler                                                                                                                                                                                                                                                                                                                                                                            </td><td>mmlasso                                                                                                                                                                                                                                                                                                                                                                             </td><td>R Package to calculate the MM-Lasso and adaptive MM-Lasso estimators proposed in Smucler and Yohai (2015).                                                                                                                                                                                                                                                                          </td></tr>\n",
       "\t<tr><td>gabriellajg                                                                                                                                                                                                                                                                                                                                                                         </td><td>ClussCluster                                                                                                                                                                                                                                                                                                                                                                        </td><td>This package implements a new method ClussCluster to simultaneously perform clustering analysis and signature gene selection on high-dimensional transcriptome data sets. To do so, ClussCluster incorporates a Lasso-type regularization penalty term to the objective function of K-means so that cell-type-specific signature genes can be identified while clustering the cells.</td></tr>\n",
       "\t<tr><td>huayingfang                                                                                                                                                                                                                                                                                                                                                                         </td><td>CCLasso                                                                                                                                                                                                                                                                                                                                                                             </td><td>CCLasso: Correlation Inference for Compositional Data through Lasso                                                                                                                                                                                                                                                                                                                 </td></tr>\n",
       "\t<tr><td>jakmes                                                                                                                                                                                                                                                                                                                                                                              </td><td>onlineVAR                                                                                                                                                                                                                                                                                                                                                                           </td><td>R package to adaptively fit lasso vector auto regression                                                                                                                                                                                                                                                                                                                            </td></tr>\n",
       "\t<tr><td>jcbeer                                                                                                                                                                                                                                                                                                                                                                              </td><td>fsgl                                                                                                                                                                                                                                                                                                                                                                                </td><td>R package with functions to fit penalized least squares regression models using a combination of penalty terms encouraging smoothness (fused lasso / total variation penalty), and/or sparsity (L1 and group lasso penalties). Designed specifically for analysis of 2 or 3 dimensional neuroimages.                                                                                </td></tr>\n",
       "\t<tr><td>jeffwong                                                                                                                                                                                                                                                                                                                                                                            </td><td>glmnet                                                                                                                                                                                                                                                                                                                                                                              </td><td>R package glmnet for estimating lasso and elastic net                                                                                                                                                                                                                                                                                                                               </td></tr>\n",
       "\t<tr><td>katokohaku                                                                                                                                                                                                                                                                                                                                                                          </td><td>AlternateLasso                                                                                                                                                                                                                                                                                                                                                                      </td><td>R package for Lasso feature selection                                                                                                                                                                                                                                                                                                                                               </td></tr>\n",
       "\t<tr><td>maryclare                                                                                                                                                                                                                                                                                                                                                                           </td><td>powopt                                                                                                                                                                                                                                                                                                                                                                              </td><td>Little R package for performing penalized regression using power/bridge penalties, implements algorithm given by Marjanovic and Solo (2014) and includes lasso as a special case                                                                                                                                                                                                    </td></tr>\n",
       "\t<tr><td>mlampros                                                                                                                                                                                                                                                                                                                                                                            </td><td>FeatureSelection                                                                                                                                                                                                                                                                                                                                                                    </td><td>Feature Selection in R using glmnet-lasso, xgboost and ranger                                                                                                                                                                                                                                                                                                                       </td></tr>\n",
       "\t<tr><td>pnnl                                                                                                                                                                                                                                                                                                                                                                                </td><td>glmnetLRC                                                                                                                                                                                                                                                                                                                                                                           </td><td>Lasso and Elastic-Net Logistic Regression Classification with an Arbitrary Loss Function                                                                                                                                                                                                                                                                                            </td></tr>\n",
       "\t<tr><td>rauschenberger                                                                                                                                                                                                                                                                                                                                                                      </td><td>palasso                                                                                                                                                                                                                                                                                                                                                                             </td><td>Pairwise-adaptive lasso                                                                                                                                                                                                                                                                                                                                                             </td></tr>\n",
       "\t<tr><td>road2stat                                                                                                                                                                                                                                                                                                                                                                           </td><td>OHPL                                                                                                                                                                                                                                                                                                                                                                                </td><td>Ordered Homogeneity Pursuit Lasso for Group Variable Selection                                                                                                                                                                                                                                                                                                                      </td></tr>\n",
       "\t<tr><td>road2stat                                                                                                                                                                                                                                                                                                                                                                           </td><td>ohpl                                                                                                                                                                                                                                                                                                                                                                                </td><td>Ordered Homogeneity Pursuit Lasso (OHPL)                                                                                                                                                                                                                                                                                                                                            </td></tr>\n",
       "\t<tr><td>shadowmoon1988                                                                                                                                                                                                                                                                                                                                                                      </td><td>SLASSO                                                                                                                                                                                                                                                                                                                                                                              </td><td>Sequential Lasso R Package                                                                                                                                                                                                                                                                                                                                                          </td></tr>\n",
       "\t<tr><td>statsmaths                                                                                                                                                                                                                                                                                                                                                                          </td><td>genlasso                                                                                                                                                                                                                                                                                                                                                                            </td><td>Path algorithm for generalized lasso problems                                                                                                                                                                                                                                                                                                                                       </td></tr>\n",
       "\t<tr><td>tshmak                                                                                                                                                                                                                                                                                                                                                                              </td><td>lassosum                                                                                                                                                                                                                                                                                                                                                                            </td><td>LASSO for GWAS with summary statistics                                                                                                                                                                                                                                                                                                                                              </td></tr>\n",
       "\t<tr><td>vincent-dk                                                                                                                                                                                                                                                                                                                                                                          </td><td>msgl                                                                                                                                                                                                                                                                                                                                                                                </td><td>High Dimensional Multiclass Classification Using Sparse Group Lasso                                                                                                                                                                                                                                                                                                                 </td></tr>\n",
       "\t<tr><td>vincent-dk                                                                                                                                                                                                                                                                                                                                                                          </td><td>rcsgl                                                                                                                                                                                                                                                                                                                                                                               </td><td>regression via sparse group lasso classification                                                                                                                                                                                                                                                                                                                                    </td></tr>\n",
       "\t<tr><td>vincent-dk                                                                                                                                                                                                                                                                                                                                                                          </td><td>sglOptim                                                                                                                                                                                                                                                                                                                                                                            </td><td>Fast Generic Solver for Sparse Group Lasso Optimization Problems                                                                                                                                                                                                                                                                                                                    </td></tr>\n",
       "\t<tr><td>vstanislas                                                                                                                                                                                                                                                                                                                                                                          </td><td>GGEE                                                                                                                                                                                                                                                                                                                                                                                </td><td>R Package for the Group Lasso Gene-Gene Eigen Epistasis (G-GEE) Method                                                                                                                                                                                                                                                                                                              </td></tr>\n",
       "\t<tr><td><span style=white-space:pre-wrap>wrbrooks           </span>                                                                                                                                                                                                                                                                                                                                                                    </td><td><span style=white-space:pre-wrap>adalasso               </span>                                                                                                                                                                                                                                                                                                                                                                </td><td><span style=white-space:pre-wrap>Adaptive lasso for logistic regression and p&gt;n                                                                                                                                                                                                                                                                                                                                      </span></td></tr>\n",
       "\t<tr><td><span style=white-space:pre-wrap>wrbrooks           </span>                                                                                                                                                                                                                                                                                                                                                                    </td><td><span style=white-space:pre-wrap>adapt                  </span>                                                                                                                                                                                                                                                                                                                                                                </td><td><span style=white-space:pre-wrap>Adaptive lasso for linear regression and p&gt;n                                                                                                                                                                                                                                                                                                                                        </span></td></tr>\n",
       "\t<tr><td>zdk123                                                                                                                                                                                                                                                                                                                                                                              </td><td>BatchStARS                                                                                                                                                                                                                                                                                                                                                                          </td><td>R package for Stability Approach to Regularization Selection for lasso problems, in batch computing environments.                                                                                                                                                                                                                                                                   </td></tr>\n",
       "</tbody>\n",
       "</table>\n"
      ],
      "text/latex": [
       "\\begin{tabular}{r|lll}\n",
       " username & package\\_name & title\\\\\n",
       "\\hline\n",
       "\t CY-dev                                                                                                                                                                                                                                                                                                                                                                               & sparseSVM                                                                                                                                                                                                                                                                                                                                                                            & Solution Paths of Sparse Linear Support Vector Machine with Lasso or ELastic-Net Regularization                                                                                                                                                                                                                                                                                     \\\\\n",
       "\t ChingChuan-Chen                                                                                                                                                                                                                                                                                                                                                                      & milr                                                                                                                                                                                                                                                                                                                                                                                 & multiple-instance logistic regression with lasso penalty.                                                                                                                                                                                                                                                                                                                           \\\\\n",
       "\t FrankD                                                                                                                                                                                                                                                                                                                                                                               & fuser                                                                                                                                                                                                                                                                                                                                                                                & Fused lasso for high-dimensional regression over groups                                                                                                                                                                                                                                                                                                                             \\\\\n",
       "\t ManuSetty                                                                                                                                                                                                                                                                                                                                                                            & SeqGL                                                                                                                                                                                                                                                                                                                                                                                & SeqGL is a group lasso based algorithm to extract TF sequence signals from ChIP, DNase and ATAC-seq profiles                                                                                                                                                                                                                                                                        \\\\\n",
       "\t PNNL-Comp-Mass-Spec                                                                                                                                                                                                                                                                                                                                                                  & glmnetGLR                                                                                                                                                                                                                                                                                                                                                                            & The primary goal was to build a classifier that accurately predicts a binary response. We utilized a Lasso logistic regression classifier (LLRC) which simultaneously restricts the size of model coefficients and the number of quality metrics included the model. Importantly the model does not treat false-negatives and false-positives as equally deleterious events.        \\\\\n",
       "\t PingYangChen                                                                                                                                                                                                                                                                                                                                                                         & milr                                                                                                                                                                                                                                                                                                                                                                                 & multiple-instance logistic regression with lasso penalty.                                                                                                                                                                                                                                                                                                                           \\\\\n",
       "\t TaddyLab                                                                                                                                                                                                                                                                                                                                                                             & gamlr                                                                                                                                                                                                                                                                                                                                                                                & Gamma lasso regression                                                                                                                                                                                                                                                                                                                                                              \\\\\n",
       "\t ToshihiroIguchi                                                                                                                                                                                                                                                                                                                                                                      & elasticnet                                                                                                                                                                                                                                                                                                                                                                           & Elastic Net, Lasso and Ridge models can be analyzed by the formula format.                                                                                                                                                                                                                                                                                                          \\\\\n",
       "\t YaohuiZeng                                                                                                                                                                                                                                                                                                                                                                           & bigSVM                                                                                                                                                                                                                                                                                                                                                                               & Solution Paths of Sparse SVM with Lasso or Elastic-Net Regularization For Big Data in R                                                                                                                                                                                                                                                                                             \\\\\n",
       "\t YaohuiZeng                                                                                                                                                                                                                                                                                                                                                                           & biglasso                                                                                                                                                                                                                                                                                                                                                                             & biglasso: Extending Lasso Model Fitting to Big Data in R                                                                                                                                                                                                                                                                                                                            \\\\\n",
       "\t Zelazny7                                                                                                                                                                                                                                                                                                                                                                             & rulefit                                                                                                                                                                                                                                                                                                                                                                              & Fit Lasso model to binary rules created from tree ensembles                                                                                                                                                                                                                                                                                                                         \\\\\n",
       "\t annafil                                                                                                                                                                                                                                                                                                                                                                              & FFCRegressionImputation                                                                                                                                                                                                                                                                                                                                                              & Several predictive approaches to imputation using linear regressions and lasso                                                                                                                                                                                                                                                                                                      \\\\\n",
       "\t antiphon                                                                                                                                                                                                                                                                                                                                                                             & glbinc                                                                                                                                                                                                                                                                                                                                                                               & Grouped Lasso (and maybe more) for logistic regression with offsets and sparse matrix support                                                                                                                                                                                                                                                                                       \\\\\n",
       "\t anuf                                                                                                                                                                                                                                                                                                                                                                                 & lassoSparkR                                                                                                                                                                                                                                                                                                                                                                          & A R package that implements several algorithms of the LASSO method for estimation in linear models to be run in Apache Spark engine.                                                                                                                                                                                                                                                \\\\\n",
       "\t benkeser                                                                                                                                                                                                                                                                                                                                                                             & halplus                                                                                                                                                                                                                                                                                                                                                                              & Nonparametric regression and prediction using the highly adaptive lasso algorithm                                                                                                                                                                                                                                                                                                   \\\\\n",
       "\t emeryyi                                                                                                                                                                                                                                                                                                                                                                              & gglasso                                                                                                                                                                                                                                                                                                                                                                              & Automatically exported from code.google.com/p/gglasso                                                                                                                                                                                                                                                                                                                               \\\\\n",
       "\t esmucler                                                                                                                                                                                                                                                                                                                                                                             & mmlasso                                                                                                                                                                                                                                                                                                                                                                              & R Package to calculate the MM-Lasso and adaptive MM-Lasso estimators proposed in Smucler and Yohai (2015).                                                                                                                                                                                                                                                                          \\\\\n",
       "\t gabriellajg                                                                                                                                                                                                                                                                                                                                                                          & ClussCluster                                                                                                                                                                                                                                                                                                                                                                         & This package implements a new method ClussCluster to simultaneously perform clustering analysis and signature gene selection on high-dimensional transcriptome data sets. To do so, ClussCluster incorporates a Lasso-type regularization penalty term to the objective function of K-means so that cell-type-specific signature genes can be identified while clustering the cells.\\\\\n",
       "\t huayingfang                                                                                                                                                                                                                                                                                                                                                                          & CCLasso                                                                                                                                                                                                                                                                                                                                                                              & CCLasso: Correlation Inference for Compositional Data through Lasso                                                                                                                                                                                                                                                                                                                 \\\\\n",
       "\t jakmes                                                                                                                                                                                                                                                                                                                                                                               & onlineVAR                                                                                                                                                                                                                                                                                                                                                                            & R package to adaptively fit lasso vector auto regression                                                                                                                                                                                                                                                                                                                            \\\\\n",
       "\t jcbeer                                                                                                                                                                                                                                                                                                                                                                               & fsgl                                                                                                                                                                                                                                                                                                                                                                                 & R package with functions to fit penalized least squares regression models using a combination of penalty terms encouraging smoothness (fused lasso / total variation penalty), and/or sparsity (L1 and group lasso penalties). Designed specifically for analysis of 2 or 3 dimensional neuroimages.                                                                                \\\\\n",
       "\t jeffwong                                                                                                                                                                                                                                                                                                                                                                             & glmnet                                                                                                                                                                                                                                                                                                                                                                               & R package glmnet for estimating lasso and elastic net                                                                                                                                                                                                                                                                                                                               \\\\\n",
       "\t katokohaku                                                                                                                                                                                                                                                                                                                                                                           & AlternateLasso                                                                                                                                                                                                                                                                                                                                                                       & R package for Lasso feature selection                                                                                                                                                                                                                                                                                                                                               \\\\\n",
       "\t maryclare                                                                                                                                                                                                                                                                                                                                                                            & powopt                                                                                                                                                                                                                                                                                                                                                                               & Little R package for performing penalized regression using power/bridge penalties, implements algorithm given by Marjanovic and Solo (2014) and includes lasso as a special case                                                                                                                                                                                                    \\\\\n",
       "\t mlampros                                                                                                                                                                                                                                                                                                                                                                             & FeatureSelection                                                                                                                                                                                                                                                                                                                                                                     & Feature Selection in R using glmnet-lasso, xgboost and ranger                                                                                                                                                                                                                                                                                                                       \\\\\n",
       "\t pnnl                                                                                                                                                                                                                                                                                                                                                                                 & glmnetLRC                                                                                                                                                                                                                                                                                                                                                                            & Lasso and Elastic-Net Logistic Regression Classification with an Arbitrary Loss Function                                                                                                                                                                                                                                                                                            \\\\\n",
       "\t rauschenberger                                                                                                                                                                                                                                                                                                                                                                       & palasso                                                                                                                                                                                                                                                                                                                                                                              & Pairwise-adaptive lasso                                                                                                                                                                                                                                                                                                                                                             \\\\\n",
       "\t road2stat                                                                                                                                                                                                                                                                                                                                                                            & OHPL                                                                                                                                                                                                                                                                                                                                                                                 & Ordered Homogeneity Pursuit Lasso for Group Variable Selection                                                                                                                                                                                                                                                                                                                      \\\\\n",
       "\t road2stat                                                                                                                                                                                                                                                                                                                                                                            & ohpl                                                                                                                                                                                                                                                                                                                                                                                 & Ordered Homogeneity Pursuit Lasso (OHPL)                                                                                                                                                                                                                                                                                                                                            \\\\\n",
       "\t shadowmoon1988                                                                                                                                                                                                                                                                                                                                                                       & SLASSO                                                                                                                                                                                                                                                                                                                                                                               & Sequential Lasso R Package                                                                                                                                                                                                                                                                                                                                                          \\\\\n",
       "\t statsmaths                                                                                                                                                                                                                                                                                                                                                                           & genlasso                                                                                                                                                                                                                                                                                                                                                                             & Path algorithm for generalized lasso problems                                                                                                                                                                                                                                                                                                                                       \\\\\n",
       "\t tshmak                                                                                                                                                                                                                                                                                                                                                                               & lassosum                                                                                                                                                                                                                                                                                                                                                                             & LASSO for GWAS with summary statistics                                                                                                                                                                                                                                                                                                                                              \\\\\n",
       "\t vincent-dk                                                                                                                                                                                                                                                                                                                                                                           & msgl                                                                                                                                                                                                                                                                                                                                                                                 & High Dimensional Multiclass Classification Using Sparse Group Lasso                                                                                                                                                                                                                                                                                                                 \\\\\n",
       "\t vincent-dk                                                                                                                                                                                                                                                                                                                                                                           & rcsgl                                                                                                                                                                                                                                                                                                                                                                                & regression via sparse group lasso classification                                                                                                                                                                                                                                                                                                                                    \\\\\n",
       "\t vincent-dk                                                                                                                                                                                                                                                                                                                                                                           & sglOptim                                                                                                                                                                                                                                                                                                                                                                             & Fast Generic Solver for Sparse Group Lasso Optimization Problems                                                                                                                                                                                                                                                                                                                    \\\\\n",
       "\t vstanislas                                                                                                                                                                                                                                                                                                                                                                           & GGEE                                                                                                                                                                                                                                                                                                                                                                                 & R Package for the Group Lasso Gene-Gene Eigen Epistasis (G-GEE) Method                                                                                                                                                                                                                                                                                                              \\\\\n",
       "\t wrbrooks                                                                                                                                                                                                                                                                                                                                                                             & adalasso                                                                                                                                                                                                                                                                                                                                                                             & Adaptive lasso for logistic regression and p>n                                                                                                                                                                                                                                                                                                                                      \\\\\n",
       "\t wrbrooks                                                                                                                                                                                                                                                                                                                                                                             & adapt                                                                                                                                                                                                                                                                                                                                                                                & Adaptive lasso for linear regression and p>n                                                                                                                                                                                                                                                                                                                                        \\\\\n",
       "\t zdk123                                                                                                                                                                                                                                                                                                                                                                               & BatchStARS                                                                                                                                                                                                                                                                                                                                                                           & R package for Stability Approach to Regularization Selection for lasso problems, in batch computing environments.                                                                                                                                                                                                                                                                   \\\\\n",
       "\\end{tabular}\n"
      ],
      "text/markdown": [
       "\n",
       "| username | package_name | title |\n",
       "|---|---|---|\n",
       "| CY-dev                                                                                                                                                                                                                                                                                                                                                                               | sparseSVM                                                                                                                                                                                                                                                                                                                                                                            | Solution Paths of Sparse Linear Support Vector Machine with Lasso or ELastic-Net Regularization                                                                                                                                                                                                                                                                                      |\n",
       "| ChingChuan-Chen                                                                                                                                                                                                                                                                                                                                                                      | milr                                                                                                                                                                                                                                                                                                                                                                                 | multiple-instance logistic regression with lasso penalty.                                                                                                                                                                                                                                                                                                                            |\n",
       "| FrankD                                                                                                                                                                                                                                                                                                                                                                               | fuser                                                                                                                                                                                                                                                                                                                                                                                | Fused lasso for high-dimensional regression over groups                                                                                                                                                                                                                                                                                                                              |\n",
       "| ManuSetty                                                                                                                                                                                                                                                                                                                                                                            | SeqGL                                                                                                                                                                                                                                                                                                                                                                                | SeqGL is a group lasso based algorithm to extract TF sequence signals from ChIP, DNase and ATAC-seq profiles                                                                                                                                                                                                                                                                         |\n",
       "| PNNL-Comp-Mass-Spec                                                                                                                                                                                                                                                                                                                                                                  | glmnetGLR                                                                                                                                                                                                                                                                                                                                                                            | The primary goal was to build a classifier that accurately predicts a binary response. We utilized a Lasso logistic regression classifier (LLRC) which simultaneously restricts the size of model coefficients and the number of quality metrics included the model. Importantly the model does not treat false-negatives and false-positives as equally deleterious events.         |\n",
       "| PingYangChen                                                                                                                                                                                                                                                                                                                                                                         | milr                                                                                                                                                                                                                                                                                                                                                                                 | multiple-instance logistic regression with lasso penalty.                                                                                                                                                                                                                                                                                                                            |\n",
       "| TaddyLab                                                                                                                                                                                                                                                                                                                                                                             | gamlr                                                                                                                                                                                                                                                                                                                                                                                | Gamma lasso regression                                                                                                                                                                                                                                                                                                                                                               |\n",
       "| ToshihiroIguchi                                                                                                                                                                                                                                                                                                                                                                      | elasticnet                                                                                                                                                                                                                                                                                                                                                                           | Elastic Net, Lasso and Ridge models can be analyzed by the formula format.                                                                                                                                                                                                                                                                                                           |\n",
       "| YaohuiZeng                                                                                                                                                                                                                                                                                                                                                                           | bigSVM                                                                                                                                                                                                                                                                                                                                                                               | Solution Paths of Sparse SVM with Lasso or Elastic-Net Regularization For Big Data in R                                                                                                                                                                                                                                                                                              |\n",
       "| YaohuiZeng                                                                                                                                                                                                                                                                                                                                                                           | biglasso                                                                                                                                                                                                                                                                                                                                                                             | biglasso: Extending Lasso Model Fitting to Big Data in R                                                                                                                                                                                                                                                                                                                             |\n",
       "| Zelazny7                                                                                                                                                                                                                                                                                                                                                                             | rulefit                                                                                                                                                                                                                                                                                                                                                                              | Fit Lasso model to binary rules created from tree ensembles                                                                                                                                                                                                                                                                                                                          |\n",
       "| annafil                                                                                                                                                                                                                                                                                                                                                                              | FFCRegressionImputation                                                                                                                                                                                                                                                                                                                                                              | Several predictive approaches to imputation using linear regressions and lasso                                                                                                                                                                                                                                                                                                       |\n",
       "| antiphon                                                                                                                                                                                                                                                                                                                                                                             | glbinc                                                                                                                                                                                                                                                                                                                                                                               | Grouped Lasso (and maybe more) for logistic regression with offsets and sparse matrix support                                                                                                                                                                                                                                                                                        |\n",
       "| anuf                                                                                                                                                                                                                                                                                                                                                                                 | lassoSparkR                                                                                                                                                                                                                                                                                                                                                                          | A R package that implements several algorithms of the LASSO method for estimation in linear models to be run in Apache Spark engine.                                                                                                                                                                                                                                                 |\n",
       "| benkeser                                                                                                                                                                                                                                                                                                                                                                             | halplus                                                                                                                                                                                                                                                                                                                                                                              | Nonparametric regression and prediction using the highly adaptive lasso algorithm                                                                                                                                                                                                                                                                                                    |\n",
       "| emeryyi                                                                                                                                                                                                                                                                                                                                                                              | gglasso                                                                                                                                                                                                                                                                                                                                                                              | Automatically exported from code.google.com/p/gglasso                                                                                                                                                                                                                                                                                                                                |\n",
       "| esmucler                                                                                                                                                                                                                                                                                                                                                                             | mmlasso                                                                                                                                                                                                                                                                                                                                                                              | R Package to calculate the MM-Lasso and adaptive MM-Lasso estimators proposed in Smucler and Yohai (2015).                                                                                                                                                                                                                                                                           |\n",
       "| gabriellajg                                                                                                                                                                                                                                                                                                                                                                          | ClussCluster                                                                                                                                                                                                                                                                                                                                                                         | This package implements a new method ClussCluster to simultaneously perform clustering analysis and signature gene selection on high-dimensional transcriptome data sets. To do so, ClussCluster incorporates a Lasso-type regularization penalty term to the objective function of K-means so that cell-type-specific signature genes can be identified while clustering the cells. |\n",
       "| huayingfang                                                                                                                                                                                                                                                                                                                                                                          | CCLasso                                                                                                                                                                                                                                                                                                                                                                              | CCLasso: Correlation Inference for Compositional Data through Lasso                                                                                                                                                                                                                                                                                                                  |\n",
       "| jakmes                                                                                                                                                                                                                                                                                                                                                                               | onlineVAR                                                                                                                                                                                                                                                                                                                                                                            | R package to adaptively fit lasso vector auto regression                                                                                                                                                                                                                                                                                                                             |\n",
       "| jcbeer                                                                                                                                                                                                                                                                                                                                                                               | fsgl                                                                                                                                                                                                                                                                                                                                                                                 | R package with functions to fit penalized least squares regression models using a combination of penalty terms encouraging smoothness (fused lasso / total variation penalty), and/or sparsity (L1 and group lasso penalties). Designed specifically for analysis of 2 or 3 dimensional neuroimages.                                                                                 |\n",
       "| jeffwong                                                                                                                                                                                                                                                                                                                                                                             | glmnet                                                                                                                                                                                                                                                                                                                                                                               | R package glmnet for estimating lasso and elastic net                                                                                                                                                                                                                                                                                                                                |\n",
       "| katokohaku                                                                                                                                                                                                                                                                                                                                                                           | AlternateLasso                                                                                                                                                                                                                                                                                                                                                                       | R package for Lasso feature selection                                                                                                                                                                                                                                                                                                                                                |\n",
       "| maryclare                                                                                                                                                                                                                                                                                                                                                                            | powopt                                                                                                                                                                                                                                                                                                                                                                               | Little R package for performing penalized regression using power/bridge penalties, implements algorithm given by Marjanovic and Solo (2014) and includes lasso as a special case                                                                                                                                                                                                     |\n",
       "| mlampros                                                                                                                                                                                                                                                                                                                                                                             | FeatureSelection                                                                                                                                                                                                                                                                                                                                                                     | Feature Selection in R using glmnet-lasso, xgboost and ranger                                                                                                                                                                                                                                                                                                                        |\n",
       "| pnnl                                                                                                                                                                                                                                                                                                                                                                                 | glmnetLRC                                                                                                                                                                                                                                                                                                                                                                            | Lasso and Elastic-Net Logistic Regression Classification with an Arbitrary Loss Function                                                                                                                                                                                                                                                                                             |\n",
       "| rauschenberger                                                                                                                                                                                                                                                                                                                                                                       | palasso                                                                                                                                                                                                                                                                                                                                                                              | Pairwise-adaptive lasso                                                                                                                                                                                                                                                                                                                                                              |\n",
       "| road2stat                                                                                                                                                                                                                                                                                                                                                                            | OHPL                                                                                                                                                                                                                                                                                                                                                                                 | Ordered Homogeneity Pursuit Lasso for Group Variable Selection                                                                                                                                                                                                                                                                                                                       |\n",
       "| road2stat                                                                                                                                                                                                                                                                                                                                                                            | ohpl                                                                                                                                                                                                                                                                                                                                                                                 | Ordered Homogeneity Pursuit Lasso (OHPL)                                                                                                                                                                                                                                                                                                                                             |\n",
       "| shadowmoon1988                                                                                                                                                                                                                                                                                                                                                                       | SLASSO                                                                                                                                                                                                                                                                                                                                                                               | Sequential Lasso R Package                                                                                                                                                                                                                                                                                                                                                           |\n",
       "| statsmaths                                                                                                                                                                                                                                                                                                                                                                           | genlasso                                                                                                                                                                                                                                                                                                                                                                             | Path algorithm for generalized lasso problems                                                                                                                                                                                                                                                                                                                                        |\n",
       "| tshmak                                                                                                                                                                                                                                                                                                                                                                               | lassosum                                                                                                                                                                                                                                                                                                                                                                             | LASSO for GWAS with summary statistics                                                                                                                                                                                                                                                                                                                                               |\n",
       "| vincent-dk                                                                                                                                                                                                                                                                                                                                                                           | msgl                                                                                                                                                                                                                                                                                                                                                                                 | High Dimensional Multiclass Classification Using Sparse Group Lasso                                                                                                                                                                                                                                                                                                                  |\n",
       "| vincent-dk                                                                                                                                                                                                                                                                                                                                                                           | rcsgl                                                                                                                                                                                                                                                                                                                                                                                | regression via sparse group lasso classification                                                                                                                                                                                                                                                                                                                                     |\n",
       "| vincent-dk                                                                                                                                                                                                                                                                                                                                                                           | sglOptim                                                                                                                                                                                                                                                                                                                                                                             | Fast Generic Solver for Sparse Group Lasso Optimization Problems                                                                                                                                                                                                                                                                                                                     |\n",
       "| vstanislas                                                                                                                                                                                                                                                                                                                                                                           | GGEE                                                                                                                                                                                                                                                                                                                                                                                 | R Package for the Group Lasso Gene-Gene Eigen Epistasis (G-GEE) Method                                                                                                                                                                                                                                                                                                               |\n",
       "| wrbrooks                                                                                                                                                                                                                                                                                                                                                                             | adalasso                                                                                                                                                                                                                                                                                                                                                                             | Adaptive lasso for logistic regression and p>n                                                                                                                                                                                                                                                                                                                                       |\n",
       "| wrbrooks                                                                                                                                                                                                                                                                                                                                                                             | adapt                                                                                                                                                                                                                                                                                                                                                                                | Adaptive lasso for linear regression and p>n                                                                                                                                                                                                                                                                                                                                         |\n",
       "| zdk123                                                                                                                                                                                                                                                                                                                                                                               | BatchStARS                                                                                                                                                                                                                                                                                                                                                                           | R package for Stability Approach to Regularization Selection for lasso problems, in batch computing environments.                                                                                                                                                                                                                                                                    |\n",
       "\n"
      ],
      "text/plain": [
       "   username            package_name           \n",
       "1  CY-dev              sparseSVM              \n",
       "2  ChingChuan-Chen     milr                   \n",
       "3  FrankD              fuser                  \n",
       "4  ManuSetty           SeqGL                  \n",
       "5  PNNL-Comp-Mass-Spec glmnetGLR              \n",
       "6  PingYangChen        milr                   \n",
       "7  TaddyLab            gamlr                  \n",
       "8  ToshihiroIguchi     elasticnet             \n",
       "9  YaohuiZeng          bigSVM                 \n",
       "10 YaohuiZeng          biglasso               \n",
       "11 Zelazny7            rulefit                \n",
       "12 annafil             FFCRegressionImputation\n",
       "13 antiphon            glbinc                 \n",
       "14 anuf                lassoSparkR            \n",
       "15 benkeser            halplus                \n",
       "16 emeryyi             gglasso                \n",
       "17 esmucler            mmlasso                \n",
       "18 gabriellajg         ClussCluster           \n",
       "19 huayingfang         CCLasso                \n",
       "20 jakmes              onlineVAR              \n",
       "21 jcbeer              fsgl                   \n",
       "22 jeffwong            glmnet                 \n",
       "23 katokohaku          AlternateLasso         \n",
       "24 maryclare           powopt                 \n",
       "25 mlampros            FeatureSelection       \n",
       "26 pnnl                glmnetLRC              \n",
       "27 rauschenberger      palasso                \n",
       "28 road2stat           OHPL                   \n",
       "29 road2stat           ohpl                   \n",
       "30 shadowmoon1988      SLASSO                 \n",
       "31 statsmaths          genlasso               \n",
       "32 tshmak              lassosum               \n",
       "33 vincent-dk          msgl                   \n",
       "34 vincent-dk          rcsgl                  \n",
       "35 vincent-dk          sglOptim               \n",
       "36 vstanislas          GGEE                   \n",
       "37 wrbrooks            adalasso               \n",
       "38 wrbrooks            adapt                  \n",
       "39 zdk123              BatchStARS             \n",
       "   title                                                                                                                                                                                                                                                                                                                                                                               \n",
       "1  Solution Paths of Sparse Linear Support Vector Machine with Lasso or ELastic-Net Regularization                                                                                                                                                                                                                                                                                     \n",
       "2  multiple-instance logistic regression with lasso penalty.                                                                                                                                                                                                                                                                                                                           \n",
       "3  Fused lasso for high-dimensional regression over groups                                                                                                                                                                                                                                                                                                                             \n",
       "4  SeqGL is a group lasso based algorithm to extract TF sequence signals from ChIP, DNase and ATAC-seq profiles                                                                                                                                                                                                                                                                        \n",
       "5  The primary goal was to build a classifier that accurately predicts a binary response. We utilized a Lasso logistic regression classifier (LLRC) which simultaneously restricts the size of model coefficients and the number of quality metrics included the model. Importantly the model does not treat false-negatives and false-positives as equally deleterious events.        \n",
       "6  multiple-instance logistic regression with lasso penalty.                                                                                                                                                                                                                                                                                                                           \n",
       "7  Gamma lasso regression                                                                                                                                                                                                                                                                                                                                                              \n",
       "8  Elastic Net, Lasso and Ridge models can be analyzed by the formula format.                                                                                                                                                                                                                                                                                                          \n",
       "9  Solution Paths of Sparse SVM with Lasso or Elastic-Net Regularization For Big Data in R                                                                                                                                                                                                                                                                                             \n",
       "10 biglasso: Extending Lasso Model Fitting to Big Data in R                                                                                                                                                                                                                                                                                                                            \n",
       "11 Fit Lasso model to binary rules created from tree ensembles                                                                                                                                                                                                                                                                                                                         \n",
       "12 Several predictive approaches to imputation using linear regressions and lasso                                                                                                                                                                                                                                                                                                      \n",
       "13 Grouped Lasso (and maybe more) for logistic regression with offsets and sparse matrix support                                                                                                                                                                                                                                                                                       \n",
       "14 A R package that implements several algorithms of the LASSO method for estimation in linear models to be run in Apache Spark engine.                                                                                                                                                                                                                                                \n",
       "15 Nonparametric regression and prediction using the highly adaptive lasso algorithm                                                                                                                                                                                                                                                                                                   \n",
       "16 Automatically exported from code.google.com/p/gglasso                                                                                                                                                                                                                                                                                                                               \n",
       "17 R Package to calculate the MM-Lasso and adaptive MM-Lasso estimators proposed in Smucler and Yohai (2015).                                                                                                                                                                                                                                                                          \n",
       "18 This package implements a new method ClussCluster to simultaneously perform clustering analysis and signature gene selection on high-dimensional transcriptome data sets. To do so, ClussCluster incorporates a Lasso-type regularization penalty term to the objective function of K-means so that cell-type-specific signature genes can be identified while clustering the cells.\n",
       "19 CCLasso: Correlation Inference for Compositional Data through Lasso                                                                                                                                                                                                                                                                                                                 \n",
       "20 R package to adaptively fit lasso vector auto regression                                                                                                                                                                                                                                                                                                                            \n",
       "21 R package with functions to fit penalized least squares regression models using a combination of penalty terms encouraging smoothness (fused lasso / total variation penalty), and/or sparsity (L1 and group lasso penalties). Designed specifically for analysis of 2 or 3 dimensional neuroimages.                                                                                \n",
       "22 R package glmnet for estimating lasso and elastic net                                                                                                                                                                                                                                                                                                                               \n",
       "23 R package for Lasso feature selection                                                                                                                                                                                                                                                                                                                                               \n",
       "24 Little R package for performing penalized regression using power/bridge penalties, implements algorithm given by Marjanovic and Solo (2014) and includes lasso as a special case                                                                                                                                                                                                    \n",
       "25 Feature Selection in R using glmnet-lasso, xgboost and ranger                                                                                                                                                                                                                                                                                                                       \n",
       "26 Lasso and Elastic-Net Logistic Regression Classification with an Arbitrary Loss Function                                                                                                                                                                                                                                                                                            \n",
       "27 Pairwise-adaptive lasso                                                                                                                                                                                                                                                                                                                                                             \n",
       "28 Ordered Homogeneity Pursuit Lasso for Group Variable Selection                                                                                                                                                                                                                                                                                                                      \n",
       "29 Ordered Homogeneity Pursuit Lasso (OHPL)                                                                                                                                                                                                                                                                                                                                            \n",
       "30 Sequential Lasso R Package                                                                                                                                                                                                                                                                                                                                                          \n",
       "31 Path algorithm for generalized lasso problems                                                                                                                                                                                                                                                                                                                                       \n",
       "32 LASSO for GWAS with summary statistics                                                                                                                                                                                                                                                                                                                                              \n",
       "33 High Dimensional Multiclass Classification Using Sparse Group Lasso                                                                                                                                                                                                                                                                                                                 \n",
       "34 regression via sparse group lasso classification                                                                                                                                                                                                                                                                                                                                    \n",
       "35 Fast Generic Solver for Sparse Group Lasso Optimization Problems                                                                                                                                                                                                                                                                                                                    \n",
       "36 R Package for the Group Lasso Gene-Gene Eigen Epistasis (G-GEE) Method                                                                                                                                                                                                                                                                                                              \n",
       "37 Adaptive lasso for logistic regression and p>n                                                                                                                                                                                                                                                                                                                                      \n",
       "38 Adaptive lasso for linear regression and p>n                                                                                                                                                                                                                                                                                                                                        \n",
       "39 R package for Stability Approach to Regularization Selection for lasso problems, in batch computing environments.                                                                                                                                                                                                                                                                   "
      ]
     },
     "metadata": {},
     "output_type": "display_data"
    }
   ],
   "source": [
    "gh_search_packages('lasso')"
   ]
  },
  {
   "cell_type": "markdown",
   "metadata": {},
   "source": [
    "# 显示Github上给定R函数的源代码"
   ]
  },
  {
   "cell_type": "markdown",
   "metadata": {},
   "source": [
    "gh_show_source()会在Github上查找指定R函数的源代码，并在默认浏览器中显示。"
   ]
  },
  {
   "cell_type": "code",
   "execution_count": 12,
   "metadata": {},
   "outputs": [
    {
     "ename": "ERROR",
     "evalue": "Error in menu(choices = choices, title = \"Select a number or, hit 0 to cancel.\"): menu() cannot be used non-interactively\n",
     "output_type": "error",
     "traceback": [
      "Error in menu(choices = choices, title = \"Select a number or, hit 0 to cancel.\"): menu() cannot be used non-interactively\nTraceback:\n",
      "1. gh_show_source(\"mutate\", \"dplyr\")",
      "2. select_repository(repo)",
      "3. menu(choices = choices, title = \"Select a number or, hit 0 to cancel.\")",
      "4. stop(\"menu() cannot be used non-interactively\")"
     ]
    }
   ],
   "source": [
    "gh_show_source(\"mutate\",\"dplyr\") #该函数有时候在浏览器上会有问题"
   ]
  },
  {
   "cell_type": "markdown",
   "metadata": {},
   "source": [
    "# 更新R包列表"
   ]
  },
  {
   "cell_type": "markdown",
   "metadata": {},
   "source": [
    "githubinstall包通过Gepuro Task Views获取Github上的R包列表。Gepuro Task Views每天都会爬取Github并更新信息。不过，你可能一直以来都是通过R界面来更新R包。gh_update_list()更新R包的方法如下："
   ]
  },
  {
   "cell_type": "code",
   "execution_count": 13,
   "metadata": {},
   "outputs": [
    {
     "name": "stderr",
     "output_type": "stream",
     "text": [
      "Warning message in fread(download_url, sep = \"\\t\", header = FALSE, stringsAsFactors = FALSE, :\n",
      "\"Found and resolved improper quoting out-of-sample. First healed line 4848: <<Puriney\thonfleuR\t\"Evening, honfleuR\" by Seurat>>. If the fields are not quoted (e.g. field separator does not appear within any field), try quote=\"\" to avoid this warning.\""
     ]
    }
   ],
   "source": [
    "gh_update_package_list()"
   ]
  },
  {
   "cell_type": "code",
   "execution_count": 1,
   "metadata": {},
   "outputs": [],
   "source": [
    "library(FUNNEL)"
   ]
  },
  {
   "cell_type": "code",
   "execution_count": 3,
   "metadata": {},
   "outputs": [
    {
     "data": {
      "text/html": [
       "<pre class=language-r><code>function (X, tt, genesets, lambda = 10^-3.5, rr = rep(1, length(tt)), \n",
       "<span style=white-space:pre-wrap>    selection_k = \"FVE\", FVE_threshold = 0.9, nharm = 3, centerfns = FALSE, </span>\n",
       "<span style=white-space:pre-wrap>    equiv.threshold = 0.01, lam1 = 0.4, lam2 = 0.01, alpha.level = 0.05, </span>\n",
       "<span style=white-space:pre-wrap>    sort = TRUE) </span>\n",
       "{\n",
       "<span style=white-space:pre-wrap>    checkInputs(X, tt, genesets)</span>\n",
       "<span style=white-space:pre-wrap>    tt &lt;- (tt - min(tt))/diff(range(tt))</span>\n",
       "<span style=white-space:pre-wrap>    X &lt;- t(scale(t(X)))</span>\n",
       "<span style=white-space:pre-wrap>    genesets &lt;- lapply(genesets, function(z) {</span>\n",
       "<span style=white-space:pre-wrap>        intersect(z, rownames(X))</span>\n",
       "<span style=white-space:pre-wrap>    })</span>\n",
       "<span style=white-space:pre-wrap>    Fstats &lt;- FPCA.Fstats(X, tt, rr = rr, selection_k = selection_k, </span>\n",
       "<span style=white-space:pre-wrap>        FVE_threshold = FVE_threshold)</span>\n",
       "<span style=white-space:pre-wrap>    rho.hat &lt;- getRho(X, genesets)</span>\n",
       "<span style=white-space:pre-wrap>    fdexpr &lt;- smoothExpr(X, tt, lambda = lambda)</span>\n",
       "<span style=white-space:pre-wrap>    FUNNEL.out &lt;- FUNNELtest(fdexpr, genesets, Fstats = Fstats, </span>\n",
       "<span style=white-space:pre-wrap>        rho = rho.hat, df = sum(rr) - 1, nharm = nharm, centerfns = FALSE, </span>\n",
       "<span style=white-space:pre-wrap>        equiv.threshold = equiv.threshold, lam1 = lam1, lam2 = lam2)</span>\n",
       "<span style=white-space:pre-wrap>    if (sort) {</span>\n",
       "<span style=white-space:pre-wrap>        FUNNEL.out$pvals &lt;- sort(FUNNEL.out$pvals)</span>\n",
       "<span style=white-space:pre-wrap>    }</span>\n",
       "<span style=white-space:pre-wrap>    sig.genesets &lt;- names(FUNNEL.out$pvals)[FUNNEL.out$pvals &lt; </span>\n",
       "<span style=white-space:pre-wrap>        alpha.level]</span>\n",
       "<span style=white-space:pre-wrap>    return(list(pvals = FUNNEL.out$pvals, weight.list = FUNNEL.out$weight.list, </span>\n",
       "<span style=white-space:pre-wrap>        correlation = rho.hat, sig.genesets = sig.genesets, Fstats = Fstats))</span>\n",
       "}</code></pre>"
      ],
      "text/latex": [
       "\\begin{minted}{r}\n",
       "function (X, tt, genesets, lambda = 10\\textasciicircum{}-3.5, rr = rep(1, length(tt)), \n",
       "    selection\\_k = \"FVE\", FVE\\_threshold = 0.9, nharm = 3, centerfns = FALSE, \n",
       "    equiv.threshold = 0.01, lam1 = 0.4, lam2 = 0.01, alpha.level = 0.05, \n",
       "    sort = TRUE) \n",
       "\\{\n",
       "    checkInputs(X, tt, genesets)\n",
       "    tt <- (tt - min(tt))/diff(range(tt))\n",
       "    X <- t(scale(t(X)))\n",
       "    genesets <- lapply(genesets, function(z) \\{\n",
       "        intersect(z, rownames(X))\n",
       "    \\})\n",
       "    Fstats <- FPCA.Fstats(X, tt, rr = rr, selection\\_k = selection\\_k, \n",
       "        FVE\\_threshold = FVE\\_threshold)\n",
       "    rho.hat <- getRho(X, genesets)\n",
       "    fdexpr <- smoothExpr(X, tt, lambda = lambda)\n",
       "    FUNNEL.out <- FUNNELtest(fdexpr, genesets, Fstats = Fstats, \n",
       "        rho = rho.hat, df = sum(rr) - 1, nharm = nharm, centerfns = FALSE, \n",
       "        equiv.threshold = equiv.threshold, lam1 = lam1, lam2 = lam2)\n",
       "    if (sort) \\{\n",
       "        FUNNEL.out\\$pvals <- sort(FUNNEL.out\\$pvals)\n",
       "    \\}\n",
       "    sig.genesets <- names(FUNNEL.out\\$pvals){[}FUNNEL.out\\$pvals < \n",
       "        alpha.level{]}\n",
       "    return(list(pvals = FUNNEL.out\\$pvals, weight.list = FUNNEL.out\\$weight.list, \n",
       "        correlation = rho.hat, sig.genesets = sig.genesets, Fstats = Fstats))\n",
       "\\}\n",
       "\\end{minted}"
      ],
      "text/markdown": [
       "```r\n",
       "function (X, tt, genesets, lambda = 10^-3.5, rr = rep(1, length(tt)), \n",
       "    selection_k = \"FVE\", FVE_threshold = 0.9, nharm = 3, centerfns = FALSE, \n",
       "    equiv.threshold = 0.01, lam1 = 0.4, lam2 = 0.01, alpha.level = 0.05, \n",
       "    sort = TRUE) \n",
       "{\n",
       "    checkInputs(X, tt, genesets)\n",
       "    tt <- (tt - min(tt))/diff(range(tt))\n",
       "    X <- t(scale(t(X)))\n",
       "    genesets <- lapply(genesets, function(z) {\n",
       "        intersect(z, rownames(X))\n",
       "    })\n",
       "    Fstats <- FPCA.Fstats(X, tt, rr = rr, selection_k = selection_k, \n",
       "        FVE_threshold = FVE_threshold)\n",
       "    rho.hat <- getRho(X, genesets)\n",
       "    fdexpr <- smoothExpr(X, tt, lambda = lambda)\n",
       "    FUNNEL.out <- FUNNELtest(fdexpr, genesets, Fstats = Fstats, \n",
       "        rho = rho.hat, df = sum(rr) - 1, nharm = nharm, centerfns = FALSE, \n",
       "        equiv.threshold = equiv.threshold, lam1 = lam1, lam2 = lam2)\n",
       "    if (sort) {\n",
       "        FUNNEL.out$pvals <- sort(FUNNEL.out$pvals)\n",
       "    }\n",
       "    sig.genesets <- names(FUNNEL.out$pvals)[FUNNEL.out$pvals < \n",
       "        alpha.level]\n",
       "    return(list(pvals = FUNNEL.out$pvals, weight.list = FUNNEL.out$weight.list, \n",
       "        correlation = rho.hat, sig.genesets = sig.genesets, Fstats = Fstats))\n",
       "}\n",
       "```"
      ],
      "text/plain": [
       "function (X, tt, genesets, lambda = 10^-3.5, rr = rep(1, length(tt)), \n",
       "    selection_k = \"FVE\", FVE_threshold = 0.9, nharm = 3, centerfns = FALSE, \n",
       "    equiv.threshold = 0.01, lam1 = 0.4, lam2 = 0.01, alpha.level = 0.05, \n",
       "    sort = TRUE) \n",
       "{\n",
       "    checkInputs(X, tt, genesets)\n",
       "    tt <- (tt - min(tt))/diff(range(tt))\n",
       "    X <- t(scale(t(X)))\n",
       "    genesets <- lapply(genesets, function(z) {\n",
       "        intersect(z, rownames(X))\n",
       "    })\n",
       "    Fstats <- FPCA.Fstats(X, tt, rr = rr, selection_k = selection_k, \n",
       "        FVE_threshold = FVE_threshold)\n",
       "    rho.hat <- getRho(X, genesets)\n",
       "    fdexpr <- smoothExpr(X, tt, lambda = lambda)\n",
       "    FUNNEL.out <- FUNNELtest(fdexpr, genesets, Fstats = Fstats, \n",
       "        rho = rho.hat, df = sum(rr) - 1, nharm = nharm, centerfns = FALSE, \n",
       "        equiv.threshold = equiv.threshold, lam1 = lam1, lam2 = lam2)\n",
       "    if (sort) {\n",
       "        FUNNEL.out$pvals <- sort(FUNNEL.out$pvals)\n",
       "    }\n",
       "    sig.genesets <- names(FUNNEL.out$pvals)[FUNNEL.out$pvals < \n",
       "        alpha.level]\n",
       "    return(list(pvals = FUNNEL.out$pvals, weight.list = FUNNEL.out$weight.list, \n",
       "        correlation = rho.hat, sig.genesets = sig.genesets, Fstats = Fstats))\n",
       "}\n",
       "<bytecode: 0x0000000022ce15d8>\n",
       "<environment: namespace:FUNNEL>"
      ]
     },
     "metadata": {},
     "output_type": "display_data"
    }
   ],
   "source": [
    "FUNNEL.GSEA"
   ]
  },
  {
   "cell_type": "markdown",
   "metadata": {},
   "source": [
    "# 第二种办法"
   ]
  },
  {
   "cell_type": "raw",
   "metadata": {},
   "source": [
    "options(BioC_mirror = \"http://mirrors.ustc.edu.cn/bioc/\")\n",
    "# install.packages(\"remotes\")\n",
    "remotes::install_github(\"neo4j-rstats/neo4r\")\n",
    "library(neo4r)"
   ]
  }
 ],
 "metadata": {
  "kernelspec": {
   "display_name": "R",
   "language": "R",
   "name": "ir"
  },
  "language_info": {
   "codemirror_mode": "r",
   "file_extension": ".r",
   "mimetype": "text/x-r-source",
   "name": "R",
   "pygments_lexer": "r",
   "version": "3.5.1"
  }
 },
 "nbformat": 4,
 "nbformat_minor": 2
}
