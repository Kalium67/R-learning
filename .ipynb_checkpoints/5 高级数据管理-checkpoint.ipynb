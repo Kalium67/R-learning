{
 "cells": [
  {
   "cell_type": "markdown",
   "metadata": {},
   "source": [
    "**本章内容**\n",
    "\n",
    "    数学和统计函数\n",
    "    字符处理函数\n",
    "    循环和条件执行\n",
    "    自编函数\n",
    "    数据整合与重塑"
   ]
  },
  {
   "cell_type": "markdown",
   "metadata": {},
   "source": [
    "# 5.1 一个数据处理难题"
   ]
  },
  {
   "cell_type": "markdown",
   "metadata": {},
   "source": [
    "# 5.2 数值和字符处理函数"
   ]
  },
  {
   "cell_type": "markdown",
   "metadata": {},
   "source": [
    "## 5.2.1 数学函数"
   ]
  },
  {
   "cell_type": "markdown",
   "metadata": {},
   "source": [
    "![数学函数.jpg](./image/数学函数.jpg)\n",
    "![数学函数2.jpg](./image/数学函数2.jpg)"
   ]
  },
  {
   "cell_type": "markdown",
   "metadata": {},
   "source": [
    "## 5.2.2 统计函数"
   ]
  },
  {
   "cell_type": "markdown",
   "metadata": {},
   "source": [
    "![统计函数.jpg](./image/统计函数.jpg)"
   ]
  },
  {
   "cell_type": "code",
   "execution_count": 4,
   "metadata": {},
   "outputs": [
    {
     "name": "stderr",
     "output_type": "stream",
     "text": [
      "Your code contains a unicode char which cannot be displayed in your\n",
      "current locale and R will silently convert it to an escaped form when the\n",
      "R kernel executes this code. This can lead to subtle errors if you use\n",
      "such chars to do comparisons. For more information, please see\n",
      "https://github.com/IRkernel/repr/wiki/Problems-with-unicode-on-windows"
     ]
    },
    {
     "data": {
      "text/html": [
       "4.5"
      ],
      "text/latex": [
       "4.5"
      ],
      "text/markdown": [
       "4.5"
      ],
      "text/plain": [
       "[1] 4.5"
      ]
     },
     "metadata": {},
     "output_type": "display_data"
    },
    {
     "data": {
      "text/html": [
       "2.44948974278318"
      ],
      "text/latex": [
       "2.44948974278318"
      ],
      "text/markdown": [
       "2.44948974278318"
      ],
      "text/plain": [
       "[1] 2.44949"
      ]
     },
     "metadata": {},
     "output_type": "display_data"
    },
    {
     "data": {
      "text/html": [
       "4.5"
      ],
      "text/latex": [
       "4.5"
      ],
      "text/markdown": [
       "4.5"
      ],
      "text/plain": [
       "[1] 4.5"
      ]
     },
     "metadata": {},
     "output_type": "display_data"
    },
    {
     "data": {
      "text/html": [
       "2.44948974278318"
      ],
      "text/latex": [
       "2.44948974278318"
      ],
      "text/markdown": [
       "2.44948974278318"
      ],
      "text/plain": [
       "[1] 2.44949"
      ]
     },
     "metadata": {},
     "output_type": "display_data"
    }
   ],
   "source": [
    "#均值和标准差的计算\n",
    "x <- c(1,2,3,4,5,6,7,8)\n",
    "\n",
    "#简洁的方式\n",
    "mean(x)\n",
    "sd(x)\n",
    "\n",
    "#冗长的方式\n",
    "n <- length(x)\n",
    "meanx <- sum(x/n)\n",
    "css <- sum((x - meanx)^2 )\n",
    "sdx <- sqrt(css / (n-1))\n",
    "meanx\n",
    "sdx"
   ]
  },
  {
   "cell_type": "markdown",
   "metadata": {},
   "source": [
    "![数据的标准化.jpg](./image/数据的标准化.jpg)"
   ]
  },
  {
   "cell_type": "markdown",
   "metadata": {},
   "source": [
    "## 5.2.3 概率函数"
   ]
  },
  {
   "cell_type": "markdown",
   "metadata": {},
   "source": [
    "概率函数用来生成特征已知的模拟数据，以及在用户编写的统计函数中计算概率值。\n",
    "\n",
    "在R中，概率函数形如 ：\n",
    "    \n",
    "    [dpqr]distribution_abbreviation()\n",
    "    \n",
    "其中第一个字母表示其所指分布的某一方面\n",
    "       \n",
    "    d = 密度函数（density）\n",
    "    p = 分布函数（distribution function）\n",
    "    q = 分位数函数（quantile function）\n",
    "    r = 生成随机数（随机偏差）\n",
    "    \n",
    "![概率分布](./image/概率分布.jpg)\n",
    "![正态函数.png](./image/正态函数.png)"
   ]
  },
  {
   "cell_type": "markdown",
   "metadata": {},
   "source": [
    "### 1. 设定随机数种子"
   ]
  },
  {
   "cell_type": "markdown",
   "metadata": {},
   "source": [
    "在每次生成伪随机数的时候，函数都会使用一个不同的种子，因此也会产生不同的结果。你\n",
    "可以通过函数set.seed()显式指定这个种子，让结果可以重现（reproducible）。"
   ]
  },
  {
   "cell_type": "code",
   "execution_count": 3,
   "metadata": {},
   "outputs": [
    {
     "data": {
      "text/html": [
       "<ol class=list-inline>\n",
       "\t<li>0.640310605289415</li>\n",
       "\t<li>0.0094957563560456</li>\n",
       "\t<li>0.232550506014377</li>\n",
       "\t<li>0.666083758231252</li>\n",
       "\t<li>0.514251141343266</li>\n",
       "</ol>\n"
      ],
      "text/latex": [
       "\\begin{enumerate*}\n",
       "\\item 0.640310605289415\n",
       "\\item 0.0094957563560456\n",
       "\\item 0.232550506014377\n",
       "\\item 0.666083758231252\n",
       "\\item 0.514251141343266\n",
       "\\end{enumerate*}\n"
      ],
      "text/markdown": [
       "1. 0.640310605289415\n",
       "2. 0.0094957563560456\n",
       "3. 0.232550506014377\n",
       "4. 0.666083758231252\n",
       "5. 0.514251141343266\n",
       "\n",
       "\n"
      ],
      "text/plain": [
       "[1] 0.640310605 0.009495756 0.232550506 0.666083758 0.514251141"
      ]
     },
     "metadata": {},
     "output_type": "display_data"
    },
    {
     "data": {
      "text/html": [
       "<ol class=list-inline>\n",
       "\t<li>0.693591291783378</li>\n",
       "\t<li>0.544974835589528</li>\n",
       "\t<li>0.282733583590016</li>\n",
       "\t<li>0.923433484276757</li>\n",
       "\t<li>0.292315840255469</li>\n",
       "</ol>\n"
      ],
      "text/latex": [
       "\\begin{enumerate*}\n",
       "\\item 0.693591291783378\n",
       "\\item 0.544974835589528\n",
       "\\item 0.282733583590016\n",
       "\\item 0.923433484276757\n",
       "\\item 0.292315840255469\n",
       "\\end{enumerate*}\n"
      ],
      "text/markdown": [
       "1. 0.693591291783378\n",
       "2. 0.544974835589528\n",
       "3. 0.282733583590016\n",
       "4. 0.923433484276757\n",
       "5. 0.292315840255469\n",
       "\n",
       "\n"
      ],
      "text/plain": [
       "[1] 0.6935913 0.5449748 0.2827336 0.9234335 0.2923158"
      ]
     },
     "metadata": {},
     "output_type": "display_data"
    },
    {
     "data": {
      "text/html": [
       "<ol class=list-inline>\n",
       "\t<li>0.113703411305323</li>\n",
       "\t<li>0.622299404814839</li>\n",
       "\t<li>0.609274732880294</li>\n",
       "\t<li>0.623379441676661</li>\n",
       "\t<li>0.860915383556858</li>\n",
       "</ol>\n"
      ],
      "text/latex": [
       "\\begin{enumerate*}\n",
       "\\item 0.113703411305323\n",
       "\\item 0.622299404814839\n",
       "\\item 0.609274732880294\n",
       "\\item 0.623379441676661\n",
       "\\item 0.860915383556858\n",
       "\\end{enumerate*}\n"
      ],
      "text/markdown": [
       "1. 0.113703411305323\n",
       "2. 0.622299404814839\n",
       "3. 0.609274732880294\n",
       "4. 0.623379441676661\n",
       "5. 0.860915383556858\n",
       "\n",
       "\n"
      ],
      "text/plain": [
       "[1] 0.1137034 0.6222994 0.6092747 0.6233794 0.8609154"
      ]
     },
     "metadata": {},
     "output_type": "display_data"
    },
    {
     "data": {
      "text/html": [
       "<ol class=list-inline>\n",
       "\t<li>0.113703411305323</li>\n",
       "\t<li>0.622299404814839</li>\n",
       "\t<li>0.609274732880294</li>\n",
       "\t<li>0.623379441676661</li>\n",
       "\t<li>0.860915383556858</li>\n",
       "</ol>\n"
      ],
      "text/latex": [
       "\\begin{enumerate*}\n",
       "\\item 0.113703411305323\n",
       "\\item 0.622299404814839\n",
       "\\item 0.609274732880294\n",
       "\\item 0.623379441676661\n",
       "\\item 0.860915383556858\n",
       "\\end{enumerate*}\n"
      ],
      "text/markdown": [
       "1. 0.113703411305323\n",
       "2. 0.622299404814839\n",
       "3. 0.609274732880294\n",
       "4. 0.623379441676661\n",
       "5. 0.860915383556858\n",
       "\n",
       "\n"
      ],
      "text/plain": [
       "[1] 0.1137034 0.6222994 0.6092747 0.6233794 0.8609154"
      ]
     },
     "metadata": {},
     "output_type": "display_data"
    }
   ],
   "source": [
    "#生成服从正态分布的伪随机数\n",
    "\n",
    "runif(5)  #函数runif()用来生成0到1区间上服从均匀分布的伪随机数\n",
    "runif(5)\n",
    "set.seed(1234)  #通过函数set.seed()显式指定这个种子，让结果可以重现（reproducible）\n",
    "runif(5)\n",
    "set.seed(1234)\n",
    "runif(5)"
   ]
  },
  {
   "cell_type": "code",
   "execution_count": null,
   "metadata": {},
   "outputs": [],
   "source": []
  }
 ],
 "metadata": {
  "kernelspec": {
   "display_name": "R",
   "language": "R",
   "name": "ir"
  },
  "language_info": {
   "codemirror_mode": "r",
   "file_extension": ".r",
   "mimetype": "text/x-r-source",
   "name": "R",
   "pygments_lexer": "r",
   "version": "3.5.1"
  }
 },
 "nbformat": 4,
 "nbformat_minor": 2
}
