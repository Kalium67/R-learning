{
 "cells": [
  {
   "cell_type": "markdown",
   "metadata": {},
   "source": [
    "# 7.1 描述性统计分析"
   ]
  },
  {
   "cell_type": "markdown",
   "metadata": {},
   "source": [
    "描述性统计分析\n",
    "\n",
    "频数表和列联表\n",
    "\n",
    "相关系数和协方差\n",
    "\n",
    "t检验\n",
    "\n",
    "非参数统计"
   ]
  },
  {
   "cell_type": "markdown",
   "metadata": {},
   "source": [
    "分析连续性变量的中心趋势、变化性和分布形状的方法。"
   ]
  },
  {
   "cell_type": "code",
   "execution_count": 1,
   "metadata": {},
   "outputs": [
    {
     "name": "stderr",
     "output_type": "stream",
     "text": [
      "Your code contains a unicode char which cannot be displayed in your\n",
      "current locale and R will silently convert it to an escaped form when the\n",
      "R kernel executes this code. This can lead to subtle errors if you use\n",
      "such chars to do comparisons. For more information, please see\n",
      "https://github.com/IRkernel/repr/wiki/Problems-with-unicode-on-windows"
     ]
    },
    {
     "data": {
      "text/html": [
       "<table>\n",
       "<thead><tr><th></th><th scope=col>mpg</th><th scope=col>hp</th><th scope=col>wt</th></tr></thead>\n",
       "<tbody>\n",
       "\t<tr><th scope=row>Mazda RX4</th><td>21.0 </td><td>110  </td><td>2.620</td></tr>\n",
       "\t<tr><th scope=row>Mazda RX4 Wag</th><td>21.0 </td><td>110  </td><td>2.875</td></tr>\n",
       "\t<tr><th scope=row>Datsun 710</th><td>22.8 </td><td> 93  </td><td>2.320</td></tr>\n",
       "\t<tr><th scope=row>Hornet 4 Drive</th><td>21.4 </td><td>110  </td><td>3.215</td></tr>\n",
       "\t<tr><th scope=row>Hornet Sportabout</th><td>18.7 </td><td>175  </td><td>3.440</td></tr>\n",
       "\t<tr><th scope=row>Valiant</th><td>18.1 </td><td>105  </td><td>3.460</td></tr>\n",
       "</tbody>\n",
       "</table>\n"
      ],
      "text/latex": [
       "\\begin{tabular}{r|lll}\n",
       "  & mpg & hp & wt\\\\\n",
       "\\hline\n",
       "\tMazda RX4 & 21.0  & 110   & 2.620\\\\\n",
       "\tMazda RX4 Wag & 21.0  & 110   & 2.875\\\\\n",
       "\tDatsun 710 & 22.8  &  93   & 2.320\\\\\n",
       "\tHornet 4 Drive & 21.4  & 110   & 3.215\\\\\n",
       "\tHornet Sportabout & 18.7  & 175   & 3.440\\\\\n",
       "\tValiant & 18.1  & 105   & 3.460\\\\\n",
       "\\end{tabular}\n"
      ],
      "text/markdown": [
       "\n",
       "| <!--/--> | mpg | hp | wt |\n",
       "|---|---|---|---|\n",
       "| Mazda RX4 | 21.0  | 110   | 2.620 |\n",
       "| Mazda RX4 Wag | 21.0  | 110   | 2.875 |\n",
       "| Datsun 710 | 22.8  |  93   | 2.320 |\n",
       "| Hornet 4 Drive | 21.4  | 110   | 3.215 |\n",
       "| Hornet Sportabout | 18.7  | 175   | 3.440 |\n",
       "| Valiant | 18.1  | 105   | 3.460 |\n",
       "\n"
      ],
      "text/plain": [
       "                  mpg  hp  wt   \n",
       "Mazda RX4         21.0 110 2.620\n",
       "Mazda RX4 Wag     21.0 110 2.875\n",
       "Datsun 710        22.8  93 2.320\n",
       "Hornet 4 Drive    21.4 110 3.215\n",
       "Hornet Sportabout 18.7 175 3.440\n",
       "Valiant           18.1 105 3.460"
      ]
     },
     "metadata": {},
     "output_type": "display_data"
    }
   ],
   "source": [
    "#查看所有32中车型的描述性统计量，然后按照变速箱类型（am）和气缸数（cyl）考察描述性统计量。\n",
    "myvars <- c(\"mpg\",\"hp\",\"wt\")\n",
    "head(mtcars[myvars])"
   ]
  },
  {
   "cell_type": "code",
   "execution_count": null,
   "metadata": {},
   "outputs": [],
   "source": []
  },
  {
   "cell_type": "markdown",
   "metadata": {},
   "source": [
    "## 7.1.1 方法云集"
   ]
  },
  {
   "cell_type": "code",
   "execution_count": 3,
   "metadata": {},
   "outputs": [
    {
     "name": "stderr",
     "output_type": "stream",
     "text": [
      "Your code contains a unicode char which cannot be displayed in your\n",
      "current locale and R will silently convert it to an escaped form when the\n",
      "R kernel executes this code. This can lead to subtle errors if you use\n",
      "such chars to do comparisons. For more information, please see\n",
      "https://github.com/IRkernel/repr/wiki/Problems-with-unicode-on-windows"
     ]
    },
    {
     "data": {
      "text/plain": [
       "      mpg              hp              wt       \n",
       " Min.   :10.40   Min.   : 52.0   Min.   :1.513  \n",
       " 1st Qu.:15.43   1st Qu.: 96.5   1st Qu.:2.581  \n",
       " Median :19.20   Median :123.0   Median :3.325  \n",
       " Mean   :20.09   Mean   :146.7   Mean   :3.217  \n",
       " 3rd Qu.:22.80   3rd Qu.:180.0   3rd Qu.:3.610  \n",
       " Max.   :33.90   Max.   :335.0   Max.   :5.424  "
      ]
     },
     "metadata": {},
     "output_type": "display_data"
    }
   ],
   "source": [
    "#通过summary()计算描述性统计量\n",
    "myvars <- c(\"mpg\",\"hp\",\"wt\")\n",
    "summary(mtcars[myvars])\n",
    "#summary()函数提供了最小值、最大值、四分位数和数值型变量的均值，以及因子向量和逻辑型向量的频数统计"
   ]
  },
  {
   "cell_type": "markdown",
   "metadata": {},
   "source": [
    "apply()函数或sapply()函数计算所选择的任意描述性统计量。\n",
    "\n",
    "对于sapply()函数，其使用格式为：\n",
    "\n",
    "sapply(x, FUN, options)\n",
    "\n",
    "x是你的数据框（或矩阵），\n",
    "\n",
    "FUN为一个任意的函数。\n",
    "\n",
    "如果指定了options，它们将被传递给FUN。你可以在这里插入的典型函数有mean()、sd()、var()、min()、max()、median()、length()、range()和quantile()\n",
    "\n",
    "函数fivenum()可返回图基五数总括（Tukey’s five-numbersummary，即最小值、下四分位数、中位数、上四分位数和最大值）。"
   ]
  },
  {
   "cell_type": "code",
   "execution_count": 7,
   "metadata": {},
   "outputs": [
    {
     "name": "stderr",
     "output_type": "stream",
     "text": [
      "Your code contains a unicode char which cannot be displayed in your\n",
      "current locale and R will silently convert it to an escaped form when the\n",
      "R kernel executes this code. This can lead to subtle errors if you use\n",
      "such chars to do comparisons. For more information, please see\n",
      "https://github.com/IRkernel/repr/wiki/Problems-with-unicode-on-windows"
     ]
    },
    {
     "data": {
      "text/html": [
       "<table>\n",
       "<thead><tr><th></th><th scope=col>mpg</th><th scope=col>hp</th><th scope=col>wt</th></tr></thead>\n",
       "<tbody>\n",
       "\t<tr><th scope=row>n</th><td>32.000000  </td><td> 32.0000000</td><td>32.00000000</td></tr>\n",
       "\t<tr><th scope=row>mean</th><td>20.090625  </td><td>146.6875000</td><td> 3.21725000</td></tr>\n",
       "\t<tr><th scope=row>stdev</th><td> 6.026948  </td><td> 68.5628685</td><td> 0.97845744</td></tr>\n",
       "\t<tr><th scope=row>skew</th><td> 0.610655  </td><td>  0.7260237</td><td> 0.42314646</td></tr>\n",
       "\t<tr><th scope=row>kurtosis</th><td>-0.372766  </td><td> -0.1355511</td><td>-0.02271075</td></tr>\n",
       "</tbody>\n",
       "</table>\n"
      ],
      "text/latex": [
       "\\begin{tabular}{r|lll}\n",
       "  & mpg & hp & wt\\\\\n",
       "\\hline\n",
       "\tn & 32.000000   &  32.0000000 & 32.00000000\\\\\n",
       "\tmean & 20.090625   & 146.6875000 &  3.21725000\\\\\n",
       "\tstdev &  6.026948   &  68.5628685 &  0.97845744\\\\\n",
       "\tskew &  0.610655   &   0.7260237 &  0.42314646\\\\\n",
       "\tkurtosis & -0.372766   &  -0.1355511 & -0.02271075\\\\\n",
       "\\end{tabular}\n"
      ],
      "text/markdown": [
       "\n",
       "| <!--/--> | mpg | hp | wt |\n",
       "|---|---|---|---|\n",
       "| n | 32.000000   |  32.0000000 | 32.00000000 |\n",
       "| mean | 20.090625   | 146.6875000 |  3.21725000 |\n",
       "| stdev |  6.026948   |  68.5628685 |  0.97845744 |\n",
       "| skew |  0.610655   |   0.7260237 |  0.42314646 |\n",
       "| kurtosis | -0.372766   |  -0.1355511 | -0.02271075 |\n",
       "\n"
      ],
      "text/plain": [
       "         mpg       hp          wt         \n",
       "n        32.000000  32.0000000 32.00000000\n",
       "mean     20.090625 146.6875000  3.21725000\n",
       "stdev     6.026948  68.5628685  0.97845744\n",
       "skew      0.610655   0.7260237  0.42314646\n",
       "kurtosis -0.372766  -0.1355511 -0.02271075"
      ]
     },
     "metadata": {},
     "output_type": "display_data"
    },
    {
     "data": {
      "text/html": [
       "<table>\n",
       "<thead><tr><th></th><th scope=col>mpg</th><th scope=col>hp</th><th scope=col>wt</th></tr></thead>\n",
       "<tbody>\n",
       "\t<tr><th scope=row>n</th><td>32.000000  </td><td> 32.0000000</td><td>32.00000000</td></tr>\n",
       "\t<tr><th scope=row>mean</th><td>20.090625  </td><td>146.6875000</td><td> 3.21725000</td></tr>\n",
       "\t<tr><th scope=row>stdev</th><td> 6.026948  </td><td> 68.5628685</td><td> 0.97845744</td></tr>\n",
       "\t<tr><th scope=row>skew</th><td> 0.610655  </td><td>  0.7260237</td><td> 0.42314646</td></tr>\n",
       "\t<tr><th scope=row>kurtosis</th><td>-0.372766  </td><td> -0.1355511</td><td>-0.02271075</td></tr>\n",
       "</tbody>\n",
       "</table>\n"
      ],
      "text/latex": [
       "\\begin{tabular}{r|lll}\n",
       "  & mpg & hp & wt\\\\\n",
       "\\hline\n",
       "\tn & 32.000000   &  32.0000000 & 32.00000000\\\\\n",
       "\tmean & 20.090625   & 146.6875000 &  3.21725000\\\\\n",
       "\tstdev &  6.026948   &  68.5628685 &  0.97845744\\\\\n",
       "\tskew &  0.610655   &   0.7260237 &  0.42314646\\\\\n",
       "\tkurtosis & -0.372766   &  -0.1355511 & -0.02271075\\\\\n",
       "\\end{tabular}\n"
      ],
      "text/markdown": [
       "\n",
       "| <!--/--> | mpg | hp | wt |\n",
       "|---|---|---|---|\n",
       "| n | 32.000000   |  32.0000000 | 32.00000000 |\n",
       "| mean | 20.090625   | 146.6875000 |  3.21725000 |\n",
       "| stdev |  6.026948   |  68.5628685 |  0.97845744 |\n",
       "| skew |  0.610655   |   0.7260237 |  0.42314646 |\n",
       "| kurtosis | -0.372766   |  -0.1355511 | -0.02271075 |\n",
       "\n"
      ],
      "text/plain": [
       "         mpg       hp          wt         \n",
       "n        32.000000  32.0000000 32.00000000\n",
       "mean     20.090625 146.6875000  3.21725000\n",
       "stdev     6.026948  68.5628685  0.97845744\n",
       "skew      0.610655   0.7260237  0.42314646\n",
       "kurtosis -0.372766  -0.1355511 -0.02271075"
      ]
     },
     "metadata": {},
     "output_type": "display_data"
    }
   ],
   "source": [
    "# 通过sapply()计算描述性统计量\n",
    "mystats <- function(x,na.omit=FALSE){\n",
    "    if (na.omit)\n",
    "        x <- x[!is.na(x)]\n",
    "    m <- mean(x)\n",
    "    n <- length(x)\n",
    "    s <- sd(x)\n",
    "    skew <- sum((x-m)^3/s^3)/n\n",
    "    kurt <- sum((x-m)^4/s^4)/n -3\n",
    "    return(c(n=n,mean=m,stdev=s,skew=skew,kurtosis=kurt))\n",
    "}\n",
    "\n",
    "myvars <- c(\"mpg\",\"hp\",\"wt\")\n",
    "sapply(mtcars[myvars],mystats)\n",
    "sapply(mtcars[myvars],mystats,na.omit=TRUE)  #忽略缺失值"
   ]
  },
  {
   "cell_type": "markdown",
   "metadata": {},
   "source": [
    "## 7.1.2 更多方法"
   ]
  },
  {
   "cell_type": "markdown",
   "metadata": {},
   "source": [
    "计算描述性统计量的函数，其中包括Himsc、pastecs和psych"
   ]
  },
  {
   "cell_type": "markdown",
   "metadata": {},
   "source": [
    "Hmisc包中的describe()函数可返回变量和观测的数量、缺失值和唯一值的数目、平均值、分位数，以及五个最大的值和五个最小的值。"
   ]
  },
  {
   "cell_type": "code",
   "execution_count": 9,
   "metadata": {},
   "outputs": [
    {
     "name": "stderr",
     "output_type": "stream",
     "text": [
      "Your code contains a unicode char which cannot be displayed in your\n",
      "current locale and R will silently convert it to an escaped form when the\n",
      "R kernel executes this code. This can lead to subtle errors if you use\n",
      "such chars to do comparisons. For more information, please see\n",
      "https://github.com/IRkernel/repr/wiki/Problems-with-unicode-on-windows"
     ]
    },
    {
     "data": {
      "text/plain": [
       "mtcars[myvars] \n",
       "\n",
       " 3  Variables      32  Observations\n",
       "--------------------------------------------------------------------------------\n",
       "mpg \n",
       "       n  missing distinct     Info     Mean      Gmd      .05      .10 \n",
       "      32        0       25    0.999    20.09    6.796    12.00    14.34 \n",
       "     .25      .50      .75      .90      .95 \n",
       "   15.43    19.20    22.80    30.09    31.30 \n",
       "\n",
       "lowest : 10.4 13.3 14.3 14.7 15.0, highest: 26.0 27.3 30.4 32.4 33.9\n",
       "--------------------------------------------------------------------------------\n",
       "hp \n",
       "       n  missing distinct     Info     Mean      Gmd      .05      .10 \n",
       "      32        0       22    0.997    146.7    77.04    63.65    66.00 \n",
       "     .25      .50      .75      .90      .95 \n",
       "   96.50   123.00   180.00   243.50   253.55 \n",
       "\n",
       "lowest :  52  62  65  66  91, highest: 215 230 245 264 335\n",
       "--------------------------------------------------------------------------------\n",
       "wt \n",
       "       n  missing distinct     Info     Mean      Gmd      .05      .10 \n",
       "      32        0       29    0.999    3.217    1.089    1.736    1.956 \n",
       "     .25      .50      .75      .90      .95 \n",
       "   2.581    3.325    3.610    4.048    5.293 \n",
       "\n",
       "lowest : 1.513 1.615 1.835 1.935 2.140, highest: 3.845 4.070 5.250 5.345 5.424\n",
       "--------------------------------------------------------------------------------"
      ]
     },
     "metadata": {},
     "output_type": "display_data"
    }
   ],
   "source": [
    "#通过Hmisc包中的describe()函数计算描述性统计量\n",
    "library(Hmisc)\n",
    "myvars <- c(\"mpg\", \"hp\", \"wt\")\n",
    "describe(mtcars[myvars])"
   ]
  },
  {
   "cell_type": "markdown",
   "metadata": {},
   "source": [
    "pastecs包中有一个名为stat.desc()的函数，它可以计算种类繁多的描述性统计量。使用格式为：\n",
    "\n",
    "stat.desc(x, basic=TRUE, desc=TRUE, norm=FALSE, p=0.95)\n",
    "\n",
    "x是一个数据框或时间序列。\n",
    "\n",
    "basic=TRUE（默认值），则计算其中所有值、空值、缺失值的数量，以及最小值、最大值、值域，还有总和。\n",
    "\n",
    "desc=TRUE（同样也是默认值），则计算中位数、平均数、平均数的标准误、平均数置信度为95%的置信区间、方差、标准差以及变异系\n",
    "数。\n",
    "\n",
    "norm=TRUE（不是默认的），则返回正态分布统计量，包括偏度和峰度（以及它们的统计显著程度）和Shapiro-Wilk正态检验结果"
   ]
  },
  {
   "cell_type": "code",
   "execution_count": 11,
   "metadata": {},
   "outputs": [
    {
     "name": "stderr",
     "output_type": "stream",
     "text": [
      "Your code contains a unicode char which cannot be displayed in your\n",
      "current locale and R will silently convert it to an escaped form when the\n",
      "R kernel executes this code. This can lead to subtle errors if you use\n",
      "such chars to do comparisons. For more information, please see\n",
      "https://github.com/IRkernel/repr/wiki/Problems-with-unicode-on-windows"
     ]
    },
    {
     "data": {
      "text/html": [
       "<table>\n",
       "<thead><tr><th></th><th scope=col>mpg</th><th scope=col>hp</th><th scope=col>wt</th></tr></thead>\n",
       "<tbody>\n",
       "\t<tr><th scope=row>nbr.val</th><td> 32.0000000 </td><td>  32.0000000</td><td> 32.0000000 </td></tr>\n",
       "\t<tr><th scope=row>nbr.null</th><td>  0.0000000 </td><td>   0.0000000</td><td>  0.0000000 </td></tr>\n",
       "\t<tr><th scope=row>nbr.na</th><td>  0.0000000 </td><td>   0.0000000</td><td>  0.0000000 </td></tr>\n",
       "\t<tr><th scope=row>min</th><td> 10.4000000 </td><td>  52.0000000</td><td>  1.5130000 </td></tr>\n",
       "\t<tr><th scope=row>max</th><td> 33.9000000 </td><td> 335.0000000</td><td>  5.4240000 </td></tr>\n",
       "\t<tr><th scope=row>range</th><td> 23.5000000 </td><td> 283.0000000</td><td>  3.9110000 </td></tr>\n",
       "\t<tr><th scope=row>sum</th><td>642.9000000 </td><td>4694.0000000</td><td>102.9520000 </td></tr>\n",
       "\t<tr><th scope=row>median</th><td> 19.2000000 </td><td> 123.0000000</td><td>  3.3250000 </td></tr>\n",
       "\t<tr><th scope=row>mean</th><td> 20.0906250 </td><td> 146.6875000</td><td>  3.2172500 </td></tr>\n",
       "\t<tr><th scope=row>SE.mean</th><td>  1.0654240 </td><td>  12.1203173</td><td>  0.1729685 </td></tr>\n",
       "\t<tr><th scope=row>CI.mean.0.95</th><td>  2.1729465 </td><td>  24.7195501</td><td>  0.3527715 </td></tr>\n",
       "\t<tr><th scope=row>var</th><td> 36.3241028 </td><td>4700.8669355</td><td>  0.9573790 </td></tr>\n",
       "\t<tr><th scope=row>std.dev</th><td>  6.0269481 </td><td>  68.5628685</td><td>  0.9784574 </td></tr>\n",
       "\t<tr><th scope=row>coef.var</th><td>  0.2999881 </td><td>   0.4674077</td><td>  0.3041285 </td></tr>\n",
       "</tbody>\n",
       "</table>\n"
      ],
      "text/latex": [
       "\\begin{tabular}{r|lll}\n",
       "  & mpg & hp & wt\\\\\n",
       "\\hline\n",
       "\tnbr.val &  32.0000000  &   32.0000000 &  32.0000000 \\\\\n",
       "\tnbr.null &   0.0000000  &    0.0000000 &   0.0000000 \\\\\n",
       "\tnbr.na &   0.0000000  &    0.0000000 &   0.0000000 \\\\\n",
       "\tmin &  10.4000000  &   52.0000000 &   1.5130000 \\\\\n",
       "\tmax &  33.9000000  &  335.0000000 &   5.4240000 \\\\\n",
       "\trange &  23.5000000  &  283.0000000 &   3.9110000 \\\\\n",
       "\tsum & 642.9000000  & 4694.0000000 & 102.9520000 \\\\\n",
       "\tmedian &  19.2000000  &  123.0000000 &   3.3250000 \\\\\n",
       "\tmean &  20.0906250  &  146.6875000 &   3.2172500 \\\\\n",
       "\tSE.mean &   1.0654240  &   12.1203173 &   0.1729685 \\\\\n",
       "\tCI.mean.0.95 &   2.1729465  &   24.7195501 &   0.3527715 \\\\\n",
       "\tvar &  36.3241028  & 4700.8669355 &   0.9573790 \\\\\n",
       "\tstd.dev &   6.0269481  &   68.5628685 &   0.9784574 \\\\\n",
       "\tcoef.var &   0.2999881  &    0.4674077 &   0.3041285 \\\\\n",
       "\\end{tabular}\n"
      ],
      "text/markdown": [
       "\n",
       "| <!--/--> | mpg | hp | wt |\n",
       "|---|---|---|---|\n",
       "| nbr.val |  32.0000000  |   32.0000000 |  32.0000000  |\n",
       "| nbr.null |   0.0000000  |    0.0000000 |   0.0000000  |\n",
       "| nbr.na |   0.0000000  |    0.0000000 |   0.0000000  |\n",
       "| min |  10.4000000  |   52.0000000 |   1.5130000  |\n",
       "| max |  33.9000000  |  335.0000000 |   5.4240000  |\n",
       "| range |  23.5000000  |  283.0000000 |   3.9110000  |\n",
       "| sum | 642.9000000  | 4694.0000000 | 102.9520000  |\n",
       "| median |  19.2000000  |  123.0000000 |   3.3250000  |\n",
       "| mean |  20.0906250  |  146.6875000 |   3.2172500  |\n",
       "| SE.mean |   1.0654240  |   12.1203173 |   0.1729685  |\n",
       "| CI.mean.0.95 |   2.1729465  |   24.7195501 |   0.3527715  |\n",
       "| var |  36.3241028  | 4700.8669355 |   0.9573790  |\n",
       "| std.dev |   6.0269481  |   68.5628685 |   0.9784574  |\n",
       "| coef.var |   0.2999881  |    0.4674077 |   0.3041285  |\n",
       "\n"
      ],
      "text/plain": [
       "             mpg         hp           wt         \n",
       "nbr.val       32.0000000   32.0000000  32.0000000\n",
       "nbr.null       0.0000000    0.0000000   0.0000000\n",
       "nbr.na         0.0000000    0.0000000   0.0000000\n",
       "min           10.4000000   52.0000000   1.5130000\n",
       "max           33.9000000  335.0000000   5.4240000\n",
       "range         23.5000000  283.0000000   3.9110000\n",
       "sum          642.9000000 4694.0000000 102.9520000\n",
       "median        19.2000000  123.0000000   3.3250000\n",
       "mean          20.0906250  146.6875000   3.2172500\n",
       "SE.mean        1.0654240   12.1203173   0.1729685\n",
       "CI.mean.0.95   2.1729465   24.7195501   0.3527715\n",
       "var           36.3241028 4700.8669355   0.9573790\n",
       "std.dev        6.0269481   68.5628685   0.9784574\n",
       "coef.var       0.2999881    0.4674077   0.3041285"
      ]
     },
     "metadata": {},
     "output_type": "display_data"
    }
   ],
   "source": [
    "#通过pastecs包中的stat.desc()函数计算描述性统计量\n",
    "#install.packages(\"pastecs\")\n",
    "library(pastecs)\n",
    "myvars <- c(\"mpg\",\"hp\",\"wt\")\n",
    "stat.desc(mtcars[myvars])"
   ]
  },
  {
   "cell_type": "markdown",
   "metadata": {},
   "source": [
    "psych包也拥有一个名为describe()的函数，它可以计算非缺失值的数量、平均数、标准差、中位数、截尾均值、绝对中位差、最小值、最大值、值域、偏度、峰度和平均值的标准误。"
   ]
  },
  {
   "cell_type": "code",
   "execution_count": 15,
   "metadata": {},
   "outputs": [
    {
     "name": "stderr",
     "output_type": "stream",
     "text": [
      "Your code contains a unicode char which cannot be displayed in your\n",
      "current locale and R will silently convert it to an escaped form when the\n",
      "R kernel executes this code. This can lead to subtle errors if you use\n",
      "such chars to do comparisons. For more information, please see\n",
      "https://github.com/IRkernel/repr/wiki/Problems-with-unicode-on-windows"
     ]
    },
    {
     "data": {
      "text/html": [
       "<table>\n",
       "<thead><tr><th></th><th scope=col>vars</th><th scope=col>n</th><th scope=col>mean</th><th scope=col>sd</th><th scope=col>median</th><th scope=col>trimmed</th><th scope=col>mad</th><th scope=col>min</th><th scope=col>max</th><th scope=col>range</th><th scope=col>skew</th><th scope=col>kurtosis</th><th scope=col>se</th></tr></thead>\n",
       "<tbody>\n",
       "\t<tr><th scope=row>mpg</th><td>1          </td><td>32         </td><td> 20.09062  </td><td> 6.0269481 </td><td> 19.200    </td><td> 19.696154 </td><td> 5.4114900 </td><td>10.400     </td><td> 33.900    </td><td> 23.500    </td><td>0.6106550  </td><td>-0.37276603</td><td> 1.0654240 </td></tr>\n",
       "\t<tr><th scope=row>hp</th><td>2          </td><td>32         </td><td>146.68750  </td><td>68.5628685 </td><td>123.000    </td><td>141.192308 </td><td>77.0952000 </td><td>52.000     </td><td>335.000    </td><td>283.000    </td><td>0.7260237  </td><td>-0.13555112</td><td>12.1203173 </td></tr>\n",
       "\t<tr><th scope=row>wt</th><td>3          </td><td>32         </td><td>  3.21725  </td><td> 0.9784574 </td><td>  3.325    </td><td>  3.152692 </td><td> 0.7672455 </td><td> 1.513     </td><td>  5.424    </td><td>  3.911    </td><td>0.4231465  </td><td>-0.02271075</td><td> 0.1729685 </td></tr>\n",
       "</tbody>\n",
       "</table>\n"
      ],
      "text/latex": [
       "\\begin{tabular}{r|lllllllllllll}\n",
       "  & vars & n & mean & sd & median & trimmed & mad & min & max & range & skew & kurtosis & se\\\\\n",
       "\\hline\n",
       "\tmpg & 1           & 32          &  20.09062   &  6.0269481  &  19.200     &  19.696154  &  5.4114900  & 10.400      &  33.900     &  23.500     & 0.6106550   & -0.37276603 &  1.0654240 \\\\\n",
       "\thp & 2           & 32          & 146.68750   & 68.5628685  & 123.000     & 141.192308  & 77.0952000  & 52.000      & 335.000     & 283.000     & 0.7260237   & -0.13555112 & 12.1203173 \\\\\n",
       "\twt & 3           & 32          &   3.21725   &  0.9784574  &   3.325     &   3.152692  &  0.7672455  &  1.513      &   5.424     &   3.911     & 0.4231465   & -0.02271075 &  0.1729685 \\\\\n",
       "\\end{tabular}\n"
      ],
      "text/markdown": [
       "\n",
       "| <!--/--> | vars | n | mean | sd | median | trimmed | mad | min | max | range | skew | kurtosis | se |\n",
       "|---|---|---|---|---|---|---|---|---|---|---|---|---|---|\n",
       "| mpg | 1           | 32          |  20.09062   |  6.0269481  |  19.200     |  19.696154  |  5.4114900  | 10.400      |  33.900     |  23.500     | 0.6106550   | -0.37276603 |  1.0654240  |\n",
       "| hp | 2           | 32          | 146.68750   | 68.5628685  | 123.000     | 141.192308  | 77.0952000  | 52.000      | 335.000     | 283.000     | 0.7260237   | -0.13555112 | 12.1203173  |\n",
       "| wt | 3           | 32          |   3.21725   |  0.9784574  |   3.325     |   3.152692  |  0.7672455  |  1.513      |   5.424     |   3.911     | 0.4231465   | -0.02271075 |  0.1729685  |\n",
       "\n"
      ],
      "text/plain": [
       "    vars n  mean      sd         median  trimmed    mad        min    max    \n",
       "mpg 1    32  20.09062  6.0269481  19.200  19.696154  5.4114900 10.400  33.900\n",
       "hp  2    32 146.68750 68.5628685 123.000 141.192308 77.0952000 52.000 335.000\n",
       "wt  3    32   3.21725  0.9784574   3.325   3.152692  0.7672455  1.513   5.424\n",
       "    range   skew      kurtosis    se        \n",
       "mpg  23.500 0.6106550 -0.37276603  1.0654240\n",
       "hp  283.000 0.7260237 -0.13555112 12.1203173\n",
       "wt    3.911 0.4231465 -0.02271075  0.1729685"
      ]
     },
     "metadata": {},
     "output_type": "display_data"
    }
   ],
   "source": [
    "#通过psych包中的describe()计算描述性统计量\n",
    "#install.packages(\"psych\")\n",
    "library(psych)\n",
    "myvars <- c(\"mpg\",\"hp\",\"wt\")\n",
    "describe(mtcars[myvars])"
   ]
  },
  {
   "cell_type": "markdown",
   "metadata": {},
   "source": [
    "## 7.1.3 分组计算描述性统计量"
   ]
  },
  {
   "cell_type": "markdown",
   "metadata": {},
   "source": [
    "## 7.1.4 分组计算的扩展"
   ]
  },
  {
   "cell_type": "markdown",
   "metadata": {},
   "source": [
    "## 7.1.5 结果的可视化"
   ]
  },
  {
   "cell_type": "markdown",
   "metadata": {},
   "source": [
    "# 7.2 频数表和列联表"
   ]
  },
  {
   "cell_type": "markdown",
   "metadata": {},
   "source": [
    "## 7.2.1 生成频数表"
   ]
  },
  {
   "cell_type": "markdown",
   "metadata": {},
   "source": [
    "## 7.2.2 独立性检验"
   ]
  },
  {
   "cell_type": "markdown",
   "metadata": {},
   "source": [
    "## 7.2.3 相关性的度量"
   ]
  },
  {
   "cell_type": "markdown",
   "metadata": {},
   "source": [
    "## 7.2.4 结果的可视化"
   ]
  },
  {
   "cell_type": "markdown",
   "metadata": {},
   "source": [
    "# 7.3 相关"
   ]
  },
  {
   "cell_type": "markdown",
   "metadata": {},
   "source": [
    "## 7.3.1 相关的类型"
   ]
  },
  {
   "cell_type": "markdown",
   "metadata": {},
   "source": [
    "## 7.3.2 相关性的显著性检验"
   ]
  },
  {
   "cell_type": "markdown",
   "metadata": {},
   "source": [
    "## 7.3.3 相关关系的可视化"
   ]
  },
  {
   "cell_type": "markdown",
   "metadata": {},
   "source": [
    "# 7.4 t检验"
   ]
  },
  {
   "cell_type": "markdown",
   "metadata": {},
   "source": [
    "## 7.4.1 独立样本的t检验"
   ]
  },
  {
   "cell_type": "markdown",
   "metadata": {},
   "source": [
    "## 7.4.2 非独立样本的t检验"
   ]
  },
  {
   "cell_type": "markdown",
   "metadata": {},
   "source": [
    "## 7.4.3 多于两组的情况"
   ]
  },
  {
   "cell_type": "markdown",
   "metadata": {},
   "source": [
    "# 7.5 组间差异的非参数检验"
   ]
  },
  {
   "cell_type": "markdown",
   "metadata": {},
   "source": [
    "## 7.5.1 两组的比较"
   ]
  },
  {
   "cell_type": "markdown",
   "metadata": {},
   "source": [
    "## 7.5.2 多于两组的比较"
   ]
  },
  {
   "cell_type": "markdown",
   "metadata": {},
   "source": [
    "# 7.6 组间差异的可视化"
   ]
  },
  {
   "cell_type": "code",
   "execution_count": null,
   "metadata": {},
   "outputs": [],
   "source": []
  },
  {
   "cell_type": "code",
   "execution_count": null,
   "metadata": {},
   "outputs": [],
   "source": []
  },
  {
   "cell_type": "code",
   "execution_count": null,
   "metadata": {},
   "outputs": [],
   "source": []
  },
  {
   "cell_type": "code",
   "execution_count": null,
   "metadata": {},
   "outputs": [],
   "source": []
  },
  {
   "cell_type": "code",
   "execution_count": null,
   "metadata": {},
   "outputs": [],
   "source": []
  },
  {
   "cell_type": "code",
   "execution_count": null,
   "metadata": {},
   "outputs": [],
   "source": []
  },
  {
   "cell_type": "code",
   "execution_count": null,
   "metadata": {},
   "outputs": [],
   "source": []
  },
  {
   "cell_type": "code",
   "execution_count": null,
   "metadata": {},
   "outputs": [],
   "source": []
  },
  {
   "cell_type": "code",
   "execution_count": null,
   "metadata": {},
   "outputs": [],
   "source": []
  },
  {
   "cell_type": "code",
   "execution_count": null,
   "metadata": {},
   "outputs": [],
   "source": []
  },
  {
   "cell_type": "code",
   "execution_count": null,
   "metadata": {},
   "outputs": [],
   "source": []
  },
  {
   "cell_type": "code",
   "execution_count": null,
   "metadata": {},
   "outputs": [],
   "source": []
  },
  {
   "cell_type": "code",
   "execution_count": null,
   "metadata": {},
   "outputs": [],
   "source": []
  },
  {
   "cell_type": "code",
   "execution_count": null,
   "metadata": {},
   "outputs": [],
   "source": []
  }
 ],
 "metadata": {
  "kernelspec": {
   "display_name": "R",
   "language": "R",
   "name": "ir"
  },
  "language_info": {
   "codemirror_mode": "r",
   "file_extension": ".r",
   "mimetype": "text/x-r-source",
   "name": "R",
   "pygments_lexer": "r",
   "version": "3.5.1"
  }
 },
 "nbformat": 4,
 "nbformat_minor": 2
}
