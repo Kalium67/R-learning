{
 "cells": [
  {
   "cell_type": "markdown",
   "metadata": {},
   "source": [
    "# 4.1 一个示例"
   ]
  },
  {
   "cell_type": "code",
   "execution_count": 24,
   "metadata": {},
   "outputs": [
    {
     "name": "stderr",
     "output_type": "stream",
     "text": [
      "Your code contains a unicode char which cannot be displayed in your\n",
      "current locale and R will silently convert it to an escaped form when the\n",
      "R kernel executes this code. This can lead to subtle errors if you use\n",
      "such chars to do comparisons. For more information, please see\n",
      "https://github.com/IRkernel/repr/wiki/Problems-with-unicode-on-windows"
     ]
    }
   ],
   "source": [
    "#创建leadership数据框\n",
    "manager <- c(1, 2, 3, 4, 5)\n",
    "date <- c(\"10/24/08\", \"10/28/08\", \"10/1/08\", \"10/12/08\", \"5/1/09\")\n",
    "country <- c(\"US\", \"US\", \"UK\", \"UK\", \"UK\")\n",
    "gender <- c(\"M\", \"F\", \"F\", \"M\", \"F\")\n",
    "age <- c(32, 45, 25, 39, 99)\n",
    "q1 <- c(5, 3, 3, 3, 2)\n",
    "q2 <- c(4, 5, 5, 3, 2)\n",
    "q3 <- c(5, 2, 5, 4, 1)\n",
    "q4 <- c(5, 5, 5, NA, 2)\n",
    "q5 <- c(5, 5, 2, NA, 1)\n",
    "leadership <- data.frame(manager, date, country, gender, age,q1, q2, q3, q4, q5, stringsAsFactors=FALSE)"
   ]
  },
  {
   "cell_type": "markdown",
   "metadata": {},
   "source": [
    "# 4.2 创建新变量"
   ]
  },
  {
   "cell_type": "markdown",
   "metadata": {},
   "source": [
    "变量名 <- 表达式\n",
    "\n",
    "以上表达式可以包含多种运算符和函数\n",
    "\n",
    "![算术运算符.jpg](./image/算术运算符.jpg)"
   ]
  },
  {
   "cell_type": "code",
   "execution_count": 25,
   "metadata": {},
   "outputs": [
    {
     "name": "stderr",
     "output_type": "stream",
     "text": [
      "Your code contains a unicode char which cannot be displayed in your\n",
      "current locale and R will silently convert it to an escaped form when the\n",
      "R kernel executes this code. This can lead to subtle errors if you use\n",
      "such chars to do comparisons. For more information, please see\n",
      "https://github.com/IRkernel/repr/wiki/Problems-with-unicode-on-windows"
     ]
    }
   ],
   "source": [
    "#创建新变量\n",
    "mydata<-data.frame(x1 = c(2, 2, 6, 4),\n",
    "                   x2 = c(3, 4, 2, 8))\n",
    "\n",
    "mydata$sumx <- mydata$x1 + mydata$x2\n",
    "mydata$meanx <- (mydata$x1 + mydata$x2)/2\n",
    "\n",
    "attach(mydata)\n",
    "mydata$sumx <- x1 + x2\n",
    "mydata$meanx <- (x1 + x2)/2\n",
    "detach(mydata)\n",
    "\n",
    "mydata <- transform(mydata,\n",
    "sumx = x1 + x2,\n",
    "meanx = (x1 + x2)/2)"
   ]
  },
  {
   "cell_type": "markdown",
   "metadata": {},
   "source": [
    "# 4.3 变量的重编码"
   ]
  },
  {
   "cell_type": "markdown",
   "metadata": {},
   "source": [
    "重编码设计根据同一个变量和/或其他变量的现有值创建新值的过程。\n",
    "\n",
    "    讲一个连续性变量修改为一组类别值；\n",
    "\n",
    "    将误编码的值替换为正确值；\n",
    "\n",
    "    基于一组分数线创建一个表示及格/不及格的变量。\n"
   ]
  },
  {
   "cell_type": "markdown",
   "metadata": {},
   "source": [
    "![逻辑运算符.jpg](./image/逻辑运算符.jpg)"
   ]
  },
  {
   "cell_type": "code",
   "execution_count": 26,
   "metadata": {},
   "outputs": [
    {
     "name": "stderr",
     "output_type": "stream",
     "text": [
      "Your code contains a unicode char which cannot be displayed in your\n",
      "current locale and R will silently convert it to an escaped form when the\n",
      "R kernel executes this code. This can lead to subtle errors if you use\n",
      "such chars to do comparisons. For more information, please see\n",
      "https://github.com/IRkernel/repr/wiki/Problems-with-unicode-on-windows"
     ]
    }
   ],
   "source": [
    "#如果将leadership数据集中经理人的连续型年龄变量age重编码为类别型变量agecat（young、Middle Aged、Elder）。\n",
    "\n",
    "leadership$age[leadership$age ==99]  <- NA  #必须将99岁的年龄值重编码为缺失值\n",
    "\n",
    "#然后使用以下代码创建agecat变量：\n",
    "\n",
    "leadership$agecat[leadership$age > 75] <- \"Elder\"\n",
    "leadership$agecat[leadership$age >= 55 &\n",
    "                  leadership$age <= 75] <- \"Middle Aged\"\n",
    "leadership$agecat[leadership$age < 55] <- \"Young\"\n",
    "\n",
    "\n",
    "#或者可以写成下面这样的代码\n",
    "#   leadership <- within(leadership,{\n",
    "#                       agecat <- NA\n",
    "#                        agecat[age > 75] <- \"Elder\"\n",
    "#                        agecat[age >= 55 & age <= 75] <- \"Middle Aged\"\n",
    "#                        agecat[age < 55] <- \"Young\" })\n",
    "\n",
    "#函数within()与函数with()类似，不同的是它允许修改数据框"
   ]
  },
  {
   "cell_type": "markdown",
   "metadata": {},
   "source": [
    "car包中的recode()函数可以十分简单地重编数值型、字符型向量或因子。\n",
    "\n",
    "doBy包提供了另外一个很瘦欢迎的函数recodevar()\n",
    "\n",
    "R中也自带了cut()，可将一个数值型变量按值域切割为多个区间，并返回一个因子。\n"
   ]
  },
  {
   "cell_type": "markdown",
   "metadata": {},
   "source": [
    "# 4.4 变量的重命名"
   ]
  },
  {
   "cell_type": "raw",
   "metadata": {},
   "source": [
    "#如果对现有的变量名称不满意，可以交互地或者以编程的方式修改它们。\n",
    "\n",
    "#假设你希望将变量名为manager修改为managerID，并将data修改为testData，那么可以使用语句：\n",
    "\n",
    "fix(leadership) #调用一个交互式的编辑器，然后单击变量名，然后再弹出的对话框中将其重命名"
   ]
  },
  {
   "cell_type": "code",
   "execution_count": 27,
   "metadata": {},
   "outputs": [
    {
     "name": "stderr",
     "output_type": "stream",
     "text": [
      "Your code contains a unicode char which cannot be displayed in your\n",
      "current locale and R will silently convert it to an escaped form when the\n",
      "R kernel executes this code. This can lead to subtle errors if you use\n",
      "such chars to do comparisons. For more information, please see\n",
      "https://github.com/IRkernel/repr/wiki/Problems-with-unicode-on-windows"
     ]
    },
    {
     "data": {
      "text/html": [
       "<ol class=list-inline>\n",
       "\t<li>'manager'</li>\n",
       "\t<li>'date'</li>\n",
       "\t<li>'country'</li>\n",
       "\t<li>'gender'</li>\n",
       "\t<li>'age'</li>\n",
       "\t<li>'q1'</li>\n",
       "\t<li>'q2'</li>\n",
       "\t<li>'q3'</li>\n",
       "\t<li>'q4'</li>\n",
       "\t<li>'q5'</li>\n",
       "\t<li>'agecat'</li>\n",
       "</ol>\n"
      ],
      "text/latex": [
       "\\begin{enumerate*}\n",
       "\\item 'manager'\n",
       "\\item 'date'\n",
       "\\item 'country'\n",
       "\\item 'gender'\n",
       "\\item 'age'\n",
       "\\item 'q1'\n",
       "\\item 'q2'\n",
       "\\item 'q3'\n",
       "\\item 'q4'\n",
       "\\item 'q5'\n",
       "\\item 'agecat'\n",
       "\\end{enumerate*}\n"
      ],
      "text/markdown": [
       "1. 'manager'\n",
       "2. 'date'\n",
       "3. 'country'\n",
       "4. 'gender'\n",
       "5. 'age'\n",
       "6. 'q1'\n",
       "7. 'q2'\n",
       "8. 'q3'\n",
       "9. 'q4'\n",
       "10. 'q5'\n",
       "11. 'agecat'\n",
       "\n",
       "\n"
      ],
      "text/plain": [
       " [1] \"manager\" \"date\"    \"country\" \"gender\"  \"age\"     \"q1\"      \"q2\"     \n",
       " [8] \"q3\"      \"q4\"      \"q5\"      \"agecat\" "
      ]
     },
     "metadata": {},
     "output_type": "display_data"
    },
    {
     "data": {
      "text/html": [
       "<table>\n",
       "<thead><tr><th scope=col>manager</th><th scope=col>testDate</th><th scope=col>country</th><th scope=col>gender</th><th scope=col>age</th><th scope=col>q1</th><th scope=col>q2</th><th scope=col>q3</th><th scope=col>q4</th><th scope=col>q5</th><th scope=col>agecat</th></tr></thead>\n",
       "<tbody>\n",
       "\t<tr><td>1       </td><td>10/24/08</td><td>US      </td><td>M       </td><td>32      </td><td>5       </td><td>4       </td><td>5       </td><td> 5      </td><td> 5      </td><td>Young   </td></tr>\n",
       "\t<tr><td>2       </td><td>10/28/08</td><td>US      </td><td>F       </td><td>45      </td><td>3       </td><td>5       </td><td>2       </td><td> 5      </td><td> 5      </td><td>Young   </td></tr>\n",
       "\t<tr><td>3       </td><td>10/1/08 </td><td>UK      </td><td>F       </td><td>25      </td><td>3       </td><td>5       </td><td>5       </td><td> 5      </td><td> 2      </td><td>Young   </td></tr>\n",
       "\t<tr><td>4       </td><td>10/12/08</td><td>UK      </td><td>M       </td><td>39      </td><td>3       </td><td>3       </td><td>4       </td><td>NA      </td><td>NA      </td><td>Young   </td></tr>\n",
       "\t<tr><td>5       </td><td>5/1/09  </td><td>UK      </td><td>F       </td><td>NA      </td><td>2       </td><td>2       </td><td>1       </td><td> 2      </td><td> 1      </td><td>NA      </td></tr>\n",
       "</tbody>\n",
       "</table>\n"
      ],
      "text/latex": [
       "\\begin{tabular}{r|lllllllllll}\n",
       " manager & testDate & country & gender & age & q1 & q2 & q3 & q4 & q5 & agecat\\\\\n",
       "\\hline\n",
       "\t 1        & 10/24/08 & US       & M        & 32       & 5        & 4        & 5        &  5       &  5       & Young   \\\\\n",
       "\t 2        & 10/28/08 & US       & F        & 45       & 3        & 5        & 2        &  5       &  5       & Young   \\\\\n",
       "\t 3        & 10/1/08  & UK       & F        & 25       & 3        & 5        & 5        &  5       &  2       & Young   \\\\\n",
       "\t 4        & 10/12/08 & UK       & M        & 39       & 3        & 3        & 4        & NA       & NA       & Young   \\\\\n",
       "\t 5        & 5/1/09   & UK       & F        & NA       & 2        & 2        & 1        &  2       &  1       & NA      \\\\\n",
       "\\end{tabular}\n"
      ],
      "text/markdown": [
       "\n",
       "| manager | testDate | country | gender | age | q1 | q2 | q3 | q4 | q5 | agecat |\n",
       "|---|---|---|---|---|---|---|---|---|---|---|\n",
       "| 1        | 10/24/08 | US       | M        | 32       | 5        | 4        | 5        |  5       |  5       | Young    |\n",
       "| 2        | 10/28/08 | US       | F        | 45       | 3        | 5        | 2        |  5       |  5       | Young    |\n",
       "| 3        | 10/1/08  | UK       | F        | 25       | 3        | 5        | 5        |  5       |  2       | Young    |\n",
       "| 4        | 10/12/08 | UK       | M        | 39       | 3        | 3        | 4        | NA       | NA       | Young    |\n",
       "| 5        | 5/1/09   | UK       | F        | NA       | 2        | 2        | 1        |  2       |  1       | NA       |\n",
       "\n"
      ],
      "text/plain": [
       "  manager testDate country gender age q1 q2 q3 q4 q5 agecat\n",
       "1 1       10/24/08 US      M      32  5  4  5   5  5 Young \n",
       "2 2       10/28/08 US      F      45  3  5  2   5  5 Young \n",
       "3 3       10/1/08  UK      F      25  3  5  5   5  2 Young \n",
       "4 4       10/12/08 UK      M      39  3  3  4  NA NA Young \n",
       "5 5       5/1/09   UK      F      NA  2  2  1   2  1 NA    "
      ]
     },
     "metadata": {},
     "output_type": "display_data"
    }
   ],
   "source": [
    "#若以编程方式，可以通过names()函数来重命名变量。\n",
    "names(leadership)\n",
    "names(leadership)[2] <- \"testDate\"  \n",
    "leadership"
   ]
  },
  {
   "cell_type": "code",
   "execution_count": 28,
   "metadata": {},
   "outputs": [
    {
     "name": "stderr",
     "output_type": "stream",
     "text": [
      "Your code contains a unicode char which cannot be displayed in your\n",
      "current locale and R will silently convert it to an escaped form when the\n",
      "R kernel executes this code. This can lead to subtle errors if you use\n",
      "such chars to do comparisons. For more information, please see\n",
      "https://github.com/IRkernel/repr/wiki/Problems-with-unicode-on-windows"
     ]
    },
    {
     "data": {
      "text/html": [
       "<table>\n",
       "<thead><tr><th scope=col>manager</th><th scope=col>testDate</th><th scope=col>country</th><th scope=col>gender</th><th scope=col>age</th><th scope=col>item1</th><th scope=col>item2</th><th scope=col>item3</th><th scope=col>item4</th><th scope=col>item5</th><th scope=col>agecat</th></tr></thead>\n",
       "<tbody>\n",
       "\t<tr><td>1       </td><td>10/24/08</td><td>US      </td><td>M       </td><td>32      </td><td>5       </td><td>4       </td><td>5       </td><td> 5      </td><td> 5      </td><td>Young   </td></tr>\n",
       "\t<tr><td>2       </td><td>10/28/08</td><td>US      </td><td>F       </td><td>45      </td><td>3       </td><td>5       </td><td>2       </td><td> 5      </td><td> 5      </td><td>Young   </td></tr>\n",
       "\t<tr><td>3       </td><td>10/1/08 </td><td>UK      </td><td>F       </td><td>25      </td><td>3       </td><td>5       </td><td>5       </td><td> 5      </td><td> 2      </td><td>Young   </td></tr>\n",
       "\t<tr><td>4       </td><td>10/12/08</td><td>UK      </td><td>M       </td><td>39      </td><td>3       </td><td>3       </td><td>4       </td><td>NA      </td><td>NA      </td><td>Young   </td></tr>\n",
       "\t<tr><td>5       </td><td>5/1/09  </td><td>UK      </td><td>F       </td><td>NA      </td><td>2       </td><td>2       </td><td>1       </td><td> 2      </td><td> 1      </td><td>NA      </td></tr>\n",
       "</tbody>\n",
       "</table>\n"
      ],
      "text/latex": [
       "\\begin{tabular}{r|lllllllllll}\n",
       " manager & testDate & country & gender & age & item1 & item2 & item3 & item4 & item5 & agecat\\\\\n",
       "\\hline\n",
       "\t 1        & 10/24/08 & US       & M        & 32       & 5        & 4        & 5        &  5       &  5       & Young   \\\\\n",
       "\t 2        & 10/28/08 & US       & F        & 45       & 3        & 5        & 2        &  5       &  5       & Young   \\\\\n",
       "\t 3        & 10/1/08  & UK       & F        & 25       & 3        & 5        & 5        &  5       &  2       & Young   \\\\\n",
       "\t 4        & 10/12/08 & UK       & M        & 39       & 3        & 3        & 4        & NA       & NA       & Young   \\\\\n",
       "\t 5        & 5/1/09   & UK       & F        & NA       & 2        & 2        & 1        &  2       &  1       & NA      \\\\\n",
       "\\end{tabular}\n"
      ],
      "text/markdown": [
       "\n",
       "| manager | testDate | country | gender | age | item1 | item2 | item3 | item4 | item5 | agecat |\n",
       "|---|---|---|---|---|---|---|---|---|---|---|\n",
       "| 1        | 10/24/08 | US       | M        | 32       | 5        | 4        | 5        |  5       |  5       | Young    |\n",
       "| 2        | 10/28/08 | US       | F        | 45       | 3        | 5        | 2        |  5       |  5       | Young    |\n",
       "| 3        | 10/1/08  | UK       | F        | 25       | 3        | 5        | 5        |  5       |  2       | Young    |\n",
       "| 4        | 10/12/08 | UK       | M        | 39       | 3        | 3        | 4        | NA       | NA       | Young    |\n",
       "| 5        | 5/1/09   | UK       | F        | NA       | 2        | 2        | 1        |  2       |  1       | NA       |\n",
       "\n"
      ],
      "text/plain": [
       "  manager testDate country gender age item1 item2 item3 item4 item5 agecat\n",
       "1 1       10/24/08 US      M      32  5     4     5      5     5    Young \n",
       "2 2       10/28/08 US      F      45  3     5     2      5     5    Young \n",
       "3 3       10/1/08  UK      F      25  3     5     5      5     2    Young \n",
       "4 4       10/12/08 UK      M      39  3     3     4     NA    NA    Young \n",
       "5 5       5/1/09   UK      F      NA  2     2     1      2     1    NA    "
      ]
     },
     "metadata": {},
     "output_type": "display_data"
    }
   ],
   "source": [
    "#以类似的方式将重命名q1到q5为item1到item5\n",
    "names(leadership)[6:10] <- c(\"item1\",\"item2\",\"item3\",\"item4\",\"item5\")\n",
    "leadership"
   ]
  },
  {
   "cell_type": "raw",
   "metadata": {},
   "source": [
    "plyr包中有一个rename()函数，可用于修改变量名。其使用格式是\n",
    "\n",
    "rename(dataframe, c(oldname=\"newname\", oldname=\"newname\",...))"
   ]
  },
  {
   "cell_type": "code",
   "execution_count": 29,
   "metadata": {},
   "outputs": [
    {
     "name": "stderr",
     "output_type": "stream",
     "text": [
      "Your code contains a unicode char which cannot be displayed in your\n",
      "current locale and R will silently convert it to an escaped form when the\n",
      "R kernel executes this code. This can lead to subtle errors if you use\n",
      "such chars to do comparisons. For more information, please see\n",
      "https://github.com/IRkernel/repr/wiki/Problems-with-unicode-on-windowsThe following `from` values were not present in `x`: data\n"
     ]
    }
   ],
   "source": [
    "#rename()函数的示例\n",
    "library(plyr)\n",
    "leadership <- rename(leadership, c(manager=\"managerID\", data=\"testDate\"))"
   ]
  },
  {
   "cell_type": "markdown",
   "metadata": {},
   "source": [
    "# 4.5 缺失值"
   ]
  },
  {
   "cell_type": "markdown",
   "metadata": {},
   "source": [
    "在任何规模的项目中，数据都可能由于未作答问题、设备故障或误编码数据的缘故而不完整。\n",
    "\n",
    "在R中，缺失值以符号NA（Not Available, 不可用）表示。 \n",
    "\n",
    "与SAS等程序不同，R中字符型和数值型数据使用的缺失值符号是相同的。\n"
   ]
  },
  {
   "cell_type": "raw",
   "metadata": {},
   "source": [
    "R提供了一些函数，用于识别包含缺失值的观测。函数is.na()允许你检测缺失值是否存在。"
   ]
  },
  {
   "cell_type": "code",
   "execution_count": 30,
   "metadata": {},
   "outputs": [
    {
     "name": "stderr",
     "output_type": "stream",
     "text": [
      "Your code contains a unicode char which cannot be displayed in your\n",
      "current locale and R will silently convert it to an escaped form when the\n",
      "R kernel executes this code. This can lead to subtle errors if you use\n",
      "such chars to do comparisons. For more information, please see\n",
      "https://github.com/IRkernel/repr/wiki/Problems-with-unicode-on-windows"
     ]
    },
    {
     "data": {
      "text/html": [
       "<ol class=list-inline>\n",
       "\t<li>FALSE</li>\n",
       "\t<li>FALSE</li>\n",
       "\t<li>FALSE</li>\n",
       "\t<li>TRUE</li>\n",
       "</ol>\n"
      ],
      "text/latex": [
       "\\begin{enumerate*}\n",
       "\\item FALSE\n",
       "\\item FALSE\n",
       "\\item FALSE\n",
       "\\item TRUE\n",
       "\\end{enumerate*}\n"
      ],
      "text/markdown": [
       "1. FALSE\n",
       "2. FALSE\n",
       "3. FALSE\n",
       "4. TRUE\n",
       "\n",
       "\n"
      ],
      "text/plain": [
       "[1] FALSE FALSE FALSE  TRUE"
      ]
     },
     "metadata": {},
     "output_type": "display_data"
    }
   ],
   "source": [
    "#假设你有一个向量：\n",
    "y <- c(1,2,3,NA)\n",
    "#然后使用函数\n",
    "is.na(y)"
   ]
  },
  {
   "cell_type": "raw",
   "metadata": {},
   "source": [
    "注意is.na()函数是如何作用于一个对象上的。\n",
    "\n",
    "它将返回一个相同大小的对象，如果某个元素是缺失值，相应的位置将被改写为TRUE，不是缺失值的位置则为FALSE。"
   ]
  },
  {
   "cell_type": "code",
   "execution_count": 31,
   "metadata": {},
   "outputs": [
    {
     "name": "stderr",
     "output_type": "stream",
     "text": [
      "Your code contains a unicode char which cannot be displayed in your\n",
      "current locale and R will silently convert it to an escaped form when the\n",
      "R kernel executes this code. This can lead to subtle errors if you use\n",
      "such chars to do comparisons. For more information, please see\n",
      "https://github.com/IRkernel/repr/wiki/Problems-with-unicode-on-windows"
     ]
    },
    {
     "data": {
      "text/html": [
       "<table>\n",
       "<thead><tr><th scope=col>item1</th><th scope=col>item2</th><th scope=col>item3</th><th scope=col>item4</th><th scope=col>item5</th></tr></thead>\n",
       "<tbody>\n",
       "\t<tr><td>FALSE</td><td>FALSE</td><td>FALSE</td><td>FALSE</td><td>FALSE</td></tr>\n",
       "\t<tr><td>FALSE</td><td>FALSE</td><td>FALSE</td><td>FALSE</td><td>FALSE</td></tr>\n",
       "\t<tr><td>FALSE</td><td>FALSE</td><td>FALSE</td><td>FALSE</td><td>FALSE</td></tr>\n",
       "\t<tr><td>FALSE</td><td>FALSE</td><td>FALSE</td><td> TRUE</td><td> TRUE</td></tr>\n",
       "\t<tr><td>FALSE</td><td>FALSE</td><td>FALSE</td><td>FALSE</td><td>FALSE</td></tr>\n",
       "</tbody>\n",
       "</table>\n"
      ],
      "text/latex": [
       "\\begin{tabular}{lllll}\n",
       " item1 & item2 & item3 & item4 & item5\\\\\n",
       "\\hline\n",
       "\t FALSE & FALSE & FALSE & FALSE & FALSE\\\\\n",
       "\t FALSE & FALSE & FALSE & FALSE & FALSE\\\\\n",
       "\t FALSE & FALSE & FALSE & FALSE & FALSE\\\\\n",
       "\t FALSE & FALSE & FALSE &  TRUE &  TRUE\\\\\n",
       "\t FALSE & FALSE & FALSE & FALSE & FALSE\\\\\n",
       "\\end{tabular}\n"
      ],
      "text/markdown": [
       "\n",
       "| item1 | item2 | item3 | item4 | item5 |\n",
       "|---|---|---|---|---|\n",
       "| FALSE | FALSE | FALSE | FALSE | FALSE |\n",
       "| FALSE | FALSE | FALSE | FALSE | FALSE |\n",
       "| FALSE | FALSE | FALSE | FALSE | FALSE |\n",
       "| FALSE | FALSE | FALSE |  TRUE |  TRUE |\n",
       "| FALSE | FALSE | FALSE | FALSE | FALSE |\n",
       "\n"
      ],
      "text/plain": [
       "     item1 item2 item3 item4 item5\n",
       "[1,] FALSE FALSE FALSE FALSE FALSE\n",
       "[2,] FALSE FALSE FALSE FALSE FALSE\n",
       "[3,] FALSE FALSE FALSE FALSE FALSE\n",
       "[4,] FALSE FALSE FALSE  TRUE  TRUE\n",
       "[5,] FALSE FALSE FALSE FALSE FALSE"
      ]
     },
     "metadata": {},
     "output_type": "display_data"
    }
   ],
   "source": [
    "#使用is.na()函数\n",
    "is.na(leadership[,6:10]) #将数据框限定到第6列至第10列，然后用is.na()识别出缺失值"
   ]
  },
  {
   "cell_type": "raw",
   "metadata": {},
   "source": [
    "在处理缺失值的时候，要一直记住两件重要的事：\n",
    "\n",
    "第一：\n",
    "缺失值被认为是不可比较的，即便是与缺失值自身的比较。意味着无法使用比较运算符来检测缺失值是否存在。\n",
    "    \n",
    "        例如：逻辑测试myvar == 的结果永远不会为TRUE。作为替代，你只能使用处理缺失值的函数（如本届中所述的那些）来识别出R数据对象中的缺失值。 \n",
    "\n",
    "第二：R并不把无线的或者 不可能出现的数值标记成缺失值。\n",
    "      再次地，这和其余像SAS之类类似的程序处理这类数值的方式所不同。正无穷和负无穷分别用Inf和-Inf所标记。\n",
    "      因此，5/0返回Inf。 不可能的值（比如说，sin(Inf)）用NaN符号来标记（not a number， 不是一个数）。\n",
    "      若要识别这些数值，你需要用到is.infinite()或is.nan()\n"
   ]
  },
  {
   "cell_type": "markdown",
   "metadata": {},
   "source": [
    "## 4.5.2 在分析中排除缺失值"
   ]
  },
  {
   "cell_type": "markdown",
   "metadata": {},
   "source": [
    "确定了缺失值的位置以后，也需要再进一步分析数据之前以某种方式删除这些缺失值。原因是，含有缺失值的算数表达式和函数的计算结果也是缺失值。"
   ]
  },
  {
   "cell_type": "code",
   "execution_count": 32,
   "metadata": {},
   "outputs": [
    {
     "name": "stderr",
     "output_type": "stream",
     "text": [
      "Your code contains a unicode char which cannot be displayed in your\n",
      "current locale and R will silently convert it to an escaped form when the\n",
      "R kernel executes this code. This can lead to subtle errors if you use\n",
      "such chars to do comparisons. For more information, please see\n",
      "https://github.com/IRkernel/repr/wiki/Problems-with-unicode-on-windows"
     ]
    },
    {
     "data": {
      "text/html": [
       "&lt;NA&gt;"
      ],
      "text/latex": [
       "<NA>"
      ],
      "text/markdown": [
       "&lt;NA&gt;"
      ],
      "text/plain": [
       "[1] NA"
      ]
     },
     "metadata": {},
     "output_type": "display_data"
    },
    {
     "data": {
      "text/html": [
       "&lt;NA&gt;"
      ],
      "text/latex": [
       "<NA>"
      ],
      "text/markdown": [
       "&lt;NA&gt;"
      ],
      "text/plain": [
       "[1] NA"
      ]
     },
     "metadata": {},
     "output_type": "display_data"
    }
   ],
   "source": [
    "#举例来说，考虑一下代码：\n",
    "x <- c(1,2,NA, 3)\n",
    "y <- x[1] + x[2] + x[3] + x[4]\n",
    "z <- sum(x)\n",
    "y\n",
    "\n",
    "z\n",
    "#由于x中的第三个元素是缺失值，所以y和z也都是NA（缺失值）。"
   ]
  },
  {
   "cell_type": "raw",
   "metadata": {},
   "source": [
    "好在多数的数值函数都拥有一个na.rm=TRUE想想，可以再计算之前一处缺失值并使用生育值进行计算："
   ]
  },
  {
   "cell_type": "code",
   "execution_count": 33,
   "metadata": {},
   "outputs": [
    {
     "data": {
      "text/html": [
       "6"
      ],
      "text/latex": [
       "6"
      ],
      "text/markdown": [
       "6"
      ],
      "text/plain": [
       "[1] 6"
      ]
     },
     "metadata": {},
     "output_type": "display_data"
    }
   ],
   "source": [
    "x <- c(1,2,NA,3)\n",
    "y <- sum(x,na.rm=TRUE)\n",
    "y"
   ]
  },
  {
   "cell_type": "raw",
   "metadata": {},
   "source": [
    "在使用函数处理不完整的数据是，请务必查阅它们的帮助文档（例如，help(sum)）,检查这些函数是如何处理确实数据的。\n",
    "\n",
    "还可以通过函数na.omit()一处所有含有缺失值的观测。\n",
    "na.omit()可以删除所有含有缺失数据的行。"
   ]
  },
  {
   "cell_type": "code",
   "execution_count": 34,
   "metadata": {},
   "outputs": [
    {
     "name": "stderr",
     "output_type": "stream",
     "text": [
      "Your code contains a unicode char which cannot be displayed in your\n",
      "current locale and R will silently convert it to an escaped form when the\n",
      "R kernel executes this code. This can lead to subtle errors if you use\n",
      "such chars to do comparisons. For more information, please see\n",
      "https://github.com/IRkernel/repr/wiki/Problems-with-unicode-on-windows"
     ]
    },
    {
     "data": {
      "text/html": [
       "<table>\n",
       "<thead><tr><th scope=col>managerID</th><th scope=col>testDate</th><th scope=col>country</th><th scope=col>gender</th><th scope=col>age</th><th scope=col>item1</th><th scope=col>item2</th><th scope=col>item3</th><th scope=col>item4</th><th scope=col>item5</th><th scope=col>agecat</th></tr></thead>\n",
       "<tbody>\n",
       "\t<tr><td>1       </td><td>10/24/08</td><td>US      </td><td>M       </td><td>32      </td><td>5       </td><td>4       </td><td>5       </td><td> 5      </td><td> 5      </td><td>Young   </td></tr>\n",
       "\t<tr><td>2       </td><td>10/28/08</td><td>US      </td><td>F       </td><td>45      </td><td>3       </td><td>5       </td><td>2       </td><td> 5      </td><td> 5      </td><td>Young   </td></tr>\n",
       "\t<tr><td>3       </td><td>10/1/08 </td><td>UK      </td><td>F       </td><td>25      </td><td>3       </td><td>5       </td><td>5       </td><td> 5      </td><td> 2      </td><td>Young   </td></tr>\n",
       "\t<tr><td>4       </td><td>10/12/08</td><td>UK      </td><td>M       </td><td>39      </td><td>3       </td><td>3       </td><td>4       </td><td>NA      </td><td>NA      </td><td>Young   </td></tr>\n",
       "\t<tr><td>5       </td><td>5/1/09  </td><td>UK      </td><td>F       </td><td>NA      </td><td>2       </td><td>2       </td><td>1       </td><td> 2      </td><td> 1      </td><td>NA      </td></tr>\n",
       "</tbody>\n",
       "</table>\n"
      ],
      "text/latex": [
       "\\begin{tabular}{r|lllllllllll}\n",
       " managerID & testDate & country & gender & age & item1 & item2 & item3 & item4 & item5 & agecat\\\\\n",
       "\\hline\n",
       "\t 1        & 10/24/08 & US       & M        & 32       & 5        & 4        & 5        &  5       &  5       & Young   \\\\\n",
       "\t 2        & 10/28/08 & US       & F        & 45       & 3        & 5        & 2        &  5       &  5       & Young   \\\\\n",
       "\t 3        & 10/1/08  & UK       & F        & 25       & 3        & 5        & 5        &  5       &  2       & Young   \\\\\n",
       "\t 4        & 10/12/08 & UK       & M        & 39       & 3        & 3        & 4        & NA       & NA       & Young   \\\\\n",
       "\t 5        & 5/1/09   & UK       & F        & NA       & 2        & 2        & 1        &  2       &  1       & NA      \\\\\n",
       "\\end{tabular}\n"
      ],
      "text/markdown": [
       "\n",
       "| managerID | testDate | country | gender | age | item1 | item2 | item3 | item4 | item5 | agecat |\n",
       "|---|---|---|---|---|---|---|---|---|---|---|\n",
       "| 1        | 10/24/08 | US       | M        | 32       | 5        | 4        | 5        |  5       |  5       | Young    |\n",
       "| 2        | 10/28/08 | US       | F        | 45       | 3        | 5        | 2        |  5       |  5       | Young    |\n",
       "| 3        | 10/1/08  | UK       | F        | 25       | 3        | 5        | 5        |  5       |  2       | Young    |\n",
       "| 4        | 10/12/08 | UK       | M        | 39       | 3        | 3        | 4        | NA       | NA       | Young    |\n",
       "| 5        | 5/1/09   | UK       | F        | NA       | 2        | 2        | 1        |  2       |  1       | NA       |\n",
       "\n"
      ],
      "text/plain": [
       "  managerID testDate country gender age item1 item2 item3 item4 item5 agecat\n",
       "1 1         10/24/08 US      M      32  5     4     5      5     5    Young \n",
       "2 2         10/28/08 US      F      45  3     5     2      5     5    Young \n",
       "3 3         10/1/08  UK      F      25  3     5     5      5     2    Young \n",
       "4 4         10/12/08 UK      M      39  3     3     4     NA    NA    Young \n",
       "5 5         5/1/09   UK      F      NA  2     2     1      2     1    NA    "
      ]
     },
     "metadata": {},
     "output_type": "display_data"
    },
    {
     "data": {
      "text/html": [
       "<table>\n",
       "<thead><tr><th scope=col>managerID</th><th scope=col>testDate</th><th scope=col>country</th><th scope=col>gender</th><th scope=col>age</th><th scope=col>item1</th><th scope=col>item2</th><th scope=col>item3</th><th scope=col>item4</th><th scope=col>item5</th><th scope=col>agecat</th></tr></thead>\n",
       "<tbody>\n",
       "\t<tr><td>1       </td><td>10/24/08</td><td>US      </td><td>M       </td><td>32      </td><td>5       </td><td>4       </td><td>5       </td><td>5       </td><td>5       </td><td>Young   </td></tr>\n",
       "\t<tr><td>2       </td><td>10/28/08</td><td>US      </td><td>F       </td><td>45      </td><td>3       </td><td>5       </td><td>2       </td><td>5       </td><td>5       </td><td>Young   </td></tr>\n",
       "\t<tr><td>3       </td><td>10/1/08 </td><td>UK      </td><td>F       </td><td>25      </td><td>3       </td><td>5       </td><td>5       </td><td>5       </td><td>2       </td><td>Young   </td></tr>\n",
       "</tbody>\n",
       "</table>\n"
      ],
      "text/latex": [
       "\\begin{tabular}{r|lllllllllll}\n",
       " managerID & testDate & country & gender & age & item1 & item2 & item3 & item4 & item5 & agecat\\\\\n",
       "\\hline\n",
       "\t 1        & 10/24/08 & US       & M        & 32       & 5        & 4        & 5        & 5        & 5        & Young   \\\\\n",
       "\t 2        & 10/28/08 & US       & F        & 45       & 3        & 5        & 2        & 5        & 5        & Young   \\\\\n",
       "\t 3        & 10/1/08  & UK       & F        & 25       & 3        & 5        & 5        & 5        & 2        & Young   \\\\\n",
       "\\end{tabular}\n"
      ],
      "text/markdown": [
       "\n",
       "| managerID | testDate | country | gender | age | item1 | item2 | item3 | item4 | item5 | agecat |\n",
       "|---|---|---|---|---|---|---|---|---|---|---|\n",
       "| 1        | 10/24/08 | US       | M        | 32       | 5        | 4        | 5        | 5        | 5        | Young    |\n",
       "| 2        | 10/28/08 | US       | F        | 45       | 3        | 5        | 2        | 5        | 5        | Young    |\n",
       "| 3        | 10/1/08  | UK       | F        | 25       | 3        | 5        | 5        | 5        | 2        | Young    |\n",
       "\n"
      ],
      "text/plain": [
       "  managerID testDate country gender age item1 item2 item3 item4 item5 agecat\n",
       "1 1         10/24/08 US      M      32  5     4     5     5     5     Young \n",
       "2 2         10/28/08 US      F      45  3     5     2     5     5     Young \n",
       "3 3         10/1/08  UK      F      25  3     5     5     5     2     Young "
      ]
     },
     "metadata": {},
     "output_type": "display_data"
    }
   ],
   "source": [
    "#使用na.omit()删除不完整的观测\n",
    "leadership\n",
    "newdata <- na.omit(leadership)\n",
    "newdata"
   ]
  },
  {
   "cell_type": "raw",
   "metadata": {},
   "source": [
    "删除所有含有缺失数据的观测（称为行删除，listwise deletion）是处理不完整数据集的若干手段之一。\n",
    "\n",
    "如果只有少数缺失值或者缺失值仅集中于一小部分观测中，行删除不失为解决缺失值问题的一种优秀方法。\n",
    "\n",
    "但如果缺失值遍布于数据之中，或者一小部分变量中包含大量的确实数据，行删除可能会提出相当比例的数据。"
   ]
  },
  {
   "cell_type": "markdown",
   "metadata": {},
   "source": [
    "# 4.6 日期值"
   ]
  },
  {
   "cell_type": "markdown",
   "metadata": {},
   "source": [
    "日期值通常以字符串的形式输入到R中，然后转化为以数值形式存储的日期变量。\n",
    "\n",
    "函数as.Date()用于执行这种转化。其语法为as.Date(x, input_format),其中x是字符型数据，\n",
    "\n",
    "input_format则给出了用于读入日期的适当格式。\n",
    "![日期格式.png](./image/日期格式.png)\n",
    "\n",
    "日期值得默认输入格式为yyy-mm-dd。语句：\n",
    "\n",
    "mydates <- as.Date(c(\"2007-06-22\", \"2004-02-13\"))"
   ]
  },
  {
   "cell_type": "code",
   "execution_count": 35,
   "metadata": {},
   "outputs": [
    {
     "name": "stderr",
     "output_type": "stream",
     "text": [
      "Your code contains a unicode char which cannot be displayed in your\n",
      "current locale and R will silently convert it to an escaped form when the\n",
      "R kernel executes this code. This can lead to subtle errors if you use\n",
      "such chars to do comparisons. For more information, please see\n",
      "https://github.com/IRkernel/repr/wiki/Problems-with-unicode-on-windows"
     ]
    },
    {
     "data": {
      "text/html": [
       "<ol class=list-inline>\n",
       "\t<li><time datetime=\"2007-06-22\">2007-06-22</time></li>\n",
       "\t<li><time datetime=\"2004-02-13\">2004-02-13</time></li>\n",
       "</ol>\n"
      ],
      "text/latex": [
       "\\begin{enumerate*}\n",
       "\\item 2007-06-22\n",
       "\\item 2004-02-13\n",
       "\\end{enumerate*}\n"
      ],
      "text/markdown": [
       "1. 2007-06-22\n",
       "2. 2004-02-13\n",
       "\n",
       "\n"
      ],
      "text/plain": [
       "[1] \"2007-06-22\" \"2004-02-13\""
      ]
     },
     "metadata": {},
     "output_type": "display_data"
    }
   ],
   "source": [
    "#日期值得默认输入格式为yyy-mm-dd。语句：\n",
    "mydates <- as.Date(c(\"2007-06-22\", \"2004-02-13\"))\n",
    "mydates"
   ]
  },
  {
   "cell_type": "code",
   "execution_count": 36,
   "metadata": {},
   "outputs": [
    {
     "name": "stderr",
     "output_type": "stream",
     "text": [
      "Your code contains a unicode char which cannot be displayed in your\n",
      "current locale and R will silently convert it to an escaped form when the\n",
      "R kernel executes this code. This can lead to subtle errors if you use\n",
      "such chars to do comparisons. For more information, please see\n",
      "https://github.com/IRkernel/repr/wiki/Problems-with-unicode-on-windows"
     ]
    },
    {
     "data": {
      "text/html": [
       "<ol class=list-inline>\n",
       "\t<li>'01/05/1965'</li>\n",
       "\t<li>'08/16/1975'</li>\n",
       "</ol>\n"
      ],
      "text/latex": [
       "\\begin{enumerate*}\n",
       "\\item '01/05/1965'\n",
       "\\item '08/16/1975'\n",
       "\\end{enumerate*}\n"
      ],
      "text/markdown": [
       "1. '01/05/1965'\n",
       "2. '08/16/1975'\n",
       "\n",
       "\n"
      ],
      "text/plain": [
       "[1] \"01/05/1965\" \"08/16/1975\""
      ]
     },
     "metadata": {},
     "output_type": "display_data"
    },
    {
     "data": {
      "text/html": [
       "<ol class=list-inline>\n",
       "\t<li><time datetime=\"1965-01-05\">1965-01-05</time></li>\n",
       "\t<li><time datetime=\"1975-08-16\">1975-08-16</time></li>\n",
       "</ol>\n"
      ],
      "text/latex": [
       "\\begin{enumerate*}\n",
       "\\item 1965-01-05\n",
       "\\item 1975-08-16\n",
       "\\end{enumerate*}\n"
      ],
      "text/markdown": [
       "1. 1965-01-05\n",
       "2. 1975-08-16\n",
       "\n",
       "\n"
      ],
      "text/plain": [
       "[1] \"1965-01-05\" \"1975-08-16\""
      ]
     },
     "metadata": {},
     "output_type": "display_data"
    }
   ],
   "source": [
    "#将默认格式的字符型数据转换为了对应日期。相反，\n",
    "strDates <- c(\"01/05/1965\", \"08/16/1975\")\n",
    "strDates\n",
    "dates <- as.Date(strDates, \"%m/%d/%Y\")\n",
    "dates"
   ]
  },
  {
   "cell_type": "code",
   "execution_count": 37,
   "metadata": {},
   "outputs": [
    {
     "name": "stderr",
     "output_type": "stream",
     "text": [
      "Your code contains a unicode char which cannot be displayed in your\n",
      "current locale and R will silently convert it to an escaped form when the\n",
      "R kernel executes this code. This can lead to subtle errors if you use\n",
      "such chars to do comparisons. For more information, please see\n",
      "https://github.com/IRkernel/repr/wiki/Problems-with-unicode-on-windows"
     ]
    },
    {
     "data": {
      "text/html": [
       "<ol class=list-inline>\n",
       "\t<li>'10/24/08'</li>\n",
       "\t<li>'10/28/08'</li>\n",
       "\t<li>'10/1/08'</li>\n",
       "\t<li>'10/12/08'</li>\n",
       "\t<li>'5/1/09'</li>\n",
       "</ol>\n"
      ],
      "text/latex": [
       "\\begin{enumerate*}\n",
       "\\item '10/24/08'\n",
       "\\item '10/28/08'\n",
       "\\item '10/1/08'\n",
       "\\item '10/12/08'\n",
       "\\item '5/1/09'\n",
       "\\end{enumerate*}\n"
      ],
      "text/markdown": [
       "1. '10/24/08'\n",
       "2. '10/28/08'\n",
       "3. '10/1/08'\n",
       "4. '10/12/08'\n",
       "5. '5/1/09'\n",
       "\n",
       "\n"
      ],
      "text/plain": [
       "[1] \"10/24/08\" \"10/28/08\" \"10/1/08\"  \"10/12/08\" \"5/1/09\"  "
      ]
     },
     "metadata": {},
     "output_type": "display_data"
    },
    {
     "data": {
      "text/html": [
       "<ol class=list-inline>\n",
       "\t<li><time datetime=\"2008-10-24\">2008-10-24</time></li>\n",
       "\t<li><time datetime=\"2008-10-28\">2008-10-28</time></li>\n",
       "\t<li><time datetime=\"2008-10-01\">2008-10-01</time></li>\n",
       "\t<li><time datetime=\"2008-10-12\">2008-10-12</time></li>\n",
       "\t<li><time datetime=\"2009-05-01\">2009-05-01</time></li>\n",
       "</ol>\n"
      ],
      "text/latex": [
       "\\begin{enumerate*}\n",
       "\\item 2008-10-24\n",
       "\\item 2008-10-28\n",
       "\\item 2008-10-01\n",
       "\\item 2008-10-12\n",
       "\\item 2009-05-01\n",
       "\\end{enumerate*}\n"
      ],
      "text/markdown": [
       "1. 2008-10-24\n",
       "2. 2008-10-28\n",
       "3. 2008-10-01\n",
       "4. 2008-10-12\n",
       "5. 2009-05-01\n",
       "\n",
       "\n"
      ],
      "text/plain": [
       "[1] \"2008-10-24\" \"2008-10-28\" \"2008-10-01\" \"2008-10-12\" \"2009-05-01\""
      ]
     },
     "metadata": {},
     "output_type": "display_data"
    }
   ],
   "source": [
    "#在leadership数据集中，日期是以mm/dd/yy的格式编码为字符型变量的。因此：\n",
    "\n",
    "myformat <- \"%m/%d/%y\"\n",
    "leadership$testDate\n",
    "\n",
    "\n",
    "leadership$date <- as.Date(leadership$testDate, myformat)\n",
    "leadership$date\n",
    "#使用指定格式读取字符型变量，并将其作为一个日期变量替换到数据框中。这种转换一旦完成，你就可以使用后续各章中讲到的诸多分析方法对这些日期进行分析和绘图。"
   ]
  },
  {
   "cell_type": "code",
   "execution_count": 38,
   "metadata": {},
   "outputs": [
    {
     "name": "stderr",
     "output_type": "stream",
     "text": [
      "Your code contains a unicode char which cannot be displayed in your\n",
      "current locale and R will silently convert it to an escaped form when the\n",
      "R kernel executes this code. This can lead to subtle errors if you use\n",
      "such chars to do comparisons. For more information, please see\n",
      "https://github.com/IRkernel/repr/wiki/Problems-with-unicode-on-windows"
     ]
    },
    {
     "data": {
      "text/html": [
       "<time datetime=\"2019-03-08\">2019-03-08</time>"
      ],
      "text/latex": [
       "2019-03-08"
      ],
      "text/markdown": [
       "2019-03-08"
      ],
      "text/plain": [
       "[1] \"2019-03-08\""
      ]
     },
     "metadata": {},
     "output_type": "display_data"
    },
    {
     "data": {
      "text/html": [
       "'Fri Mar 08 13:46:14 2019'"
      ],
      "text/latex": [
       "'Fri Mar 08 13:46:14 2019'"
      ],
      "text/markdown": [
       "'Fri Mar 08 13:46:14 2019'"
      ],
      "text/plain": [
       "[1] \"Fri Mar 08 13:46:14 2019\""
      ]
     },
     "metadata": {},
     "output_type": "display_data"
    }
   ],
   "source": [
    "#Sys.Date()可以返回当天的日期。\n",
    "Sys.Date()\n",
    "\n",
    "#data()则返回当前的日期和时间。\n",
    "date()"
   ]
  },
  {
   "cell_type": "code",
   "execution_count": 39,
   "metadata": {},
   "outputs": [
    {
     "name": "stderr",
     "output_type": "stream",
     "text": [
      "Your code contains a unicode char which cannot be displayed in your\n",
      "current locale and R will silently convert it to an escaped form when the\n",
      "R kernel executes this code. This can lead to subtle errors if you use\n",
      "such chars to do comparisons. For more information, please see\n",
      "https://github.com/IRkernel/repr/wiki/Problems-with-unicode-on-windows"
     ]
    },
    {
     "data": {
      "text/html": [
       "'March 08 2019'"
      ],
      "text/latex": [
       "'March 08 2019'"
      ],
      "text/markdown": [
       "'March 08 2019'"
      ],
      "text/plain": [
       "[1] \"March 08 2019\""
      ]
     },
     "metadata": {},
     "output_type": "display_data"
    },
    {
     "data": {
      "text/html": [
       "'Friday'"
      ],
      "text/latex": [
       "'Friday'"
      ],
      "text/markdown": [
       "'Friday'"
      ],
      "text/plain": [
       "[1] \"Friday\""
      ]
     },
     "metadata": {},
     "output_type": "display_data"
    }
   ],
   "source": [
    "#format(x, format=\"output_format\")来输出指定格式的日期值，并且可以提取日期值中的某些部分：\n",
    "\n",
    "today <- Sys.Date()\n",
    "format(today, format=\"%B %d %Y\")\n",
    "\n",
    "format(today, format=\"%A\")"
   ]
  },
  {
   "cell_type": "raw",
   "metadata": {},
   "source": [
    "R的内部在存储日期时，是使用自1970年1月1日以来的天枢表示的，更早的日期则表示为附属。这意味着可以再日期值上执行算数运算。"
   ]
  },
  {
   "cell_type": "code",
   "execution_count": 40,
   "metadata": {},
   "outputs": [
    {
     "data": {
      "text/plain": [
       "Time difference of 2535 days"
      ]
     },
     "metadata": {},
     "output_type": "display_data"
    }
   ],
   "source": [
    "startdate <- as.Date(\"2004-02-13\")\n",
    "enddate <- as.Date(\"2011-01-22\")\n",
    "days <- enddate - startdate\n",
    "days  "
   ]
  },
  {
   "cell_type": "raw",
   "metadata": {},
   "source": [
    "使用函数difftime()来计算时间间隔，并以星期、天、时、分、秒来表示。"
   ]
  },
  {
   "cell_type": "code",
   "execution_count": 41,
   "metadata": {},
   "outputs": [
    {
     "data": {
      "text/plain": [
       "Time difference of 1359.714 weeks"
      ]
     },
     "metadata": {},
     "output_type": "display_data"
    }
   ],
   "source": [
    "today <- Sys.Date()\n",
    "dob <- as.Date(\"1993-02-14\")\n",
    "difftime(today,dob, units=\"weeks\")"
   ]
  },
  {
   "cell_type": "markdown",
   "metadata": {},
   "source": [
    "## 4.6.1 将日期转换为字符型变量"
   ]
  },
  {
   "cell_type": "code",
   "execution_count": 42,
   "metadata": {},
   "outputs": [
    {
     "name": "stderr",
     "output_type": "stream",
     "text": [
      "Your code contains a unicode char which cannot be displayed in your\n",
      "current locale and R will silently convert it to an escaped form when the\n",
      "R kernel executes this code. This can lead to subtle errors if you use\n",
      "such chars to do comparisons. For more information, please see\n",
      "https://github.com/IRkernel/repr/wiki/Problems-with-unicode-on-windows"
     ]
    },
    {
     "data": {
      "text/html": [
       "<ol class=list-inline>\n",
       "\t<li>'1965-01-05'</li>\n",
       "\t<li>'1975-08-16'</li>\n",
       "</ol>\n"
      ],
      "text/latex": [
       "\\begin{enumerate*}\n",
       "\\item '1965-01-05'\n",
       "\\item '1975-08-16'\n",
       "\\end{enumerate*}\n"
      ],
      "text/markdown": [
       "1. '1965-01-05'\n",
       "2. '1975-08-16'\n",
       "\n",
       "\n"
      ],
      "text/plain": [
       "[1] \"1965-01-05\" \"1975-08-16\""
      ]
     },
     "metadata": {},
     "output_type": "display_data"
    }
   ],
   "source": [
    "#as.character() 可将日期值转换为字符型\n",
    "strDates <- as.character(dates)\n",
    "strDates"
   ]
  },
  {
   "cell_type": "markdown",
   "metadata": {},
   "source": [
    "## 4.6.2  更进一步"
   ]
  },
  {
   "cell_type": "raw",
   "metadata": {},
   "source": [
    "要了解字符型数据转换为日期的更多细节，请查看help(as.Date)和help(strftime)\n",
    "\n",
    "要了解更多关于日期和时间格式的知识，请参考help(ISOdatetime)。\n",
    "\n",
    "lubridate包中包含了许多简化日期处理的函数，可以用于识别和解析日期—时间数据，抽取日期—时间成分（例如年份、月份、日期等），以及对日期—时间值进行算术运算。\n",
    "\n",
    "如果你需要对日期进行复杂的计算，那么timeDate包可能会有帮助。它提供了大量的日期处理函数，可以同时处理多个时区，并且提供了复杂的历法操作功能，支持工作日、周末以及假期。"
   ]
  },
  {
   "cell_type": "markdown",
   "metadata": {},
   "source": [
    "# 4.7 类型转换"
   ]
  },
  {
   "cell_type": "markdown",
   "metadata": {},
   "source": [
    "![类型转换函数.png](./image/类型转换函数.png)\n",
    "名为is.datatype()这样的函数返回TRUE或FALSE，而as.datatype()这样的函数则将其\n",
    "参数转换为对应的类型。"
   ]
  },
  {
   "cell_type": "code",
   "execution_count": 43,
   "metadata": {},
   "outputs": [
    {
     "name": "stderr",
     "output_type": "stream",
     "text": [
      "Your code contains a unicode char which cannot be displayed in your\n",
      "current locale and R will silently convert it to an escaped form when the\n",
      "R kernel executes this code. This can lead to subtle errors if you use\n",
      "such chars to do comparisons. For more information, please see\n",
      "https://github.com/IRkernel/repr/wiki/Problems-with-unicode-on-windows"
     ]
    },
    {
     "data": {
      "text/html": [
       "<ol class=list-inline>\n",
       "\t<li>1</li>\n",
       "\t<li>2</li>\n",
       "\t<li>3</li>\n",
       "</ol>\n"
      ],
      "text/latex": [
       "\\begin{enumerate*}\n",
       "\\item 1\n",
       "\\item 2\n",
       "\\item 3\n",
       "\\end{enumerate*}\n"
      ],
      "text/markdown": [
       "1. 1\n",
       "2. 2\n",
       "3. 3\n",
       "\n",
       "\n"
      ],
      "text/plain": [
       "[1] 1 2 3"
      ]
     },
     "metadata": {},
     "output_type": "display_data"
    },
    {
     "data": {
      "text/html": [
       "TRUE"
      ],
      "text/latex": [
       "TRUE"
      ],
      "text/markdown": [
       "TRUE"
      ],
      "text/plain": [
       "[1] TRUE"
      ]
     },
     "metadata": {},
     "output_type": "display_data"
    },
    {
     "data": {
      "text/html": [
       "TRUE"
      ],
      "text/latex": [
       "TRUE"
      ],
      "text/markdown": [
       "TRUE"
      ],
      "text/plain": [
       "[1] TRUE"
      ]
     },
     "metadata": {},
     "output_type": "display_data"
    },
    {
     "data": {
      "text/html": [
       "<ol class=list-inline>\n",
       "\t<li>'1'</li>\n",
       "\t<li>'2'</li>\n",
       "\t<li>'3'</li>\n",
       "</ol>\n"
      ],
      "text/latex": [
       "\\begin{enumerate*}\n",
       "\\item '1'\n",
       "\\item '2'\n",
       "\\item '3'\n",
       "\\end{enumerate*}\n"
      ],
      "text/markdown": [
       "1. '1'\n",
       "2. '2'\n",
       "3. '3'\n",
       "\n",
       "\n"
      ],
      "text/plain": [
       "[1] \"1\" \"2\" \"3\""
      ]
     },
     "metadata": {},
     "output_type": "display_data"
    },
    {
     "data": {
      "text/html": [
       "FALSE"
      ],
      "text/latex": [
       "FALSE"
      ],
      "text/markdown": [
       "FALSE"
      ],
      "text/plain": [
       "[1] FALSE"
      ]
     },
     "metadata": {},
     "output_type": "display_data"
    },
    {
     "data": {
      "text/html": [
       "TRUE"
      ],
      "text/latex": [
       "TRUE"
      ],
      "text/markdown": [
       "TRUE"
      ],
      "text/plain": [
       "[1] TRUE"
      ]
     },
     "metadata": {},
     "output_type": "display_data"
    }
   ],
   "source": [
    "#转换数据类型\n",
    "a <- c(1,2,3)\n",
    "a\n",
    "is.numeric(a)\n",
    "\n",
    "is.vector(a)\n",
    "\n",
    "a <- as.character(a)\n",
    "a\n",
    "\n",
    "is.numeric(a)\n",
    "\n",
    "is.vector(a)"
   ]
  },
  {
   "cell_type": "markdown",
   "metadata": {},
   "source": [
    "# 4.8 数据排序"
   ]
  },
  {
   "cell_type": "raw",
   "metadata": {},
   "source": [
    "使用order()函数对一个数据框进行排序。\n",
    "\n",
    "默认的排序顺序是升序。\n",
    "\n",
    "在排序变量的前边加一个减号即可得到降序的排序结果。"
   ]
  },
  {
   "cell_type": "code",
   "execution_count": 44,
   "metadata": {
    "scrolled": true
   },
   "outputs": [
    {
     "name": "stderr",
     "output_type": "stream",
     "text": [
      "Your code contains a unicode char which cannot be displayed in your\n",
      "current locale and R will silently convert it to an escaped form when the\n",
      "R kernel executes this code. This can lead to subtle errors if you use\n",
      "such chars to do comparisons. For more information, please see\n",
      "https://github.com/IRkernel/repr/wiki/Problems-with-unicode-on-windowsThe following objects are masked _by_ .GlobalEnv:\n",
      "\n",
      "    age, country, date, gender\n",
      "\n"
     ]
    },
    {
     "name": "stdout",
     "output_type": "stream",
     "text": [
      "[1] \"leadership <U+6570><U+636E><U+6846>\"\n"
     ]
    },
    {
     "data": {
      "text/html": [
       "<table>\n",
       "<thead><tr><th scope=col>managerID</th><th scope=col>testDate</th><th scope=col>country</th><th scope=col>gender</th><th scope=col>age</th><th scope=col>item1</th><th scope=col>item2</th><th scope=col>item3</th><th scope=col>item4</th><th scope=col>item5</th><th scope=col>agecat</th><th scope=col>date</th></tr></thead>\n",
       "<tbody>\n",
       "\t<tr><td>1         </td><td>10/24/08  </td><td>US        </td><td>M         </td><td>32        </td><td>5         </td><td>4         </td><td>5         </td><td> 5        </td><td> 5        </td><td>Young     </td><td>2008-10-24</td></tr>\n",
       "\t<tr><td>2         </td><td>10/28/08  </td><td>US        </td><td>F         </td><td>45        </td><td>3         </td><td>5         </td><td>2         </td><td> 5        </td><td> 5        </td><td>Young     </td><td>2008-10-28</td></tr>\n",
       "\t<tr><td>3         </td><td>10/1/08   </td><td>UK        </td><td>F         </td><td>25        </td><td>3         </td><td>5         </td><td>5         </td><td> 5        </td><td> 2        </td><td>Young     </td><td>2008-10-01</td></tr>\n",
       "\t<tr><td>4         </td><td>10/12/08  </td><td>UK        </td><td>M         </td><td>39        </td><td>3         </td><td>3         </td><td>4         </td><td>NA        </td><td>NA        </td><td>Young     </td><td>2008-10-12</td></tr>\n",
       "\t<tr><td>5         </td><td>5/1/09    </td><td>UK        </td><td>F         </td><td>NA        </td><td>2         </td><td>2         </td><td>1         </td><td> 2        </td><td> 1        </td><td>NA        </td><td>2009-05-01</td></tr>\n",
       "</tbody>\n",
       "</table>\n"
      ],
      "text/latex": [
       "\\begin{tabular}{r|llllllllllll}\n",
       " managerID & testDate & country & gender & age & item1 & item2 & item3 & item4 & item5 & agecat & date\\\\\n",
       "\\hline\n",
       "\t 1          & 10/24/08   & US         & M          & 32         & 5          & 4          & 5          &  5         &  5         & Young      & 2008-10-24\\\\\n",
       "\t 2          & 10/28/08   & US         & F          & 45         & 3          & 5          & 2          &  5         &  5         & Young      & 2008-10-28\\\\\n",
       "\t 3          & 10/1/08    & UK         & F          & 25         & 3          & 5          & 5          &  5         &  2         & Young      & 2008-10-01\\\\\n",
       "\t 4          & 10/12/08   & UK         & M          & 39         & 3          & 3          & 4          & NA         & NA         & Young      & 2008-10-12\\\\\n",
       "\t 5          & 5/1/09     & UK         & F          & NA         & 2          & 2          & 1          &  2         &  1         & NA         & 2009-05-01\\\\\n",
       "\\end{tabular}\n"
      ],
      "text/markdown": [
       "\n",
       "| managerID | testDate | country | gender | age | item1 | item2 | item3 | item4 | item5 | agecat | date |\n",
       "|---|---|---|---|---|---|---|---|---|---|---|---|\n",
       "| 1          | 10/24/08   | US         | M          | 32         | 5          | 4          | 5          |  5         |  5         | Young      | 2008-10-24 |\n",
       "| 2          | 10/28/08   | US         | F          | 45         | 3          | 5          | 2          |  5         |  5         | Young      | 2008-10-28 |\n",
       "| 3          | 10/1/08    | UK         | F          | 25         | 3          | 5          | 5          |  5         |  2         | Young      | 2008-10-01 |\n",
       "| 4          | 10/12/08   | UK         | M          | 39         | 3          | 3          | 4          | NA         | NA         | Young      | 2008-10-12 |\n",
       "| 5          | 5/1/09     | UK         | F          | NA         | 2          | 2          | 1          |  2         |  1         | NA         | 2009-05-01 |\n",
       "\n"
      ],
      "text/plain": [
       "  managerID testDate country gender age item1 item2 item3 item4 item5 agecat\n",
       "1 1         10/24/08 US      M      32  5     4     5      5     5    Young \n",
       "2 2         10/28/08 US      F      45  3     5     2      5     5    Young \n",
       "3 3         10/1/08  UK      F      25  3     5     5      5     2    Young \n",
       "4 4         10/12/08 UK      M      39  3     3     4     NA    NA    Young \n",
       "5 5         5/1/09   UK      F      NA  2     2     1      2     1    NA    \n",
       "  date      \n",
       "1 2008-10-24\n",
       "2 2008-10-28\n",
       "3 2008-10-01\n",
       "4 2008-10-12\n",
       "5 2009-05-01"
      ]
     },
     "metadata": {},
     "output_type": "display_data"
    },
    {
     "name": "stdout",
     "output_type": "stream",
     "text": [
      "[1] \"newdata <U+6570><U+636E><U+6846>\"\n"
     ]
    },
    {
     "data": {
      "text/html": [
       "<table>\n",
       "<thead><tr><th></th><th scope=col>managerID</th><th scope=col>testDate</th><th scope=col>country</th><th scope=col>gender</th><th scope=col>age</th><th scope=col>item1</th><th scope=col>item2</th><th scope=col>item3</th><th scope=col>item4</th><th scope=col>item5</th><th scope=col>agecat</th><th scope=col>date</th></tr></thead>\n",
       "<tbody>\n",
       "\t<tr><th scope=row>3</th><td>3         </td><td>10/1/08   </td><td>UK        </td><td>F         </td><td>25        </td><td>3         </td><td>5         </td><td>5         </td><td> 5        </td><td> 2        </td><td>Young     </td><td>2008-10-01</td></tr>\n",
       "\t<tr><th scope=row>2</th><td>2         </td><td>10/28/08  </td><td>US        </td><td>F         </td><td>45        </td><td>3         </td><td>5         </td><td>2         </td><td> 5        </td><td> 5        </td><td>Young     </td><td>2008-10-28</td></tr>\n",
       "\t<tr><th scope=row>5</th><td>5         </td><td>5/1/09    </td><td>UK        </td><td>F         </td><td>NA        </td><td>2         </td><td>2         </td><td>1         </td><td> 2        </td><td> 1        </td><td>NA        </td><td>2009-05-01</td></tr>\n",
       "\t<tr><th scope=row>1</th><td>1         </td><td>10/24/08  </td><td>US        </td><td>M         </td><td>32        </td><td>5         </td><td>4         </td><td>5         </td><td> 5        </td><td> 5        </td><td>Young     </td><td>2008-10-24</td></tr>\n",
       "\t<tr><th scope=row>4</th><td>4         </td><td>10/12/08  </td><td>UK        </td><td>M         </td><td>39        </td><td>3         </td><td>3         </td><td>4         </td><td>NA        </td><td>NA        </td><td>Young     </td><td>2008-10-12</td></tr>\n",
       "</tbody>\n",
       "</table>\n"
      ],
      "text/latex": [
       "\\begin{tabular}{r|llllllllllll}\n",
       "  & managerID & testDate & country & gender & age & item1 & item2 & item3 & item4 & item5 & agecat & date\\\\\n",
       "\\hline\n",
       "\t3 & 3          & 10/1/08    & UK         & F          & 25         & 3          & 5          & 5          &  5         &  2         & Young      & 2008-10-01\\\\\n",
       "\t2 & 2          & 10/28/08   & US         & F          & 45         & 3          & 5          & 2          &  5         &  5         & Young      & 2008-10-28\\\\\n",
       "\t5 & 5          & 5/1/09     & UK         & F          & NA         & 2          & 2          & 1          &  2         &  1         & NA         & 2009-05-01\\\\\n",
       "\t1 & 1          & 10/24/08   & US         & M          & 32         & 5          & 4          & 5          &  5         &  5         & Young      & 2008-10-24\\\\\n",
       "\t4 & 4          & 10/12/08   & UK         & M          & 39         & 3          & 3          & 4          & NA         & NA         & Young      & 2008-10-12\\\\\n",
       "\\end{tabular}\n"
      ],
      "text/markdown": [
       "\n",
       "| <!--/--> | managerID | testDate | country | gender | age | item1 | item2 | item3 | item4 | item5 | agecat | date |\n",
       "|---|---|---|---|---|---|---|---|---|---|---|---|---|\n",
       "| 3 | 3          | 10/1/08    | UK         | F          | 25         | 3          | 5          | 5          |  5         |  2         | Young      | 2008-10-01 |\n",
       "| 2 | 2          | 10/28/08   | US         | F          | 45         | 3          | 5          | 2          |  5         |  5         | Young      | 2008-10-28 |\n",
       "| 5 | 5          | 5/1/09     | UK         | F          | NA         | 2          | 2          | 1          |  2         |  1         | NA         | 2009-05-01 |\n",
       "| 1 | 1          | 10/24/08   | US         | M          | 32         | 5          | 4          | 5          |  5         |  5         | Young      | 2008-10-24 |\n",
       "| 4 | 4          | 10/12/08   | UK         | M          | 39         | 3          | 3          | 4          | NA         | NA         | Young      | 2008-10-12 |\n",
       "\n"
      ],
      "text/plain": [
       "  managerID testDate country gender age item1 item2 item3 item4 item5 agecat\n",
       "3 3         10/1/08  UK      F      25  3     5     5      5     2    Young \n",
       "2 2         10/28/08 US      F      45  3     5     2      5     5    Young \n",
       "5 5         5/1/09   UK      F      NA  2     2     1      2     1    NA    \n",
       "1 1         10/24/08 US      M      32  5     4     5      5     5    Young \n",
       "4 4         10/12/08 UK      M      39  3     3     4     NA    NA    Young \n",
       "  date      \n",
       "3 2008-10-01\n",
       "2 2008-10-28\n",
       "5 2009-05-01\n",
       "1 2008-10-24\n",
       "4 2008-10-12"
      ]
     },
     "metadata": {},
     "output_type": "display_data"
    }
   ],
   "source": [
    "#使用leadership演示数据框的排序：\n",
    "attach(leadership)\n",
    "print(\"leadership 数据框\")\n",
    "leadership\n",
    "newdata <- leadership[order(gender, age),]\n",
    "print(\"newdata 数据框\")\n",
    "newdata\n",
    "detach(leadership)\n",
    "\n",
    "#各行依经理人的年龄升序排序。"
   ]
  },
  {
   "cell_type": "code",
   "execution_count": 45,
   "metadata": {},
   "outputs": [
    {
     "name": "stderr",
     "output_type": "stream",
     "text": [
      "Your code contains a unicode char which cannot be displayed in your\n",
      "current locale and R will silently convert it to an escaped form when the\n",
      "R kernel executes this code. This can lead to subtle errors if you use\n",
      "such chars to do comparisons. For more information, please see\n",
      "https://github.com/IRkernel/repr/wiki/Problems-with-unicode-on-windowsThe following objects are masked _by_ .GlobalEnv:\n",
      "\n",
      "    age, country, date, gender\n",
      "\n"
     ]
    },
    {
     "data": {
      "text/html": [
       "<table>\n",
       "<thead><tr><th></th><th scope=col>managerID</th><th scope=col>testDate</th><th scope=col>country</th><th scope=col>gender</th><th scope=col>age</th><th scope=col>item1</th><th scope=col>item2</th><th scope=col>item3</th><th scope=col>item4</th><th scope=col>item5</th><th scope=col>agecat</th><th scope=col>date</th></tr></thead>\n",
       "<tbody>\n",
       "\t<tr><th scope=row>5</th><td>5         </td><td>5/1/09    </td><td>UK        </td><td>F         </td><td>NA        </td><td>2         </td><td>2         </td><td>1         </td><td> 2        </td><td> 1        </td><td>NA        </td><td>2009-05-01</td></tr>\n",
       "\t<tr><th scope=row>2</th><td>2         </td><td>10/28/08  </td><td>US        </td><td>F         </td><td>45        </td><td>3         </td><td>5         </td><td>2         </td><td> 5        </td><td> 5        </td><td>Young     </td><td>2008-10-28</td></tr>\n",
       "\t<tr><th scope=row>3</th><td>3         </td><td>10/1/08   </td><td>UK        </td><td>F         </td><td>25        </td><td>3         </td><td>5         </td><td>5         </td><td> 5        </td><td> 2        </td><td>Young     </td><td>2008-10-01</td></tr>\n",
       "\t<tr><th scope=row>4</th><td>4         </td><td>10/12/08  </td><td>UK        </td><td>M         </td><td>39        </td><td>3         </td><td>3         </td><td>4         </td><td>NA        </td><td>NA        </td><td>Young     </td><td>2008-10-12</td></tr>\n",
       "\t<tr><th scope=row>1</th><td>1         </td><td>10/24/08  </td><td>US        </td><td>M         </td><td>32        </td><td>5         </td><td>4         </td><td>5         </td><td> 5        </td><td> 5        </td><td>Young     </td><td>2008-10-24</td></tr>\n",
       "</tbody>\n",
       "</table>\n"
      ],
      "text/latex": [
       "\\begin{tabular}{r|llllllllllll}\n",
       "  & managerID & testDate & country & gender & age & item1 & item2 & item3 & item4 & item5 & agecat & date\\\\\n",
       "\\hline\n",
       "\t5 & 5          & 5/1/09     & UK         & F          & NA         & 2          & 2          & 1          &  2         &  1         & NA         & 2009-05-01\\\\\n",
       "\t2 & 2          & 10/28/08   & US         & F          & 45         & 3          & 5          & 2          &  5         &  5         & Young      & 2008-10-28\\\\\n",
       "\t3 & 3          & 10/1/08    & UK         & F          & 25         & 3          & 5          & 5          &  5         &  2         & Young      & 2008-10-01\\\\\n",
       "\t4 & 4          & 10/12/08   & UK         & M          & 39         & 3          & 3          & 4          & NA         & NA         & Young      & 2008-10-12\\\\\n",
       "\t1 & 1          & 10/24/08   & US         & M          & 32         & 5          & 4          & 5          &  5         &  5         & Young      & 2008-10-24\\\\\n",
       "\\end{tabular}\n"
      ],
      "text/markdown": [
       "\n",
       "| <!--/--> | managerID | testDate | country | gender | age | item1 | item2 | item3 | item4 | item5 | agecat | date |\n",
       "|---|---|---|---|---|---|---|---|---|---|---|---|---|\n",
       "| 5 | 5          | 5/1/09     | UK         | F          | NA         | 2          | 2          | 1          |  2         |  1         | NA         | 2009-05-01 |\n",
       "| 2 | 2          | 10/28/08   | US         | F          | 45         | 3          | 5          | 2          |  5         |  5         | Young      | 2008-10-28 |\n",
       "| 3 | 3          | 10/1/08    | UK         | F          | 25         | 3          | 5          | 5          |  5         |  2         | Young      | 2008-10-01 |\n",
       "| 4 | 4          | 10/12/08   | UK         | M          | 39         | 3          | 3          | 4          | NA         | NA         | Young      | 2008-10-12 |\n",
       "| 1 | 1          | 10/24/08   | US         | M          | 32         | 5          | 4          | 5          |  5         |  5         | Young      | 2008-10-24 |\n",
       "\n"
      ],
      "text/plain": [
       "  managerID testDate country gender age item1 item2 item3 item4 item5 agecat\n",
       "5 5         5/1/09   UK      F      NA  2     2     1      2     1    NA    \n",
       "2 2         10/28/08 US      F      45  3     5     2      5     5    Young \n",
       "3 3         10/1/08  UK      F      25  3     5     5      5     2    Young \n",
       "4 4         10/12/08 UK      M      39  3     3     4     NA    NA    Young \n",
       "1 1         10/24/08 US      M      32  5     4     5      5     5    Young \n",
       "  date      \n",
       "5 2009-05-01\n",
       "2 2008-10-28\n",
       "3 2008-10-01\n",
       "4 2008-10-12\n",
       "1 2008-10-24"
      ]
     },
     "metadata": {},
     "output_type": "display_data"
    }
   ],
   "source": [
    "attach(leadership)\n",
    "newdata <-leadership[order(gender, -age),]\n",
    "detach(leadership)\n",
    "newdata\n",
    "#各行依经理人的性别和年龄降序排序"
   ]
  },
  {
   "cell_type": "markdown",
   "metadata": {},
   "source": [
    "# 4.9 数据集的合并"
   ]
  },
  {
   "cell_type": "raw",
   "metadata": {},
   "source": [
    "如果数据分散在多个地方，就需要再继续下一步之前将其合并。\n",
    "\n",
    "这里展示想数据框中添加列（变量）和行（观测）的方法。"
   ]
  },
  {
   "cell_type": "markdown",
   "metadata": {},
   "source": [
    "## 4.9.1 数据集的合并"
   ]
  },
  {
   "cell_type": "markdown",
   "metadata": {},
   "source": [
    "要横向合并两个数据框（数据集），请使用merge()函数。在多数情况下，两个数据框是通过一个或多个共有变量进行联结的（即一种内连接，inner join）。"
   ]
  },
  {
   "cell_type": "raw",
   "metadata": {},
   "source": [
    "#将dataframeA和dataframeB按照ID进行合并。\n",
    "total <- merge(dataframeA, dataframeB, by=\"ID\")\n",
    "\n",
    "#将连个数据框按照ID和Country进行合并。类似的 横向联结通常用于向数据框中添加变量。\n",
    "total <- merge(dataframeA, dataframeB, by=c(\"ID\",\"Country\"))"
   ]
  },
  {
   "cell_type": "markdown",
   "metadata": {},
   "source": [
    "![用cbind进行横向合并.png](./image/用cbind进行横向合并.png)"
   ]
  },
  {
   "cell_type": "markdown",
   "metadata": {},
   "source": [
    "## 4.9.2 向数据框添加行"
   ]
  },
  {
   "cell_type": "raw",
   "metadata": {},
   "source": [
    "使用rbind()函数纵向合并两个数据框（数据集），请使用rbind()函数：\n",
    "\n",
    "total <- rbind(dataframeA,dataframeB)\n",
    "\n",
    "两个数据框必须拥有相同的变量，不过它们的顺序不必一定相同。如果dataframeA中拥有\n",
    "dataframeB中没有的变量，请在合并它们之前做以下某种处理：\n",
    "    \n",
    "    删除dataframeA中的多余变量；\n",
    "    在dataframeB中创建追加的变量并将其值设为NA（缺失）。\n",
    "\n",
    "纵向联结通常用于向数据框中添加观测。"
   ]
  },
  {
   "cell_type": "markdown",
   "metadata": {},
   "source": [
    "# 4.10 数据集取子集"
   ]
  },
  {
   "cell_type": "markdown",
   "metadata": {},
   "source": [
    "R拥有强大的索引特性，可以用于访问对象中的元素。也可利用这些特性对变量或观测进行选入和排除。以下几节演示了对变量和观测进行保留或删除的若干方法。"
   ]
  },
  {
   "cell_type": "markdown",
   "metadata": {},
   "source": [
    "## 4.10.1 选入（保留）变量"
   ]
  },
  {
   "cell_type": "markdown",
   "metadata": {},
   "source": [
    "从一个大数据集中选择有限数量的变量来创建一个新的数据集是常有的事。在第2章中，数据框中的元素是通过dataframe[row indices, column indices]这样的记号来访问的。你可以沿用这种方法来选择变量。"
   ]
  },
  {
   "cell_type": "code",
   "execution_count": 51,
   "metadata": {},
   "outputs": [
    {
     "name": "stderr",
     "output_type": "stream",
     "text": [
      "Your code contains a unicode char which cannot be displayed in your\n",
      "current locale and R will silently convert it to an escaped form when the\n",
      "R kernel executes this code. This can lead to subtle errors if you use\n",
      "such chars to do comparisons. For more information, please see\n",
      "https://github.com/IRkernel/repr/wiki/Problems-with-unicode-on-windows"
     ]
    },
    {
     "data": {
      "text/html": [
       "<table>\n",
       "<thead><tr><th scope=col>item1</th><th scope=col>item2</th><th scope=col>item3</th><th scope=col>item4</th><th scope=col>item5</th></tr></thead>\n",
       "<tbody>\n",
       "\t<tr><td>5 </td><td>4 </td><td>5 </td><td> 5</td><td> 5</td></tr>\n",
       "\t<tr><td>3 </td><td>5 </td><td>2 </td><td> 5</td><td> 5</td></tr>\n",
       "\t<tr><td>3 </td><td>5 </td><td>5 </td><td> 5</td><td> 2</td></tr>\n",
       "\t<tr><td>3 </td><td>3 </td><td>4 </td><td>NA</td><td>NA</td></tr>\n",
       "\t<tr><td>2 </td><td>2 </td><td>1 </td><td> 2</td><td> 1</td></tr>\n",
       "</tbody>\n",
       "</table>\n"
      ],
      "text/latex": [
       "\\begin{tabular}{r|lllll}\n",
       " item1 & item2 & item3 & item4 & item5\\\\\n",
       "\\hline\n",
       "\t 5  & 4  & 5  &  5 &  5\\\\\n",
       "\t 3  & 5  & 2  &  5 &  5\\\\\n",
       "\t 3  & 5  & 5  &  5 &  2\\\\\n",
       "\t 3  & 3  & 4  & NA & NA\\\\\n",
       "\t 2  & 2  & 1  &  2 &  1\\\\\n",
       "\\end{tabular}\n"
      ],
      "text/markdown": [
       "\n",
       "| item1 | item2 | item3 | item4 | item5 |\n",
       "|---|---|---|---|---|\n",
       "| 5  | 4  | 5  |  5 |  5 |\n",
       "| 3  | 5  | 2  |  5 |  5 |\n",
       "| 3  | 5  | 5  |  5 |  2 |\n",
       "| 3  | 3  | 4  | NA | NA |\n",
       "| 2  | 2  | 1  |  2 |  1 |\n",
       "\n"
      ],
      "text/plain": [
       "  item1 item2 item3 item4 item5\n",
       "1 5     4     5      5     5   \n",
       "2 3     5     2      5     5   \n",
       "3 3     5     5      5     2   \n",
       "4 3     3     4     NA    NA   \n",
       "5 2     2     1      2     1   "
      ]
     },
     "metadata": {},
     "output_type": "display_data"
    },
    {
     "data": {
      "text/html": [
       "<table>\n",
       "<thead><tr><th scope=col>item1</th><th scope=col>item2</th><th scope=col>item3</th><th scope=col>item4</th><th scope=col>item5</th></tr></thead>\n",
       "<tbody>\n",
       "\t<tr><td>5 </td><td>4 </td><td>5 </td><td> 5</td><td> 5</td></tr>\n",
       "\t<tr><td>3 </td><td>5 </td><td>2 </td><td> 5</td><td> 5</td></tr>\n",
       "\t<tr><td>3 </td><td>5 </td><td>5 </td><td> 5</td><td> 2</td></tr>\n",
       "\t<tr><td>3 </td><td>3 </td><td>4 </td><td>NA</td><td>NA</td></tr>\n",
       "\t<tr><td>2 </td><td>2 </td><td>1 </td><td> 2</td><td> 1</td></tr>\n",
       "</tbody>\n",
       "</table>\n"
      ],
      "text/latex": [
       "\\begin{tabular}{r|lllll}\n",
       " item1 & item2 & item3 & item4 & item5\\\\\n",
       "\\hline\n",
       "\t 5  & 4  & 5  &  5 &  5\\\\\n",
       "\t 3  & 5  & 2  &  5 &  5\\\\\n",
       "\t 3  & 5  & 5  &  5 &  2\\\\\n",
       "\t 3  & 3  & 4  & NA & NA\\\\\n",
       "\t 2  & 2  & 1  &  2 &  1\\\\\n",
       "\\end{tabular}\n"
      ],
      "text/markdown": [
       "\n",
       "| item1 | item2 | item3 | item4 | item5 |\n",
       "|---|---|---|---|---|\n",
       "| 5  | 4  | 5  |  5 |  5 |\n",
       "| 3  | 5  | 2  |  5 |  5 |\n",
       "| 3  | 5  | 5  |  5 |  2 |\n",
       "| 3  | 3  | 4  | NA | NA |\n",
       "| 2  | 2  | 1  |  2 |  1 |\n",
       "\n"
      ],
      "text/plain": [
       "  item1 item2 item3 item4 item5\n",
       "1 5     4     5      5     5   \n",
       "2 3     5     2      5     5   \n",
       "3 3     5     5      5     2   \n",
       "4 3     3     4     NA    NA   \n",
       "5 2     2     1      2     1   "
      ]
     },
     "metadata": {},
     "output_type": "display_data"
    },
    {
     "data": {
      "text/html": [
       "<table>\n",
       "<thead><tr><th scope=col>item1</th><th scope=col>item2</th><th scope=col>item3</th><th scope=col>item4</th><th scope=col>item5</th></tr></thead>\n",
       "<tbody>\n",
       "\t<tr><td>5 </td><td>4 </td><td>5 </td><td> 5</td><td> 5</td></tr>\n",
       "\t<tr><td>3 </td><td>5 </td><td>2 </td><td> 5</td><td> 5</td></tr>\n",
       "\t<tr><td>3 </td><td>5 </td><td>5 </td><td> 5</td><td> 2</td></tr>\n",
       "\t<tr><td>3 </td><td>3 </td><td>4 </td><td>NA</td><td>NA</td></tr>\n",
       "\t<tr><td>2 </td><td>2 </td><td>1 </td><td> 2</td><td> 1</td></tr>\n",
       "</tbody>\n",
       "</table>\n"
      ],
      "text/latex": [
       "\\begin{tabular}{r|lllll}\n",
       " item1 & item2 & item3 & item4 & item5\\\\\n",
       "\\hline\n",
       "\t 5  & 4  & 5  &  5 &  5\\\\\n",
       "\t 3  & 5  & 2  &  5 &  5\\\\\n",
       "\t 3  & 5  & 5  &  5 &  2\\\\\n",
       "\t 3  & 3  & 4  & NA & NA\\\\\n",
       "\t 2  & 2  & 1  &  2 &  1\\\\\n",
       "\\end{tabular}\n"
      ],
      "text/markdown": [
       "\n",
       "| item1 | item2 | item3 | item4 | item5 |\n",
       "|---|---|---|---|---|\n",
       "| 5  | 4  | 5  |  5 |  5 |\n",
       "| 3  | 5  | 2  |  5 |  5 |\n",
       "| 3  | 5  | 5  |  5 |  2 |\n",
       "| 3  | 3  | 4  | NA | NA |\n",
       "| 2  | 2  | 1  |  2 |  1 |\n",
       "\n"
      ],
      "text/plain": [
       "  item1 item2 item3 item4 item5\n",
       "1 5     4     5      5     5   \n",
       "2 3     5     2      5     5   \n",
       "3 3     5     5      5     2   \n",
       "4 3     3     4     NA    NA   \n",
       "5 2     2     1      2     1   "
      ]
     },
     "metadata": {},
     "output_type": "display_data"
    }
   ],
   "source": [
    "#从leadership数据框中选择了变量item1、item2、item3、item4、item5，并将它们保存到数据框newdata中。将行下标留空（,）表示默认选择所有行。\n",
    "newdata <- leadership[, c(6:10)]\n",
    "newdata\n",
    "\n",
    "#将行下标留空（,）表示默认选择所有行。\n",
    "myvars <- c(\"item1\", \"item2\", \"item3\", \"item4\", \"item5\")\n",
    "newdata2 <-leadership[myvars]\n",
    "newdata2\n",
    "\n",
    "#同样的结果\n",
    "myvars <- paste(\"item\", 1:5, sep=\"\")  #使用paste()函数创建了与上例中相同的字符型向量\n",
    "newdata3 <- leadership[myvars]\n",
    "newdata3"
   ]
  },
  {
   "cell_type": "markdown",
   "metadata": {},
   "source": [
    "## 4.10.2 剔除（丢弃）变量"
   ]
  },
  {
   "cell_type": "markdown",
   "metadata": {},
   "source": [
    "剔除变量的原因有很多。\n",
    "\n",
    "举例来说，如果某个变量中有很多缺失值，你可能就想在进一步分析之前将其丢弃。下面是一些剔除变量的方法。"
   ]
  },
  {
   "cell_type": "code",
   "execution_count": 52,
   "metadata": {},
   "outputs": [
    {
     "name": "stderr",
     "output_type": "stream",
     "text": [
      "Your code contains a unicode char which cannot be displayed in your\n",
      "current locale and R will silently convert it to an escaped form when the\n",
      "R kernel executes this code. This can lead to subtle errors if you use\n",
      "such chars to do comparisons. For more information, please see\n",
      "https://github.com/IRkernel/repr/wiki/Problems-with-unicode-on-windows"
     ]
    },
    {
     "data": {
      "text/html": [
       "<ol class=list-inline>\n",
       "\t<li>FALSE</li>\n",
       "\t<li>FALSE</li>\n",
       "\t<li>FALSE</li>\n",
       "\t<li>FALSE</li>\n",
       "\t<li>FALSE</li>\n",
       "\t<li>FALSE</li>\n",
       "\t<li>FALSE</li>\n",
       "\t<li>TRUE</li>\n",
       "\t<li>TRUE</li>\n",
       "\t<li>FALSE</li>\n",
       "\t<li>FALSE</li>\n",
       "\t<li>FALSE</li>\n",
       "</ol>\n"
      ],
      "text/latex": [
       "\\begin{enumerate*}\n",
       "\\item FALSE\n",
       "\\item FALSE\n",
       "\\item FALSE\n",
       "\\item FALSE\n",
       "\\item FALSE\n",
       "\\item FALSE\n",
       "\\item FALSE\n",
       "\\item TRUE\n",
       "\\item TRUE\n",
       "\\item FALSE\n",
       "\\item FALSE\n",
       "\\item FALSE\n",
       "\\end{enumerate*}\n"
      ],
      "text/markdown": [
       "1. FALSE\n",
       "2. FALSE\n",
       "3. FALSE\n",
       "4. FALSE\n",
       "5. FALSE\n",
       "6. FALSE\n",
       "7. FALSE\n",
       "8. TRUE\n",
       "9. TRUE\n",
       "10. FALSE\n",
       "11. FALSE\n",
       "12. FALSE\n",
       "\n",
       "\n"
      ],
      "text/plain": [
       " [1] FALSE FALSE FALSE FALSE FALSE FALSE FALSE  TRUE  TRUE FALSE FALSE FALSE"
      ]
     },
     "metadata": {},
     "output_type": "display_data"
    },
    {
     "data": {
      "text/html": [
       "<table>\n",
       "<thead><tr><th scope=col>managerID</th><th scope=col>testDate</th><th scope=col>country</th><th scope=col>gender</th><th scope=col>age</th><th scope=col>item1</th><th scope=col>item2</th><th scope=col>item5</th><th scope=col>agecat</th><th scope=col>date</th></tr></thead>\n",
       "<tbody>\n",
       "\t<tr><td>1         </td><td>10/24/08  </td><td>US        </td><td>M         </td><td>32        </td><td>5         </td><td>4         </td><td> 5        </td><td>Young     </td><td>2008-10-24</td></tr>\n",
       "\t<tr><td>2         </td><td>10/28/08  </td><td>US        </td><td>F         </td><td>45        </td><td>3         </td><td>5         </td><td> 5        </td><td>Young     </td><td>2008-10-28</td></tr>\n",
       "\t<tr><td>3         </td><td>10/1/08   </td><td>UK        </td><td>F         </td><td>25        </td><td>3         </td><td>5         </td><td> 2        </td><td>Young     </td><td>2008-10-01</td></tr>\n",
       "\t<tr><td>4         </td><td>10/12/08  </td><td>UK        </td><td>M         </td><td>39        </td><td>3         </td><td>3         </td><td>NA        </td><td>Young     </td><td>2008-10-12</td></tr>\n",
       "\t<tr><td>5         </td><td>5/1/09    </td><td>UK        </td><td>F         </td><td>NA        </td><td>2         </td><td>2         </td><td> 1        </td><td>NA        </td><td>2009-05-01</td></tr>\n",
       "</tbody>\n",
       "</table>\n"
      ],
      "text/latex": [
       "\\begin{tabular}{r|llllllllll}\n",
       " managerID & testDate & country & gender & age & item1 & item2 & item5 & agecat & date\\\\\n",
       "\\hline\n",
       "\t 1          & 10/24/08   & US         & M          & 32         & 5          & 4          &  5         & Young      & 2008-10-24\\\\\n",
       "\t 2          & 10/28/08   & US         & F          & 45         & 3          & 5          &  5         & Young      & 2008-10-28\\\\\n",
       "\t 3          & 10/1/08    & UK         & F          & 25         & 3          & 5          &  2         & Young      & 2008-10-01\\\\\n",
       "\t 4          & 10/12/08   & UK         & M          & 39         & 3          & 3          & NA         & Young      & 2008-10-12\\\\\n",
       "\t 5          & 5/1/09     & UK         & F          & NA         & 2          & 2          &  1         & NA         & 2009-05-01\\\\\n",
       "\\end{tabular}\n"
      ],
      "text/markdown": [
       "\n",
       "| managerID | testDate | country | gender | age | item1 | item2 | item5 | agecat | date |\n",
       "|---|---|---|---|---|---|---|---|---|---|\n",
       "| 1          | 10/24/08   | US         | M          | 32         | 5          | 4          |  5         | Young      | 2008-10-24 |\n",
       "| 2          | 10/28/08   | US         | F          | 45         | 3          | 5          |  5         | Young      | 2008-10-28 |\n",
       "| 3          | 10/1/08    | UK         | F          | 25         | 3          | 5          |  2         | Young      | 2008-10-01 |\n",
       "| 4          | 10/12/08   | UK         | M          | 39         | 3          | 3          | NA         | Young      | 2008-10-12 |\n",
       "| 5          | 5/1/09     | UK         | F          | NA         | 2          | 2          |  1         | NA         | 2009-05-01 |\n",
       "\n"
      ],
      "text/plain": [
       "  managerID testDate country gender age item1 item2 item5 agecat date      \n",
       "1 1         10/24/08 US      M      32  5     4      5    Young  2008-10-24\n",
       "2 2         10/28/08 US      F      45  3     5      5    Young  2008-10-28\n",
       "3 3         10/1/08  UK      F      25  3     5      2    Young  2008-10-01\n",
       "4 4         10/12/08 UK      M      39  3     3     NA    Young  2008-10-12\n",
       "5 5         5/1/09   UK      F      NA  2     2      1    NA     2009-05-01"
      ]
     },
     "metadata": {},
     "output_type": "display_data"
    }
   ],
   "source": [
    "x <- names(leadership)  #生成一个包含所有变量名的字符型向量\n",
    "myvars <- x %in% c(\"item3\", \"item4\")  #返回一个包含所有变量名的字符型向量\n",
    "myvars\n",
    "\n",
    "newdata <- leadership[!myvars]  #运算符非（!）将逻辑值反转，leadership[!myvars]选择逻辑值为TRUE的列，于是剔除\"item3\", \"item4\"\n",
    "newdata"
   ]
  },
  {
   "cell_type": "code",
   "execution_count": 54,
   "metadata": {},
   "outputs": [
    {
     "name": "stderr",
     "output_type": "stream",
     "text": [
      "Your code contains a unicode char which cannot be displayed in your\n",
      "current locale and R will silently convert it to an escaped form when the\n",
      "R kernel executes this code. This can lead to subtle errors if you use\n",
      "such chars to do comparisons. For more information, please see\n",
      "https://github.com/IRkernel/repr/wiki/Problems-with-unicode-on-windows"
     ]
    },
    {
     "data": {
      "text/html": [
       "<table>\n",
       "<thead><tr><th scope=col>managerID</th><th scope=col>testDate</th><th scope=col>country</th><th scope=col>gender</th><th scope=col>age</th><th scope=col>item1</th><th scope=col>item2</th><th scope=col>item5</th><th scope=col>agecat</th><th scope=col>date</th></tr></thead>\n",
       "<tbody>\n",
       "\t<tr><td>1         </td><td>10/24/08  </td><td>US        </td><td>M         </td><td>32        </td><td>5         </td><td>4         </td><td> 5        </td><td>Young     </td><td>2008-10-24</td></tr>\n",
       "\t<tr><td>2         </td><td>10/28/08  </td><td>US        </td><td>F         </td><td>45        </td><td>3         </td><td>5         </td><td> 5        </td><td>Young     </td><td>2008-10-28</td></tr>\n",
       "\t<tr><td>3         </td><td>10/1/08   </td><td>UK        </td><td>F         </td><td>25        </td><td>3         </td><td>5         </td><td> 2        </td><td>Young     </td><td>2008-10-01</td></tr>\n",
       "\t<tr><td>4         </td><td>10/12/08  </td><td>UK        </td><td>M         </td><td>39        </td><td>3         </td><td>3         </td><td>NA        </td><td>Young     </td><td>2008-10-12</td></tr>\n",
       "\t<tr><td>5         </td><td>5/1/09    </td><td>UK        </td><td>F         </td><td>NA        </td><td>2         </td><td>2         </td><td> 1        </td><td>NA        </td><td>2009-05-01</td></tr>\n",
       "</tbody>\n",
       "</table>\n"
      ],
      "text/latex": [
       "\\begin{tabular}{r|llllllllll}\n",
       " managerID & testDate & country & gender & age & item1 & item2 & item5 & agecat & date\\\\\n",
       "\\hline\n",
       "\t 1          & 10/24/08   & US         & M          & 32         & 5          & 4          &  5         & Young      & 2008-10-24\\\\\n",
       "\t 2          & 10/28/08   & US         & F          & 45         & 3          & 5          &  5         & Young      & 2008-10-28\\\\\n",
       "\t 3          & 10/1/08    & UK         & F          & 25         & 3          & 5          &  2         & Young      & 2008-10-01\\\\\n",
       "\t 4          & 10/12/08   & UK         & M          & 39         & 3          & 3          & NA         & Young      & 2008-10-12\\\\\n",
       "\t 5          & 5/1/09     & UK         & F          & NA         & 2          & 2          &  1         & NA         & 2009-05-01\\\\\n",
       "\\end{tabular}\n"
      ],
      "text/markdown": [
       "\n",
       "| managerID | testDate | country | gender | age | item1 | item2 | item5 | agecat | date |\n",
       "|---|---|---|---|---|---|---|---|---|---|\n",
       "| 1          | 10/24/08   | US         | M          | 32         | 5          | 4          |  5         | Young      | 2008-10-24 |\n",
       "| 2          | 10/28/08   | US         | F          | 45         | 3          | 5          |  5         | Young      | 2008-10-28 |\n",
       "| 3          | 10/1/08    | UK         | F          | 25         | 3          | 5          |  2         | Young      | 2008-10-01 |\n",
       "| 4          | 10/12/08   | UK         | M          | 39         | 3          | 3          | NA         | Young      | 2008-10-12 |\n",
       "| 5          | 5/1/09     | UK         | F          | NA         | 2          | 2          |  1         | NA         | 2009-05-01 |\n",
       "\n"
      ],
      "text/plain": [
       "  managerID testDate country gender age item1 item2 item5 agecat date      \n",
       "1 1         10/24/08 US      M      32  5     4      5    Young  2008-10-24\n",
       "2 2         10/28/08 US      F      45  3     5      5    Young  2008-10-28\n",
       "3 3         10/1/08  UK      F      25  3     5      2    Young  2008-10-01\n",
       "4 4         10/12/08 UK      M      39  3     3     NA    Young  2008-10-12\n",
       "5 5         5/1/09   UK      F      NA  2     2      1    NA     2009-05-01"
      ]
     },
     "metadata": {},
     "output_type": "display_data"
    }
   ],
   "source": [
    "#如果知道\"item3\", \"item4\"是第八第九个变量，可以使用下面的语句：\n",
    "newdata5 <- leadership[c(-8,-9)]  #在某一列的下标之前加一个减号就会提出那一列\n",
    "newdata5"
   ]
  },
  {
   "cell_type": "code",
   "execution_count": 55,
   "metadata": {},
   "outputs": [
    {
     "name": "stderr",
     "output_type": "stream",
     "text": [
      "Your code contains a unicode char which cannot be displayed in your\n",
      "current locale and R will silently convert it to an escaped form when the\n",
      "R kernel executes this code. This can lead to subtle errors if you use\n",
      "such chars to do comparisons. For more information, please see\n",
      "https://github.com/IRkernel/repr/wiki/Problems-with-unicode-on-windows"
     ]
    },
    {
     "data": {
      "text/html": [
       "<table>\n",
       "<thead><tr><th scope=col>managerID</th><th scope=col>testDate</th><th scope=col>country</th><th scope=col>gender</th><th scope=col>age</th><th scope=col>item2</th><th scope=col>item3</th><th scope=col>item5</th><th scope=col>agecat</th><th scope=col>date</th></tr></thead>\n",
       "<tbody>\n",
       "\t<tr><td>1         </td><td>10/24/08  </td><td>US        </td><td>M         </td><td>32        </td><td>4         </td><td>5         </td><td> 5        </td><td>Young     </td><td>2008-10-24</td></tr>\n",
       "\t<tr><td>2         </td><td>10/28/08  </td><td>US        </td><td>F         </td><td>45        </td><td>5         </td><td>2         </td><td> 5        </td><td>Young     </td><td>2008-10-28</td></tr>\n",
       "\t<tr><td>3         </td><td>10/1/08   </td><td>UK        </td><td>F         </td><td>25        </td><td>5         </td><td>5         </td><td> 2        </td><td>Young     </td><td>2008-10-01</td></tr>\n",
       "\t<tr><td>4         </td><td>10/12/08  </td><td>UK        </td><td>M         </td><td>39        </td><td>3         </td><td>4         </td><td>NA        </td><td>Young     </td><td>2008-10-12</td></tr>\n",
       "\t<tr><td>5         </td><td>5/1/09    </td><td>UK        </td><td>F         </td><td>NA        </td><td>2         </td><td>1         </td><td> 1        </td><td>NA        </td><td>2009-05-01</td></tr>\n",
       "</tbody>\n",
       "</table>\n"
      ],
      "text/latex": [
       "\\begin{tabular}{r|llllllllll}\n",
       " managerID & testDate & country & gender & age & item2 & item3 & item5 & agecat & date\\\\\n",
       "\\hline\n",
       "\t 1          & 10/24/08   & US         & M          & 32         & 4          & 5          &  5         & Young      & 2008-10-24\\\\\n",
       "\t 2          & 10/28/08   & US         & F          & 45         & 5          & 2          &  5         & Young      & 2008-10-28\\\\\n",
       "\t 3          & 10/1/08    & UK         & F          & 25         & 5          & 5          &  2         & Young      & 2008-10-01\\\\\n",
       "\t 4          & 10/12/08   & UK         & M          & 39         & 3          & 4          & NA         & Young      & 2008-10-12\\\\\n",
       "\t 5          & 5/1/09     & UK         & F          & NA         & 2          & 1          &  1         & NA         & 2009-05-01\\\\\n",
       "\\end{tabular}\n"
      ],
      "text/markdown": [
       "\n",
       "| managerID | testDate | country | gender | age | item2 | item3 | item5 | agecat | date |\n",
       "|---|---|---|---|---|---|---|---|---|---|\n",
       "| 1          | 10/24/08   | US         | M          | 32         | 4          | 5          |  5         | Young      | 2008-10-24 |\n",
       "| 2          | 10/28/08   | US         | F          | 45         | 5          | 2          |  5         | Young      | 2008-10-28 |\n",
       "| 3          | 10/1/08    | UK         | F          | 25         | 5          | 5          |  2         | Young      | 2008-10-01 |\n",
       "| 4          | 10/12/08   | UK         | M          | 39         | 3          | 4          | NA         | Young      | 2008-10-12 |\n",
       "| 5          | 5/1/09     | UK         | F          | NA         | 2          | 1          |  1         | NA         | 2009-05-01 |\n",
       "\n"
      ],
      "text/plain": [
       "  managerID testDate country gender age item2 item3 item5 agecat date      \n",
       "1 1         10/24/08 US      M      32  4     5      5    Young  2008-10-24\n",
       "2 2         10/28/08 US      F      45  5     2      5    Young  2008-10-28\n",
       "3 3         10/1/08  UK      F      25  5     5      2    Young  2008-10-01\n",
       "4 4         10/12/08 UK      M      39  3     4     NA    Young  2008-10-12\n",
       "5 5         5/1/09   UK      F      NA  2     1      1    NA     2009-05-01"
      ]
     },
     "metadata": {},
     "output_type": "display_data"
    }
   ],
   "source": [
    "#相同的变量删除工作亦可通过下列语句\n",
    "newdata6 <- leadership\n",
    "newdata6$item1 <- newdata6$item4 <- NULL  #将item1 和 item4 设为未定义（NULL）。注意，NULL与NA（表示缺失）是不同的。\n",
    "newdata6"
   ]
  },
  {
   "cell_type": "markdown",
   "metadata": {},
   "source": [
    "## 4.10.3 选入观测"
   ]
  },
  {
   "cell_type": "markdown",
   "metadata": {},
   "source": [
    "选入或剔除观测（行）通常是成功的数据准备和数据分析的一个关键方面。"
   ]
  },
  {
   "cell_type": "code",
   "execution_count": 57,
   "metadata": {},
   "outputs": [
    {
     "name": "stderr",
     "output_type": "stream",
     "text": [
      "Your code contains a unicode char which cannot be displayed in your\n",
      "current locale and R will silently convert it to an escaped form when the\n",
      "R kernel executes this code. This can lead to subtle errors if you use\n",
      "such chars to do comparisons. For more information, please see\n",
      "https://github.com/IRkernel/repr/wiki/Problems-with-unicode-on-windowsThe following objects are masked _by_ .GlobalEnv:\n",
      "\n",
      "    age, country, date, gender\n",
      "\n"
     ]
    },
    {
     "data": {
      "text/html": [
       "<table>\n",
       "<thead><tr><th></th><th scope=col>managerID</th><th scope=col>testDate</th><th scope=col>country</th><th scope=col>gender</th><th scope=col>age</th><th scope=col>item1</th><th scope=col>item2</th><th scope=col>item3</th><th scope=col>item4</th><th scope=col>item5</th><th scope=col>agecat</th><th scope=col>date</th></tr></thead>\n",
       "<tbody>\n",
       "\t<tr><th scope=row>1</th><td>1         </td><td>10/24/08  </td><td>US        </td><td>M         </td><td>32        </td><td>5         </td><td>4         </td><td>5         </td><td> 5        </td><td> 5        </td><td>Young     </td><td>2008-10-24</td></tr>\n",
       "\t<tr><th scope=row>4</th><td>4         </td><td>10/12/08  </td><td>UK        </td><td>M         </td><td>39        </td><td>3         </td><td>3         </td><td>4         </td><td>NA        </td><td>NA        </td><td>Young     </td><td>2008-10-12</td></tr>\n",
       "</tbody>\n",
       "</table>\n"
      ],
      "text/latex": [
       "\\begin{tabular}{r|llllllllllll}\n",
       "  & managerID & testDate & country & gender & age & item1 & item2 & item3 & item4 & item5 & agecat & date\\\\\n",
       "\\hline\n",
       "\t1 & 1          & 10/24/08   & US         & M          & 32         & 5          & 4          & 5          &  5         &  5         & Young      & 2008-10-24\\\\\n",
       "\t4 & 4          & 10/12/08   & UK         & M          & 39         & 3          & 3          & 4          & NA         & NA         & Young      & 2008-10-12\\\\\n",
       "\\end{tabular}\n"
      ],
      "text/markdown": [
       "\n",
       "| <!--/--> | managerID | testDate | country | gender | age | item1 | item2 | item3 | item4 | item5 | agecat | date |\n",
       "|---|---|---|---|---|---|---|---|---|---|---|---|---|\n",
       "| 1 | 1          | 10/24/08   | US         | M          | 32         | 5          | 4          | 5          |  5         |  5         | Young      | 2008-10-24 |\n",
       "| 4 | 4          | 10/12/08   | UK         | M          | 39         | 3          | 3          | 4          | NA         | NA         | Young      | 2008-10-12 |\n",
       "\n"
      ],
      "text/plain": [
       "  managerID testDate country gender age item1 item2 item3 item4 item5 agecat\n",
       "1 1         10/24/08 US      M      32  5     4     5      5     5    Young \n",
       "4 4         10/12/08 UK      M      39  3     3     4     NA    NA    Young \n",
       "  date      \n",
       "1 2008-10-24\n",
       "4 2008-10-12"
      ]
     },
     "metadata": {},
     "output_type": "display_data"
    }
   ],
   "source": [
    "#选入观测\n",
    "newdata <- leadership[1:3,]  #选择第1行到第3行（前三个观测）\n",
    "\n",
    "newdata <- leadership[leadership$gender==\"M\" &\n",
    "                      leadership$age > 30,] #选择所有30岁以上的男性\n",
    "\n",
    "#使用attach()函数，省却不必在变量名前加上数据框名称\n",
    "attach(leadership)\n",
    "newdata <- leadership[gender=='M' & age > 30,]\n",
    "detach(leadership)\n",
    "newdata"
   ]
  },
  {
   "cell_type": "code",
   "execution_count": 58,
   "metadata": {},
   "outputs": [
    {
     "name": "stderr",
     "output_type": "stream",
     "text": [
      "Your code contains a unicode char which cannot be displayed in your\n",
      "current locale and R will silently convert it to an escaped form when the\n",
      "R kernel executes this code. This can lead to subtle errors if you use\n",
      "such chars to do comparisons. For more information, please see\n",
      "https://github.com/IRkernel/repr/wiki/Problems-with-unicode-on-windows"
     ]
    },
    {
     "data": {
      "text/html": [
       "<table>\n",
       "<thead><tr><th></th><th scope=col>managerID</th><th scope=col>testDate</th><th scope=col>country</th><th scope=col>gender</th><th scope=col>age</th><th scope=col>item1</th><th scope=col>item2</th><th scope=col>item3</th><th scope=col>item4</th><th scope=col>item5</th><th scope=col>agecat</th><th scope=col>date</th></tr></thead>\n",
       "<tbody>\n",
       "\t<tr><th scope=row>5</th><td>5         </td><td>5/1/09    </td><td>UK        </td><td>F         </td><td>NA        </td><td>2         </td><td>2         </td><td>1         </td><td>2         </td><td>1         </td><td>NA        </td><td>2009-05-01</td></tr>\n",
       "</tbody>\n",
       "</table>\n"
      ],
      "text/latex": [
       "\\begin{tabular}{r|llllllllllll}\n",
       "  & managerID & testDate & country & gender & age & item1 & item2 & item3 & item4 & item5 & agecat & date\\\\\n",
       "\\hline\n",
       "\t5 & 5          & 5/1/09     & UK         & F          & NA         & 2          & 2          & 1          & 2          & 1          & NA         & 2009-05-01\\\\\n",
       "\\end{tabular}\n"
      ],
      "text/markdown": [
       "\n",
       "| <!--/--> | managerID | testDate | country | gender | age | item1 | item2 | item3 | item4 | item5 | agecat | date |\n",
       "|---|---|---|---|---|---|---|---|---|---|---|---|---|\n",
       "| 5 | 5          | 5/1/09     | UK         | F          | NA         | 2          | 2          | 1          | 2          | 1          | NA         | 2009-05-01 |\n",
       "\n"
      ],
      "text/plain": [
       "  managerID testDate country gender age item1 item2 item3 item4 item5 agecat\n",
       "5 5         5/1/09   UK      F      NA  2     2     1     2     1     NA    \n",
       "  date      \n",
       "5 2009-05-01"
      ]
     },
     "metadata": {},
     "output_type": "display_data"
    }
   ],
   "source": [
    "#将研究范围限定在2009年1月1日到2009年12月31日\n",
    "leadership$date <- as.Date(leadership$date, \"%m/%d/%y\")\n",
    "\n",
    "startdate <- as.Date(\"2009-01-01\")  #创建开始日期\n",
    "enddate <- as.Date(\"2009-10-31\")  #创建结束日期\n",
    "\n",
    "newdata <- leadership[which(leadership$date >= startdate &\n",
    "                            leadership$date <= enddate),]  #选择满足你期望中准则的个案\n",
    "newdata"
   ]
  },
  {
   "cell_type": "code",
   "execution_count": null,
   "metadata": {},
   "outputs": [],
   "source": []
  }
 ],
 "metadata": {
  "kernelspec": {
   "display_name": "R",
   "language": "R",
   "name": "ir"
  },
  "language_info": {
   "codemirror_mode": "r",
   "file_extension": ".r",
   "mimetype": "text/x-r-source",
   "name": "R",
   "pygments_lexer": "r",
   "version": "3.5.1"
  }
 },
 "nbformat": 4,
 "nbformat_minor": 2
}
