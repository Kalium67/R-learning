{
 "cells": [
  {
   "cell_type": "markdown",
   "metadata": {},
   "source": [
    "R使用install.packages 安装程序包时，由于默认选择国外CRAN镜像，会导致下载程序包特别慢，经常导致安装失败。"
   ]
  },
  {
   "cell_type": "markdown",
   "metadata": {},
   "source": [
    "# 这时候就需要一条语句来指定国内CRAN"
   ]
  },
  {
   "cell_type": "raw",
   "metadata": {},
   "source": [
    "options(repos=structure(c(CRAN=\"https://mirrors.tuna.tsinghua.edu.cn/CRAN/\")))\n",
    "#清华大学镜像，速度会比国外的快很多"
   ]
  },
  {
   "cell_type": "raw",
   "metadata": {},
   "source": [
    "options(repos=structure(c(CRAN=\"http://mirrors.opencas.cn/cran/\")))\n",
    "#中国科学院大学的镜像"
   ]
  },
  {
   "cell_type": "code",
   "execution_count": null,
   "metadata": {},
   "outputs": [],
   "source": []
  }
 ],
 "metadata": {
  "kernelspec": {
   "display_name": "R",
   "language": "R",
   "name": "ir"
  },
  "language_info": {
   "codemirror_mode": "r",
   "file_extension": ".r",
   "mimetype": "text/x-r-source",
   "name": "R",
   "pygments_lexer": "r",
   "version": "3.5.1"
  }
 },
 "nbformat": 4,
 "nbformat_minor": 2
}
