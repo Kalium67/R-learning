{
 "cells": [
  {
   "cell_type": "markdown",
   "metadata": {},
   "source": [
    "# 7.1 描述性统计分析"
   ]
  },
  {
   "cell_type": "markdown",
   "metadata": {},
   "source": [
    "描述性统计分析\n",
    "\n",
    "频数表和列联表\n",
    "\n",
    "相关系数和协方差\n",
    "\n",
    "t检验\n",
    "\n",
    "非参数统计"
   ]
  },
  {
   "cell_type": "markdown",
   "metadata": {},
   "source": [
    "分析连续性变量的中心趋势、变化性和分布形状的方法。"
   ]
  },
  {
   "cell_type": "code",
   "execution_count": 1,
   "metadata": {},
   "outputs": [
    {
     "data": {
      "text/html": [
       "<table>\n",
       "<thead><tr><th></th><th scope=col>mpg</th><th scope=col>hp</th><th scope=col>wt</th></tr></thead>\n",
       "<tbody>\n",
       "\t<tr><th scope=row>Mazda RX4</th><td>21.0 </td><td>110  </td><td>2.620</td></tr>\n",
       "\t<tr><th scope=row>Mazda RX4 Wag</th><td>21.0 </td><td>110  </td><td>2.875</td></tr>\n",
       "\t<tr><th scope=row>Datsun 710</th><td>22.8 </td><td> 93  </td><td>2.320</td></tr>\n",
       "\t<tr><th scope=row>Hornet 4 Drive</th><td>21.4 </td><td>110  </td><td>3.215</td></tr>\n",
       "\t<tr><th scope=row>Hornet Sportabout</th><td>18.7 </td><td>175  </td><td>3.440</td></tr>\n",
       "\t<tr><th scope=row>Valiant</th><td>18.1 </td><td>105  </td><td>3.460</td></tr>\n",
       "</tbody>\n",
       "</table>\n"
      ],
      "text/latex": [
       "\\begin{tabular}{r|lll}\n",
       "  & mpg & hp & wt\\\\\n",
       "\\hline\n",
       "\tMazda RX4 & 21.0  & 110   & 2.620\\\\\n",
       "\tMazda RX4 Wag & 21.0  & 110   & 2.875\\\\\n",
       "\tDatsun 710 & 22.8  &  93   & 2.320\\\\\n",
       "\tHornet 4 Drive & 21.4  & 110   & 3.215\\\\\n",
       "\tHornet Sportabout & 18.7  & 175   & 3.440\\\\\n",
       "\tValiant & 18.1  & 105   & 3.460\\\\\n",
       "\\end{tabular}\n"
      ],
      "text/markdown": [
       "\n",
       "| <!--/--> | mpg | hp | wt | \n",
       "|---|---|---|---|---|---|\n",
       "| Mazda RX4 | 21.0  | 110   | 2.620 | \n",
       "| Mazda RX4 Wag | 21.0  | 110   | 2.875 | \n",
       "| Datsun 710 | 22.8  |  93   | 2.320 | \n",
       "| Hornet 4 Drive | 21.4  | 110   | 3.215 | \n",
       "| Hornet Sportabout | 18.7  | 175   | 3.440 | \n",
       "| Valiant | 18.1  | 105   | 3.460 | \n",
       "\n",
       "\n"
      ],
      "text/plain": [
       "                  mpg  hp  wt   \n",
       "Mazda RX4         21.0 110 2.620\n",
       "Mazda RX4 Wag     21.0 110 2.875\n",
       "Datsun 710        22.8  93 2.320\n",
       "Hornet 4 Drive    21.4 110 3.215\n",
       "Hornet Sportabout 18.7 175 3.440\n",
       "Valiant           18.1 105 3.460"
      ]
     },
     "metadata": {},
     "output_type": "display_data"
    }
   ],
   "source": [
    "#查看所有32中车型的描述性统计量，然后按照变速箱类型（am）和气缸数（cyl）考察描述性统计量。\n",
    "myvars <- c(\"mpg\",\"hp\",\"wt\")\n",
    "head(mtcars[myvars])"
   ]
  },
  {
   "cell_type": "code",
   "execution_count": null,
   "metadata": {},
   "outputs": [],
   "source": []
  },
  {
   "cell_type": "markdown",
   "metadata": {},
   "source": [
    "## 7.1.1 方法云集"
   ]
  },
  {
   "cell_type": "code",
   "execution_count": 2,
   "metadata": {},
   "outputs": [
    {
     "data": {
      "text/plain": [
       "      mpg              hp              wt       \n",
       " Min.   :10.40   Min.   : 52.0   Min.   :1.513  \n",
       " 1st Qu.:15.43   1st Qu.: 96.5   1st Qu.:2.581  \n",
       " Median :19.20   Median :123.0   Median :3.325  \n",
       " Mean   :20.09   Mean   :146.7   Mean   :3.217  \n",
       " 3rd Qu.:22.80   3rd Qu.:180.0   3rd Qu.:3.610  \n",
       " Max.   :33.90   Max.   :335.0   Max.   :5.424  "
      ]
     },
     "metadata": {},
     "output_type": "display_data"
    }
   ],
   "source": [
    "#通过summary()计算描述性统计量\n",
    "myvars <- c(\"mpg\",\"hp\",\"wt\")\n",
    "summary(mtcars[myvars])\n",
    "#summary()函数提供了最小值、最大值、四分位数和数值型变量的均值，以及因子向量和逻辑型向量的频数统计"
   ]
  },
  {
   "cell_type": "markdown",
   "metadata": {},
   "source": [
    "apply()函数或sapply()函数计算所选择的任意描述性统计量。\n",
    "\n",
    "对于sapply()函数，其使用格式为：\n",
    "\n",
    "sapply(x, FUN, options)\n",
    "\n",
    "x是你的数据框（或矩阵），\n",
    "\n",
    "FUN为一个任意的函数。\n",
    "\n",
    "如果指定了options，它们将被传递给FUN。你可以在这里插入的典型函数有mean()、sd()、var()、min()、max()、median()、length()、range()和quantile()\n",
    "\n",
    "函数fivenum()可返回图基五数总括（Tukey’s five-numbersummary，即最小值、下四分位数、中位数、上四分位数和最大值）。"
   ]
  },
  {
   "cell_type": "code",
   "execution_count": 3,
   "metadata": {},
   "outputs": [
    {
     "data": {
      "text/html": [
       "<table>\n",
       "<thead><tr><th></th><th scope=col>mpg</th><th scope=col>hp</th><th scope=col>wt</th></tr></thead>\n",
       "<tbody>\n",
       "\t<tr><th scope=row>n</th><td>32.000000  </td><td> 32.0000000</td><td>32.00000000</td></tr>\n",
       "\t<tr><th scope=row>mean</th><td>20.090625  </td><td>146.6875000</td><td> 3.21725000</td></tr>\n",
       "\t<tr><th scope=row>stdev</th><td> 6.026948  </td><td> 68.5628685</td><td> 0.97845744</td></tr>\n",
       "\t<tr><th scope=row>skew</th><td> 0.610655  </td><td>  0.7260237</td><td> 0.42314646</td></tr>\n",
       "\t<tr><th scope=row>kurtosis</th><td>-0.372766  </td><td> -0.1355511</td><td>-0.02271075</td></tr>\n",
       "</tbody>\n",
       "</table>\n"
      ],
      "text/latex": [
       "\\begin{tabular}{r|lll}\n",
       "  & mpg & hp & wt\\\\\n",
       "\\hline\n",
       "\tn & 32.000000   &  32.0000000 & 32.00000000\\\\\n",
       "\tmean & 20.090625   & 146.6875000 &  3.21725000\\\\\n",
       "\tstdev &  6.026948   &  68.5628685 &  0.97845744\\\\\n",
       "\tskew &  0.610655   &   0.7260237 &  0.42314646\\\\\n",
       "\tkurtosis & -0.372766   &  -0.1355511 & -0.02271075\\\\\n",
       "\\end{tabular}\n"
      ],
      "text/markdown": [
       "\n",
       "| <!--/--> | mpg | hp | wt | \n",
       "|---|---|---|---|---|\n",
       "| n | 32.000000   |  32.0000000 | 32.00000000 | \n",
       "| mean | 20.090625   | 146.6875000 |  3.21725000 | \n",
       "| stdev |  6.026948   |  68.5628685 |  0.97845744 | \n",
       "| skew |  0.610655   |   0.7260237 |  0.42314646 | \n",
       "| kurtosis | -0.372766   |  -0.1355511 | -0.02271075 | \n",
       "\n",
       "\n"
      ],
      "text/plain": [
       "         mpg       hp          wt         \n",
       "n        32.000000  32.0000000 32.00000000\n",
       "mean     20.090625 146.6875000  3.21725000\n",
       "stdev     6.026948  68.5628685  0.97845744\n",
       "skew      0.610655   0.7260237  0.42314646\n",
       "kurtosis -0.372766  -0.1355511 -0.02271075"
      ]
     },
     "metadata": {},
     "output_type": "display_data"
    },
    {
     "data": {
      "text/html": [
       "<table>\n",
       "<thead><tr><th></th><th scope=col>mpg</th><th scope=col>hp</th><th scope=col>wt</th></tr></thead>\n",
       "<tbody>\n",
       "\t<tr><th scope=row>n</th><td>32.000000  </td><td> 32.0000000</td><td>32.00000000</td></tr>\n",
       "\t<tr><th scope=row>mean</th><td>20.090625  </td><td>146.6875000</td><td> 3.21725000</td></tr>\n",
       "\t<tr><th scope=row>stdev</th><td> 6.026948  </td><td> 68.5628685</td><td> 0.97845744</td></tr>\n",
       "\t<tr><th scope=row>skew</th><td> 0.610655  </td><td>  0.7260237</td><td> 0.42314646</td></tr>\n",
       "\t<tr><th scope=row>kurtosis</th><td>-0.372766  </td><td> -0.1355511</td><td>-0.02271075</td></tr>\n",
       "</tbody>\n",
       "</table>\n"
      ],
      "text/latex": [
       "\\begin{tabular}{r|lll}\n",
       "  & mpg & hp & wt\\\\\n",
       "\\hline\n",
       "\tn & 32.000000   &  32.0000000 & 32.00000000\\\\\n",
       "\tmean & 20.090625   & 146.6875000 &  3.21725000\\\\\n",
       "\tstdev &  6.026948   &  68.5628685 &  0.97845744\\\\\n",
       "\tskew &  0.610655   &   0.7260237 &  0.42314646\\\\\n",
       "\tkurtosis & -0.372766   &  -0.1355511 & -0.02271075\\\\\n",
       "\\end{tabular}\n"
      ],
      "text/markdown": [
       "\n",
       "| <!--/--> | mpg | hp | wt | \n",
       "|---|---|---|---|---|\n",
       "| n | 32.000000   |  32.0000000 | 32.00000000 | \n",
       "| mean | 20.090625   | 146.6875000 |  3.21725000 | \n",
       "| stdev |  6.026948   |  68.5628685 |  0.97845744 | \n",
       "| skew |  0.610655   |   0.7260237 |  0.42314646 | \n",
       "| kurtosis | -0.372766   |  -0.1355511 | -0.02271075 | \n",
       "\n",
       "\n"
      ],
      "text/plain": [
       "         mpg       hp          wt         \n",
       "n        32.000000  32.0000000 32.00000000\n",
       "mean     20.090625 146.6875000  3.21725000\n",
       "stdev     6.026948  68.5628685  0.97845744\n",
       "skew      0.610655   0.7260237  0.42314646\n",
       "kurtosis -0.372766  -0.1355511 -0.02271075"
      ]
     },
     "metadata": {},
     "output_type": "display_data"
    }
   ],
   "source": [
    "# 通过sapply()计算描述性统计量\n",
    "mystats <- function(x,na.omit=FALSE){\n",
    "    if (na.omit)\n",
    "        x <- x[!is.na(x)]\n",
    "    m <- mean(x)\n",
    "    n <- length(x)\n",
    "    s <- sd(x)\n",
    "    skew <- sum((x-m)^3/s^3)/n\n",
    "    kurt <- sum((x-m)^4/s^4)/n -3\n",
    "    return(c(n=n,mean=m,stdev=s,skew=skew,kurtosis=kurt))\n",
    "}\n",
    "\n",
    "myvars <- c(\"mpg\",\"hp\",\"wt\")\n",
    "sapply(mtcars[myvars],mystats)\n",
    "sapply(mtcars[myvars],mystats,na.omit=TRUE)  #忽略缺失值"
   ]
  },
  {
   "cell_type": "markdown",
   "metadata": {},
   "source": [
    "## 7.1.2 更多方法"
   ]
  },
  {
   "cell_type": "markdown",
   "metadata": {},
   "source": [
    "计算描述性统计量的函数，其中包括Himsc、pastecs和psych"
   ]
  },
  {
   "cell_type": "markdown",
   "metadata": {},
   "source": [
    "Hmisc包中的describe()函数可返回变量和观测的数量、缺失值和唯一值的数目、平均值、分位数，以及五个最大的值和五个最小的值。"
   ]
  },
  {
   "cell_type": "code",
   "execution_count": 4,
   "metadata": {},
   "outputs": [
    {
     "name": "stderr",
     "output_type": "stream",
     "text": [
      "Warning message:\n",
      "\"package 'Hmisc' was built under R version 3.5.2\"Loading required package: lattice\n",
      "Loading required package: survival\n",
      "Loading required package: Formula\n",
      "Warning message:\n",
      "\"package 'Formula' was built under R version 3.5.2\"Loading required package: ggplot2\n",
      "\n",
      "Attaching package: 'Hmisc'\n",
      "\n",
      "The following objects are masked from 'package:base':\n",
      "\n",
      "    format.pval, units\n",
      "\n"
     ]
    },
    {
     "data": {
      "text/plain": [
       "mtcars[myvars] \n",
       "\n",
       " 3  Variables      32  Observations\n",
       "--------------------------------------------------------------------------------\n",
       "mpg \n",
       "       n  missing distinct     Info     Mean      Gmd      .05      .10 \n",
       "      32        0       25    0.999    20.09    6.796    12.00    14.34 \n",
       "     .25      .50      .75      .90      .95 \n",
       "   15.43    19.20    22.80    30.09    31.30 \n",
       "\n",
       "lowest : 10.4 13.3 14.3 14.7 15.0, highest: 26.0 27.3 30.4 32.4 33.9\n",
       "--------------------------------------------------------------------------------\n",
       "hp \n",
       "       n  missing distinct     Info     Mean      Gmd      .05      .10 \n",
       "      32        0       22    0.997    146.7    77.04    63.65    66.00 \n",
       "     .25      .50      .75      .90      .95 \n",
       "   96.50   123.00   180.00   243.50   253.55 \n",
       "\n",
       "lowest :  52  62  65  66  91, highest: 215 230 245 264 335\n",
       "--------------------------------------------------------------------------------\n",
       "wt \n",
       "       n  missing distinct     Info     Mean      Gmd      .05      .10 \n",
       "      32        0       29    0.999    3.217    1.089    1.736    1.956 \n",
       "     .25      .50      .75      .90      .95 \n",
       "   2.581    3.325    3.610    4.048    5.293 \n",
       "\n",
       "lowest : 1.513 1.615 1.835 1.935 2.140, highest: 3.845 4.070 5.250 5.345 5.424\n",
       "--------------------------------------------------------------------------------"
      ]
     },
     "metadata": {},
     "output_type": "display_data"
    }
   ],
   "source": [
    "#通过Hmisc包中的describe()函数计算描述性统计量\n",
    "library(Hmisc)\n",
    "myvars <- c(\"mpg\", \"hp\", \"wt\")\n",
    "describe(mtcars[myvars])"
   ]
  },
  {
   "cell_type": "markdown",
   "metadata": {},
   "source": [
    "pastecs包中有一个名为stat.desc()的函数，它可以计算种类繁多的描述性统计量。使用格式为：\n",
    "\n",
    "stat.desc(x, basic=TRUE, desc=TRUE, norm=FALSE, p=0.95)\n",
    "\n",
    "x是一个数据框或时间序列。\n",
    "\n",
    "basic=TRUE（默认值），则计算其中所有值、空值、缺失值的数量，以及最小值、最大值、值域，还有总和。\n",
    "\n",
    "desc=TRUE（同样也是默认值），则计算中位数、平均数、平均数的标准误、平均数置信度为95%的置信区间、方差、标准差以及变异系\n",
    "数。\n",
    "\n",
    "norm=TRUE（不是默认的），则返回正态分布统计量，包括偏度和峰度（以及它们的统计显著程度）和Shapiro-Wilk正态检验结果"
   ]
  },
  {
   "cell_type": "code",
   "execution_count": 7,
   "metadata": {},
   "outputs": [
    {
     "data": {
      "text/html": [
       "<table>\n",
       "<thead><tr><th></th><th scope=col>mpg</th><th scope=col>hp</th><th scope=col>wt</th></tr></thead>\n",
       "<tbody>\n",
       "\t<tr><th scope=row>nbr.val</th><td> 32.0000000 </td><td>  32.0000000</td><td> 32.0000000 </td></tr>\n",
       "\t<tr><th scope=row>nbr.null</th><td>  0.0000000 </td><td>   0.0000000</td><td>  0.0000000 </td></tr>\n",
       "\t<tr><th scope=row>nbr.na</th><td>  0.0000000 </td><td>   0.0000000</td><td>  0.0000000 </td></tr>\n",
       "\t<tr><th scope=row>min</th><td> 10.4000000 </td><td>  52.0000000</td><td>  1.5130000 </td></tr>\n",
       "\t<tr><th scope=row>max</th><td> 33.9000000 </td><td> 335.0000000</td><td>  5.4240000 </td></tr>\n",
       "\t<tr><th scope=row>range</th><td> 23.5000000 </td><td> 283.0000000</td><td>  3.9110000 </td></tr>\n",
       "\t<tr><th scope=row>sum</th><td>642.9000000 </td><td>4694.0000000</td><td>102.9520000 </td></tr>\n",
       "\t<tr><th scope=row>median</th><td> 19.2000000 </td><td> 123.0000000</td><td>  3.3250000 </td></tr>\n",
       "\t<tr><th scope=row>mean</th><td> 20.0906250 </td><td> 146.6875000</td><td>  3.2172500 </td></tr>\n",
       "\t<tr><th scope=row>SE.mean</th><td>  1.0654240 </td><td>  12.1203173</td><td>  0.1729685 </td></tr>\n",
       "\t<tr><th scope=row>CI.mean.0.95</th><td>  2.1729465 </td><td>  24.7195501</td><td>  0.3527715 </td></tr>\n",
       "\t<tr><th scope=row>var</th><td> 36.3241028 </td><td>4700.8669355</td><td>  0.9573790 </td></tr>\n",
       "\t<tr><th scope=row>std.dev</th><td>  6.0269481 </td><td>  68.5628685</td><td>  0.9784574 </td></tr>\n",
       "\t<tr><th scope=row>coef.var</th><td>  0.2999881 </td><td>   0.4674077</td><td>  0.3041285 </td></tr>\n",
       "</tbody>\n",
       "</table>\n"
      ],
      "text/latex": [
       "\\begin{tabular}{r|lll}\n",
       "  & mpg & hp & wt\\\\\n",
       "\\hline\n",
       "\tnbr.val &  32.0000000  &   32.0000000 &  32.0000000 \\\\\n",
       "\tnbr.null &   0.0000000  &    0.0000000 &   0.0000000 \\\\\n",
       "\tnbr.na &   0.0000000  &    0.0000000 &   0.0000000 \\\\\n",
       "\tmin &  10.4000000  &   52.0000000 &   1.5130000 \\\\\n",
       "\tmax &  33.9000000  &  335.0000000 &   5.4240000 \\\\\n",
       "\trange &  23.5000000  &  283.0000000 &   3.9110000 \\\\\n",
       "\tsum & 642.9000000  & 4694.0000000 & 102.9520000 \\\\\n",
       "\tmedian &  19.2000000  &  123.0000000 &   3.3250000 \\\\\n",
       "\tmean &  20.0906250  &  146.6875000 &   3.2172500 \\\\\n",
       "\tSE.mean &   1.0654240  &   12.1203173 &   0.1729685 \\\\\n",
       "\tCI.mean.0.95 &   2.1729465  &   24.7195501 &   0.3527715 \\\\\n",
       "\tvar &  36.3241028  & 4700.8669355 &   0.9573790 \\\\\n",
       "\tstd.dev &   6.0269481  &   68.5628685 &   0.9784574 \\\\\n",
       "\tcoef.var &   0.2999881  &    0.4674077 &   0.3041285 \\\\\n",
       "\\end{tabular}\n"
      ],
      "text/markdown": [
       "\n",
       "| <!--/--> | mpg | hp | wt | \n",
       "|---|---|---|---|---|---|---|---|---|---|---|---|---|---|\n",
       "| nbr.val |  32.0000000  |   32.0000000 |  32.0000000  | \n",
       "| nbr.null |   0.0000000  |    0.0000000 |   0.0000000  | \n",
       "| nbr.na |   0.0000000  |    0.0000000 |   0.0000000  | \n",
       "| min |  10.4000000  |   52.0000000 |   1.5130000  | \n",
       "| max |  33.9000000  |  335.0000000 |   5.4240000  | \n",
       "| range |  23.5000000  |  283.0000000 |   3.9110000  | \n",
       "| sum | 642.9000000  | 4694.0000000 | 102.9520000  | \n",
       "| median |  19.2000000  |  123.0000000 |   3.3250000  | \n",
       "| mean |  20.0906250  |  146.6875000 |   3.2172500  | \n",
       "| SE.mean |   1.0654240  |   12.1203173 |   0.1729685  | \n",
       "| CI.mean.0.95 |   2.1729465  |   24.7195501 |   0.3527715  | \n",
       "| var |  36.3241028  | 4700.8669355 |   0.9573790  | \n",
       "| std.dev |   6.0269481  |   68.5628685 |   0.9784574  | \n",
       "| coef.var |   0.2999881  |    0.4674077 |   0.3041285  | \n",
       "\n",
       "\n"
      ],
      "text/plain": [
       "             mpg         hp           wt         \n",
       "nbr.val       32.0000000   32.0000000  32.0000000\n",
       "nbr.null       0.0000000    0.0000000   0.0000000\n",
       "nbr.na         0.0000000    0.0000000   0.0000000\n",
       "min           10.4000000   52.0000000   1.5130000\n",
       "max           33.9000000  335.0000000   5.4240000\n",
       "range         23.5000000  283.0000000   3.9110000\n",
       "sum          642.9000000 4694.0000000 102.9520000\n",
       "median        19.2000000  123.0000000   3.3250000\n",
       "mean          20.0906250  146.6875000   3.2172500\n",
       "SE.mean        1.0654240   12.1203173   0.1729685\n",
       "CI.mean.0.95   2.1729465   24.7195501   0.3527715\n",
       "var           36.3241028 4700.8669355   0.9573790\n",
       "std.dev        6.0269481   68.5628685   0.9784574\n",
       "coef.var       0.2999881    0.4674077   0.3041285"
      ]
     },
     "metadata": {},
     "output_type": "display_data"
    }
   ],
   "source": [
    "#通过pastecs包中的stat.desc()函数计算描述性统计量\n",
    "#install.packages(\"pastecs\")\n",
    "library(pastecs)\n",
    "myvars <- c(\"mpg\",\"hp\",\"wt\")\n",
    "stat.desc(mtcars[myvars])"
   ]
  },
  {
   "cell_type": "markdown",
   "metadata": {},
   "source": [
    "psych包也拥有一个名为describe()的函数，它可以计算非缺失值的数量、平均数、标准差、中位数、截尾均值、绝对中位差、最小值、最大值、值域、偏度、峰度和平均值的标准误。"
   ]
  },
  {
   "cell_type": "code",
   "execution_count": 9,
   "metadata": {},
   "outputs": [
    {
     "data": {
      "text/html": [
       "<table>\n",
       "<thead><tr><th></th><th scope=col>vars</th><th scope=col>n</th><th scope=col>mean</th><th scope=col>sd</th><th scope=col>median</th><th scope=col>trimmed</th><th scope=col>mad</th><th scope=col>min</th><th scope=col>max</th><th scope=col>range</th><th scope=col>skew</th><th scope=col>kurtosis</th><th scope=col>se</th></tr></thead>\n",
       "<tbody>\n",
       "\t<tr><th scope=row>mpg</th><td>1          </td><td>32         </td><td> 20.09062  </td><td> 6.0269481 </td><td> 19.200    </td><td> 19.696154 </td><td> 5.4114900 </td><td>10.400     </td><td> 33.900    </td><td> 23.500    </td><td>0.6106550  </td><td>-0.37276603</td><td> 1.0654240 </td></tr>\n",
       "\t<tr><th scope=row>hp</th><td>2          </td><td>32         </td><td>146.68750  </td><td>68.5628685 </td><td>123.000    </td><td>141.192308 </td><td>77.0952000 </td><td>52.000     </td><td>335.000    </td><td>283.000    </td><td>0.7260237  </td><td>-0.13555112</td><td>12.1203173 </td></tr>\n",
       "\t<tr><th scope=row>wt</th><td>3          </td><td>32         </td><td>  3.21725  </td><td> 0.9784574 </td><td>  3.325    </td><td>  3.152692 </td><td> 0.7672455 </td><td> 1.513     </td><td>  5.424    </td><td>  3.911    </td><td>0.4231465  </td><td>-0.02271075</td><td> 0.1729685 </td></tr>\n",
       "</tbody>\n",
       "</table>\n"
      ],
      "text/latex": [
       "\\begin{tabular}{r|lllllllllllll}\n",
       "  & vars & n & mean & sd & median & trimmed & mad & min & max & range & skew & kurtosis & se\\\\\n",
       "\\hline\n",
       "\tmpg & 1           & 32          &  20.09062   &  6.0269481  &  19.200     &  19.696154  &  5.4114900  & 10.400      &  33.900     &  23.500     & 0.6106550   & -0.37276603 &  1.0654240 \\\\\n",
       "\thp & 2           & 32          & 146.68750   & 68.5628685  & 123.000     & 141.192308  & 77.0952000  & 52.000      & 335.000     & 283.000     & 0.7260237   & -0.13555112 & 12.1203173 \\\\\n",
       "\twt & 3           & 32          &   3.21725   &  0.9784574  &   3.325     &   3.152692  &  0.7672455  &  1.513      &   5.424     &   3.911     & 0.4231465   & -0.02271075 &  0.1729685 \\\\\n",
       "\\end{tabular}\n"
      ],
      "text/markdown": [
       "\n",
       "| <!--/--> | vars | n | mean | sd | median | trimmed | mad | min | max | range | skew | kurtosis | se | \n",
       "|---|---|---|\n",
       "| mpg | 1           | 32          |  20.09062   |  6.0269481  |  19.200     |  19.696154  |  5.4114900  | 10.400      |  33.900     |  23.500     | 0.6106550   | -0.37276603 |  1.0654240  | \n",
       "| hp | 2           | 32          | 146.68750   | 68.5628685  | 123.000     | 141.192308  | 77.0952000  | 52.000      | 335.000     | 283.000     | 0.7260237   | -0.13555112 | 12.1203173  | \n",
       "| wt | 3           | 32          |   3.21725   |  0.9784574  |   3.325     |   3.152692  |  0.7672455  |  1.513      |   5.424     |   3.911     | 0.4231465   | -0.02271075 |  0.1729685  | \n",
       "\n",
       "\n"
      ],
      "text/plain": [
       "    vars n  mean      sd         median  trimmed    mad        min    max    \n",
       "mpg 1    32  20.09062  6.0269481  19.200  19.696154  5.4114900 10.400  33.900\n",
       "hp  2    32 146.68750 68.5628685 123.000 141.192308 77.0952000 52.000 335.000\n",
       "wt  3    32   3.21725  0.9784574   3.325   3.152692  0.7672455  1.513   5.424\n",
       "    range   skew      kurtosis    se        \n",
       "mpg  23.500 0.6106550 -0.37276603  1.0654240\n",
       "hp  283.000 0.7260237 -0.13555112 12.1203173\n",
       "wt    3.911 0.4231465 -0.02271075  0.1729685"
      ]
     },
     "metadata": {},
     "output_type": "display_data"
    }
   ],
   "source": [
    "#通过psych包中的describe()计算描述性统计量\n",
    "#install.packages(\"psych\")\n",
    "library(psych)\n",
    "myvars <- c(\"mpg\",\"hp\",\"wt\")\n",
    "describe(mtcars[myvars])"
   ]
  },
  {
   "cell_type": "markdown",
   "metadata": {},
   "source": [
    "## 7.1.3 分组计算描述性统计量"
   ]
  },
  {
   "cell_type": "markdown",
   "metadata": {},
   "source": [
    "在比较多组个体或观测时，关注的焦点经常是各组的描述性统计信息，而不是样本整体的描述性统计信息。\n"
   ]
  },
  {
   "cell_type": "markdown",
   "metadata": {},
   "source": [
    "使用agregate()函数来分组获取描述性统计量"
   ]
  },
  {
   "cell_type": "code",
   "execution_count": 11,
   "metadata": {},
   "outputs": [
    {
     "data": {
      "text/html": [
       "<table>\n",
       "<thead><tr><th scope=col>am</th><th scope=col>mpg</th><th scope=col>hp</th><th scope=col>wt</th></tr></thead>\n",
       "<tbody>\n",
       "\t<tr><td>0       </td><td>17.14737</td><td>160.2632</td><td>3.768895</td></tr>\n",
       "\t<tr><td>1       </td><td>24.39231</td><td>126.8462</td><td>2.411000</td></tr>\n",
       "</tbody>\n",
       "</table>\n"
      ],
      "text/latex": [
       "\\begin{tabular}{r|llll}\n",
       " am & mpg & hp & wt\\\\\n",
       "\\hline\n",
       "\t 0        & 17.14737 & 160.2632 & 3.768895\\\\\n",
       "\t 1        & 24.39231 & 126.8462 & 2.411000\\\\\n",
       "\\end{tabular}\n"
      ],
      "text/markdown": [
       "\n",
       "am | mpg | hp | wt | \n",
       "|---|---|\n",
       "| 0        | 17.14737 | 160.2632 | 3.768895 | \n",
       "| 1        | 24.39231 | 126.8462 | 2.411000 | \n",
       "\n",
       "\n"
      ],
      "text/plain": [
       "  am mpg      hp       wt      \n",
       "1 0  17.14737 160.2632 3.768895\n",
       "2 1  24.39231 126.8462 2.411000"
      ]
     },
     "metadata": {},
     "output_type": "display_data"
    }
   ],
   "source": [
    "myvars <- c(\"mpg\",\"hp\",\"wt\")\n",
    "aggregate(mtcars[myvars], by=list(am=mtcars$am),mean)"
   ]
  },
  {
   "cell_type": "code",
   "execution_count": 12,
   "metadata": {},
   "outputs": [
    {
     "data": {
      "text/html": [
       "<table>\n",
       "<thead><tr><th scope=col>am</th><th scope=col>mpg</th><th scope=col>hp</th><th scope=col>wt</th></tr></thead>\n",
       "<tbody>\n",
       "\t<tr><td>0        </td><td>3.833966 </td><td>53.90820 </td><td>0.7774001</td></tr>\n",
       "\t<tr><td>1        </td><td>6.166504 </td><td>84.06232 </td><td>0.6169816</td></tr>\n",
       "</tbody>\n",
       "</table>\n"
      ],
      "text/latex": [
       "\\begin{tabular}{r|llll}\n",
       " am & mpg & hp & wt\\\\\n",
       "\\hline\n",
       "\t 0         & 3.833966  & 53.90820  & 0.7774001\\\\\n",
       "\t 1         & 6.166504  & 84.06232  & 0.6169816\\\\\n",
       "\\end{tabular}\n"
      ],
      "text/markdown": [
       "\n",
       "am | mpg | hp | wt | \n",
       "|---|---|\n",
       "| 0         | 3.833966  | 53.90820  | 0.7774001 | \n",
       "| 1         | 6.166504  | 84.06232  | 0.6169816 | \n",
       "\n",
       "\n"
      ],
      "text/plain": [
       "  am mpg      hp       wt       \n",
       "1 0  3.833966 53.90820 0.7774001\n",
       "2 1  6.166504 84.06232 0.6169816"
      ]
     },
     "metadata": {},
     "output_type": "display_data"
    }
   ],
   "source": [
    "aggregate(mtcars[myvars],\n",
    "          by=list(am=mtcars$am),  #如果有多个分组变量，可以使用by=list(name1=groupvar1, name2=groupvar2, ... , nameN=groupvarN)这样的语句。\n",
    "          sd)"
   ]
  },
  {
   "cell_type": "markdown",
   "metadata": {},
   "source": [
    "aggregate()仅允许在每次调用中使用平均数、标准差这样的单返回值函数。\n",
    "\n",
    "它无法一次返回若干个统计量。\n",
    "\n",
    "要完成这项任务，可以使用by()函数。格式为：\n",
    "\n",
    "by(data, INDICES, FUN)\n",
    "\n",
    "data是一个数据框或矩阵，\n",
    "\n",
    "INDICES是一个因子或因子组成的列表，定义了分组，\n",
    "\n",
    "FUN是任意函数。"
   ]
  },
  {
   "cell_type": "code",
   "execution_count": 13,
   "metadata": {},
   "outputs": [
    {
     "data": {
      "text/plain": [
       "mtcars$am: 0\n",
       "                 mpg           hp         wt\n",
       "n        19.00000000  19.00000000 19.0000000\n",
       "mean     17.14736842 160.26315789  3.7688947\n",
       "stdev     3.83396639  53.90819573  0.7774001\n",
       "skew      0.01395038  -0.01422519  0.9759294\n",
       "kurtosis -0.80317826  -1.20969733  0.1415676\n",
       "------------------------------------------------------------ \n",
       "mtcars$am: 1\n",
       "                 mpg          hp         wt\n",
       "n        13.00000000  13.0000000 13.0000000\n",
       "mean     24.39230769 126.8461538  2.4110000\n",
       "stdev     6.16650381  84.0623243  0.6169816\n",
       "skew      0.05256118   1.3598859  0.2103128\n",
       "kurtosis -1.45535200   0.5634635 -1.1737358"
      ]
     },
     "metadata": {},
     "output_type": "display_data"
    }
   ],
   "source": [
    "#使用by()分组计算描述性统计量\n",
    "dstats <- function(x)sapply(x,mystats)  #调用mystats()函数，将其应用于数据框的每一栏中\n",
    "myvars <- c(\"mpg\",\"hp\",\"wt\")\n",
    "by(mtcars[myvars],mtcars$am,dstats) #通过by()函数则可得到am中每一水平的概括统计量"
   ]
  },
  {
   "cell_type": "markdown",
   "metadata": {},
   "source": [
    "## 7.1.4 分组计算的扩展"
   ]
  },
  {
   "cell_type": "markdown",
   "metadata": {},
   "source": [
    "doBy包和psych包也提供了分组计算描述性统计量的函数。\n",
    "\n",
    "doBy包中summaryBy()函数的使用格式为：\n",
    "\n",
    "summaryBy(formula, data=dataframe, FUN=function)\n",
    "          \n",
    "其中的formula接受以下的格式：\n",
    "\n",
    "          var1 + var2 + var3 + ... + varN ~ groupvar1 + groupvar2 + ... + groupvarN\n",
    "          在~左侧的变量是需要分析的数值型变量，而右侧的变量是类别型的分组变量。\n",
    "          \n",
    "function可为任何内建或用户自编的R函数。"
   ]
  },
  {
   "cell_type": "code",
   "execution_count": 21,
   "metadata": {},
   "outputs": [
    {
     "data": {
      "text/html": [
       "<table>\n",
       "<thead><tr><th scope=col>am</th><th scope=col>mpg.n</th><th scope=col>mpg.mean</th><th scope=col>mpg.stdev</th><th scope=col>mpg.skew</th><th scope=col>mpg.kurtosis</th><th scope=col>hp.n</th><th scope=col>hp.mean</th><th scope=col>hp.stdev</th><th scope=col>hp.skew</th><th scope=col>hp.kurtosis</th><th scope=col>wt.n</th><th scope=col>wt.mean</th><th scope=col>wt.stdev</th><th scope=col>wt.skew</th><th scope=col>wt.kurtosis</th></tr></thead>\n",
       "<tbody>\n",
       "\t<tr><td>0          </td><td>19         </td><td>17.14737   </td><td>3.833966   </td><td>0.01395038 </td><td>-0.8031783 </td><td>19         </td><td>160.2632   </td><td>53.90820   </td><td>-0.01422519</td><td>-1.2096973 </td><td>19         </td><td>3.768895   </td><td>0.7774001  </td><td>0.9759294  </td><td> 0.1415676 </td></tr>\n",
       "\t<tr><td>1          </td><td>13         </td><td>24.39231   </td><td>6.166504   </td><td>0.05256118 </td><td>-1.4553520 </td><td>13         </td><td>126.8462   </td><td>84.06232   </td><td> 1.35988586</td><td> 0.5634635 </td><td>13         </td><td>2.411000   </td><td>0.6169816  </td><td>0.2103128  </td><td>-1.1737358 </td></tr>\n",
       "</tbody>\n",
       "</table>\n"
      ],
      "text/latex": [
       "\\begin{tabular}{r|llllllllllllllll}\n",
       " am & mpg.n & mpg.mean & mpg.stdev & mpg.skew & mpg.kurtosis & hp.n & hp.mean & hp.stdev & hp.skew & hp.kurtosis & wt.n & wt.mean & wt.stdev & wt.skew & wt.kurtosis\\\\\n",
       "\\hline\n",
       "\t 0           & 19          & 17.14737    & 3.833966    & 0.01395038  & -0.8031783  & 19          & 160.2632    & 53.90820    & -0.01422519 & -1.2096973  & 19          & 3.768895    & 0.7774001   & 0.9759294   &  0.1415676 \\\\\n",
       "\t 1           & 13          & 24.39231    & 6.166504    & 0.05256118  & -1.4553520  & 13          & 126.8462    & 84.06232    &  1.35988586 &  0.5634635  & 13          & 2.411000    & 0.6169816   & 0.2103128   & -1.1737358 \\\\\n",
       "\\end{tabular}\n"
      ],
      "text/markdown": [
       "\n",
       "am | mpg.n | mpg.mean | mpg.stdev | mpg.skew | mpg.kurtosis | hp.n | hp.mean | hp.stdev | hp.skew | hp.kurtosis | wt.n | wt.mean | wt.stdev | wt.skew | wt.kurtosis | \n",
       "|---|---|\n",
       "| 0           | 19          | 17.14737    | 3.833966    | 0.01395038  | -0.8031783  | 19          | 160.2632    | 53.90820    | -0.01422519 | -1.2096973  | 19          | 3.768895    | 0.7774001   | 0.9759294   |  0.1415676  | \n",
       "| 1           | 13          | 24.39231    | 6.166504    | 0.05256118  | -1.4553520  | 13          | 126.8462    | 84.06232    |  1.35988586 |  0.5634635  | 13          | 2.411000    | 0.6169816   | 0.2103128   | -1.1737358  | \n",
       "\n",
       "\n"
      ],
      "text/plain": [
       "  am mpg.n mpg.mean mpg.stdev mpg.skew   mpg.kurtosis hp.n hp.mean  hp.stdev\n",
       "1 0  19    17.14737 3.833966  0.01395038 -0.8031783   19   160.2632 53.90820\n",
       "2 1  13    24.39231 6.166504  0.05256118 -1.4553520   13   126.8462 84.06232\n",
       "  hp.skew     hp.kurtosis wt.n wt.mean  wt.stdev  wt.skew   wt.kurtosis\n",
       "1 -0.01422519 -1.2096973  19   3.768895 0.7774001 0.9759294  0.1415676 \n",
       "2  1.35988586  0.5634635  13   2.411000 0.6169816 0.2103128 -1.1737358 "
      ]
     },
     "metadata": {},
     "output_type": "display_data"
    }
   ],
   "source": [
    "#使用doBy包中的summaryBy()分组计算描述统计量\n",
    "#install.packages(\"doBy\")\n",
    "library(doBy)\n",
    "summaryBy(mpg+hp+wt~am, data=mtcars, FUN=mystats)"
   ]
  },
  {
   "cell_type": "markdown",
   "metadata": {},
   "source": [
    "psych包中的describeBy()函数可计算和describe()相同的描述性统计量，只是按照一个或多个分组变量分层。"
   ]
  },
  {
   "cell_type": "code",
   "execution_count": 23,
   "metadata": {},
   "outputs": [
    {
     "data": {
      "text/plain": [
       "\n",
       " Descriptive statistics by group \n",
       "am: 0\n",
       "    vars  n   mean    sd median trimmed   mad   min    max  range  skew\n",
       "mpg    1 19  17.15  3.83  17.30   17.12  3.11 10.40  24.40  14.00  0.01\n",
       "hp     2 19 160.26 53.91 175.00  161.06 77.10 62.00 245.00 183.00 -0.01\n",
       "wt     3 19   3.77  0.78   3.52    3.75  0.45  2.46   5.42   2.96  0.98\n",
       "    kurtosis    se\n",
       "mpg    -0.80  0.88\n",
       "hp     -1.21 12.37\n",
       "wt      0.14  0.18\n",
       "------------------------------------------------------------ \n",
       "am: 1\n",
       "    vars  n   mean    sd median trimmed   mad   min    max  range skew kurtosis\n",
       "mpg    1 13  24.39  6.17  22.80   24.38  6.67 15.00  33.90  18.90 0.05    -1.46\n",
       "hp     2 13 126.85 84.06 109.00  114.73 63.75 52.00 335.00 283.00 1.36     0.56\n",
       "wt     3 13   2.41  0.62   2.32    2.39  0.68  1.51   3.57   2.06 0.21    -1.17\n",
       "       se\n",
       "mpg  1.71\n",
       "hp  23.31\n",
       "wt   0.17"
      ]
     },
     "metadata": {},
     "output_type": "display_data"
    }
   ],
   "source": [
    "#使用psych包中的describeBy()分组计算概述统计量\n",
    "library(psych)\n",
    "myvars <- c(\"mpg\",\"hp\",\"wt\")\n",
    "describeBy(mtcars[myvars], #describeBy()函数不允许指定任意函数，所以它的普适性较低\n",
    "           list(am=mtcars$am)) #若存在一个以上的分组变量，你可以使用list(name1=groupvar1, name2=groupvar2, ... ,nameN=groupvarN)来表示它们。但这仅在分组变量交叉后不出现空白单元时有效。"
   ]
  },
  {
   "cell_type": "markdown",
   "metadata": {},
   "source": [
    "## 7.1.5 结果的可视化"
   ]
  },
  {
   "cell_type": "markdown",
   "metadata": {},
   "source": [
    "# 7.2 频数表和列联表"
   ]
  },
  {
   "cell_type": "code",
   "execution_count": 24,
   "metadata": {},
   "outputs": [
    {
     "name": "stderr",
     "output_type": "stream",
     "text": [
      "Loading required package: grid\n"
     ]
    },
    {
     "data": {
      "text/html": [
       "<table>\n",
       "<thead><tr><th scope=col>ID</th><th scope=col>Treatment</th><th scope=col>Sex</th><th scope=col>Age</th><th scope=col>Improved</th></tr></thead>\n",
       "<tbody>\n",
       "\t<tr><td>57     </td><td>Treated</td><td>Male   </td><td>27     </td><td>Some   </td></tr>\n",
       "\t<tr><td>46     </td><td>Treated</td><td>Male   </td><td>29     </td><td>None   </td></tr>\n",
       "\t<tr><td>77     </td><td>Treated</td><td>Male   </td><td>30     </td><td>None   </td></tr>\n",
       "\t<tr><td>17     </td><td>Treated</td><td>Male   </td><td>32     </td><td>Marked </td></tr>\n",
       "\t<tr><td>36     </td><td>Treated</td><td>Male   </td><td>46     </td><td>Marked </td></tr>\n",
       "\t<tr><td>23     </td><td>Treated</td><td>Male   </td><td>58     </td><td>Marked </td></tr>\n",
       "</tbody>\n",
       "</table>\n"
      ],
      "text/latex": [
       "\\begin{tabular}{r|lllll}\n",
       " ID & Treatment & Sex & Age & Improved\\\\\n",
       "\\hline\n",
       "\t 57      & Treated & Male    & 27      & Some   \\\\\n",
       "\t 46      & Treated & Male    & 29      & None   \\\\\n",
       "\t 77      & Treated & Male    & 30      & None   \\\\\n",
       "\t 17      & Treated & Male    & 32      & Marked \\\\\n",
       "\t 36      & Treated & Male    & 46      & Marked \\\\\n",
       "\t 23      & Treated & Male    & 58      & Marked \\\\\n",
       "\\end{tabular}\n"
      ],
      "text/markdown": [
       "\n",
       "ID | Treatment | Sex | Age | Improved | \n",
       "|---|---|---|---|---|---|\n",
       "| 57      | Treated | Male    | 27      | Some    | \n",
       "| 46      | Treated | Male    | 29      | None    | \n",
       "| 77      | Treated | Male    | 30      | None    | \n",
       "| 17      | Treated | Male    | 32      | Marked  | \n",
       "| 36      | Treated | Male    | 46      | Marked  | \n",
       "| 23      | Treated | Male    | 58      | Marked  | \n",
       "\n",
       "\n"
      ],
      "text/plain": [
       "  ID Treatment Sex  Age Improved\n",
       "1 57 Treated   Male 27  Some    \n",
       "2 46 Treated   Male 29  None    \n",
       "3 77 Treated   Male 30  None    \n",
       "4 17 Treated   Male 32  Marked  \n",
       "5 36 Treated   Male 46  Marked  \n",
       "6 23 Treated   Male 58  Marked  "
      ]
     },
     "metadata": {},
     "output_type": "display_data"
    }
   ],
   "source": [
    "#本节中的数据来自vcd包中的Arthritis数据集。这份数据来自Kock & Edward （1988），表示了一项风湿性关节炎新疗法的双盲临床实验的结果。\n",
    "library(vcd)\n",
    "head(Arthritis)"
   ]
  },
  {
   "cell_type": "markdown",
   "metadata": {},
   "source": [
    "## 7.2.1 生成频数表"
   ]
  },
  {
   "cell_type": "markdown",
   "metadata": {},
   "source": [
    "![用于创建和处理列联表的函数.png](./image/用于创建和处理列联表的函数.png)\n",
    "![用于创建和处理列联表的函数2.png](./image/用于创建和处理列联表的函数2.png)"
   ]
  },
  {
   "cell_type": "code",
   "execution_count": null,
   "metadata": {},
   "outputs": [],
   "source": []
  },
  {
   "cell_type": "code",
   "execution_count": null,
   "metadata": {},
   "outputs": [],
   "source": []
  },
  {
   "cell_type": "markdown",
   "metadata": {},
   "source": [
    "## 7.2.2 独立性检验"
   ]
  },
  {
   "cell_type": "markdown",
   "metadata": {},
   "source": [
    "## 7.2.3 相关性的度量"
   ]
  },
  {
   "cell_type": "markdown",
   "metadata": {},
   "source": [
    "## 7.2.4 结果的可视化"
   ]
  },
  {
   "cell_type": "markdown",
   "metadata": {},
   "source": [
    "# 7.3 相关"
   ]
  },
  {
   "cell_type": "markdown",
   "metadata": {},
   "source": [
    "## 7.3.1 相关的类型"
   ]
  },
  {
   "cell_type": "markdown",
   "metadata": {},
   "source": [
    "## 7.3.2 相关性的显著性检验"
   ]
  },
  {
   "cell_type": "markdown",
   "metadata": {},
   "source": [
    "## 7.3.3 相关关系的可视化"
   ]
  },
  {
   "cell_type": "markdown",
   "metadata": {},
   "source": [
    "# 7.4 t检验"
   ]
  },
  {
   "cell_type": "markdown",
   "metadata": {},
   "source": [
    "## 7.4.1 独立样本的t检验"
   ]
  },
  {
   "cell_type": "markdown",
   "metadata": {},
   "source": [
    "## 7.4.2 非独立样本的t检验"
   ]
  },
  {
   "cell_type": "markdown",
   "metadata": {},
   "source": [
    "## 7.4.3 多于两组的情况"
   ]
  },
  {
   "cell_type": "markdown",
   "metadata": {},
   "source": [
    "# 7.5 组间差异的非参数检验"
   ]
  },
  {
   "cell_type": "markdown",
   "metadata": {},
   "source": [
    "## 7.5.1 两组的比较"
   ]
  },
  {
   "cell_type": "markdown",
   "metadata": {},
   "source": [
    "## 7.5.2 多于两组的比较"
   ]
  },
  {
   "cell_type": "markdown",
   "metadata": {},
   "source": [
    "# 7.6 组间差异的可视化"
   ]
  },
  {
   "cell_type": "code",
   "execution_count": null,
   "metadata": {},
   "outputs": [],
   "source": []
  },
  {
   "cell_type": "code",
   "execution_count": null,
   "metadata": {},
   "outputs": [],
   "source": []
  },
  {
   "cell_type": "code",
   "execution_count": null,
   "metadata": {},
   "outputs": [],
   "source": []
  },
  {
   "cell_type": "code",
   "execution_count": null,
   "metadata": {},
   "outputs": [],
   "source": []
  },
  {
   "cell_type": "code",
   "execution_count": null,
   "metadata": {},
   "outputs": [],
   "source": []
  },
  {
   "cell_type": "code",
   "execution_count": null,
   "metadata": {},
   "outputs": [],
   "source": []
  },
  {
   "cell_type": "code",
   "execution_count": null,
   "metadata": {},
   "outputs": [],
   "source": []
  },
  {
   "cell_type": "code",
   "execution_count": null,
   "metadata": {},
   "outputs": [],
   "source": []
  },
  {
   "cell_type": "code",
   "execution_count": null,
   "metadata": {},
   "outputs": [],
   "source": []
  },
  {
   "cell_type": "code",
   "execution_count": null,
   "metadata": {},
   "outputs": [],
   "source": []
  },
  {
   "cell_type": "code",
   "execution_count": null,
   "metadata": {},
   "outputs": [],
   "source": []
  },
  {
   "cell_type": "code",
   "execution_count": null,
   "metadata": {},
   "outputs": [],
   "source": []
  },
  {
   "cell_type": "code",
   "execution_count": null,
   "metadata": {},
   "outputs": [],
   "source": []
  },
  {
   "cell_type": "code",
   "execution_count": null,
   "metadata": {},
   "outputs": [],
   "source": []
  }
 ],
 "metadata": {
  "kernelspec": {
   "display_name": "R",
   "language": "R",
   "name": "ir"
  },
  "language_info": {
   "codemirror_mode": "r",
   "file_extension": ".r",
   "mimetype": "text/x-r-source",
   "name": "R",
   "pygments_lexer": "r",
   "version": "3.5.1"
  }
 },
 "nbformat": 4,
 "nbformat_minor": 2
}
