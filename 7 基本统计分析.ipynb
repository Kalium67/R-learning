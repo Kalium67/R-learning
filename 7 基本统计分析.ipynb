{
 "cells": [
  {
   "cell_type": "markdown",
   "metadata": {},
   "source": [
    "# 7.1 描述性统计分析"
   ]
  },
  {
   "cell_type": "markdown",
   "metadata": {},
   "source": [
    "描述性统计分析\n",
    "\n",
    "频数表和列联表\n",
    "\n",
    "相关系数和协方差\n",
    "\n",
    "t检验\n",
    "\n",
    "非参数统计"
   ]
  },
  {
   "cell_type": "markdown",
   "metadata": {},
   "source": [
    "分析连续性变量的中心趋势、变化性和分布形状的方法。"
   ]
  },
  {
   "cell_type": "code",
   "execution_count": 17,
   "metadata": {},
   "outputs": [
    {
     "name": "stderr",
     "output_type": "stream",
     "text": [
      "Your code contains a unicode char which cannot be displayed in your\n",
      "current locale and R will silently convert it to an escaped form when the\n",
      "R kernel executes this code. This can lead to subtle errors if you use\n",
      "such chars to do comparisons. For more information, please see\n",
      "https://github.com/IRkernel/repr/wiki/Problems-with-unicode-on-windows"
     ]
    },
    {
     "data": {
      "text/html": [
       "<table>\n",
       "<thead><tr><th></th><th scope=col>mpg</th><th scope=col>hp</th><th scope=col>wt</th></tr></thead>\n",
       "<tbody>\n",
       "\t<tr><th scope=row>Mazda RX4</th><td>21.0 </td><td>110  </td><td>2.620</td></tr>\n",
       "\t<tr><th scope=row>Mazda RX4 Wag</th><td>21.0 </td><td>110  </td><td>2.875</td></tr>\n",
       "\t<tr><th scope=row>Datsun 710</th><td>22.8 </td><td> 93  </td><td>2.320</td></tr>\n",
       "\t<tr><th scope=row>Hornet 4 Drive</th><td>21.4 </td><td>110  </td><td>3.215</td></tr>\n",
       "\t<tr><th scope=row>Hornet Sportabout</th><td>18.7 </td><td>175  </td><td>3.440</td></tr>\n",
       "\t<tr><th scope=row>Valiant</th><td>18.1 </td><td>105  </td><td>3.460</td></tr>\n",
       "</tbody>\n",
       "</table>\n"
      ],
      "text/latex": [
       "\\begin{tabular}{r|lll}\n",
       "  & mpg & hp & wt\\\\\n",
       "\\hline\n",
       "\tMazda RX4 & 21.0  & 110   & 2.620\\\\\n",
       "\tMazda RX4 Wag & 21.0  & 110   & 2.875\\\\\n",
       "\tDatsun 710 & 22.8  &  93   & 2.320\\\\\n",
       "\tHornet 4 Drive & 21.4  & 110   & 3.215\\\\\n",
       "\tHornet Sportabout & 18.7  & 175   & 3.440\\\\\n",
       "\tValiant & 18.1  & 105   & 3.460\\\\\n",
       "\\end{tabular}\n"
      ],
      "text/markdown": [
       "\n",
       "| <!--/--> | mpg | hp | wt |\n",
       "|---|---|---|---|\n",
       "| Mazda RX4 | 21.0  | 110   | 2.620 |\n",
       "| Mazda RX4 Wag | 21.0  | 110   | 2.875 |\n",
       "| Datsun 710 | 22.8  |  93   | 2.320 |\n",
       "| Hornet 4 Drive | 21.4  | 110   | 3.215 |\n",
       "| Hornet Sportabout | 18.7  | 175   | 3.440 |\n",
       "| Valiant | 18.1  | 105   | 3.460 |\n",
       "\n"
      ],
      "text/plain": [
       "                  mpg  hp  wt   \n",
       "Mazda RX4         21.0 110 2.620\n",
       "Mazda RX4 Wag     21.0 110 2.875\n",
       "Datsun 710        22.8  93 2.320\n",
       "Hornet 4 Drive    21.4 110 3.215\n",
       "Hornet Sportabout 18.7 175 3.440\n",
       "Valiant           18.1 105 3.460"
      ]
     },
     "metadata": {},
     "output_type": "display_data"
    }
   ],
   "source": [
    "#查看所有32中车型的描述性统计量，然后按照变速箱类型（am）和气缸数（cyl）考察描述性统计量。\n",
    "myvars <- c(\"mpg\",\"hp\",\"wt\")\n",
    "head(mtcars[myvars])"
   ]
  },
  {
   "cell_type": "markdown",
   "metadata": {},
   "source": [
    "## 7.1.1 方法云集"
   ]
  },
  {
   "cell_type": "code",
   "execution_count": 18,
   "metadata": {},
   "outputs": [
    {
     "name": "stderr",
     "output_type": "stream",
     "text": [
      "Your code contains a unicode char which cannot be displayed in your\n",
      "current locale and R will silently convert it to an escaped form when the\n",
      "R kernel executes this code. This can lead to subtle errors if you use\n",
      "such chars to do comparisons. For more information, please see\n",
      "https://github.com/IRkernel/repr/wiki/Problems-with-unicode-on-windows"
     ]
    },
    {
     "data": {
      "text/plain": [
       "      mpg              hp              wt       \n",
       " Min.   :10.40   Min.   : 52.0   Min.   :1.513  \n",
       " 1st Qu.:15.43   1st Qu.: 96.5   1st Qu.:2.581  \n",
       " Median :19.20   Median :123.0   Median :3.325  \n",
       " Mean   :20.09   Mean   :146.7   Mean   :3.217  \n",
       " 3rd Qu.:22.80   3rd Qu.:180.0   3rd Qu.:3.610  \n",
       " Max.   :33.90   Max.   :335.0   Max.   :5.424  "
      ]
     },
     "metadata": {},
     "output_type": "display_data"
    }
   ],
   "source": [
    "#通过summary()计算描述性统计量\n",
    "myvars <- c(\"mpg\",\"hp\",\"wt\")\n",
    "summary(mtcars[myvars])\n",
    "#summary()函数提供了最小值、最大值、四分位数和数值型变量的均值，以及因子向量和逻辑型向量的频数统计"
   ]
  },
  {
   "cell_type": "markdown",
   "metadata": {},
   "source": [
    "apply()函数或sapply()函数计算所选择的任意描述性统计量。\n",
    "\n",
    "对于sapply()函数，其使用格式为：\n",
    "\n",
    "sapply(x, FUN, options)\n",
    "\n",
    "x是你的数据框（或矩阵），\n",
    "\n",
    "FUN为一个任意的函数。\n",
    "\n",
    "如果指定了options，它们将被传递给FUN。你可以在这里插入的典型函数有mean()、sd()、var()、min()、max()、median()、length()、range()和quantile()\n",
    "\n",
    "函数fivenum()可返回图基五数总括（Tukey’s five-numbersummary，即最小值、下四分位数、中位数、上四分位数和最大值）。"
   ]
  },
  {
   "cell_type": "code",
   "execution_count": 19,
   "metadata": {},
   "outputs": [
    {
     "name": "stderr",
     "output_type": "stream",
     "text": [
      "Your code contains a unicode char which cannot be displayed in your\n",
      "current locale and R will silently convert it to an escaped form when the\n",
      "R kernel executes this code. This can lead to subtle errors if you use\n",
      "such chars to do comparisons. For more information, please see\n",
      "https://github.com/IRkernel/repr/wiki/Problems-with-unicode-on-windows"
     ]
    },
    {
     "data": {
      "text/html": [
       "<table>\n",
       "<thead><tr><th></th><th scope=col>mpg</th><th scope=col>hp</th><th scope=col>wt</th></tr></thead>\n",
       "<tbody>\n",
       "\t<tr><th scope=row>n</th><td>32.000000  </td><td> 32.0000000</td><td>32.00000000</td></tr>\n",
       "\t<tr><th scope=row>mean</th><td>20.090625  </td><td>146.6875000</td><td> 3.21725000</td></tr>\n",
       "\t<tr><th scope=row>stdev</th><td> 6.026948  </td><td> 68.5628685</td><td> 0.97845744</td></tr>\n",
       "\t<tr><th scope=row>skew</th><td> 0.610655  </td><td>  0.7260237</td><td> 0.42314646</td></tr>\n",
       "\t<tr><th scope=row>kurtosis</th><td>-0.372766  </td><td> -0.1355511</td><td>-0.02271075</td></tr>\n",
       "</tbody>\n",
       "</table>\n"
      ],
      "text/latex": [
       "\\begin{tabular}{r|lll}\n",
       "  & mpg & hp & wt\\\\\n",
       "\\hline\n",
       "\tn & 32.000000   &  32.0000000 & 32.00000000\\\\\n",
       "\tmean & 20.090625   & 146.6875000 &  3.21725000\\\\\n",
       "\tstdev &  6.026948   &  68.5628685 &  0.97845744\\\\\n",
       "\tskew &  0.610655   &   0.7260237 &  0.42314646\\\\\n",
       "\tkurtosis & -0.372766   &  -0.1355511 & -0.02271075\\\\\n",
       "\\end{tabular}\n"
      ],
      "text/markdown": [
       "\n",
       "| <!--/--> | mpg | hp | wt |\n",
       "|---|---|---|---|\n",
       "| n | 32.000000   |  32.0000000 | 32.00000000 |\n",
       "| mean | 20.090625   | 146.6875000 |  3.21725000 |\n",
       "| stdev |  6.026948   |  68.5628685 |  0.97845744 |\n",
       "| skew |  0.610655   |   0.7260237 |  0.42314646 |\n",
       "| kurtosis | -0.372766   |  -0.1355511 | -0.02271075 |\n",
       "\n"
      ],
      "text/plain": [
       "         mpg       hp          wt         \n",
       "n        32.000000  32.0000000 32.00000000\n",
       "mean     20.090625 146.6875000  3.21725000\n",
       "stdev     6.026948  68.5628685  0.97845744\n",
       "skew      0.610655   0.7260237  0.42314646\n",
       "kurtosis -0.372766  -0.1355511 -0.02271075"
      ]
     },
     "metadata": {},
     "output_type": "display_data"
    },
    {
     "data": {
      "text/html": [
       "<table>\n",
       "<thead><tr><th></th><th scope=col>mpg</th><th scope=col>hp</th><th scope=col>wt</th></tr></thead>\n",
       "<tbody>\n",
       "\t<tr><th scope=row>n</th><td>32.000000  </td><td> 32.0000000</td><td>32.00000000</td></tr>\n",
       "\t<tr><th scope=row>mean</th><td>20.090625  </td><td>146.6875000</td><td> 3.21725000</td></tr>\n",
       "\t<tr><th scope=row>stdev</th><td> 6.026948  </td><td> 68.5628685</td><td> 0.97845744</td></tr>\n",
       "\t<tr><th scope=row>skew</th><td> 0.610655  </td><td>  0.7260237</td><td> 0.42314646</td></tr>\n",
       "\t<tr><th scope=row>kurtosis</th><td>-0.372766  </td><td> -0.1355511</td><td>-0.02271075</td></tr>\n",
       "</tbody>\n",
       "</table>\n"
      ],
      "text/latex": [
       "\\begin{tabular}{r|lll}\n",
       "  & mpg & hp & wt\\\\\n",
       "\\hline\n",
       "\tn & 32.000000   &  32.0000000 & 32.00000000\\\\\n",
       "\tmean & 20.090625   & 146.6875000 &  3.21725000\\\\\n",
       "\tstdev &  6.026948   &  68.5628685 &  0.97845744\\\\\n",
       "\tskew &  0.610655   &   0.7260237 &  0.42314646\\\\\n",
       "\tkurtosis & -0.372766   &  -0.1355511 & -0.02271075\\\\\n",
       "\\end{tabular}\n"
      ],
      "text/markdown": [
       "\n",
       "| <!--/--> | mpg | hp | wt |\n",
       "|---|---|---|---|\n",
       "| n | 32.000000   |  32.0000000 | 32.00000000 |\n",
       "| mean | 20.090625   | 146.6875000 |  3.21725000 |\n",
       "| stdev |  6.026948   |  68.5628685 |  0.97845744 |\n",
       "| skew |  0.610655   |   0.7260237 |  0.42314646 |\n",
       "| kurtosis | -0.372766   |  -0.1355511 | -0.02271075 |\n",
       "\n"
      ],
      "text/plain": [
       "         mpg       hp          wt         \n",
       "n        32.000000  32.0000000 32.00000000\n",
       "mean     20.090625 146.6875000  3.21725000\n",
       "stdev     6.026948  68.5628685  0.97845744\n",
       "skew      0.610655   0.7260237  0.42314646\n",
       "kurtosis -0.372766  -0.1355511 -0.02271075"
      ]
     },
     "metadata": {},
     "output_type": "display_data"
    }
   ],
   "source": [
    "# 通过sapply()计算描述性统计量\n",
    "mystats <- function(x,na.omit=FALSE){\n",
    "    if (na.omit)\n",
    "        x <- x[!is.na(x)]\n",
    "    m <- mean(x)\n",
    "    n <- length(x)\n",
    "    s <- sd(x)\n",
    "    skew <- sum((x-m)^3/s^3)/n\n",
    "    kurt <- sum((x-m)^4/s^4)/n -3\n",
    "    return(c(n=n,mean=m,stdev=s,skew=skew,kurtosis=kurt))\n",
    "}\n",
    "\n",
    "myvars <- c(\"mpg\",\"hp\",\"wt\")\n",
    "sapply(mtcars[myvars],mystats)\n",
    "sapply(mtcars[myvars],mystats,na.omit=TRUE)  #忽略缺失值"
   ]
  },
  {
   "cell_type": "markdown",
   "metadata": {},
   "source": [
    "## 7.1.2 更多方法"
   ]
  },
  {
   "cell_type": "markdown",
   "metadata": {},
   "source": [
    "计算描述性统计量的函数，其中包括Himsc、pastecs和psych"
   ]
  },
  {
   "cell_type": "markdown",
   "metadata": {},
   "source": [
    "Hmisc包中的describe()函数可返回变量和观测的数量、缺失值和唯一值的数目、平均值、分位数，以及五个最大的值和五个最小的值。"
   ]
  },
  {
   "cell_type": "code",
   "execution_count": 20,
   "metadata": {},
   "outputs": [
    {
     "name": "stderr",
     "output_type": "stream",
     "text": [
      "Your code contains a unicode char which cannot be displayed in your\n",
      "current locale and R will silently convert it to an escaped form when the\n",
      "R kernel executes this code. This can lead to subtle errors if you use\n",
      "such chars to do comparisons. For more information, please see\n",
      "https://github.com/IRkernel/repr/wiki/Problems-with-unicode-on-windows"
     ]
    },
    {
     "data": {
      "text/html": [
       "<table>\n",
       "<thead><tr><th></th><th scope=col>vars</th><th scope=col>n</th><th scope=col>mean</th><th scope=col>sd</th><th scope=col>median</th><th scope=col>trimmed</th><th scope=col>mad</th><th scope=col>min</th><th scope=col>max</th><th scope=col>range</th><th scope=col>skew</th><th scope=col>kurtosis</th><th scope=col>se</th></tr></thead>\n",
       "<tbody>\n",
       "\t<tr><th scope=row>mpg</th><td>1          </td><td>32         </td><td> 20.09062  </td><td> 6.0269481 </td><td> 19.200    </td><td> 19.696154 </td><td> 5.4114900 </td><td>10.400     </td><td> 33.900    </td><td> 23.500    </td><td>0.6106550  </td><td>-0.37276603</td><td> 1.0654240 </td></tr>\n",
       "\t<tr><th scope=row>hp</th><td>2          </td><td>32         </td><td>146.68750  </td><td>68.5628685 </td><td>123.000    </td><td>141.192308 </td><td>77.0952000 </td><td>52.000     </td><td>335.000    </td><td>283.000    </td><td>0.7260237  </td><td>-0.13555112</td><td>12.1203173 </td></tr>\n",
       "\t<tr><th scope=row>wt</th><td>3          </td><td>32         </td><td>  3.21725  </td><td> 0.9784574 </td><td>  3.325    </td><td>  3.152692 </td><td> 0.7672455 </td><td> 1.513     </td><td>  5.424    </td><td>  3.911    </td><td>0.4231465  </td><td>-0.02271075</td><td> 0.1729685 </td></tr>\n",
       "</tbody>\n",
       "</table>\n"
      ],
      "text/latex": [
       "\\begin{tabular}{r|lllllllllllll}\n",
       "  & vars & n & mean & sd & median & trimmed & mad & min & max & range & skew & kurtosis & se\\\\\n",
       "\\hline\n",
       "\tmpg & 1           & 32          &  20.09062   &  6.0269481  &  19.200     &  19.696154  &  5.4114900  & 10.400      &  33.900     &  23.500     & 0.6106550   & -0.37276603 &  1.0654240 \\\\\n",
       "\thp & 2           & 32          & 146.68750   & 68.5628685  & 123.000     & 141.192308  & 77.0952000  & 52.000      & 335.000     & 283.000     & 0.7260237   & -0.13555112 & 12.1203173 \\\\\n",
       "\twt & 3           & 32          &   3.21725   &  0.9784574  &   3.325     &   3.152692  &  0.7672455  &  1.513      &   5.424     &   3.911     & 0.4231465   & -0.02271075 &  0.1729685 \\\\\n",
       "\\end{tabular}\n"
      ],
      "text/markdown": [
       "\n",
       "| <!--/--> | vars | n | mean | sd | median | trimmed | mad | min | max | range | skew | kurtosis | se |\n",
       "|---|---|---|---|---|---|---|---|---|---|---|---|---|---|\n",
       "| mpg | 1           | 32          |  20.09062   |  6.0269481  |  19.200     |  19.696154  |  5.4114900  | 10.400      |  33.900     |  23.500     | 0.6106550   | -0.37276603 |  1.0654240  |\n",
       "| hp | 2           | 32          | 146.68750   | 68.5628685  | 123.000     | 141.192308  | 77.0952000  | 52.000      | 335.000     | 283.000     | 0.7260237   | -0.13555112 | 12.1203173  |\n",
       "| wt | 3           | 32          |   3.21725   |  0.9784574  |   3.325     |   3.152692  |  0.7672455  |  1.513      |   5.424     |   3.911     | 0.4231465   | -0.02271075 |  0.1729685  |\n",
       "\n"
      ],
      "text/plain": [
       "    vars n  mean      sd         median  trimmed    mad        min    max    \n",
       "mpg 1    32  20.09062  6.0269481  19.200  19.696154  5.4114900 10.400  33.900\n",
       "hp  2    32 146.68750 68.5628685 123.000 141.192308 77.0952000 52.000 335.000\n",
       "wt  3    32   3.21725  0.9784574   3.325   3.152692  0.7672455  1.513   5.424\n",
       "    range   skew      kurtosis    se        \n",
       "mpg  23.500 0.6106550 -0.37276603  1.0654240\n",
       "hp  283.000 0.7260237 -0.13555112 12.1203173\n",
       "wt    3.911 0.4231465 -0.02271075  0.1729685"
      ]
     },
     "metadata": {},
     "output_type": "display_data"
    }
   ],
   "source": [
    "#通过Hmisc包中的describe()函数计算描述性统计量\n",
    "library(Hmisc)\n",
    "myvars <- c(\"mpg\", \"hp\", \"wt\")\n",
    "describe(mtcars[myvars])"
   ]
  },
  {
   "cell_type": "markdown",
   "metadata": {},
   "source": [
    "pastecs包中有一个名为stat.desc()的函数，它可以计算种类繁多的描述性统计量。使用格式为：\n",
    "\n",
    "stat.desc(x, basic=TRUE, desc=TRUE, norm=FALSE, p=0.95)\n",
    "\n",
    "x是一个数据框或时间序列。\n",
    "\n",
    "basic=TRUE（默认值），则计算其中所有值、空值、缺失值的数量，以及最小值、最大值、值域，还有总和。\n",
    "\n",
    "desc=TRUE（同样也是默认值），则计算中位数、平均数、平均数的标准误、平均数置信度为95%的置信区间、方差、标准差以及变异系\n",
    "数。\n",
    "\n",
    "norm=TRUE（不是默认的），则返回正态分布统计量，包括偏度和峰度（以及它们的统计显著程度）和Shapiro-Wilk正态检验结果"
   ]
  },
  {
   "cell_type": "code",
   "execution_count": 21,
   "metadata": {},
   "outputs": [
    {
     "name": "stderr",
     "output_type": "stream",
     "text": [
      "Your code contains a unicode char which cannot be displayed in your\n",
      "current locale and R will silently convert it to an escaped form when the\n",
      "R kernel executes this code. This can lead to subtle errors if you use\n",
      "such chars to do comparisons. For more information, please see\n",
      "https://github.com/IRkernel/repr/wiki/Problems-with-unicode-on-windows"
     ]
    },
    {
     "data": {
      "text/html": [
       "<table>\n",
       "<thead><tr><th></th><th scope=col>mpg</th><th scope=col>hp</th><th scope=col>wt</th></tr></thead>\n",
       "<tbody>\n",
       "\t<tr><th scope=row>nbr.val</th><td> 32.0000000 </td><td>  32.0000000</td><td> 32.0000000 </td></tr>\n",
       "\t<tr><th scope=row>nbr.null</th><td>  0.0000000 </td><td>   0.0000000</td><td>  0.0000000 </td></tr>\n",
       "\t<tr><th scope=row>nbr.na</th><td>  0.0000000 </td><td>   0.0000000</td><td>  0.0000000 </td></tr>\n",
       "\t<tr><th scope=row>min</th><td> 10.4000000 </td><td>  52.0000000</td><td>  1.5130000 </td></tr>\n",
       "\t<tr><th scope=row>max</th><td> 33.9000000 </td><td> 335.0000000</td><td>  5.4240000 </td></tr>\n",
       "\t<tr><th scope=row>range</th><td> 23.5000000 </td><td> 283.0000000</td><td>  3.9110000 </td></tr>\n",
       "\t<tr><th scope=row>sum</th><td>642.9000000 </td><td>4694.0000000</td><td>102.9520000 </td></tr>\n",
       "\t<tr><th scope=row>median</th><td> 19.2000000 </td><td> 123.0000000</td><td>  3.3250000 </td></tr>\n",
       "\t<tr><th scope=row>mean</th><td> 20.0906250 </td><td> 146.6875000</td><td>  3.2172500 </td></tr>\n",
       "\t<tr><th scope=row>SE.mean</th><td>  1.0654240 </td><td>  12.1203173</td><td>  0.1729685 </td></tr>\n",
       "\t<tr><th scope=row>CI.mean.0.95</th><td>  2.1729465 </td><td>  24.7195501</td><td>  0.3527715 </td></tr>\n",
       "\t<tr><th scope=row>var</th><td> 36.3241028 </td><td>4700.8669355</td><td>  0.9573790 </td></tr>\n",
       "\t<tr><th scope=row>std.dev</th><td>  6.0269481 </td><td>  68.5628685</td><td>  0.9784574 </td></tr>\n",
       "\t<tr><th scope=row>coef.var</th><td>  0.2999881 </td><td>   0.4674077</td><td>  0.3041285 </td></tr>\n",
       "</tbody>\n",
       "</table>\n"
      ],
      "text/latex": [
       "\\begin{tabular}{r|lll}\n",
       "  & mpg & hp & wt\\\\\n",
       "\\hline\n",
       "\tnbr.val &  32.0000000  &   32.0000000 &  32.0000000 \\\\\n",
       "\tnbr.null &   0.0000000  &    0.0000000 &   0.0000000 \\\\\n",
       "\tnbr.na &   0.0000000  &    0.0000000 &   0.0000000 \\\\\n",
       "\tmin &  10.4000000  &   52.0000000 &   1.5130000 \\\\\n",
       "\tmax &  33.9000000  &  335.0000000 &   5.4240000 \\\\\n",
       "\trange &  23.5000000  &  283.0000000 &   3.9110000 \\\\\n",
       "\tsum & 642.9000000  & 4694.0000000 & 102.9520000 \\\\\n",
       "\tmedian &  19.2000000  &  123.0000000 &   3.3250000 \\\\\n",
       "\tmean &  20.0906250  &  146.6875000 &   3.2172500 \\\\\n",
       "\tSE.mean &   1.0654240  &   12.1203173 &   0.1729685 \\\\\n",
       "\tCI.mean.0.95 &   2.1729465  &   24.7195501 &   0.3527715 \\\\\n",
       "\tvar &  36.3241028  & 4700.8669355 &   0.9573790 \\\\\n",
       "\tstd.dev &   6.0269481  &   68.5628685 &   0.9784574 \\\\\n",
       "\tcoef.var &   0.2999881  &    0.4674077 &   0.3041285 \\\\\n",
       "\\end{tabular}\n"
      ],
      "text/markdown": [
       "\n",
       "| <!--/--> | mpg | hp | wt |\n",
       "|---|---|---|---|\n",
       "| nbr.val |  32.0000000  |   32.0000000 |  32.0000000  |\n",
       "| nbr.null |   0.0000000  |    0.0000000 |   0.0000000  |\n",
       "| nbr.na |   0.0000000  |    0.0000000 |   0.0000000  |\n",
       "| min |  10.4000000  |   52.0000000 |   1.5130000  |\n",
       "| max |  33.9000000  |  335.0000000 |   5.4240000  |\n",
       "| range |  23.5000000  |  283.0000000 |   3.9110000  |\n",
       "| sum | 642.9000000  | 4694.0000000 | 102.9520000  |\n",
       "| median |  19.2000000  |  123.0000000 |   3.3250000  |\n",
       "| mean |  20.0906250  |  146.6875000 |   3.2172500  |\n",
       "| SE.mean |   1.0654240  |   12.1203173 |   0.1729685  |\n",
       "| CI.mean.0.95 |   2.1729465  |   24.7195501 |   0.3527715  |\n",
       "| var |  36.3241028  | 4700.8669355 |   0.9573790  |\n",
       "| std.dev |   6.0269481  |   68.5628685 |   0.9784574  |\n",
       "| coef.var |   0.2999881  |    0.4674077 |   0.3041285  |\n",
       "\n"
      ],
      "text/plain": [
       "             mpg         hp           wt         \n",
       "nbr.val       32.0000000   32.0000000  32.0000000\n",
       "nbr.null       0.0000000    0.0000000   0.0000000\n",
       "nbr.na         0.0000000    0.0000000   0.0000000\n",
       "min           10.4000000   52.0000000   1.5130000\n",
       "max           33.9000000  335.0000000   5.4240000\n",
       "range         23.5000000  283.0000000   3.9110000\n",
       "sum          642.9000000 4694.0000000 102.9520000\n",
       "median        19.2000000  123.0000000   3.3250000\n",
       "mean          20.0906250  146.6875000   3.2172500\n",
       "SE.mean        1.0654240   12.1203173   0.1729685\n",
       "CI.mean.0.95   2.1729465   24.7195501   0.3527715\n",
       "var           36.3241028 4700.8669355   0.9573790\n",
       "std.dev        6.0269481   68.5628685   0.9784574\n",
       "coef.var       0.2999881    0.4674077   0.3041285"
      ]
     },
     "metadata": {},
     "output_type": "display_data"
    }
   ],
   "source": [
    "#通过pastecs包中的stat.desc()函数计算描述性统计量\n",
    "#install.packages(\"pastecs\")\n",
    "library(pastecs)\n",
    "myvars <- c(\"mpg\",\"hp\",\"wt\")\n",
    "stat.desc(mtcars[myvars])"
   ]
  },
  {
   "cell_type": "markdown",
   "metadata": {},
   "source": [
    "psych包也拥有一个名为describe()的函数，它可以计算非缺失值的数量、平均数、标准差、中位数、截尾均值、绝对中位差、最小值、最大值、值域、偏度、峰度和平均值的标准误。"
   ]
  },
  {
   "cell_type": "code",
   "execution_count": 22,
   "metadata": {},
   "outputs": [
    {
     "name": "stderr",
     "output_type": "stream",
     "text": [
      "Your code contains a unicode char which cannot be displayed in your\n",
      "current locale and R will silently convert it to an escaped form when the\n",
      "R kernel executes this code. This can lead to subtle errors if you use\n",
      "such chars to do comparisons. For more information, please see\n",
      "https://github.com/IRkernel/repr/wiki/Problems-with-unicode-on-windows"
     ]
    },
    {
     "data": {
      "text/html": [
       "<table>\n",
       "<thead><tr><th></th><th scope=col>vars</th><th scope=col>n</th><th scope=col>mean</th><th scope=col>sd</th><th scope=col>median</th><th scope=col>trimmed</th><th scope=col>mad</th><th scope=col>min</th><th scope=col>max</th><th scope=col>range</th><th scope=col>skew</th><th scope=col>kurtosis</th><th scope=col>se</th></tr></thead>\n",
       "<tbody>\n",
       "\t<tr><th scope=row>mpg</th><td>1          </td><td>32         </td><td> 20.09062  </td><td> 6.0269481 </td><td> 19.200    </td><td> 19.696154 </td><td> 5.4114900 </td><td>10.400     </td><td> 33.900    </td><td> 23.500    </td><td>0.6106550  </td><td>-0.37276603</td><td> 1.0654240 </td></tr>\n",
       "\t<tr><th scope=row>hp</th><td>2          </td><td>32         </td><td>146.68750  </td><td>68.5628685 </td><td>123.000    </td><td>141.192308 </td><td>77.0952000 </td><td>52.000     </td><td>335.000    </td><td>283.000    </td><td>0.7260237  </td><td>-0.13555112</td><td>12.1203173 </td></tr>\n",
       "\t<tr><th scope=row>wt</th><td>3          </td><td>32         </td><td>  3.21725  </td><td> 0.9784574 </td><td>  3.325    </td><td>  3.152692 </td><td> 0.7672455 </td><td> 1.513     </td><td>  5.424    </td><td>  3.911    </td><td>0.4231465  </td><td>-0.02271075</td><td> 0.1729685 </td></tr>\n",
       "</tbody>\n",
       "</table>\n"
      ],
      "text/latex": [
       "\\begin{tabular}{r|lllllllllllll}\n",
       "  & vars & n & mean & sd & median & trimmed & mad & min & max & range & skew & kurtosis & se\\\\\n",
       "\\hline\n",
       "\tmpg & 1           & 32          &  20.09062   &  6.0269481  &  19.200     &  19.696154  &  5.4114900  & 10.400      &  33.900     &  23.500     & 0.6106550   & -0.37276603 &  1.0654240 \\\\\n",
       "\thp & 2           & 32          & 146.68750   & 68.5628685  & 123.000     & 141.192308  & 77.0952000  & 52.000      & 335.000     & 283.000     & 0.7260237   & -0.13555112 & 12.1203173 \\\\\n",
       "\twt & 3           & 32          &   3.21725   &  0.9784574  &   3.325     &   3.152692  &  0.7672455  &  1.513      &   5.424     &   3.911     & 0.4231465   & -0.02271075 &  0.1729685 \\\\\n",
       "\\end{tabular}\n"
      ],
      "text/markdown": [
       "\n",
       "| <!--/--> | vars | n | mean | sd | median | trimmed | mad | min | max | range | skew | kurtosis | se |\n",
       "|---|---|---|---|---|---|---|---|---|---|---|---|---|---|\n",
       "| mpg | 1           | 32          |  20.09062   |  6.0269481  |  19.200     |  19.696154  |  5.4114900  | 10.400      |  33.900     |  23.500     | 0.6106550   | -0.37276603 |  1.0654240  |\n",
       "| hp | 2           | 32          | 146.68750   | 68.5628685  | 123.000     | 141.192308  | 77.0952000  | 52.000      | 335.000     | 283.000     | 0.7260237   | -0.13555112 | 12.1203173  |\n",
       "| wt | 3           | 32          |   3.21725   |  0.9784574  |   3.325     |   3.152692  |  0.7672455  |  1.513      |   5.424     |   3.911     | 0.4231465   | -0.02271075 |  0.1729685  |\n",
       "\n"
      ],
      "text/plain": [
       "    vars n  mean      sd         median  trimmed    mad        min    max    \n",
       "mpg 1    32  20.09062  6.0269481  19.200  19.696154  5.4114900 10.400  33.900\n",
       "hp  2    32 146.68750 68.5628685 123.000 141.192308 77.0952000 52.000 335.000\n",
       "wt  3    32   3.21725  0.9784574   3.325   3.152692  0.7672455  1.513   5.424\n",
       "    range   skew      kurtosis    se        \n",
       "mpg  23.500 0.6106550 -0.37276603  1.0654240\n",
       "hp  283.000 0.7260237 -0.13555112 12.1203173\n",
       "wt    3.911 0.4231465 -0.02271075  0.1729685"
      ]
     },
     "metadata": {},
     "output_type": "display_data"
    }
   ],
   "source": [
    "#通过psych包中的describe()计算描述性统计量\n",
    "#install.packages(\"psych\")\n",
    "library(psych)\n",
    "myvars <- c(\"mpg\",\"hp\",\"wt\")\n",
    "describe(mtcars[myvars])"
   ]
  },
  {
   "cell_type": "markdown",
   "metadata": {},
   "source": [
    "## 7.1.3 分组计算描述性统计量"
   ]
  },
  {
   "cell_type": "markdown",
   "metadata": {},
   "source": [
    "在比较多组个体或观测时，关注的焦点经常是各组的描述性统计信息，而不是样本整体的描述性统计信息。\n"
   ]
  },
  {
   "cell_type": "markdown",
   "metadata": {},
   "source": [
    "使用agregate()函数来分组获取描述性统计量"
   ]
  },
  {
   "cell_type": "code",
   "execution_count": 23,
   "metadata": {},
   "outputs": [
    {
     "data": {
      "text/html": [
       "<table>\n",
       "<thead><tr><th scope=col>am</th><th scope=col>mpg</th><th scope=col>hp</th><th scope=col>wt</th></tr></thead>\n",
       "<tbody>\n",
       "\t<tr><td>0       </td><td>17.14737</td><td>160.2632</td><td>3.768895</td></tr>\n",
       "\t<tr><td>1       </td><td>24.39231</td><td>126.8462</td><td>2.411000</td></tr>\n",
       "</tbody>\n",
       "</table>\n"
      ],
      "text/latex": [
       "\\begin{tabular}{r|llll}\n",
       " am & mpg & hp & wt\\\\\n",
       "\\hline\n",
       "\t 0        & 17.14737 & 160.2632 & 3.768895\\\\\n",
       "\t 1        & 24.39231 & 126.8462 & 2.411000\\\\\n",
       "\\end{tabular}\n"
      ],
      "text/markdown": [
       "\n",
       "| am | mpg | hp | wt |\n",
       "|---|---|---|---|\n",
       "| 0        | 17.14737 | 160.2632 | 3.768895 |\n",
       "| 1        | 24.39231 | 126.8462 | 2.411000 |\n",
       "\n"
      ],
      "text/plain": [
       "  am mpg      hp       wt      \n",
       "1 0  17.14737 160.2632 3.768895\n",
       "2 1  24.39231 126.8462 2.411000"
      ]
     },
     "metadata": {},
     "output_type": "display_data"
    }
   ],
   "source": [
    "myvars <- c(\"mpg\",\"hp\",\"wt\")\n",
    "aggregate(mtcars[myvars], by=list(am=mtcars$am),mean)"
   ]
  },
  {
   "cell_type": "code",
   "execution_count": 24,
   "metadata": {},
   "outputs": [
    {
     "name": "stderr",
     "output_type": "stream",
     "text": [
      "Your code contains a unicode char which cannot be displayed in your\n",
      "current locale and R will silently convert it to an escaped form when the\n",
      "R kernel executes this code. This can lead to subtle errors if you use\n",
      "such chars to do comparisons. For more information, please see\n",
      "https://github.com/IRkernel/repr/wiki/Problems-with-unicode-on-windows"
     ]
    },
    {
     "data": {
      "text/html": [
       "<table>\n",
       "<thead><tr><th scope=col>am</th><th scope=col>mpg</th><th scope=col>hp</th><th scope=col>wt</th></tr></thead>\n",
       "<tbody>\n",
       "\t<tr><td>0        </td><td>3.833966 </td><td>53.90820 </td><td>0.7774001</td></tr>\n",
       "\t<tr><td>1        </td><td>6.166504 </td><td>84.06232 </td><td>0.6169816</td></tr>\n",
       "</tbody>\n",
       "</table>\n"
      ],
      "text/latex": [
       "\\begin{tabular}{r|llll}\n",
       " am & mpg & hp & wt\\\\\n",
       "\\hline\n",
       "\t 0         & 3.833966  & 53.90820  & 0.7774001\\\\\n",
       "\t 1         & 6.166504  & 84.06232  & 0.6169816\\\\\n",
       "\\end{tabular}\n"
      ],
      "text/markdown": [
       "\n",
       "| am | mpg | hp | wt |\n",
       "|---|---|---|---|\n",
       "| 0         | 3.833966  | 53.90820  | 0.7774001 |\n",
       "| 1         | 6.166504  | 84.06232  | 0.6169816 |\n",
       "\n"
      ],
      "text/plain": [
       "  am mpg      hp       wt       \n",
       "1 0  3.833966 53.90820 0.7774001\n",
       "2 1  6.166504 84.06232 0.6169816"
      ]
     },
     "metadata": {},
     "output_type": "display_data"
    }
   ],
   "source": [
    "aggregate(mtcars[myvars],\n",
    "          by=list(am=mtcars$am),  #如果有多个分组变量，可以使用by=list(name1=groupvar1, name2=groupvar2, ... , nameN=groupvarN)这样的语句。\n",
    "          sd)"
   ]
  },
  {
   "cell_type": "markdown",
   "metadata": {},
   "source": [
    "aggregate()仅允许在每次调用中使用平均数、标准差这样的单返回值函数。\n",
    "\n",
    "它无法一次返回若干个统计量。\n",
    "\n",
    "要完成这项任务，可以使用by()函数。格式为：\n",
    "\n",
    "by(data, INDICES, FUN)\n",
    "\n",
    "data是一个数据框或矩阵，\n",
    "\n",
    "INDICES是一个因子或因子组成的列表，定义了分组，\n",
    "\n",
    "FUN是任意函数。"
   ]
  },
  {
   "cell_type": "code",
   "execution_count": 25,
   "metadata": {},
   "outputs": [
    {
     "name": "stderr",
     "output_type": "stream",
     "text": [
      "Your code contains a unicode char which cannot be displayed in your\n",
      "current locale and R will silently convert it to an escaped form when the\n",
      "R kernel executes this code. This can lead to subtle errors if you use\n",
      "such chars to do comparisons. For more information, please see\n",
      "https://github.com/IRkernel/repr/wiki/Problems-with-unicode-on-windows"
     ]
    },
    {
     "data": {
      "text/plain": [
       "mtcars$am: 0\n",
       "                 mpg           hp         wt\n",
       "n        19.00000000  19.00000000 19.0000000\n",
       "mean     17.14736842 160.26315789  3.7688947\n",
       "stdev     3.83396639  53.90819573  0.7774001\n",
       "skew      0.01395038  -0.01422519  0.9759294\n",
       "kurtosis -0.80317826  -1.20969733  0.1415676\n",
       "------------------------------------------------------------ \n",
       "mtcars$am: 1\n",
       "                 mpg          hp         wt\n",
       "n        13.00000000  13.0000000 13.0000000\n",
       "mean     24.39230769 126.8461538  2.4110000\n",
       "stdev     6.16650381  84.0623243  0.6169816\n",
       "skew      0.05256118   1.3598859  0.2103128\n",
       "kurtosis -1.45535200   0.5634635 -1.1737358"
      ]
     },
     "metadata": {},
     "output_type": "display_data"
    }
   ],
   "source": [
    "#使用by()分组计算描述性统计量\n",
    "dstats <- function(x)sapply(x,mystats)  #调用mystats()函数，将其应用于数据框的每一栏中\n",
    "myvars <- c(\"mpg\",\"hp\",\"wt\")\n",
    "by(mtcars[myvars],mtcars$am,dstats) #通过by()函数则可得到am中每一水平的概括统计量"
   ]
  },
  {
   "cell_type": "markdown",
   "metadata": {},
   "source": [
    "## 7.1.4 分组计算的扩展"
   ]
  },
  {
   "cell_type": "markdown",
   "metadata": {},
   "source": [
    "doBy包和psych包也提供了分组计算描述性统计量的函数。\n",
    "\n",
    "doBy包中summaryBy()函数的使用格式为：\n",
    "\n",
    "summaryBy(formula, data=dataframe, FUN=function)\n",
    "          \n",
    "其中的formula接受以下的格式：\n",
    "\n",
    "          var1 + var2 + var3 + ... + varN ~ groupvar1 + groupvar2 + ... + groupvarN\n",
    "          在~左侧的变量是需要分析的数值型变量，而右侧的变量是类别型的分组变量。\n",
    "          \n",
    "function可为任何内建或用户自编的R函数。"
   ]
  },
  {
   "cell_type": "code",
   "execution_count": 26,
   "metadata": {},
   "outputs": [
    {
     "name": "stderr",
     "output_type": "stream",
     "text": [
      "Your code contains a unicode char which cannot be displayed in your\n",
      "current locale and R will silently convert it to an escaped form when the\n",
      "R kernel executes this code. This can lead to subtle errors if you use\n",
      "such chars to do comparisons. For more information, please see\n",
      "https://github.com/IRkernel/repr/wiki/Problems-with-unicode-on-windows"
     ]
    },
    {
     "ename": "ERROR",
     "evalue": "Error in library(doBy): there is no package called 'doBy'\n",
     "output_type": "error",
     "traceback": [
      "Error in library(doBy): there is no package called 'doBy'\nTraceback:\n",
      "1. library(doBy)",
      "2. stop(txt, domain = NA)"
     ]
    }
   ],
   "source": [
    "#使用doBy包中的summaryBy()分组计算描述统计量\n",
    "#install.packages(\"doBy\")\n",
    "library(doBy)\n",
    "summaryBy(mpg+hp+wt~am, data=mtcars, FUN=mystats)"
   ]
  },
  {
   "cell_type": "markdown",
   "metadata": {},
   "source": [
    "psych包中的describeBy()函数可计算和describe()相同的描述性统计量，只是按照一个或多个分组变量分层。"
   ]
  },
  {
   "cell_type": "code",
   "execution_count": 27,
   "metadata": {},
   "outputs": [
    {
     "name": "stderr",
     "output_type": "stream",
     "text": [
      "Your code contains a unicode char which cannot be displayed in your\n",
      "current locale and R will silently convert it to an escaped form when the\n",
      "R kernel executes this code. This can lead to subtle errors if you use\n",
      "such chars to do comparisons. For more information, please see\n",
      "https://github.com/IRkernel/repr/wiki/Problems-with-unicode-on-windows"
     ]
    },
    {
     "data": {
      "text/plain": [
       "\n",
       " Descriptive statistics by group \n",
       "am: 0\n",
       "    vars  n   mean    sd median trimmed   mad   min    max  range  skew\n",
       "mpg    1 19  17.15  3.83  17.30   17.12  3.11 10.40  24.40  14.00  0.01\n",
       "hp     2 19 160.26 53.91 175.00  161.06 77.10 62.00 245.00 183.00 -0.01\n",
       "wt     3 19   3.77  0.78   3.52    3.75  0.45  2.46   5.42   2.96  0.98\n",
       "    kurtosis    se\n",
       "mpg    -0.80  0.88\n",
       "hp     -1.21 12.37\n",
       "wt      0.14  0.18\n",
       "------------------------------------------------------------ \n",
       "am: 1\n",
       "    vars  n   mean    sd median trimmed   mad   min    max  range skew kurtosis\n",
       "mpg    1 13  24.39  6.17  22.80   24.38  6.67 15.00  33.90  18.90 0.05    -1.46\n",
       "hp     2 13 126.85 84.06 109.00  114.73 63.75 52.00 335.00 283.00 1.36     0.56\n",
       "wt     3 13   2.41  0.62   2.32    2.39  0.68  1.51   3.57   2.06 0.21    -1.17\n",
       "       se\n",
       "mpg  1.71\n",
       "hp  23.31\n",
       "wt   0.17"
      ]
     },
     "metadata": {},
     "output_type": "display_data"
    }
   ],
   "source": [
    "#使用psych包中的describeBy()分组计算概述统计量\n",
    "library(psych)\n",
    "myvars <- c(\"mpg\",\"hp\",\"wt\")\n",
    "describeBy(mtcars[myvars], #describeBy()函数不允许指定任意函数，所以它的普适性较低\n",
    "           list(am=mtcars$am)) #若存在一个以上的分组变量，你可以使用list(name1=groupvar1, name2=groupvar2, ... ,nameN=groupvarN)来表示它们。但这仅在分组变量交叉后不出现空白单元时有效。"
   ]
  },
  {
   "cell_type": "markdown",
   "metadata": {},
   "source": [
    "## 7.1.5 结果的可视化"
   ]
  },
  {
   "cell_type": "markdown",
   "metadata": {},
   "source": [
    "# 7.2 频数表和列联表"
   ]
  },
  {
   "cell_type": "code",
   "execution_count": 28,
   "metadata": {},
   "outputs": [
    {
     "name": "stderr",
     "output_type": "stream",
     "text": [
      "Your code contains a unicode char which cannot be displayed in your\n",
      "current locale and R will silently convert it to an escaped form when the\n",
      "R kernel executes this code. This can lead to subtle errors if you use\n",
      "such chars to do comparisons. For more information, please see\n",
      "https://github.com/IRkernel/repr/wiki/Problems-with-unicode-on-windowsWarning message:\n",
      "\"package 'vcd' was built under R version 3.5.2\"Loading required package: grid\n"
     ]
    },
    {
     "data": {
      "text/html": [
       "<table>\n",
       "<thead><tr><th scope=col>ID</th><th scope=col>Treatment</th><th scope=col>Sex</th><th scope=col>Age</th><th scope=col>Improved</th></tr></thead>\n",
       "<tbody>\n",
       "\t<tr><td>57     </td><td>Treated</td><td>Male   </td><td>27     </td><td>Some   </td></tr>\n",
       "\t<tr><td>46     </td><td>Treated</td><td>Male   </td><td>29     </td><td>None   </td></tr>\n",
       "\t<tr><td>77     </td><td>Treated</td><td>Male   </td><td>30     </td><td>None   </td></tr>\n",
       "\t<tr><td>17     </td><td>Treated</td><td>Male   </td><td>32     </td><td>Marked </td></tr>\n",
       "\t<tr><td>36     </td><td>Treated</td><td>Male   </td><td>46     </td><td>Marked </td></tr>\n",
       "\t<tr><td>23     </td><td>Treated</td><td>Male   </td><td>58     </td><td>Marked </td></tr>\n",
       "</tbody>\n",
       "</table>\n"
      ],
      "text/latex": [
       "\\begin{tabular}{r|lllll}\n",
       " ID & Treatment & Sex & Age & Improved\\\\\n",
       "\\hline\n",
       "\t 57      & Treated & Male    & 27      & Some   \\\\\n",
       "\t 46      & Treated & Male    & 29      & None   \\\\\n",
       "\t 77      & Treated & Male    & 30      & None   \\\\\n",
       "\t 17      & Treated & Male    & 32      & Marked \\\\\n",
       "\t 36      & Treated & Male    & 46      & Marked \\\\\n",
       "\t 23      & Treated & Male    & 58      & Marked \\\\\n",
       "\\end{tabular}\n"
      ],
      "text/markdown": [
       "\n",
       "| ID | Treatment | Sex | Age | Improved |\n",
       "|---|---|---|---|---|\n",
       "| 57      | Treated | Male    | 27      | Some    |\n",
       "| 46      | Treated | Male    | 29      | None    |\n",
       "| 77      | Treated | Male    | 30      | None    |\n",
       "| 17      | Treated | Male    | 32      | Marked  |\n",
       "| 36      | Treated | Male    | 46      | Marked  |\n",
       "| 23      | Treated | Male    | 58      | Marked  |\n",
       "\n"
      ],
      "text/plain": [
       "  ID Treatment Sex  Age Improved\n",
       "1 57 Treated   Male 27  Some    \n",
       "2 46 Treated   Male 29  None    \n",
       "3 77 Treated   Male 30  None    \n",
       "4 17 Treated   Male 32  Marked  \n",
       "5 36 Treated   Male 46  Marked  \n",
       "6 23 Treated   Male 58  Marked  "
      ]
     },
     "metadata": {},
     "output_type": "display_data"
    }
   ],
   "source": [
    "#本节中的数据来自vcd包中的Arthritis数据集。这份数据来自Kock & Edward （1988），表示了一项风湿性关节炎新疗法的双盲临床实验的结果。\n",
    "library(vcd)\n",
    "head(Arthritis)"
   ]
  },
  {
   "cell_type": "markdown",
   "metadata": {},
   "source": [
    "## 7.2.1 生成频数表"
   ]
  },
  {
   "cell_type": "markdown",
   "metadata": {},
   "source": [
    "![用于创建和处理列联表的函数.png](./image/用于创建和处理列联表的函数.png)\n",
    "![用于创建和处理列联表的函数2.png](./image/用于创建和处理列联表的函数2.png)"
   ]
  },
  {
   "cell_type": "markdown",
   "metadata": {},
   "source": [
    "### 1. 一维列联表"
   ]
  },
  {
   "cell_type": "code",
   "execution_count": 29,
   "metadata": {},
   "outputs": [
    {
     "name": "stderr",
     "output_type": "stream",
     "text": [
      "Your code contains a unicode char which cannot be displayed in your\n",
      "current locale and R will silently convert it to an escaped form when the\n",
      "R kernel executes this code. This can lead to subtle errors if you use\n",
      "such chars to do comparisons. For more information, please see\n",
      "https://github.com/IRkernel/repr/wiki/Problems-with-unicode-on-windows"
     ]
    },
    {
     "data": {
      "text/plain": [
       "Improved\n",
       "  None   Some Marked \n",
       "    42     14     28 "
      ]
     },
     "metadata": {},
     "output_type": "display_data"
    }
   ],
   "source": [
    "#使用table()函数生成简答的频数统计表。\n",
    "mytable <- with(Arthritis,table(Improved))\n",
    "mytable"
   ]
  },
  {
   "cell_type": "code",
   "execution_count": 30,
   "metadata": {},
   "outputs": [
    {
     "name": "stderr",
     "output_type": "stream",
     "text": [
      "Your code contains a unicode char which cannot be displayed in your\n",
      "current locale and R will silently convert it to an escaped form when the\n",
      "R kernel executes this code. This can lead to subtle errors if you use\n",
      "such chars to do comparisons. For more information, please see\n",
      "https://github.com/IRkernel/repr/wiki/Problems-with-unicode-on-windows"
     ]
    },
    {
     "data": {
      "text/plain": [
       "Improved\n",
       "     None      Some    Marked \n",
       "0.5000000 0.1666667 0.3333333 "
      ]
     },
     "metadata": {},
     "output_type": "display_data"
    }
   ],
   "source": [
    "#使用prop.table()讲这些频数转化为比例值：\n",
    "prop.table(mytable)"
   ]
  },
  {
   "cell_type": "code",
   "execution_count": 31,
   "metadata": {},
   "outputs": [
    {
     "name": "stderr",
     "output_type": "stream",
     "text": [
      "Your code contains a unicode char which cannot be displayed in your\n",
      "current locale and R will silently convert it to an escaped form when the\n",
      "R kernel executes this code. This can lead to subtle errors if you use\n",
      "such chars to do comparisons. For more information, please see\n",
      "https://github.com/IRkernel/repr/wiki/Problems-with-unicode-on-windows"
     ]
    },
    {
     "data": {
      "text/plain": [
       "Improved\n",
       "    None     Some   Marked \n",
       "50.00000 16.66667 33.33333 "
      ]
     },
     "metadata": {},
     "output_type": "display_data"
    }
   ],
   "source": [
    "#或使用prop.table()*100转化为百分比\n",
    "prop.table(mytable)*100"
   ]
  },
  {
   "cell_type": "markdown",
   "metadata": {},
   "source": [
    "### 2. 二维列联表"
   ]
  },
  {
   "cell_type": "markdown",
   "metadata": {},
   "source": [
    "对于二维列联表，table()函数的使用格式为：\n",
    "\n",
    "mytable <- table(A,B)\n",
    "\n",
    "A是行变量\n",
    "\n",
    "B是列变量"
   ]
  },
  {
   "cell_type": "markdown",
   "metadata": {},
   "source": [
    "xtabs()函数可使用公式风格的输入创建列联表，格式为：\n",
    "\n",
    "mytable <- xtabs(~ A + B, data=mydata)\n",
    "\n",
    "mydata是一个矩阵或数据框。\n",
    "\n",
    "要进行交叉分类的变量应出现在公式的右侧（即~符号的右方），以+作为分隔符。\n",
    "\n",
    "若某个变量写在公式的左侧，则其为一个频数向量（在数据已经被表格化时很有用）。"
   ]
  },
  {
   "cell_type": "code",
   "execution_count": 33,
   "metadata": {},
   "outputs": [
    {
     "data": {
      "text/plain": [
       "         Improved\n",
       "Treatment None Some Marked\n",
       "  Placebo   29    7      7\n",
       "  Treated   13    7     21"
      ]
     },
     "metadata": {},
     "output_type": "display_data"
    }
   ],
   "source": [
    "mytable <- xtabs(~ Treatment+Improved, data=Arthritis)\n",
    "mytable"
   ]
  },
  {
   "cell_type": "code",
   "execution_count": 35,
   "metadata": {},
   "outputs": [
    {
     "name": "stderr",
     "output_type": "stream",
     "text": [
      "Your code contains a unicode char which cannot be displayed in your\n",
      "current locale and R will silently convert it to an escaped form when the\n",
      "R kernel executes this code. This can lead to subtle errors if you use\n",
      "such chars to do comparisons. For more information, please see\n",
      "https://github.com/IRkernel/repr/wiki/Problems-with-unicode-on-windows"
     ]
    },
    {
     "data": {
      "text/plain": [
       "Treatment\n",
       "Placebo Treated \n",
       "     43      41 "
      ]
     },
     "metadata": {},
     "output_type": "display_data"
    },
    {
     "data": {
      "text/plain": [
       "         Improved\n",
       "Treatment      None      Some    Marked\n",
       "  Placebo 0.6744186 0.1627907 0.1627907\n",
       "  Treated 0.3170732 0.1707317 0.5121951"
      ]
     },
     "metadata": {},
     "output_type": "display_data"
    }
   ],
   "source": [
    "#使用margin.table()和prop.table()函数分别生成边际频数和比例。行和与行比例可以这样计算：\n",
    "\n",
    "margin.table(mytable, 1)  #下标1指代table()语句中的第一个变量\n",
    "\n",
    "prop.table(mytable, 1)"
   ]
  },
  {
   "cell_type": "code",
   "execution_count": 36,
   "metadata": {},
   "outputs": [
    {
     "data": {
      "text/plain": [
       "Improved\n",
       "  None   Some Marked \n",
       "    42     14     28 "
      ]
     },
     "metadata": {},
     "output_type": "display_data"
    }
   ],
   "source": [
    "margin.table(mytable, 2)"
   ]
  },
  {
   "cell_type": "code",
   "execution_count": 37,
   "metadata": {},
   "outputs": [
    {
     "name": "stderr",
     "output_type": "stream",
     "text": [
      "Your code contains a unicode char which cannot be displayed in your\n",
      "current locale and R will silently convert it to an escaped form when the\n",
      "R kernel executes this code. This can lead to subtle errors if you use\n",
      "such chars to do comparisons. For more information, please see\n",
      "https://github.com/IRkernel/repr/wiki/Problems-with-unicode-on-windows"
     ]
    },
    {
     "data": {
      "text/plain": [
       "         Improved\n",
       "Treatment      None      Some    Marked\n",
       "  Placebo 0.6904762 0.5000000 0.2500000\n",
       "  Treated 0.3095238 0.5000000 0.7500000"
      ]
     },
     "metadata": {},
     "output_type": "display_data"
    }
   ],
   "source": [
    "prop.table(mytable, 2)  #下标2指代table()语句中的第二个变量。"
   ]
  },
  {
   "cell_type": "code",
   "execution_count": 38,
   "metadata": {},
   "outputs": [
    {
     "name": "stderr",
     "output_type": "stream",
     "text": [
      "Your code contains a unicode char which cannot be displayed in your\n",
      "current locale and R will silently convert it to an escaped form when the\n",
      "R kernel executes this code. This can lead to subtle errors if you use\n",
      "such chars to do comparisons. For more information, please see\n",
      "https://github.com/IRkernel/repr/wiki/Problems-with-unicode-on-windows"
     ]
    },
    {
     "data": {
      "text/plain": [
       "         Improved\n",
       "Treatment       None       Some     Marked\n",
       "  Placebo 0.34523810 0.08333333 0.08333333\n",
       "  Treated 0.15476190 0.08333333 0.25000000"
      ]
     },
     "metadata": {},
     "output_type": "display_data"
    }
   ],
   "source": [
    "prop.table(mytable) #各单元格所占比例"
   ]
  },
  {
   "cell_type": "code",
   "execution_count": 39,
   "metadata": {},
   "outputs": [
    {
     "name": "stderr",
     "output_type": "stream",
     "text": [
      "Your code contains a unicode char which cannot be displayed in your\n",
      "current locale and R will silently convert it to an escaped form when the\n",
      "R kernel executes this code. This can lead to subtle errors if you use\n",
      "such chars to do comparisons. For more information, please see\n",
      "https://github.com/IRkernel/repr/wiki/Problems-with-unicode-on-windows"
     ]
    },
    {
     "data": {
      "text/html": [
       "<table>\n",
       "<thead><tr><th></th><th scope=col>None</th><th scope=col>Some</th><th scope=col>Marked</th><th scope=col>Sum</th></tr></thead>\n",
       "<tbody>\n",
       "\t<tr><th scope=row>Placebo</th><td>29</td><td> 7</td><td> 7</td><td>43</td></tr>\n",
       "\t<tr><th scope=row>Treated</th><td>13</td><td> 7</td><td>21</td><td>41</td></tr>\n",
       "\t<tr><th scope=row>Sum</th><td>42</td><td>14</td><td>28</td><td>84</td></tr>\n",
       "</tbody>\n",
       "</table>\n"
      ],
      "text/latex": [
       "\\begin{tabular}{r|llll}\n",
       "  & None & Some & Marked & Sum\\\\\n",
       "\\hline\n",
       "\tPlacebo & 29 &  7 &  7 & 43\\\\\n",
       "\tTreated & 13 &  7 & 21 & 41\\\\\n",
       "\tSum & 42 & 14 & 28 & 84\\\\\n",
       "\\end{tabular}\n"
      ],
      "text/markdown": [
       "\n",
       "| <!--/--> | None | Some | Marked | Sum |\n",
       "|---|---|---|---|---|\n",
       "| Placebo | 29 |  7 |  7 | 43 |\n",
       "| Treated | 13 |  7 | 21 | 41 |\n",
       "| Sum | 42 | 14 | 28 | 84 |\n",
       "\n"
      ],
      "text/plain": [
       "         Improved\n",
       "Treatment None Some Marked Sum\n",
       "  Placebo 29    7    7     43 \n",
       "  Treated 13    7   21     41 \n",
       "  Sum     42   14   28     84 "
      ]
     },
     "metadata": {},
     "output_type": "display_data"
    },
    {
     "data": {
      "text/html": [
       "<table>\n",
       "<thead><tr><th></th><th scope=col>None</th><th scope=col>Some</th><th scope=col>Marked</th><th scope=col>Sum</th></tr></thead>\n",
       "<tbody>\n",
       "\t<tr><th scope=row>Placebo</th><td>0.3452381 </td><td>0.08333333</td><td>0.08333333</td><td>0.5119048 </td></tr>\n",
       "\t<tr><th scope=row>Treated</th><td>0.1547619 </td><td>0.08333333</td><td>0.25000000</td><td>0.4880952 </td></tr>\n",
       "\t<tr><th scope=row>Sum</th><td>0.5000000 </td><td>0.16666667</td><td>0.33333333</td><td>1.0000000 </td></tr>\n",
       "</tbody>\n",
       "</table>\n"
      ],
      "text/latex": [
       "\\begin{tabular}{r|llll}\n",
       "  & None & Some & Marked & Sum\\\\\n",
       "\\hline\n",
       "\tPlacebo & 0.3452381  & 0.08333333 & 0.08333333 & 0.5119048 \\\\\n",
       "\tTreated & 0.1547619  & 0.08333333 & 0.25000000 & 0.4880952 \\\\\n",
       "\tSum & 0.5000000  & 0.16666667 & 0.33333333 & 1.0000000 \\\\\n",
       "\\end{tabular}\n"
      ],
      "text/markdown": [
       "\n",
       "| <!--/--> | None | Some | Marked | Sum |\n",
       "|---|---|---|---|---|\n",
       "| Placebo | 0.3452381  | 0.08333333 | 0.08333333 | 0.5119048  |\n",
       "| Treated | 0.1547619  | 0.08333333 | 0.25000000 | 0.4880952  |\n",
       "| Sum | 0.5000000  | 0.16666667 | 0.33333333 | 1.0000000  |\n",
       "\n"
      ],
      "text/plain": [
       "         Improved\n",
       "Treatment None      Some       Marked     Sum      \n",
       "  Placebo 0.3452381 0.08333333 0.08333333 0.5119048\n",
       "  Treated 0.1547619 0.08333333 0.25000000 0.4880952\n",
       "  Sum     0.5000000 0.16666667 0.33333333 1.0000000"
      ]
     },
     "metadata": {},
     "output_type": "display_data"
    },
    {
     "data": {
      "text/html": [
       "<table>\n",
       "<thead><tr><th></th><th scope=col>None</th><th scope=col>Some</th><th scope=col>Marked</th><th scope=col>Sum</th></tr></thead>\n",
       "<tbody>\n",
       "\t<tr><th scope=row>Placebo</th><td>0.6744186</td><td>0.1627907</td><td>0.1627907</td><td>1        </td></tr>\n",
       "\t<tr><th scope=row>Treated</th><td>0.3170732</td><td>0.1707317</td><td>0.5121951</td><td>1        </td></tr>\n",
       "</tbody>\n",
       "</table>\n"
      ],
      "text/latex": [
       "\\begin{tabular}{r|llll}\n",
       "  & None & Some & Marked & Sum\\\\\n",
       "\\hline\n",
       "\tPlacebo & 0.6744186 & 0.1627907 & 0.1627907 & 1        \\\\\n",
       "\tTreated & 0.3170732 & 0.1707317 & 0.5121951 & 1        \\\\\n",
       "\\end{tabular}\n"
      ],
      "text/markdown": [
       "\n",
       "| <!--/--> | None | Some | Marked | Sum |\n",
       "|---|---|---|---|---|\n",
       "| Placebo | 0.6744186 | 0.1627907 | 0.1627907 | 1         |\n",
       "| Treated | 0.3170732 | 0.1707317 | 0.5121951 | 1         |\n",
       "\n"
      ],
      "text/plain": [
       "         Improved\n",
       "Treatment None      Some      Marked    Sum\n",
       "  Placebo 0.6744186 0.1627907 0.1627907 1  \n",
       "  Treated 0.3170732 0.1707317 0.5121951 1  "
      ]
     },
     "metadata": {},
     "output_type": "display_data"
    },
    {
     "data": {
      "text/html": [
       "<table>\n",
       "<thead><tr><th></th><th scope=col>None</th><th scope=col>Some</th><th scope=col>Marked</th></tr></thead>\n",
       "<tbody>\n",
       "\t<tr><th scope=row>Placebo</th><td>0.6904762</td><td>0.5      </td><td>0.25     </td></tr>\n",
       "\t<tr><th scope=row>Treated</th><td>0.3095238</td><td>0.5      </td><td>0.75     </td></tr>\n",
       "\t<tr><th scope=row>Sum</th><td>1.0000000</td><td>1.0      </td><td>1.00     </td></tr>\n",
       "</tbody>\n",
       "</table>\n"
      ],
      "text/latex": [
       "\\begin{tabular}{r|lll}\n",
       "  & None & Some & Marked\\\\\n",
       "\\hline\n",
       "\tPlacebo & 0.6904762 & 0.5       & 0.25     \\\\\n",
       "\tTreated & 0.3095238 & 0.5       & 0.75     \\\\\n",
       "\tSum & 1.0000000 & 1.0       & 1.00     \\\\\n",
       "\\end{tabular}\n"
      ],
      "text/markdown": [
       "\n",
       "| <!--/--> | None | Some | Marked |\n",
       "|---|---|---|---|\n",
       "| Placebo | 0.6904762 | 0.5       | 0.25      |\n",
       "| Treated | 0.3095238 | 0.5       | 0.75      |\n",
       "| Sum | 1.0000000 | 1.0       | 1.00      |\n",
       "\n"
      ],
      "text/plain": [
       "         Improved\n",
       "Treatment None      Some Marked\n",
       "  Placebo 0.6904762 0.5  0.25  \n",
       "  Treated 0.3095238 0.5  0.75  \n",
       "  Sum     1.0000000 1.0  1.00  "
      ]
     },
     "metadata": {},
     "output_type": "display_data"
    }
   ],
   "source": [
    "#可以使用addmargins()函数为这些表格添加边际和\n",
    "addmargins(mytable)\n",
    "\n",
    "addmargins(prop.table(mytable))\n",
    "\n",
    "#在使用addmargins()时，默认行为是为表中所有的变量创建边际和。作为对照:\n",
    "addmargins(prop.table(mytable, 1), 2) #仅添加了各行的和\n",
    "addmargins(prop.table(mytable, 2), 1)#添加各列的和"
   ]
  },
  {
   "cell_type": "markdown",
   "metadata": {},
   "source": [
    "使用gmodels包中的CrossTable()函数是创建二维列联表的第三种方法。\n",
    "\n",
    "CrossTable()函数仿照SAS中PROC FREQ或SPSS中CROSSTABS的形式生成二维列联表。"
   ]
  },
  {
   "cell_type": "code",
   "execution_count": 41,
   "metadata": {},
   "outputs": [
    {
     "name": "stderr",
     "output_type": "stream",
     "text": [
      "Installing package into 'C:/Users/acer/Documents/R/win-library/3.5'\n",
      "(as 'lib' is unspecified)\n",
      "also installing the dependencies 'gtools', 'gdata'\n",
      "\n"
     ]
    },
    {
     "name": "stdout",
     "output_type": "stream",
     "text": [
      "package 'gtools' successfully unpacked and MD5 sums checked\n",
      "package 'gdata' successfully unpacked and MD5 sums checked\n",
      "package 'gmodels' successfully unpacked and MD5 sums checked\n",
      "\n",
      "The downloaded binary packages are in\n",
      "\tC:\\Users\\acer\\AppData\\Local\\Temp\\RtmpAPLleM\\downloaded_packages\n"
     ]
    },
    {
     "name": "stderr",
     "output_type": "stream",
     "text": [
      "Warning message:\n",
      "\"package 'gmodels' was built under R version 3.5.3\""
     ]
    },
    {
     "name": "stdout",
     "output_type": "stream",
     "text": [
      "\n",
      " \n",
      "   Cell Contents\n",
      "|-------------------------|\n",
      "|                       N |\n",
      "| Chi-square contribution |\n",
      "|           N / Row Total |\n",
      "|           N / Col Total |\n",
      "|         N / Table Total |\n",
      "|-------------------------|\n",
      "\n",
      " \n",
      "Total Observations in Table:  84 \n",
      "\n",
      " \n",
      "                    | Arthritis$Improved \n",
      "Arthritis$Treatment |      None |      Some |    Marked | Row Total | \n",
      "--------------------|-----------|-----------|-----------|-----------|\n",
      "            Placebo |        29 |         7 |         7 |        43 | \n",
      "                    |     2.616 |     0.004 |     3.752 |           | \n",
      "                    |     0.674 |     0.163 |     0.163 |     0.512 | \n",
      "                    |     0.690 |     0.500 |     0.250 |           | \n",
      "                    |     0.345 |     0.083 |     0.083 |           | \n",
      "--------------------|-----------|-----------|-----------|-----------|\n",
      "            Treated |        13 |         7 |        21 |        41 | \n",
      "                    |     2.744 |     0.004 |     3.935 |           | \n",
      "                    |     0.317 |     0.171 |     0.512 |     0.488 | \n",
      "                    |     0.310 |     0.500 |     0.750 |           | \n",
      "                    |     0.155 |     0.083 |     0.250 |           | \n",
      "--------------------|-----------|-----------|-----------|-----------|\n",
      "       Column Total |        42 |        14 |        28 |        84 | \n",
      "                    |     0.500 |     0.167 |     0.333 |           | \n",
      "--------------------|-----------|-----------|-----------|-----------|\n",
      "\n",
      " \n"
     ]
    }
   ],
   "source": [
    "install.packages(\"gmodels\")\n",
    "library(gmodels)\n",
    "CrossTable(Arthritis$Treatment,Arthritis$Improved)"
   ]
  },
  {
   "cell_type": "markdown",
   "metadata": {},
   "source": [
    "CrossTable()函数有很多选项，可以做许多事情：计算（行、列、单元格）的百分比；指定小数位数；进行卡方、Fisher和McNemar独立性检验；计算期望和（皮尔逊、标准化、调整的标准化）残差；将缺失值作为一种有效值；进行行和列标题的标注；生成SAS或SPSS风格的输出。参阅help(CrossTable)以了解详情。"
   ]
  },
  {
   "cell_type": "markdown",
   "metadata": {},
   "source": [
    "### 3. 多维列联表"
   ]
  },
  {
   "cell_type": "markdown",
   "metadata": {},
   "source": [
    "table() 和xtabs() 都可以基于三个或更多的类别型变量生成多维列联表。\n",
    "\n",
    "margin.table()、prop.table()和addmargins()函数可以自然地推广到高于二维的情况。\n",
    "\n",
    "ftable()函数可以以一种紧凑而吸引人的方式输出多维列联表。"
   ]
  },
  {
   "cell_type": "code",
   "execution_count": 43,
   "metadata": {},
   "outputs": [
    {
     "data": {
      "text/plain": [
       ", , Improved = None\n",
       "\n",
       "         Sex\n",
       "Treatment Female Male\n",
       "  Placebo     19   10\n",
       "  Treated      6    7\n",
       "\n",
       ", , Improved = Some\n",
       "\n",
       "         Sex\n",
       "Treatment Female Male\n",
       "  Placebo      7    0\n",
       "  Treated      5    2\n",
       "\n",
       ", , Improved = Marked\n",
       "\n",
       "         Sex\n",
       "Treatment Female Male\n",
       "  Placebo      6    1\n",
       "  Treated     16    5\n"
      ]
     },
     "metadata": {},
     "output_type": "display_data"
    }
   ],
   "source": [
    "mytable <- xtabs(~ Treatment+Sex+Improved, data=Arthritis)  #各单元格的频数\n",
    "mytable"
   ]
  },
  {
   "cell_type": "code",
   "execution_count": 44,
   "metadata": {},
   "outputs": [
    {
     "data": {
      "text/plain": [
       "                 Improved None Some Marked\n",
       "Treatment Sex                             \n",
       "Placebo   Female            19    7      6\n",
       "          Male              10    0      1\n",
       "Treated   Female             6    5     16\n",
       "          Male               7    2      5"
      ]
     },
     "metadata": {},
     "output_type": "display_data"
    }
   ],
   "source": [
    "ftable(mytable)"
   ]
  },
  {
   "cell_type": "code",
   "execution_count": 45,
   "metadata": {},
   "outputs": [
    {
     "name": "stderr",
     "output_type": "stream",
     "text": [
      "Your code contains a unicode char which cannot be displayed in your\n",
      "current locale and R will silently convert it to an escaped form when the\n",
      "R kernel executes this code. This can lead to subtle errors if you use\n",
      "such chars to do comparisons. For more information, please see\n",
      "https://github.com/IRkernel/repr/wiki/Problems-with-unicode-on-windows"
     ]
    },
    {
     "data": {
      "text/plain": [
       "Treatment\n",
       "Placebo Treated \n",
       "     43      41 "
      ]
     },
     "metadata": {},
     "output_type": "display_data"
    }
   ],
   "source": [
    "margin.table(mytable, 1) #边际频数"
   ]
  },
  {
   "cell_type": "code",
   "execution_count": 46,
   "metadata": {},
   "outputs": [
    {
     "data": {
      "text/plain": [
       "Sex\n",
       "Female   Male \n",
       "    59     25 "
      ]
     },
     "metadata": {},
     "output_type": "display_data"
    }
   ],
   "source": [
    "margin.table(mytable, 2)"
   ]
  },
  {
   "cell_type": "code",
   "execution_count": 47,
   "metadata": {},
   "outputs": [
    {
     "data": {
      "text/plain": [
       "Improved\n",
       "  None   Some Marked \n",
       "    42     14     28 "
      ]
     },
     "metadata": {},
     "output_type": "display_data"
    }
   ],
   "source": [
    "margin.table(mytable, 3)"
   ]
  },
  {
   "cell_type": "code",
   "execution_count": 48,
   "metadata": {},
   "outputs": [
    {
     "data": {
      "text/plain": [
       "         Improved\n",
       "Treatment None Some Marked\n",
       "  Placebo   29    7      7\n",
       "  Treated   13    7     21"
      ]
     },
     "metadata": {},
     "output_type": "display_data"
    }
   ],
   "source": [
    "margin.table(mytable, c(1, 3)) #治疗情况（Treatment）× 改善情况（Improved）的边际频数"
   ]
  },
  {
   "cell_type": "code",
   "execution_count": 49,
   "metadata": {},
   "outputs": [
    {
     "name": "stderr",
     "output_type": "stream",
     "text": [
      "Your code contains a unicode char which cannot be displayed in your\n",
      "current locale and R will silently convert it to an escaped form when the\n",
      "R kernel executes this code. This can lead to subtle errors if you use\n",
      "such chars to do comparisons. For more information, please see\n",
      "https://github.com/IRkernel/repr/wiki/Problems-with-unicode-on-windows"
     ]
    },
    {
     "data": {
      "text/plain": [
       "                 Improved       None       Some     Marked\n",
       "Treatment Sex                                             \n",
       "Placebo   Female          0.59375000 0.21875000 0.18750000\n",
       "          Male            0.90909091 0.00000000 0.09090909\n",
       "Treated   Female          0.22222222 0.18518519 0.59259259\n",
       "          Male            0.50000000 0.14285714 0.35714286"
      ]
     },
     "metadata": {},
     "output_type": "display_data"
    }
   ],
   "source": [
    "ftable(prop.table(mytable, c(1, 2))) #治疗情况（Treatment）× 性别（Sex）的各类改善情况比例"
   ]
  },
  {
   "cell_type": "code",
   "execution_count": 50,
   "metadata": {},
   "outputs": [
    {
     "name": "stderr",
     "output_type": "stream",
     "text": [
      "Your code contains a unicode char which cannot be displayed in your\n",
      "current locale and R will silently convert it to an escaped form when the\n",
      "R kernel executes this code. This can lead to subtle errors if you use\n",
      "such chars to do comparisons. For more information, please see\n",
      "https://github.com/IRkernel/repr/wiki/Problems-with-unicode-on-windows"
     ]
    },
    {
     "data": {
      "text/plain": [
       "                 Improved       None       Some     Marked        Sum\n",
       "Treatment Sex                                                        \n",
       "Placebo   Female           59.375000  21.875000  18.750000 100.000000\n",
       "          Male             90.909091   0.000000   9.090909 100.000000\n",
       "Treated   Female           22.222222  18.518519  59.259259 100.000000\n",
       "          Male             50.000000  14.285714  35.714286 100.000000"
      ]
     },
     "metadata": {},
     "output_type": "display_data"
    }
   ],
   "source": [
    "#得到百分比而不是比例，可以将结果表格乘以100\n",
    "ftable(addmargins(prop.table(mytable, c(1, 2)), 3)) * 100"
   ]
  },
  {
   "cell_type": "markdown",
   "metadata": {},
   "source": [
    "## 7.2.2 独立性检验"
   ]
  },
  {
   "cell_type": "markdown",
   "metadata": {},
   "source": [
    "### 1. 卡方独立性检验"
   ]
  },
  {
   "cell_type": "markdown",
   "metadata": {},
   "source": [
    "使用chisq.test()函数对二维表的行变量和列变量进行卡方独立性检验"
   ]
  },
  {
   "cell_type": "code",
   "execution_count": 51,
   "metadata": {},
   "outputs": [
    {
     "name": "stderr",
     "output_type": "stream",
     "text": [
      "Your code contains a unicode char which cannot be displayed in your\n",
      "current locale and R will silently convert it to an escaped form when the\n",
      "R kernel executes this code. This can lead to subtle errors if you use\n",
      "such chars to do comparisons. For more information, please see\n",
      "https://github.com/IRkernel/repr/wiki/Problems-with-unicode-on-windows"
     ]
    },
    {
     "data": {
      "text/plain": [
       "\n",
       "\tPearson's Chi-squared test\n",
       "\n",
       "data:  mytable\n",
       "X-squared = 13.055, df = 2, p-value = 0.001463\n"
      ]
     },
     "metadata": {},
     "output_type": "display_data"
    }
   ],
   "source": [
    "#卡方独立性检验\n",
    "library(vcd)\n",
    "mytable <- xtabs(~Treatment+Improved, data=Arthritis)\n",
    "chisq.test(mytable)"
   ]
  },
  {
   "cell_type": "code",
   "execution_count": 52,
   "metadata": {},
   "outputs": [
    {
     "name": "stderr",
     "output_type": "stream",
     "text": [
      "Warning message in chisq.test(mytable):\n",
      "\"Chi-squared approximation may be incorrect\""
     ]
    },
    {
     "data": {
      "text/plain": [
       "\n",
       "\tPearson's Chi-squared test\n",
       "\n",
       "data:  mytable\n",
       "X-squared = 4.8407, df = 2, p-value = 0.08889\n"
      ]
     },
     "metadata": {},
     "output_type": "display_data"
    }
   ],
   "source": [
    "mytable <- xtabs(~Improved+Sex, data=Arthritis)\n",
    "chisq.test(mytable)"
   ]
  },
  {
   "cell_type": "markdown",
   "metadata": {},
   "source": [
    "### 2. Fisher精确检验"
   ]
  },
  {
   "cell_type": "markdown",
   "metadata": {},
   "source": [
    "使用fisher.test()函数进行Fisher精确检验。Fisher精确检验的原假设是：边界固定的列联表中行和列是相互独立的。\n",
    "\n",
    "其调用格式为\n",
    "\n",
    "fisher.test(mytable)\n",
    "\n",
    "mytable是一个二维列联表。"
   ]
  },
  {
   "cell_type": "code",
   "execution_count": 53,
   "metadata": {},
   "outputs": [
    {
     "data": {
      "text/plain": [
       "\n",
       "\tFisher's Exact Test for Count Data\n",
       "\n",
       "data:  mytable\n",
       "p-value = 0.001393\n",
       "alternative hypothesis: two.sided\n"
      ]
     },
     "metadata": {},
     "output_type": "display_data"
    }
   ],
   "source": [
    "mytable <- xtabs(~Treatment+Improved, data=Arthritis)\n",
    "fisher.test(mytable)"
   ]
  },
  {
   "cell_type": "markdown",
   "metadata": {},
   "source": [
    "### 3. Cochran-Mantel-Haenszel检验"
   ]
  },
  {
   "cell_type": "markdown",
   "metadata": {},
   "source": [
    "mantelhaen.test()函数可用来进行Cochran-Mantel-Haenszel卡方检验，\n",
    "\n",
    "其原假设是，两个名义变量在第三个变量的每一层中都是条件独立的。"
   ]
  },
  {
   "cell_type": "code",
   "execution_count": 54,
   "metadata": {},
   "outputs": [
    {
     "name": "stderr",
     "output_type": "stream",
     "text": [
      "Your code contains a unicode char which cannot be displayed in your\n",
      "current locale and R will silently convert it to an escaped form when the\n",
      "R kernel executes this code. This can lead to subtle errors if you use\n",
      "such chars to do comparisons. For more information, please see\n",
      "https://github.com/IRkernel/repr/wiki/Problems-with-unicode-on-windows"
     ]
    },
    {
     "data": {
      "text/plain": [
       "\n",
       "\tCochran-Mantel-Haenszel test\n",
       "\n",
       "data:  mytable\n",
       "Cochran-Mantel-Haenszel M^2 = 14.632, df = 2, p-value = 0.0006647\n"
      ]
     },
     "metadata": {},
     "output_type": "display_data"
    }
   ],
   "source": [
    "#下列代码可以检验治疗情况和改善情况在性别的每一水平下是否独立。此检验假设不存在三阶交互作用（治疗情况×改善情况×性别）。\n",
    "mytable <- xtabs(~Treatment+Improved+Sex, data=Arthritis)\n",
    "mantelhaen.test(mytable)"
   ]
  },
  {
   "cell_type": "markdown",
   "metadata": {},
   "source": [
    "## 7.2.3 相关性的度量"
   ]
  },
  {
   "cell_type": "markdown",
   "metadata": {},
   "source": [
    "当显著性检验评估了是否存在充分的证据以拒绝变量间相互独立的原假设。如果可以拒绝原假设，那么就会考虑衡量相关性强弱的相关性度量。\n",
    "vcd包中的assocstats()可以用来计算二位列联表的phi系数、列联系数和Cramer'sV系数。"
   ]
  },
  {
   "cell_type": "code",
   "execution_count": 55,
   "metadata": {},
   "outputs": [
    {
     "data": {
      "text/plain": [
       "                    X^2 df  P(> X^2)\n",
       "Likelihood Ratio 13.530  2 0.0011536\n",
       "Pearson          13.055  2 0.0014626\n",
       "\n",
       "Phi-Coefficient   : NA \n",
       "Contingency Coeff.: 0.367 \n",
       "Cramer's V        : 0.394 "
      ]
     },
     "metadata": {},
     "output_type": "display_data"
    }
   ],
   "source": [
    "library(vcd)\n",
    "mytable <- xtabs(~Treatment+Improved, data=Arthritis)\n",
    "assocstats(mytable)"
   ]
  },
  {
   "cell_type": "markdown",
   "metadata": {},
   "source": [
    "vcd包也提供了一个kappa()函数，可以计算混淆矩阵的Cohen’s kappa值以及加权的kappa值。"
   ]
  },
  {
   "cell_type": "markdown",
   "metadata": {},
   "source": [
    "## 7.2.4 结果的可视化"
   ]
  },
  {
   "cell_type": "markdown",
   "metadata": {},
   "source": [
    "vcd包中拥有优秀的、用于可视化多维数据集中类别型变量间关系的函数，可以绘制马赛克图和关联图。\n",
    "\n",
    "ca包中的对应分析函数允许使用多种几何表示（Nenadic & Greenacre，2007）可视地探索列联表中行和列之间的关系。"
   ]
  },
  {
   "cell_type": "markdown",
   "metadata": {},
   "source": [
    "# 7.3 相关"
   ]
  },
  {
   "cell_type": "markdown",
   "metadata": {},
   "source": [
    "相关系数可以用来描述定量变量之间的关系。相关系数的符号（±）表明关系的方向（正相关或负相关），其值的大小表示关系的强弱程度（完全不相关时为0，完全相关时为1）"
   ]
  },
  {
   "cell_type": "markdown",
   "metadata": {},
   "source": [
    "## 7.3.1 相关的类型"
   ]
  },
  {
   "cell_type": "markdown",
   "metadata": {},
   "source": [
    "R可以计算多种相关系数，包括Pearson相关系数、Spearman相关系数、Kendall相关系数、偏相关系数、多分格（polychoric）相关系数和多系列（polyserial）相关系数。"
   ]
  },
  {
   "cell_type": "markdown",
   "metadata": {},
   "source": [
    "### 1. Pearson、Spearman和Kendall相关"
   ]
  },
  {
   "cell_type": "markdown",
   "metadata": {},
   "source": [
    "Pearson积差相关系数衡量了两个定量变量之间的线性相关程度。\n",
    "\n",
    "Spearman等级相关系数则衡量分级定序变量之间的相关程度。\n",
    "\n",
    "Kendall’s Tau相关系数也是一种非参数的等级相关度量。"
   ]
  },
  {
   "cell_type": "raw",
   "metadata": {},
   "source": [
    "cor()函数可以计算这三种相关系数，\n",
    "\n",
    "cov()函数可用来计算协方差。\n",
    "\n",
    "两个函数的参数有很多，其中与相关系数的计算有关的参数可以简化为：\n",
    "\n",
    "cor(x, use= , method= )"
   ]
  },
  {
   "cell_type": "markdown",
   "metadata": {},
   "source": [
    "![cor和cov的参数.jpg](./image/cor和cov的参数.jpg)\n",
    "默认参数为use=\"everything\"和\"method=\"peason\""
   ]
  },
  {
   "cell_type": "code",
   "execution_count": 57,
   "metadata": {},
   "outputs": [
    {
     "name": "stderr",
     "output_type": "stream",
     "text": [
      "Your code contains a unicode char which cannot be displayed in your\n",
      "current locale and R will silently convert it to an escaped form when the\n",
      "R kernel executes this code. This can lead to subtle errors if you use\n",
      "such chars to do comparisons. For more information, please see\n",
      "https://github.com/IRkernel/repr/wiki/Problems-with-unicode-on-windows"
     ]
    },
    {
     "data": {
      "text/html": [
       "<table>\n",
       "<thead><tr><th></th><th scope=col>Population</th><th scope=col>Income</th><th scope=col>Illiteracy</th><th scope=col>Life Exp</th><th scope=col>Murder</th><th scope=col>HS Grad</th></tr></thead>\n",
       "<tbody>\n",
       "\t<tr><th scope=row>Population</th><td>19931683.7588</td><td>571229.7796  </td><td> 292.8679592 </td><td>-407.8424612 </td><td>5663.523714  </td><td>-3551.509551 </td></tr>\n",
       "\t<tr><th scope=row>Income</th><td>  571229.7796</td><td>377573.3061  </td><td>-163.7020408 </td><td> 280.6631837 </td><td>-521.894286  </td><td> 3076.768980 </td></tr>\n",
       "\t<tr><th scope=row>Illiteracy</th><td>     292.8680</td><td>  -163.7020  </td><td>   0.3715306 </td><td>  -0.4815122 </td><td>   1.581776  </td><td>   -3.235469 </td></tr>\n",
       "\t<tr><th scope=row>Life Exp</th><td>    -407.8425</td><td>   280.6632  </td><td>  -0.4815122 </td><td>   1.8020204 </td><td>  -3.869480  </td><td>    6.312685 </td></tr>\n",
       "\t<tr><th scope=row>Murder</th><td>    5663.5237</td><td>  -521.8943  </td><td>   1.5817755 </td><td>  -3.8694804 </td><td>  13.627465  </td><td>  -14.549616 </td></tr>\n",
       "\t<tr><th scope=row>HS Grad</th><td>   -3551.5096</td><td>  3076.7690  </td><td>  -3.2354694 </td><td>   6.3126849 </td><td> -14.549616  </td><td>   65.237894 </td></tr>\n",
       "</tbody>\n",
       "</table>\n"
      ],
      "text/latex": [
       "\\begin{tabular}{r|llllll}\n",
       "  & Population & Income & Illiteracy & Life Exp & Murder & HS Grad\\\\\n",
       "\\hline\n",
       "\tPopulation & 19931683.7588 & 571229.7796   &  292.8679592  & -407.8424612  & 5663.523714   & -3551.509551 \\\\\n",
       "\tIncome &   571229.7796 & 377573.3061   & -163.7020408  &  280.6631837  & -521.894286   &  3076.768980 \\\\\n",
       "\tIlliteracy &      292.8680 &   -163.7020   &    0.3715306  &   -0.4815122  &    1.581776   &    -3.235469 \\\\\n",
       "\tLife Exp &     -407.8425 &    280.6632   &   -0.4815122  &    1.8020204  &   -3.869480   &     6.312685 \\\\\n",
       "\tMurder &     5663.5237 &   -521.8943   &    1.5817755  &   -3.8694804  &   13.627465   &   -14.549616 \\\\\n",
       "\tHS Grad &    -3551.5096 &   3076.7690   &   -3.2354694  &    6.3126849  &  -14.549616   &    65.237894 \\\\\n",
       "\\end{tabular}\n"
      ],
      "text/markdown": [
       "\n",
       "| <!--/--> | Population | Income | Illiteracy | Life Exp | Murder | HS Grad |\n",
       "|---|---|---|---|---|---|---|\n",
       "| Population | 19931683.7588 | 571229.7796   |  292.8679592  | -407.8424612  | 5663.523714   | -3551.509551  |\n",
       "| Income |   571229.7796 | 377573.3061   | -163.7020408  |  280.6631837  | -521.894286   |  3076.768980  |\n",
       "| Illiteracy |      292.8680 |   -163.7020   |    0.3715306  |   -0.4815122  |    1.581776   |    -3.235469  |\n",
       "| Life Exp |     -407.8425 |    280.6632   |   -0.4815122  |    1.8020204  |   -3.869480   |     6.312685  |\n",
       "| Murder |     5663.5237 |   -521.8943   |    1.5817755  |   -3.8694804  |   13.627465   |   -14.549616  |\n",
       "| HS Grad |    -3551.5096 |   3076.7690   |   -3.2354694  |    6.3126849  |  -14.549616   |    65.237894  |\n",
       "\n"
      ],
      "text/plain": [
       "           Population    Income      Illiteracy   Life Exp     Murder     \n",
       "Population 19931683.7588 571229.7796  292.8679592 -407.8424612 5663.523714\n",
       "Income       571229.7796 377573.3061 -163.7020408  280.6631837 -521.894286\n",
       "Illiteracy      292.8680   -163.7020    0.3715306   -0.4815122    1.581776\n",
       "Life Exp       -407.8425    280.6632   -0.4815122    1.8020204   -3.869480\n",
       "Murder         5663.5237   -521.8943    1.5817755   -3.8694804   13.627465\n",
       "HS Grad       -3551.5096   3076.7690   -3.2354694    6.3126849  -14.549616\n",
       "           HS Grad     \n",
       "Population -3551.509551\n",
       "Income      3076.768980\n",
       "Illiteracy    -3.235469\n",
       "Life Exp       6.312685\n",
       "Murder       -14.549616\n",
       "HS Grad       65.237894"
      ]
     },
     "metadata": {},
     "output_type": "display_data"
    }
   ],
   "source": [
    "#协方差和相关系数\n",
    "states <- state.x77[,1:6]\n",
    "cov(states) #计算方差和协方差"
   ]
  },
  {
   "cell_type": "code",
   "execution_count": 58,
   "metadata": {},
   "outputs": [
    {
     "data": {
      "text/html": [
       "<table>\n",
       "<thead><tr><th></th><th scope=col>Population</th><th scope=col>Income</th><th scope=col>Illiteracy</th><th scope=col>Life Exp</th><th scope=col>Murder</th><th scope=col>HS Grad</th></tr></thead>\n",
       "<tbody>\n",
       "\t<tr><th scope=row>Population</th><td> 1.00000000</td><td> 0.2082276 </td><td> 0.1076224 </td><td>-0.06805195</td><td> 0.3436428 </td><td>-0.09848975</td></tr>\n",
       "\t<tr><th scope=row>Income</th><td> 0.20822756</td><td> 1.0000000 </td><td>-0.4370752 </td><td> 0.34025534</td><td>-0.2300776 </td><td> 0.61993232</td></tr>\n",
       "\t<tr><th scope=row>Illiteracy</th><td> 0.10762237</td><td>-0.4370752 </td><td> 1.0000000 </td><td>-0.58847793</td><td> 0.7029752 </td><td>-0.65718861</td></tr>\n",
       "\t<tr><th scope=row>Life Exp</th><td>-0.06805195</td><td> 0.3402553 </td><td>-0.5884779 </td><td> 1.00000000</td><td>-0.7808458 </td><td> 0.58221620</td></tr>\n",
       "\t<tr><th scope=row>Murder</th><td> 0.34364275</td><td>-0.2300776 </td><td> 0.7029752 </td><td>-0.78084575</td><td> 1.0000000 </td><td>-0.48797102</td></tr>\n",
       "\t<tr><th scope=row>HS Grad</th><td>-0.09848975</td><td> 0.6199323 </td><td>-0.6571886 </td><td> 0.58221620</td><td>-0.4879710 </td><td> 1.00000000</td></tr>\n",
       "</tbody>\n",
       "</table>\n"
      ],
      "text/latex": [
       "\\begin{tabular}{r|llllll}\n",
       "  & Population & Income & Illiteracy & Life Exp & Murder & HS Grad\\\\\n",
       "\\hline\n",
       "\tPopulation &  1.00000000 &  0.2082276  &  0.1076224  & -0.06805195 &  0.3436428  & -0.09848975\\\\\n",
       "\tIncome &  0.20822756 &  1.0000000  & -0.4370752  &  0.34025534 & -0.2300776  &  0.61993232\\\\\n",
       "\tIlliteracy &  0.10762237 & -0.4370752  &  1.0000000  & -0.58847793 &  0.7029752  & -0.65718861\\\\\n",
       "\tLife Exp & -0.06805195 &  0.3402553  & -0.5884779  &  1.00000000 & -0.7808458  &  0.58221620\\\\\n",
       "\tMurder &  0.34364275 & -0.2300776  &  0.7029752  & -0.78084575 &  1.0000000  & -0.48797102\\\\\n",
       "\tHS Grad & -0.09848975 &  0.6199323  & -0.6571886  &  0.58221620 & -0.4879710  &  1.00000000\\\\\n",
       "\\end{tabular}\n"
      ],
      "text/markdown": [
       "\n",
       "| <!--/--> | Population | Income | Illiteracy | Life Exp | Murder | HS Grad |\n",
       "|---|---|---|---|---|---|---|\n",
       "| Population |  1.00000000 |  0.2082276  |  0.1076224  | -0.06805195 |  0.3436428  | -0.09848975 |\n",
       "| Income |  0.20822756 |  1.0000000  | -0.4370752  |  0.34025534 | -0.2300776  |  0.61993232 |\n",
       "| Illiteracy |  0.10762237 | -0.4370752  |  1.0000000  | -0.58847793 |  0.7029752  | -0.65718861 |\n",
       "| Life Exp | -0.06805195 |  0.3402553  | -0.5884779  |  1.00000000 | -0.7808458  |  0.58221620 |\n",
       "| Murder |  0.34364275 | -0.2300776  |  0.7029752  | -0.78084575 |  1.0000000  | -0.48797102 |\n",
       "| HS Grad | -0.09848975 |  0.6199323  | -0.6571886  |  0.58221620 | -0.4879710  |  1.00000000 |\n",
       "\n"
      ],
      "text/plain": [
       "           Population  Income     Illiteracy Life Exp    Murder     HS Grad    \n",
       "Population  1.00000000  0.2082276  0.1076224 -0.06805195  0.3436428 -0.09848975\n",
       "Income      0.20822756  1.0000000 -0.4370752  0.34025534 -0.2300776  0.61993232\n",
       "Illiteracy  0.10762237 -0.4370752  1.0000000 -0.58847793  0.7029752 -0.65718861\n",
       "Life Exp   -0.06805195  0.3402553 -0.5884779  1.00000000 -0.7808458  0.58221620\n",
       "Murder      0.34364275 -0.2300776  0.7029752 -0.78084575  1.0000000 -0.48797102\n",
       "HS Grad    -0.09848975  0.6199323 -0.6571886  0.58221620 -0.4879710  1.00000000"
      ]
     },
     "metadata": {},
     "output_type": "display_data"
    }
   ],
   "source": [
    "cor(states) #计算Pearson积差相关系数"
   ]
  },
  {
   "cell_type": "code",
   "execution_count": 59,
   "metadata": {},
   "outputs": [
    {
     "data": {
      "text/html": [
       "<table>\n",
       "<thead><tr><th></th><th scope=col>Population</th><th scope=col>Income</th><th scope=col>Illiteracy</th><th scope=col>Life Exp</th><th scope=col>Murder</th><th scope=col>HS Grad</th></tr></thead>\n",
       "<tbody>\n",
       "\t<tr><th scope=row>Population</th><td> 1.0000000</td><td> 0.1246098</td><td> 0.3130496</td><td>-0.1040171</td><td> 0.3457401</td><td>-0.3833649</td></tr>\n",
       "\t<tr><th scope=row>Income</th><td> 0.1246098</td><td> 1.0000000</td><td>-0.3145948</td><td> 0.3241050</td><td>-0.2174623</td><td> 0.5104809</td></tr>\n",
       "\t<tr><th scope=row>Illiteracy</th><td> 0.3130496</td><td>-0.3145948</td><td> 1.0000000</td><td>-0.5553735</td><td> 0.6723592</td><td>-0.6545396</td></tr>\n",
       "\t<tr><th scope=row>Life Exp</th><td>-0.1040171</td><td> 0.3241050</td><td>-0.5553735</td><td> 1.0000000</td><td>-0.7802406</td><td> 0.5239410</td></tr>\n",
       "\t<tr><th scope=row>Murder</th><td> 0.3457401</td><td>-0.2174623</td><td> 0.6723592</td><td>-0.7802406</td><td> 1.0000000</td><td>-0.4367330</td></tr>\n",
       "\t<tr><th scope=row>HS Grad</th><td>-0.3833649</td><td> 0.5104809</td><td>-0.6545396</td><td> 0.5239410</td><td>-0.4367330</td><td> 1.0000000</td></tr>\n",
       "</tbody>\n",
       "</table>\n"
      ],
      "text/latex": [
       "\\begin{tabular}{r|llllll}\n",
       "  & Population & Income & Illiteracy & Life Exp & Murder & HS Grad\\\\\n",
       "\\hline\n",
       "\tPopulation &  1.0000000 &  0.1246098 &  0.3130496 & -0.1040171 &  0.3457401 & -0.3833649\\\\\n",
       "\tIncome &  0.1246098 &  1.0000000 & -0.3145948 &  0.3241050 & -0.2174623 &  0.5104809\\\\\n",
       "\tIlliteracy &  0.3130496 & -0.3145948 &  1.0000000 & -0.5553735 &  0.6723592 & -0.6545396\\\\\n",
       "\tLife Exp & -0.1040171 &  0.3241050 & -0.5553735 &  1.0000000 & -0.7802406 &  0.5239410\\\\\n",
       "\tMurder &  0.3457401 & -0.2174623 &  0.6723592 & -0.7802406 &  1.0000000 & -0.4367330\\\\\n",
       "\tHS Grad & -0.3833649 &  0.5104809 & -0.6545396 &  0.5239410 & -0.4367330 &  1.0000000\\\\\n",
       "\\end{tabular}\n"
      ],
      "text/markdown": [
       "\n",
       "| <!--/--> | Population | Income | Illiteracy | Life Exp | Murder | HS Grad |\n",
       "|---|---|---|---|---|---|---|\n",
       "| Population |  1.0000000 |  0.1246098 |  0.3130496 | -0.1040171 |  0.3457401 | -0.3833649 |\n",
       "| Income |  0.1246098 |  1.0000000 | -0.3145948 |  0.3241050 | -0.2174623 |  0.5104809 |\n",
       "| Illiteracy |  0.3130496 | -0.3145948 |  1.0000000 | -0.5553735 |  0.6723592 | -0.6545396 |\n",
       "| Life Exp | -0.1040171 |  0.3241050 | -0.5553735 |  1.0000000 | -0.7802406 |  0.5239410 |\n",
       "| Murder |  0.3457401 | -0.2174623 |  0.6723592 | -0.7802406 |  1.0000000 | -0.4367330 |\n",
       "| HS Grad | -0.3833649 |  0.5104809 | -0.6545396 |  0.5239410 | -0.4367330 |  1.0000000 |\n",
       "\n"
      ],
      "text/plain": [
       "           Population Income     Illiteracy Life Exp   Murder     HS Grad   \n",
       "Population  1.0000000  0.1246098  0.3130496 -0.1040171  0.3457401 -0.3833649\n",
       "Income      0.1246098  1.0000000 -0.3145948  0.3241050 -0.2174623  0.5104809\n",
       "Illiteracy  0.3130496 -0.3145948  1.0000000 -0.5553735  0.6723592 -0.6545396\n",
       "Life Exp   -0.1040171  0.3241050 -0.5553735  1.0000000 -0.7802406  0.5239410\n",
       "Murder      0.3457401 -0.2174623  0.6723592 -0.7802406  1.0000000 -0.4367330\n",
       "HS Grad    -0.3833649  0.5104809 -0.6545396  0.5239410 -0.4367330  1.0000000"
      ]
     },
     "metadata": {},
     "output_type": "display_data"
    }
   ],
   "source": [
    "cor(states,method=\"spearman\") #计算spearman等级相关系数"
   ]
  },
  {
   "cell_type": "code",
   "execution_count": 60,
   "metadata": {},
   "outputs": [
    {
     "data": {
      "text/html": [
       "<table>\n",
       "<thead><tr><th></th><th scope=col>Life Exp</th><th scope=col>Murder</th></tr></thead>\n",
       "<tbody>\n",
       "\t<tr><th scope=row>Population</th><td>-0.06805195</td><td> 0.3436428 </td></tr>\n",
       "\t<tr><th scope=row>Income</th><td> 0.34025534</td><td>-0.2300776 </td></tr>\n",
       "\t<tr><th scope=row>Illiteracy</th><td>-0.58847793</td><td> 0.7029752 </td></tr>\n",
       "\t<tr><th scope=row>HS Grad</th><td> 0.58221620</td><td>-0.4879710 </td></tr>\n",
       "</tbody>\n",
       "</table>\n"
      ],
      "text/latex": [
       "\\begin{tabular}{r|ll}\n",
       "  & Life Exp & Murder\\\\\n",
       "\\hline\n",
       "\tPopulation & -0.06805195 &  0.3436428 \\\\\n",
       "\tIncome &  0.34025534 & -0.2300776 \\\\\n",
       "\tIlliteracy & -0.58847793 &  0.7029752 \\\\\n",
       "\tHS Grad &  0.58221620 & -0.4879710 \\\\\n",
       "\\end{tabular}\n"
      ],
      "text/markdown": [
       "\n",
       "| <!--/--> | Life Exp | Murder |\n",
       "|---|---|---|\n",
       "| Population | -0.06805195 |  0.3436428  |\n",
       "| Income |  0.34025534 | -0.2300776  |\n",
       "| Illiteracy | -0.58847793 |  0.7029752  |\n",
       "| HS Grad |  0.58221620 | -0.4879710  |\n",
       "\n"
      ],
      "text/plain": [
       "           Life Exp    Murder    \n",
       "Population -0.06805195  0.3436428\n",
       "Income      0.34025534 -0.2300776\n",
       "Illiteracy -0.58847793  0.7029752\n",
       "HS Grad     0.58221620 -0.4879710"
      ]
     },
     "metadata": {},
     "output_type": "display_data"
    }
   ],
   "source": [
    "#在默认情况下得到的结果是一个方阵（所有变量之间两两计算相关）。你同样可以计算非方形的相关矩阵\n",
    "x <- states[,c(\"Population\", \"Income\", \"Illiteracy\", \"HS Grad\")]\n",
    "y <- states[,c(\"Life Exp\", \"Murder\")]\n",
    "cor(x,y)"
   ]
  },
  {
   "cell_type": "markdown",
   "metadata": {},
   "source": [
    "### 2. 偏相关"
   ]
  },
  {
   "cell_type": "markdown",
   "metadata": {},
   "source": [
    "偏相关是指在控制一个或多个定量变量时，另外两个定量变量之间的相互关系。\n",
    "\n",
    "使用ggm包中的pcor()函数计算偏相关系数。函数调用格式为：\n",
    "\n",
    "pcor(u, S)\n",
    "\n",
    "u是一个数值向量，前两个数值表示要计算相关系数的变量下标，其余的数值为条件变量（即要排除影响的变量）的下标。\n",
    "\n",
    "S为变量的协方差阵。"
   ]
  },
  {
   "cell_type": "code",
   "execution_count": 62,
   "metadata": {},
   "outputs": [
    {
     "name": "stderr",
     "output_type": "stream",
     "text": [
      "Installing package into 'C:/Users/acer/Documents/R/win-library/3.5'\n",
      "(as 'lib' is unspecified)\n",
      "also installing the dependency 'igraph'\n",
      "\n"
     ]
    },
    {
     "name": "stdout",
     "output_type": "stream",
     "text": [
      "package 'igraph' successfully unpacked and MD5 sums checked\n",
      "package 'ggm' successfully unpacked and MD5 sums checked\n",
      "\n",
      "The downloaded binary packages are in\n",
      "\tC:\\Users\\acer\\AppData\\Local\\Temp\\RtmpAPLleM\\downloaded_packages\n"
     ]
    }
   ],
   "source": [
    "install.packages(\"ggm\")\n",
    "library(ggm)\n",
    "colnames(states)\n",
    "pcor(c(1,5,2,3,6), cov(states))"
   ]
  },
  {
   "cell_type": "markdown",
   "metadata": {},
   "source": [
    "### 3. 其他类型的相关"
   ]
  },
  {
   "cell_type": "markdown",
   "metadata": {},
   "source": [
    "polycor包中的hetcor()函数可以计算一种混合的相关矩阵，其中包括数值型变量的Pearson积差相关系数、数值型变量和有序变量之间的多系列相关系数、有序变量之间的多分格相关系数以及二分变量之间的四分相关系数。"
   ]
  },
  {
   "cell_type": "markdown",
   "metadata": {},
   "source": [
    "## 7.3.2 相关性的显著性检验"
   ]
  },
  {
   "cell_type": "markdown",
   "metadata": {},
   "source": [
    "在计算好相关系数以后，需要对它们进行统计显著性检验。\n",
    "\n",
    "常用的原假设为变量间不相关（即总体的相关系数为0）。\n",
    "\n",
    "可以使用cor.test()函数对单个的Pearson、Spearman和Kendall相关系数进行检验。简化后的使用格式为：\n",
    "\n",
    "cor.test(x,y,alternative = ,method= )\n",
    "\n",
    "x和y为要检验相关性的变量，\n",
    "\n",
    "alternative则用来指定进行双侧检验或单侧检验（取值为\"two.side\"、\"less\"或\"greater\"），\n",
    "\n",
    "method用以指定要计算的相关类型（\"pearson\"、\"kendall\" 或\"spearman\" ）。\n",
    "\n",
    "当研究的假设为总体的相关系数小于0 时， 请使用alternative=\"less\" 。\n",
    "\n",
    "在研究的假设为总体的相关系数大于0 时， 应使用alternative=\"greater\"。\n",
    "\n",
    "在默认情况下，假设为alternative=\"two.side\"（总体相关系数不等于0）。"
   ]
  },
  {
   "cell_type": "code",
   "execution_count": 63,
   "metadata": {},
   "outputs": [
    {
     "name": "stderr",
     "output_type": "stream",
     "text": [
      "Your code contains a unicode char which cannot be displayed in your\n",
      "current locale and R will silently convert it to an escaped form when the\n",
      "R kernel executes this code. This can lead to subtle errors if you use\n",
      "such chars to do comparisons. For more information, please see\n",
      "https://github.com/IRkernel/repr/wiki/Problems-with-unicode-on-windows"
     ]
    },
    {
     "data": {
      "text/plain": [
       "\n",
       "\tPearson's product-moment correlation\n",
       "\n",
       "data:  states[, 3] and states[, 5]\n",
       "t = 6.8479, df = 48, p-value = 1.258e-08\n",
       "alternative hypothesis: true correlation is not equal to 0\n",
       "95 percent confidence interval:\n",
       " 0.5279280 0.8207295\n",
       "sample estimates:\n",
       "      cor \n",
       "0.7029752 \n"
      ]
     },
     "metadata": {},
     "output_type": "display_data"
    }
   ],
   "source": [
    "#检验某种相关系数的显著性\n",
    "cor.test(states[,3], states[,5])\n",
    "#cor.test()每次只能检验一种相关关系"
   ]
  },
  {
   "cell_type": "raw",
   "metadata": {},
   "source": [
    "psych包中提供的corr.test()函数可以一次做更多事情。\n",
    "\n",
    "corr.test()函数可以为Pearson、Spearman或Kendall相关计算相关矩阵和显著性水平。\n",
    "\n",
    "参数use=的取值可为\"pairwise\"或\"complete\"（分别表示对缺失值执行成对删除或行删除）。\n",
    "\n",
    "参数method=的取值可为\"pearson\"（默认值）、\"spearman\"或\"kendall\"。"
   ]
  },
  {
   "cell_type": "code",
   "execution_count": 65,
   "metadata": {},
   "outputs": [
    {
     "name": "stderr",
     "output_type": "stream",
     "text": [
      "Your code contains a unicode char which cannot be displayed in your\n",
      "current locale and R will silently convert it to an escaped form when the\n",
      "R kernel executes this code. This can lead to subtle errors if you use\n",
      "such chars to do comparisons. For more information, please see\n",
      "https://github.com/IRkernel/repr/wiki/Problems-with-unicode-on-windows"
     ]
    },
    {
     "data": {
      "text/plain": [
       "Call:corr.test(x = states, use = \"complete\")\n",
       "Correlation matrix \n",
       "           Population Income Illiteracy Life Exp Murder HS Grad\n",
       "Population       1.00   0.21       0.11    -0.07   0.34   -0.10\n",
       "Income           0.21   1.00      -0.44     0.34  -0.23    0.62\n",
       "Illiteracy       0.11  -0.44       1.00    -0.59   0.70   -0.66\n",
       "Life Exp        -0.07   0.34      -0.59     1.00  -0.78    0.58\n",
       "Murder           0.34  -0.23       0.70    -0.78   1.00   -0.49\n",
       "HS Grad         -0.10   0.62      -0.66     0.58  -0.49    1.00\n",
       "Sample Size \n",
       "[1] 50\n",
       "Probability values (Entries above the diagonal are adjusted for multiple tests.) \n",
       "           Population Income Illiteracy Life Exp Murder HS Grad\n",
       "Population       0.00   0.59       1.00      1.0   0.10       1\n",
       "Income           0.15   0.00       0.01      0.1   0.54       0\n",
       "Illiteracy       0.46   0.00       0.00      0.0   0.00       0\n",
       "Life Exp         0.64   0.02       0.00      0.0   0.00       0\n",
       "Murder           0.01   0.11       0.00      0.0   0.00       0\n",
       "HS Grad          0.50   0.00       0.00      0.0   0.00       0\n",
       "\n",
       " To see confidence intervals of the correlations, print with the short=FALSE option"
      ]
     },
     "metadata": {},
     "output_type": "display_data"
    }
   ],
   "source": [
    "#通过corr.test计算相关矩阵并进行显著性检验\n",
    "library(psych)\n",
    "corr.test(states, use=\"complete\")"
   ]
  },
  {
   "cell_type": "markdown",
   "metadata": {},
   "source": [
    "### 其他显著性检验"
   ]
  },
  {
   "cell_type": "markdown",
   "metadata": {},
   "source": [
    "在多元正态性的假设下，psych包中的pcor.test()函数可以用来检验在控制一个或多个额外变量时两个变量之间的条件独立性。使用格式为：\n",
    "\n",
    "pcor.test(r,q,n)\n",
    "\n",
    "r是由pcor()函数计算得到的偏相关系数\n",
    "\n",
    "q是要控制的变量数（以数值表示位置）\n",
    "\n",
    "n为样本大小"
   ]
  },
  {
   "cell_type": "markdown",
   "metadata": {},
   "source": [
    "psych包中的r.test()函数提供了多种实用的显著性检验方法。此函数可用来检验：\n",
    "    \n",
    "    某种相关系数的显著性；\n",
    "    两个独立相关系数的差异是否显著；\n",
    "    两个基于一个共享变量得到的非独立相关系数的差异是否显著；\n",
    "    两个基于完全不同的变量得到的非独立相关系数的差异是否显著。"
   ]
  },
  {
   "cell_type": "markdown",
   "metadata": {},
   "source": [
    "## 7.3.3 相关关系的可视化"
   ]
  },
  {
   "cell_type": "markdown",
   "metadata": {},
   "source": [
    "以相关系数表示的二院关系可以通过散点图 和散点图矩阵进行可视化。"
   ]
  },
  {
   "cell_type": "markdown",
   "metadata": {},
   "source": [
    "# 7.4 t检验"
   ]
  },
  {
   "cell_type": "markdown",
   "metadata": {},
   "source": [
    "## 7.4.1 独立样本的t检验"
   ]
  },
  {
   "cell_type": "markdown",
   "metadata": {},
   "source": [
    "一个针对两组的独立样本t检验可以用于检验两个总体的均值相等的假设。\n",
    "\n",
    "这里假设两组数据是独立的，并且是从正态总体中抽得。检验的调用格式为：\n",
    "\n",
    "t.test(y ~ x, data)\n",
    "\n",
    "    y是一个数值型变量，x是一个二分变量。\n",
    "\n",
    "调用格式或为：\n",
    "\n",
    "t.test(y1, y2)\n",
    "\n",
    "    y1和y2为数值型向量（即各组的结果变量）。\n",
    "    \n",
    "    可选参数data的取值为一个包含了这些变量的矩阵或数据框。\n",
    "\n",
    "    这里的t检验默认假定方差不相等，并使用Welsh的修正自由度。\n",
    "        可以添加一个参数var.equal=TRUE以假定方差相等，并使用合并方差估计。\n",
    "\n",
    "    默认的备择假设是双侧的（即均值不相等，但大小的方向不确定）。\n",
    "        可以添加一个参数alternative=\"less\"或alternative=\"greater\"来进行有方向的检验。"
   ]
  },
  {
   "cell_type": "code",
   "execution_count": 66,
   "metadata": {},
   "outputs": [
    {
     "data": {
      "text/plain": [
       "\n",
       "\tWelch Two Sample t-test\n",
       "\n",
       "data:  Prob by So\n",
       "t = -3.8954, df = 24.925, p-value = 0.0006506\n",
       "alternative hypothesis: true difference in means is not equal to 0\n",
       "95 percent confidence interval:\n",
       " -0.03852569 -0.01187439\n",
       "sample estimates:\n",
       "mean in group 0 mean in group 1 \n",
       "     0.03851265      0.06371269 \n"
      ]
     },
     "metadata": {},
     "output_type": "display_data"
    }
   ],
   "source": [
    "library(MASS)\n",
    "t.test(Prob ~ So, data=UScrime)"
   ]
  },
  {
   "cell_type": "markdown",
   "metadata": {},
   "source": [
    "## 7.4.2 非独立样本的t检验"
   ]
  },
  {
   "cell_type": "raw",
   "metadata": {},
   "source": [
    "非独立样本的t检验假定组间的差异呈正态分布。检验的调用格式为：\n",
    "\n",
    "t.test(y1,y2,paired=TRUE)\n",
    "\n",
    "y1和y2为两个非独立组的数值向量。"
   ]
  },
  {
   "cell_type": "code",
   "execution_count": 67,
   "metadata": {},
   "outputs": [
    {
     "data": {
      "text/html": [
       "<table>\n",
       "<thead><tr><th></th><th scope=col>U1</th><th scope=col>U2</th></tr></thead>\n",
       "<tbody>\n",
       "\t<tr><th scope=row>mean</th><td>95.46809</td><td>33.97872</td></tr>\n",
       "\t<tr><th scope=row>sd</th><td>18.02878</td><td> 8.44545</td></tr>\n",
       "</tbody>\n",
       "</table>\n"
      ],
      "text/latex": [
       "\\begin{tabular}{r|ll}\n",
       "  & U1 & U2\\\\\n",
       "\\hline\n",
       "\tmean & 95.46809 & 33.97872\\\\\n",
       "\tsd & 18.02878 &  8.44545\\\\\n",
       "\\end{tabular}\n"
      ],
      "text/markdown": [
       "\n",
       "| <!--/--> | U1 | U2 |\n",
       "|---|---|---|\n",
       "| mean | 95.46809 | 33.97872 |\n",
       "| sd | 18.02878 |  8.44545 |\n",
       "\n"
      ],
      "text/plain": [
       "     U1       U2      \n",
       "mean 95.46809 33.97872\n",
       "sd   18.02878  8.44545"
      ]
     },
     "metadata": {},
     "output_type": "display_data"
    }
   ],
   "source": [
    "library(MASS)\n",
    "sapply(UScrime[c(\"U1\",\"U2\")],function(x)(c(mean=mean(x),sd=sd(x))))"
   ]
  },
  {
   "cell_type": "code",
   "execution_count": 68,
   "metadata": {},
   "outputs": [
    {
     "data": {
      "text/plain": [
       "\n",
       "\tPaired t-test\n",
       "\n",
       "data:  U1 and U2\n",
       "t = 32.407, df = 46, p-value < 2.2e-16\n",
       "alternative hypothesis: true difference in means is not equal to 0\n",
       "95 percent confidence interval:\n",
       " 57.67003 65.30870\n",
       "sample estimates:\n",
       "mean of the differences \n",
       "               61.48936 \n"
      ]
     },
     "metadata": {},
     "output_type": "display_data"
    }
   ],
   "source": [
    "with(UScrime, t.test(U1, U2, paired=TRUE))"
   ]
  },
  {
   "cell_type": "markdown",
   "metadata": {},
   "source": [
    "## 7.4.3 多于两组的情况"
   ]
  },
  {
   "cell_type": "markdown",
   "metadata": {},
   "source": [
    "方差分析（ANOVA）"
   ]
  },
  {
   "cell_type": "markdown",
   "metadata": {},
   "source": [
    "# 7.5 组间差异的非参数检验"
   ]
  },
  {
   "cell_type": "markdown",
   "metadata": {},
   "source": [
    "## 7.5.1 两组的比较"
   ]
  },
  {
   "cell_type": "markdown",
   "metadata": {},
   "source": [
    "若两组数据独立，可以使用Wilcoxon秩和检验（更广为人知的名字是Mann-Whitney U检验）来评估观测是否是从相同的概率分布中抽得的（即，在一个总体中获得更高得分的概率是否比另\n",
    "一个总体要大）。调用格式为：\n",
    "\n",
    "    wilcox.test(y ~ x, data)\n",
    "        y是数值型变量，x是一个二分变量。\n",
    "\n",
    "调用格式或为：\n",
    "   \n",
    "       wilcox.test(y1, y2)\n",
    "         y1和y2为各组的结果变量。\n",
    "\n",
    "可选参数data的取值为一个包含了这些变量的矩阵或数据框。\n",
    "默认进行一个双侧检验。\n",
    "可以添加参数exact来进行精确检验，指定alternative=\"less\"或alternative=\"greater\"进行有方向的检验。"
   ]
  },
  {
   "cell_type": "code",
   "execution_count": 69,
   "metadata": {},
   "outputs": [
    {
     "data": {
      "text/plain": [
       "So: 0\n",
       "[1] 0.038201\n",
       "------------------------------------------------------------ \n",
       "So: 1\n",
       "[1] 0.055552"
      ]
     },
     "metadata": {},
     "output_type": "display_data"
    }
   ],
   "source": [
    "with(UScrime, by(Prob, So, median))"
   ]
  },
  {
   "cell_type": "code",
   "execution_count": 70,
   "metadata": {},
   "outputs": [
    {
     "data": {
      "text/plain": [
       "\n",
       "\tWilcoxon rank sum test\n",
       "\n",
       "data:  Prob by So\n",
       "W = 81, p-value = 8.488e-05\n",
       "alternative hypothesis: true location shift is not equal to 0\n"
      ]
     },
     "metadata": {},
     "output_type": "display_data"
    }
   ],
   "source": [
    "wilcox.test(Prob ~ So, data=UScrime)"
   ]
  },
  {
   "cell_type": "code",
   "execution_count": 72,
   "metadata": {},
   "outputs": [
    {
     "data": {
      "text/html": [
       "<dl class=dl-horizontal>\n",
       "\t<dt>U1</dt>\n",
       "\t\t<dd>92</dd>\n",
       "\t<dt>U2</dt>\n",
       "\t\t<dd>34</dd>\n",
       "</dl>\n"
      ],
      "text/latex": [
       "\\begin{description*}\n",
       "\\item[U1] 92\n",
       "\\item[U2] 34\n",
       "\\end{description*}\n"
      ],
      "text/markdown": [
       "U1\n",
       ":   92U2\n",
       ":   34\n",
       "\n"
      ],
      "text/plain": [
       "U1 U2 \n",
       "92 34 "
      ]
     },
     "metadata": {},
     "output_type": "display_data"
    },
    {
     "name": "stderr",
     "output_type": "stream",
     "text": [
      "Warning message in wilcox.test.default(U1, U2, paired = TRUE):\n",
      "\"cannot compute exact p-value with ties\""
     ]
    },
    {
     "data": {
      "text/plain": [
       "\n",
       "\tWilcoxon signed rank test with continuity correction\n",
       "\n",
       "data:  U1 and U2\n",
       "V = 1128, p-value = 2.464e-09\n",
       "alternative hypothesis: true location shift is not equal to 0\n"
      ]
     },
     "metadata": {},
     "output_type": "display_data"
    }
   ],
   "source": [
    "sapply(UScrime[c(\"U1\",\"U2\")], median)\n",
    "with(UScrime, wilcox.test(U1, U2, paired=TRUE))"
   ]
  },
  {
   "cell_type": "markdown",
   "metadata": {},
   "source": [
    "## 7.5.2 多于两组的比较"
   ]
  },
  {
   "cell_type": "markdown",
   "metadata": {},
   "source": [
    "如果无法满足ANOVA设计的假设，那么可以使用非参数方法来评估组间的差异。\n",
    "\n",
    "如果各组独立，则Kruskal-Wallis检验将是一种实用的方法。\n",
    "\n",
    "如果各组不独立（如重复测量设计或随机区组设计），那么Friedman检验会更合适。\n",
    "\n",
    "Kruskal-Wallis检验的调用格式为：\n",
    "\n",
    "    kruskal.test(y ~ A, data)\n",
    "        y是一个数值型结果变量，\n",
    "        A是一个拥有两个或更多水平的分组变量（grouping variable）。\n",
    "        （若有两个水平，则它与Mann-Whitney U检验等价。）\n",
    "\n",
    "而Friedman检验的调用格式为：\n",
    "\n",
    "        friedman.test(y ~ A | B, data)\n",
    "            y是数值型结果变量，\n",
    "            A是一个分组变量，\n",
    "            B是一个用以认定匹配观测的区组变量（blocking variable）"
   ]
  },
  {
   "cell_type": "code",
   "execution_count": 73,
   "metadata": {},
   "outputs": [
    {
     "name": "stderr",
     "output_type": "stream",
     "text": [
      "Your code contains a unicode char which cannot be displayed in your\n",
      "current locale and R will silently convert it to an escaped form when the\n",
      "R kernel executes this code. This can lead to subtle errors if you use\n",
      "such chars to do comparisons. For more information, please see\n",
      "https://github.com/IRkernel/repr/wiki/Problems-with-unicode-on-windows"
     ]
    },
    {
     "data": {
      "text/plain": [
       "\n",
       "\tKruskal-Wallis rank sum test\n",
       "\n",
       "data:  Illiteracy by state.region\n",
       "Kruskal-Wallis chi-squared = 22.672, df = 3, p-value = 4.726e-05\n"
      ]
     },
     "metadata": {},
     "output_type": "display_data"
    }
   ],
   "source": [
    "#利用Kruskal-Wallis检验回答文盲率的问题\n",
    "\n",
    "#将地区的名称添加到数据集中。\n",
    "states <- data.frame(state.region, state.x77)\n",
    "#进行检验\n",
    "kruskal.test(Illiteracy ~ state.region, data=states)"
   ]
  },
  {
   "cell_type": "code",
   "execution_count": 75,
   "metadata": {},
   "outputs": [
    {
     "name": "stderr",
     "output_type": "stream",
     "text": [
      "Your code contains a unicode char which cannot be displayed in your\n",
      "current locale and R will silently convert it to an escaped form when the\n",
      "R kernel executes this code. This can lead to subtle errors if you use\n",
      "such chars to do comparisons. For more information, please see\n",
      "https://github.com/IRkernel/repr/wiki/Problems-with-unicode-on-windows"
     ]
    },
    {
     "name": "stdout",
     "output_type": "stream",
     "text": [
      "Descriptive Statistics\n",
      "\n",
      "           West North Central Northeast    South\n",
      "n      13.00000      12.00000   9.00000 16.00000\n",
      "median  0.60000       0.70000   1.10000  1.75000\n",
      "mad     0.14826       0.14826   0.29652  0.59304\n",
      "\n",
      "Multiple Comparisons (Wilcoxon Rank Sum Tests)\n",
      "Probability Adjustment = holm\n",
      "\n",
      "        Group.1       Group.2    W            p    \n",
      "1          West North Central 88.0 8.665618e-01    \n",
      "2          West     Northeast 46.5 8.665618e-01    \n",
      "3          West         South 39.0 1.788186e-02   *\n",
      "4 North Central     Northeast 20.5 5.359707e-02   .\n",
      "5 North Central         South  2.0 8.051509e-05 ***\n",
      "6     Northeast         South 18.0 1.187644e-02   *\n",
      "---\n",
      "Signif. codes:  0 '***' 0.001 '**' 0.01 '*' 0.05 '.' 0.1 ' ' 1\n"
     ]
    }
   ],
   "source": [
    "source(\"http://www.statmethods.net/RiA/wmc.txt\")  #source()函数下载并执行了定义wmc()函数的R脚本\n",
    "states <- data.frame(state.region, state.x77)\n",
    "wmc(Illiteracy ~ state.region, data=states, method=\"holm\")\n",
    "#函数的形式是wmc(y ~ A, data,method)，其中y是数值输出变量，A是分组变量，data是包含这些变量的数据框，method指定限制I类误差的方法。"
   ]
  },
  {
   "cell_type": "markdown",
   "metadata": {},
   "source": [
    "# 7.6 组间差异的可视化"
   ]
  }
 ],
 "metadata": {
  "kernelspec": {
   "display_name": "R",
   "language": "R",
   "name": "ir"
  },
  "language_info": {
   "codemirror_mode": "r",
   "file_extension": ".r",
   "mimetype": "text/x-r-source",
   "name": "R",
   "pygments_lexer": "r",
   "version": "3.5.1"
  }
 },
 "nbformat": 4,
 "nbformat_minor": 2
}
